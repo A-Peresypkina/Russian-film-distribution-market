{
 "cells": [
  {
   "cell_type": "markdown",
   "metadata": {
    "id": "sIfNaMOxgFyK"
   },
   "source": [
    "## Исследование данных о российском кинопрокате\n",
    "\n"
   ]
  },
  {
   "cell_type": "markdown",
   "metadata": {},
   "source": [
    "<div style=\"border:solid green 2px; padding: 20px\">\n",
    "\n",
    "Описание проекта.\n",
    "    \n",
    "Задача: изучить рынок российского кинопроката и выявить текущие тренды.\n",
    "    \n",
    "Описание датасетов:\n",
    "    \n",
    "Таблица mkrf_movies содержит информацию из реестра прокатных удостоверений.\n",
    "    \n",
    "- `title` — название фильма;\n",
    "- `puNumber` — номер прокатного удостоверения;\n",
    "- `show_start_date` — дата премьеры фильма;\n",
    "- `type` — тип фильма;\n",
    "- `film_studio` — студия-производитель;\n",
    "- `production_country` — страна-производитель;\n",
    "- `director` — режиссёр;\n",
    "- `producer` — продюсер;\n",
    "- `age_restriction` — возрастная категория;\n",
    "- `refundable_support` — объём возвратных средств государственной поддержки;\n",
    "- `nonrefundable_support` — объём невозвратных средств государственной поддержки;\n",
    "- `financing_source` — источник государственного финансирования;\n",
    "- `budget` — общий бюджет фильма;\n",
    "- `ratings` — рейтинг фильма на КиноПоиске;\n",
    "- `genres` — жанр фильма;\n",
    "    \n",
    "Таблица mkrf_shows содержит сведения о показах фильмов в российских кинотеатрах.\n",
    "- `puNumber` — номер прокатного удостоверения;\n",
    "- `box_office` — сборы в рублях;"
   ]
  },
  {
   "cell_type": "markdown",
   "metadata": {},
   "source": [
    "### Шаг 1. Знакомство с данными"
   ]
  },
  {
   "cell_type": "code",
   "execution_count": 1,
   "metadata": {
    "id": "dw87FlzMgFyM"
   },
   "outputs": [],
   "source": [
    "#импорт необходимых библиотек\n",
    "import pandas as pd\n",
    "import numpy as np\n",
    "import seaborn as sns\n",
    "import matplotlib.pyplot as plt\n",
    "from scipy import stats \n"
   ]
  },
  {
   "cell_type": "code",
   "execution_count": 2,
   "metadata": {},
   "outputs": [],
   "source": [
    "#уйдем от \"научной нотации\" для отображения числовых значений\n",
    "pd.options.display.float_format = '{:.3f}'.format "
   ]
  },
  {
   "cell_type": "code",
   "execution_count": 3,
   "metadata": {},
   "outputs": [],
   "source": [
    "pd.set_option('display.max_columns', None)"
   ]
  },
  {
   "cell_type": "code",
   "execution_count": 4,
   "metadata": {
    "scrolled": true
   },
   "outputs": [],
   "source": [
    "#открыть mkrf_shows\n",
    "mkrf_shows = pd.read_csv('mkrf_shows.csv')"
   ]
  },
  {
   "cell_type": "code",
   "execution_count": 5,
   "metadata": {},
   "outputs": [
    {
     "data": {
      "text/html": [
       "<div>\n",
       "<style scoped>\n",
       "    .dataframe tbody tr th:only-of-type {\n",
       "        vertical-align: middle;\n",
       "    }\n",
       "\n",
       "    .dataframe tbody tr th {\n",
       "        vertical-align: top;\n",
       "    }\n",
       "\n",
       "    .dataframe thead th {\n",
       "        text-align: right;\n",
       "    }\n",
       "</style>\n",
       "<table border=\"1\" class=\"dataframe\">\n",
       "  <thead>\n",
       "    <tr style=\"text-align: right;\">\n",
       "      <th></th>\n",
       "      <th>puNumber</th>\n",
       "      <th>box_office</th>\n",
       "    </tr>\n",
       "  </thead>\n",
       "  <tbody>\n",
       "    <tr>\n",
       "      <th>0</th>\n",
       "      <td>111000113</td>\n",
       "      <td>2450.000</td>\n",
       "    </tr>\n",
       "    <tr>\n",
       "      <th>1</th>\n",
       "      <td>111000115</td>\n",
       "      <td>61040.000</td>\n",
       "    </tr>\n",
       "    <tr>\n",
       "      <th>2</th>\n",
       "      <td>111000116</td>\n",
       "      <td>153030013.400</td>\n",
       "    </tr>\n",
       "    <tr>\n",
       "      <th>3</th>\n",
       "      <td>111000117</td>\n",
       "      <td>12260956.000</td>\n",
       "    </tr>\n",
       "    <tr>\n",
       "      <th>4</th>\n",
       "      <td>111000118</td>\n",
       "      <td>163684057.790</td>\n",
       "    </tr>\n",
       "  </tbody>\n",
       "</table>\n",
       "</div>"
      ],
      "text/plain": [
       "    puNumber    box_office\n",
       "0  111000113      2450.000\n",
       "1  111000115     61040.000\n",
       "2  111000116 153030013.400\n",
       "3  111000117  12260956.000\n",
       "4  111000118 163684057.790"
      ]
     },
     "execution_count": 5,
     "metadata": {},
     "output_type": "execute_result"
    }
   ],
   "source": [
    "#ознакомиться с mkrf_shows\n",
    "mkrf_shows.head()"
   ]
  },
  {
   "cell_type": "code",
   "execution_count": 6,
   "metadata": {},
   "outputs": [
    {
     "data": {
      "text/plain": [
       "121020416    1\n",
       "121013618    1\n",
       "121025916    1\n",
       "121030014    1\n",
       "111003010    1\n",
       "            ..\n",
       "124001014    1\n",
       "124003318    1\n",
       "111000314    1\n",
       "124005116    1\n",
       "121016318    1\n",
       "Name: puNumber, Length: 3158, dtype: int64"
      ]
     },
     "execution_count": 6,
     "metadata": {},
     "output_type": "execute_result"
    }
   ],
   "source": [
    "#проверка на дубликаты\n",
    "mkrf_shows['puNumber'].value_counts()"
   ]
  },
  {
   "cell_type": "code",
   "execution_count": 7,
   "metadata": {
    "scrolled": true
   },
   "outputs": [
    {
     "data": {
      "text/html": [
       "<div>\n",
       "<style scoped>\n",
       "    .dataframe tbody tr th:only-of-type {\n",
       "        vertical-align: middle;\n",
       "    }\n",
       "\n",
       "    .dataframe tbody tr th {\n",
       "        vertical-align: top;\n",
       "    }\n",
       "\n",
       "    .dataframe thead th {\n",
       "        text-align: right;\n",
       "    }\n",
       "</style>\n",
       "<table border=\"1\" class=\"dataframe\">\n",
       "  <thead>\n",
       "    <tr style=\"text-align: right;\">\n",
       "      <th></th>\n",
       "      <th>title</th>\n",
       "      <th>puNumber</th>\n",
       "      <th>show_start_date</th>\n",
       "      <th>type</th>\n",
       "      <th>film_studio</th>\n",
       "      <th>production_country</th>\n",
       "      <th>director</th>\n",
       "      <th>producer</th>\n",
       "      <th>age_restriction</th>\n",
       "      <th>refundable_support</th>\n",
       "      <th>nonrefundable_support</th>\n",
       "      <th>budget</th>\n",
       "      <th>financing_source</th>\n",
       "      <th>ratings</th>\n",
       "      <th>genres</th>\n",
       "    </tr>\n",
       "  </thead>\n",
       "  <tbody>\n",
       "    <tr>\n",
       "      <th>0</th>\n",
       "      <td>Открытый простор</td>\n",
       "      <td>221048915</td>\n",
       "      <td>2015-11-27T12:00:00.000Z</td>\n",
       "      <td>Художественный</td>\n",
       "      <td>Тачстоун Пикчерз, Кобальт Пикчерз, Бикон Пикче...</td>\n",
       "      <td>США</td>\n",
       "      <td>Кевин Костнер</td>\n",
       "      <td>Дэвид Валдес, Кевин Костнер, Джейк Эбертс</td>\n",
       "      <td>«18+» - запрещено для детей</td>\n",
       "      <td>NaN</td>\n",
       "      <td>NaN</td>\n",
       "      <td>NaN</td>\n",
       "      <td>NaN</td>\n",
       "      <td>7.2</td>\n",
       "      <td>боевик,драма,мелодрама</td>\n",
       "    </tr>\n",
       "    <tr>\n",
       "      <th>1</th>\n",
       "      <td>Особо важное задание</td>\n",
       "      <td>111013716</td>\n",
       "      <td>2016-09-13T12:00:00.000Z</td>\n",
       "      <td>Художественный</td>\n",
       "      <td>Киностудия \"Мосфильм\"</td>\n",
       "      <td>СССР</td>\n",
       "      <td>Е.Матвеев</td>\n",
       "      <td>NaN</td>\n",
       "      <td>«6+» - для детей старше 6 лет</td>\n",
       "      <td>NaN</td>\n",
       "      <td>NaN</td>\n",
       "      <td>NaN</td>\n",
       "      <td>NaN</td>\n",
       "      <td>6.6</td>\n",
       "      <td>драма,военный</td>\n",
       "    </tr>\n",
       "    <tr>\n",
       "      <th>2</th>\n",
       "      <td>Особо опасен</td>\n",
       "      <td>221038416</td>\n",
       "      <td>2016-10-10T12:00:00.000Z</td>\n",
       "      <td>Художественный</td>\n",
       "      <td>Юниверсал Пикчерз, Кикстарт Продакшнз, Марк Пл...</td>\n",
       "      <td>США</td>\n",
       "      <td>Тимур Бекмамбетов</td>\n",
       "      <td>Джим Лемли, Джейсон Нетер, Марк Е.Платт, Яйн Смит</td>\n",
       "      <td>«18+» - запрещено для детей</td>\n",
       "      <td>NaN</td>\n",
       "      <td>NaN</td>\n",
       "      <td>NaN</td>\n",
       "      <td>NaN</td>\n",
       "      <td>6.8</td>\n",
       "      <td>фантастика,боевик,триллер</td>\n",
       "    </tr>\n",
       "    <tr>\n",
       "      <th>3</th>\n",
       "      <td>Особо опасен</td>\n",
       "      <td>221026916</td>\n",
       "      <td>2016-06-10T12:00:00.000Z</td>\n",
       "      <td>Художественный</td>\n",
       "      <td>Юниверсал Пикчерз, Кикстарт Продакшнз, Марк Пл...</td>\n",
       "      <td>США</td>\n",
       "      <td>Тимур Бекмамбетов</td>\n",
       "      <td>Джим Лемли, Джейсон Нетер, Марк Е.Платт, Яйн Смит</td>\n",
       "      <td>«18+» - запрещено для детей</td>\n",
       "      <td>NaN</td>\n",
       "      <td>NaN</td>\n",
       "      <td>NaN</td>\n",
       "      <td>NaN</td>\n",
       "      <td>6.8</td>\n",
       "      <td>фантастика,боевик,триллер</td>\n",
       "    </tr>\n",
       "    <tr>\n",
       "      <th>4</th>\n",
       "      <td>Особо опасен</td>\n",
       "      <td>221030815</td>\n",
       "      <td>2015-07-29T12:00:00.000Z</td>\n",
       "      <td>Художественный</td>\n",
       "      <td>Юниверсал Пикчерз, Кикстарт Продакшнз, Марк Пл...</td>\n",
       "      <td>США</td>\n",
       "      <td>Тимур Бекмамбетов</td>\n",
       "      <td>Джим Лемли, Джейсон Нетер, Марк Е.Платт, Яйн Смит</td>\n",
       "      <td>«18+» - запрещено для детей</td>\n",
       "      <td>NaN</td>\n",
       "      <td>NaN</td>\n",
       "      <td>NaN</td>\n",
       "      <td>NaN</td>\n",
       "      <td>6.8</td>\n",
       "      <td>фантастика,боевик,триллер</td>\n",
       "    </tr>\n",
       "  </tbody>\n",
       "</table>\n",
       "</div>"
      ],
      "text/plain": [
       "                  title   puNumber           show_start_date            type  \\\n",
       "0      Открытый простор  221048915  2015-11-27T12:00:00.000Z  Художественный   \n",
       "1  Особо важное задание  111013716  2016-09-13T12:00:00.000Z  Художественный   \n",
       "2          Особо опасен  221038416  2016-10-10T12:00:00.000Z  Художественный   \n",
       "3          Особо опасен  221026916  2016-06-10T12:00:00.000Z  Художественный   \n",
       "4          Особо опасен  221030815  2015-07-29T12:00:00.000Z  Художественный   \n",
       "\n",
       "                                         film_studio production_country  \\\n",
       "0  Тачстоун Пикчерз, Кобальт Пикчерз, Бикон Пикче...                США   \n",
       "1                              Киностудия \"Мосфильм\"               СССР   \n",
       "2  Юниверсал Пикчерз, Кикстарт Продакшнз, Марк Пл...                США   \n",
       "3  Юниверсал Пикчерз, Кикстарт Продакшнз, Марк Пл...                США   \n",
       "4  Юниверсал Пикчерз, Кикстарт Продакшнз, Марк Пл...                США   \n",
       "\n",
       "            director                                           producer  \\\n",
       "0      Кевин Костнер          Дэвид Валдес, Кевин Костнер, Джейк Эбертс   \n",
       "1          Е.Матвеев                                                NaN   \n",
       "2  Тимур Бекмамбетов  Джим Лемли, Джейсон Нетер, Марк Е.Платт, Яйн Смит   \n",
       "3  Тимур Бекмамбетов  Джим Лемли, Джейсон Нетер, Марк Е.Платт, Яйн Смит   \n",
       "4  Тимур Бекмамбетов  Джим Лемли, Джейсон Нетер, Марк Е.Платт, Яйн Смит   \n",
       "\n",
       "                 age_restriction  refundable_support  nonrefundable_support  \\\n",
       "0    «18+» - запрещено для детей                 NaN                    NaN   \n",
       "1  «6+» - для детей старше 6 лет                 NaN                    NaN   \n",
       "2    «18+» - запрещено для детей                 NaN                    NaN   \n",
       "3    «18+» - запрещено для детей                 NaN                    NaN   \n",
       "4    «18+» - запрещено для детей                 NaN                    NaN   \n",
       "\n",
       "   budget financing_source ratings                     genres  \n",
       "0     NaN              NaN     7.2     боевик,драма,мелодрама  \n",
       "1     NaN              NaN     6.6              драма,военный  \n",
       "2     NaN              NaN     6.8  фантастика,боевик,триллер  \n",
       "3     NaN              NaN     6.8  фантастика,боевик,триллер  \n",
       "4     NaN              NaN     6.8  фантастика,боевик,триллер  "
      ]
     },
     "execution_count": 7,
     "metadata": {},
     "output_type": "execute_result"
    }
   ],
   "source": [
    "#открыть с mkrf_movies\n",
    "mkrf_movies = pd.read_csv('mkrf_movies.csv')\n",
    "mkrf_movies.head()"
   ]
  },
  {
   "cell_type": "code",
   "execution_count": 8,
   "metadata": {},
   "outputs": [
    {
     "data": {
      "text/plain": [
       "221154310    2\n",
       "221054410    2\n",
       "114003619    1\n",
       "121013114    1\n",
       "111002917    1\n",
       "            ..\n",
       "121019417    1\n",
       "121011916    1\n",
       "121004718    1\n",
       "121019512    1\n",
       "114006118    1\n",
       "Name: puNumber, Length: 7484, dtype: int64"
      ]
     },
     "execution_count": 8,
     "metadata": {},
     "output_type": "execute_result"
    }
   ],
   "source": [
    "#проверка на дубликаты\n",
    "mkrf_movies['puNumber'].value_counts()"
   ]
  },
  {
   "cell_type": "markdown",
   "metadata": {
    "id": "KLDGpPG0gFyM"
   },
   "source": [
    "### Шаг 2. Предобработка данных"
   ]
  },
  {
   "cell_type": "code",
   "execution_count": 9,
   "metadata": {},
   "outputs": [
    {
     "name": "stdout",
     "output_type": "stream",
     "text": [
      "<class 'pandas.core.frame.DataFrame'>\n",
      "RangeIndex: 7486 entries, 0 to 7485\n",
      "Data columns (total 15 columns):\n",
      " #   Column                 Non-Null Count  Dtype  \n",
      "---  ------                 --------------  -----  \n",
      " 0   title                  7486 non-null   object \n",
      " 1   puNumber               7486 non-null   object \n",
      " 2   show_start_date        7486 non-null   object \n",
      " 3   type                   7486 non-null   object \n",
      " 4   film_studio            7468 non-null   object \n",
      " 5   production_country     7484 non-null   object \n",
      " 6   director               7477 non-null   object \n",
      " 7   producer               6918 non-null   object \n",
      " 8   age_restriction        7486 non-null   object \n",
      " 9   refundable_support     332 non-null    float64\n",
      " 10  nonrefundable_support  332 non-null    float64\n",
      " 11  budget                 332 non-null    float64\n",
      " 12  financing_source       332 non-null    object \n",
      " 13  ratings                6519 non-null   object \n",
      " 14  genres                 6510 non-null   object \n",
      "dtypes: float64(3), object(12)\n",
      "memory usage: 877.4+ KB\n"
     ]
    }
   ],
   "source": [
    "#ознакомиться с mkrf_movies\n",
    "mkrf_movies.info()"
   ]
  },
  {
   "cell_type": "markdown",
   "metadata": {},
   "source": [
    "замена типа данных mkrf_movies['puNumber'] через констукрцию mkrf_movies['puNumber'] = mkrf_movies['puNumber'].astype('int64') выдает ошибку \"ValueError: invalid literal for int() with base 10: 'нет'\". нужно посмотреть строку, где mkrf_movies['puNumber'] == 'нет'"
   ]
  },
  {
   "cell_type": "code",
   "execution_count": 10,
   "metadata": {},
   "outputs": [
    {
     "data": {
      "text/html": [
       "<div>\n",
       "<style scoped>\n",
       "    .dataframe tbody tr th:only-of-type {\n",
       "        vertical-align: middle;\n",
       "    }\n",
       "\n",
       "    .dataframe tbody tr th {\n",
       "        vertical-align: top;\n",
       "    }\n",
       "\n",
       "    .dataframe thead th {\n",
       "        text-align: right;\n",
       "    }\n",
       "</style>\n",
       "<table border=\"1\" class=\"dataframe\">\n",
       "  <thead>\n",
       "    <tr style=\"text-align: right;\">\n",
       "      <th></th>\n",
       "      <th>title</th>\n",
       "      <th>puNumber</th>\n",
       "      <th>show_start_date</th>\n",
       "      <th>type</th>\n",
       "      <th>film_studio</th>\n",
       "      <th>production_country</th>\n",
       "      <th>director</th>\n",
       "      <th>producer</th>\n",
       "      <th>age_restriction</th>\n",
       "      <th>refundable_support</th>\n",
       "      <th>nonrefundable_support</th>\n",
       "      <th>budget</th>\n",
       "      <th>financing_source</th>\n",
       "      <th>ratings</th>\n",
       "      <th>genres</th>\n",
       "    </tr>\n",
       "  </thead>\n",
       "  <tbody>\n",
       "    <tr>\n",
       "      <th>1797</th>\n",
       "      <td>Курбан-роман. (История с жертвой)</td>\n",
       "      <td>нет</td>\n",
       "      <td>2014-05-15T12:00:00.000Z</td>\n",
       "      <td>Художественный</td>\n",
       "      <td>ФОНД \"ИННОВАЦИЯ\"</td>\n",
       "      <td>Россия</td>\n",
       "      <td>С.Юзеев</td>\n",
       "      <td>М.Галицкая</td>\n",
       "      <td>«12+» - для детей старше 12 лет</td>\n",
       "      <td>NaN</td>\n",
       "      <td>NaN</td>\n",
       "      <td>NaN</td>\n",
       "      <td>NaN</td>\n",
       "      <td>NaN</td>\n",
       "      <td>NaN</td>\n",
       "    </tr>\n",
       "  </tbody>\n",
       "</table>\n",
       "</div>"
      ],
      "text/plain": [
       "                                  title puNumber           show_start_date  \\\n",
       "1797  Курбан-роман. (История с жертвой)      нет  2014-05-15T12:00:00.000Z   \n",
       "\n",
       "                type       film_studio production_country director  \\\n",
       "1797  Художественный  ФОНД \"ИННОВАЦИЯ\"             Россия  С.Юзеев   \n",
       "\n",
       "        producer                  age_restriction  refundable_support  \\\n",
       "1797  М.Галицкая  «12+» - для детей старше 12 лет                 NaN   \n",
       "\n",
       "      nonrefundable_support  budget financing_source ratings genres  \n",
       "1797                    NaN     NaN              NaN     NaN    NaN  "
      ]
     },
     "execution_count": 10,
     "metadata": {},
     "output_type": "execute_result"
    }
   ],
   "source": [
    "#просмотр строки, где mkrf_movies['puNumber'] == 'нет'\n",
    "mkrf_movies.loc[mkrf_movies['puNumber'] == 'нет']"
   ]
  },
  {
   "cell_type": "code",
   "execution_count": 11,
   "metadata": {},
   "outputs": [],
   "source": [
    "#замена значения mkrf_movies['puNumber'] == 'нет' на 0\n",
    "mkrf_movies['puNumber'].replace('нет','0', inplace=True)\n",
    "\n",
    "#замена типа данных с object на int64\n",
    "mkrf_movies['puNumber'] = mkrf_movies['puNumber'].astype('int64')"
   ]
  },
  {
   "cell_type": "code",
   "execution_count": 12,
   "metadata": {},
   "outputs": [],
   "source": [
    "#замена типов данных в show_start_date на datetime64\n",
    "mkrf_movies['show_start_date'] = pd.to_datetime(mkrf_movies['show_start_date'], format='%Y-%m-%d')"
   ]
  },
  {
   "cell_type": "code",
   "execution_count": 13,
   "metadata": {},
   "outputs": [
    {
     "data": {
      "text/plain": [
       "count        7486.000\n",
       "mean    135178527.637\n",
       "std      38382177.411\n",
       "min             0.000\n",
       "25%     112025043.000\n",
       "50%     121015464.500\n",
       "75%     124003313.750\n",
       "max     231001111.000\n",
       "Name: puNumber, dtype: float64"
      ]
     },
     "execution_count": 13,
     "metadata": {},
     "output_type": "execute_result"
    }
   ],
   "source": [
    "mkrf_movies['puNumber'].describe()"
   ]
  },
  {
   "cell_type": "code",
   "execution_count": 14,
   "metadata": {},
   "outputs": [
    {
     "name": "stdout",
     "output_type": "stream",
     "text": [
      "<class 'pandas.core.frame.DataFrame'>\n",
      "RangeIndex: 3158 entries, 0 to 3157\n",
      "Data columns (total 2 columns):\n",
      " #   Column      Non-Null Count  Dtype  \n",
      "---  ------      --------------  -----  \n",
      " 0   puNumber    3158 non-null   int64  \n",
      " 1   box_office  3158 non-null   float64\n",
      "dtypes: float64(1), int64(1)\n",
      "memory usage: 49.5 KB\n"
     ]
    }
   ],
   "source": [
    "#ознакомиться с mkrf_shows\n",
    "mkrf_shows.info()"
   ]
  },
  {
   "cell_type": "code",
   "execution_count": 15,
   "metadata": {},
   "outputs": [
    {
     "data": {
      "text/html": [
       "<div>\n",
       "<style scoped>\n",
       "    .dataframe tbody tr th:only-of-type {\n",
       "        vertical-align: middle;\n",
       "    }\n",
       "\n",
       "    .dataframe tbody tr th {\n",
       "        vertical-align: top;\n",
       "    }\n",
       "\n",
       "    .dataframe thead th {\n",
       "        text-align: right;\n",
       "    }\n",
       "</style>\n",
       "<table border=\"1\" class=\"dataframe\">\n",
       "  <thead>\n",
       "    <tr style=\"text-align: right;\">\n",
       "      <th></th>\n",
       "      <th>puNumber</th>\n",
       "      <th>box_office</th>\n",
       "    </tr>\n",
       "  </thead>\n",
       "  <tbody>\n",
       "    <tr>\n",
       "      <th>0</th>\n",
       "      <td>111000113</td>\n",
       "      <td>2450</td>\n",
       "    </tr>\n",
       "    <tr>\n",
       "      <th>1</th>\n",
       "      <td>111000115</td>\n",
       "      <td>61040</td>\n",
       "    </tr>\n",
       "    <tr>\n",
       "      <th>2</th>\n",
       "      <td>111000116</td>\n",
       "      <td>153030013</td>\n",
       "    </tr>\n",
       "    <tr>\n",
       "      <th>3</th>\n",
       "      <td>111000117</td>\n",
       "      <td>12260956</td>\n",
       "    </tr>\n",
       "    <tr>\n",
       "      <th>4</th>\n",
       "      <td>111000118</td>\n",
       "      <td>163684057</td>\n",
       "    </tr>\n",
       "    <tr>\n",
       "      <th>...</th>\n",
       "      <td>...</td>\n",
       "      <td>...</td>\n",
       "    </tr>\n",
       "    <tr>\n",
       "      <th>3153</th>\n",
       "      <td>224014814</td>\n",
       "      <td>1530</td>\n",
       "    </tr>\n",
       "    <tr>\n",
       "      <th>3154</th>\n",
       "      <td>224021411</td>\n",
       "      <td>9270</td>\n",
       "    </tr>\n",
       "    <tr>\n",
       "      <th>3155</th>\n",
       "      <td>224022410</td>\n",
       "      <td>400</td>\n",
       "    </tr>\n",
       "    <tr>\n",
       "      <th>3156</th>\n",
       "      <td>224023210</td>\n",
       "      <td>360</td>\n",
       "    </tr>\n",
       "    <tr>\n",
       "      <th>3157</th>\n",
       "      <td>224026410</td>\n",
       "      <td>400</td>\n",
       "    </tr>\n",
       "  </tbody>\n",
       "</table>\n",
       "<p>3158 rows × 2 columns</p>\n",
       "</div>"
      ],
      "text/plain": [
       "       puNumber  box_office\n",
       "0     111000113        2450\n",
       "1     111000115       61040\n",
       "2     111000116   153030013\n",
       "3     111000117    12260956\n",
       "4     111000118   163684057\n",
       "...         ...         ...\n",
       "3153  224014814        1530\n",
       "3154  224021411        9270\n",
       "3155  224022410         400\n",
       "3156  224023210         360\n",
       "3157  224026410         400\n",
       "\n",
       "[3158 rows x 2 columns]"
      ]
     },
     "execution_count": 15,
     "metadata": {},
     "output_type": "execute_result"
    }
   ],
   "source": [
    "#замена типа данных с float на int64 в mkrf_shows\n",
    "mkrf_shows.astype({'box_office': 'int64', 'puNumber': 'int64'})"
   ]
  },
  {
   "cell_type": "code",
   "execution_count": 16,
   "metadata": {},
   "outputs": [
    {
     "name": "stdout",
     "output_type": "stream",
     "text": [
      "<class 'pandas.core.frame.DataFrame'>\n",
      "Int64Index: 7486 entries, 0 to 7485\n",
      "Data columns (total 16 columns):\n",
      " #   Column                 Non-Null Count  Dtype              \n",
      "---  ------                 --------------  -----              \n",
      " 0   title                  7486 non-null   object             \n",
      " 1   puNumber               7486 non-null   int64              \n",
      " 2   show_start_date        7486 non-null   datetime64[ns, UTC]\n",
      " 3   type                   7486 non-null   object             \n",
      " 4   film_studio            7468 non-null   object             \n",
      " 5   production_country     7484 non-null   object             \n",
      " 6   director               7477 non-null   object             \n",
      " 7   producer               6918 non-null   object             \n",
      " 8   age_restriction        7486 non-null   object             \n",
      " 9   refundable_support     332 non-null    float64            \n",
      " 10  nonrefundable_support  332 non-null    float64            \n",
      " 11  budget                 332 non-null    float64            \n",
      " 12  financing_source       332 non-null    object             \n",
      " 13  ratings                6519 non-null   object             \n",
      " 14  genres                 6510 non-null   object             \n",
      " 15  box_office             3158 non-null   float64            \n",
      "dtypes: datetime64[ns, UTC](1), float64(4), int64(1), object(10)\n",
      "memory usage: 994.2+ KB\n"
     ]
    }
   ],
   "source": [
    "#объеденение 2х датафреймов по общему столбцу - puNumber (номер прокатного удостоверения)\n",
    "df = pd.merge(mkrf_movies, mkrf_shows, how='left')\n",
    "df.info()"
   ]
  },
  {
   "cell_type": "code",
   "execution_count": 17,
   "metadata": {},
   "outputs": [
    {
     "data": {
      "text/plain": [
       "title                       0\n",
       "puNumber                    0\n",
       "show_start_date             0\n",
       "type                        0\n",
       "film_studio                18\n",
       "production_country          2\n",
       "director                    9\n",
       "producer                  568\n",
       "age_restriction             0\n",
       "refundable_support       7154\n",
       "nonrefundable_support    7154\n",
       "budget                   7154\n",
       "financing_source         7154\n",
       "ratings                   967\n",
       "genres                    976\n",
       "box_office               4328\n",
       "dtype: int64"
      ]
     },
     "execution_count": 17,
     "metadata": {},
     "output_type": "execute_result"
    }
   ],
   "source": [
    "#получения количества NaN элементов\n",
    "df.isnull().sum()"
   ]
  },
  {
   "cell_type": "markdown",
   "metadata": {
    "id": "kVGSplJOgFyO"
   },
   "source": [
    "В результате исследования установлено, что:\n",
    "* title, тип данных object, кол-во пропусков 0 => ничего не нужно менять, так как это название фильма и все заполнено;\n",
    "* puNumber, тип данных int64, кол-во пропусков 0 => ничего не нужно менять;\n",
    "* show_start_date, тип данных datetime64, кол-во пропусков 0 => ничего не нужно менять;\n",
    "* type, тип данных object, кол-во пропусков 0 => ничего не нужно менять;\n",
    "* film_studio, тип данных object, кол-во пропусков 18 => можно вместо пропусков указать \" \", никаким расчетным значением не заполнить, так как это название кино-студии;\n",
    "* production_country, тип данных object, кол-во пропусков 2 => можно вместо пропусков указать \" \", никаким расчетным значением не заполнить, так как это страна-производитель;\n",
    "* director, тип данных object, кол-во пропусков 9 => можно вместо пропусков указать \" \", никаким расчетным значением не заполнить, это уникальное фио режиссера;\n",
    "* producer, тип данных object, кол-во пропусков 2568 => можно вместо пропусков указать \" \", никаким расчетным значением не заполнить, это уникальное фио продюссера;\n",
    "* age_restriction, тип данных object, кол-во пропусков 0 => ничего не нужно менять;\n",
    "* refundable_support, тип данных float64, кол-во пропусков 7154 => нужно посмотреть внимательнее;\n",
    "* nonrefundable_support, тип данных float64, кол-во пропусков 7154 => нужно посмотреть внимательнее;\n",
    "* budget, тип данных float64, кол-во пропусков 7154 => можно вместо пропусков указать \" \";\n",
    "* financing_source, тип данных object, кол-во пропусков 7154 => нужно посмотреть внимательнее, может можно категоризировать;\n",
    "* ratings, тип данных object, кол-во пропусков 967 => можно вместо пропусков указать \" \". Однако необходимо исправить данные, где указаны % значения (обнаружено на более поздних этапах исследования); \n",
    "* genres, тип данных object, кол-во пропусков 976 => можно вместо пропусков указать \" \";\n",
    "* box_office, тип данных float64, кол-во пропусков 4328 => нужно посмотреть внимательнее."
   ]
  },
  {
   "cell_type": "code",
   "execution_count": 18,
   "metadata": {
    "id": "8MJD_lkngFyP"
   },
   "outputs": [
    {
     "data": {
      "text/plain": [
       "array(['7.2', '6.6', '6.8', '7.7', '8.3', '8.0', '7.8', '8.1', '7.1',\n",
       "       '6.0', '7.4', '5.8', '8.7', '6.3', '6.9', '5.0', '4.3', '7.3',\n",
       "       '7.0', '6.4', nan, '8.2', '7.5', '6.7', '7.9', '5.9', '6.2', '5.6',\n",
       "       '6.5', '2.4', '7.6', '6.1', '8.6', '8.5', '8.8', '5.5', '5.1',\n",
       "       '5.7', '5.4', '99%', '4.4', '4.5', '5.3', '4.1', '8.4', '2.6',\n",
       "       '3.8', '4.6', '4.8', '4.0', '3.0', '1.6', '4.2', '5.2', '4.7',\n",
       "       '4.9', '3.9', '2.7', '3.3', '2.9', '28%', '3.7', '1.4', '3.1',\n",
       "       '97%', '3.5', '3.2', '2.8', '1.5', '2.1', '2.5', '9.2', '3.4',\n",
       "       '1.1', '3.6', '83%', '64%', '91%', '94%', '62%', '79%', '90%',\n",
       "       '19%', '88%', '1.0', '89%', '1.3', '1.9', '1.8', '1.2', '1.7',\n",
       "       '9.0', '98%', '8.9', '9.1'], dtype=object)"
      ]
     },
     "execution_count": 18,
     "metadata": {},
     "output_type": "execute_result"
    }
   ],
   "source": [
    "#изучим уникальные значения mkrf_movies['ratings'] \n",
    "mkrf_movies['ratings'].unique()"
   ]
  },
  {
   "cell_type": "markdown",
   "metadata": {},
   "source": [
    "Вывод: нужно привести данные к единой системе: убрать знак % и поставить точку, то есть 83% = 8.3"
   ]
  },
  {
   "cell_type": "code",
   "execution_count": 19,
   "metadata": {},
   "outputs": [
    {
     "data": {
      "text/plain": [
       "array([7.2, 6.6, 6.8, 7.7, 8.3, 8. , 7.8, 8.1, 7.1, 6. , 7.4, 5.8, 8.7,\n",
       "       6.3, 6.9, 5. , 4.3, 7.3, 7. , 6.4, 0. , 8.2, 7.5, 6.7, 7.9, 5.9,\n",
       "       6.2, 5.6, 6.5, 2.4, 7.6, 6.1, 8.6, 8.5, 8.8, 5.5, 5.1, 5.7, 5.4,\n",
       "       9.9, 4.4, 4.5, 5.3, 4.1, 8.4, 2.6, 3.8, 4.6, 4.8, 4. , 3. , 1.6,\n",
       "       4.2, 5.2, 4.7, 4.9, 3.9, 2.7, 3.3, 2.9, 2.8, 3.7, 1.4, 3.1, 9.7,\n",
       "       3.5, 3.2, 1.5, 2.1, 2.5, 9.2, 3.4, 1.1, 3.6, 9.1, 9.4, 9. , 1.9,\n",
       "       1. , 8.9, 1.3, 1.8, 1.2, 1.7, 9.8])"
      ]
     },
     "execution_count": 19,
     "metadata": {},
     "output_type": "execute_result"
    }
   ],
   "source": [
    "#функция для удаления знака %\n",
    "def clean_percents(x):\n",
    "    if '%' in x:\n",
    "        return int(x[:-1]) / 10\n",
    "    else:\n",
    "        return float(x)\n",
    "\n",
    "#применение функции\n",
    "mkrf_movies['ratings'].fillna('0').apply(clean_percents).unique()"
   ]
  },
  {
   "cell_type": "markdown",
   "metadata": {},
   "source": [
    "В ходе ревью подсказали, что можно сделать элегантнее: data['column'] = pd.to_numeric(data['column'], errors='coerce')"
   ]
  },
  {
   "cell_type": "code",
   "execution_count": 20,
   "metadata": {},
   "outputs": [],
   "source": [
    "#замена NAN на '0' в df['ratings'] и df['budget']\n",
    "df[['ratings', 'budget']] = df[['ratings', 'budget']].fillna(0)"
   ]
  },
  {
   "cell_type": "code",
   "execution_count": 21,
   "metadata": {},
   "outputs": [],
   "source": [
    "#замена NAN на 'текст'\n",
    "df[['film_studio']] = df[['film_studio']]. fillna('студия не указана')\n",
    "df[['producer']] = df[['producer']]. fillna('продюсер не указан')\n",
    "df[['production_country']] = df[['production_country']]. fillna('студия не указана')\n",
    "df[['director']] = df[['director']]. fillna('режиссер не указан')\n",
    "df[['genres']] = df[['genres']]. fillna('жанр не указан')\n",
    "df[['financing_source']] = df[['financing_source']]. fillna('коммерческое кино')"
   ]
  },
  {
   "cell_type": "code",
   "execution_count": 22,
   "metadata": {},
   "outputs": [
    {
     "data": {
      "text/html": [
       "<div>\n",
       "<style scoped>\n",
       "    .dataframe tbody tr th:only-of-type {\n",
       "        vertical-align: middle;\n",
       "    }\n",
       "\n",
       "    .dataframe tbody tr th {\n",
       "        vertical-align: top;\n",
       "    }\n",
       "\n",
       "    .dataframe thead th {\n",
       "        text-align: right;\n",
       "    }\n",
       "</style>\n",
       "<table border=\"1\" class=\"dataframe\">\n",
       "  <thead>\n",
       "    <tr style=\"text-align: right;\">\n",
       "      <th></th>\n",
       "      <th>title</th>\n",
       "      <th>puNumber</th>\n",
       "      <th>show_start_date</th>\n",
       "      <th>type</th>\n",
       "      <th>film_studio</th>\n",
       "      <th>production_country</th>\n",
       "      <th>director</th>\n",
       "      <th>producer</th>\n",
       "      <th>age_restriction</th>\n",
       "      <th>refundable_support</th>\n",
       "      <th>nonrefundable_support</th>\n",
       "      <th>budget</th>\n",
       "      <th>financing_source</th>\n",
       "      <th>ratings</th>\n",
       "      <th>genres</th>\n",
       "      <th>box_office</th>\n",
       "    </tr>\n",
       "  </thead>\n",
       "  <tbody>\n",
       "    <tr>\n",
       "      <th>1281</th>\n",
       "      <td>Пока еще жива</td>\n",
       "      <td>111005313</td>\n",
       "      <td>2013-10-11 12:00:00+00:00</td>\n",
       "      <td>Художественный</td>\n",
       "      <td>АНО содействия развитию кинематографии \"Ангел-...</td>\n",
       "      <td>Россия</td>\n",
       "      <td>А.Атанесян</td>\n",
       "      <td>А.Атанесян, М.Бабаханов, Р.Бутко</td>\n",
       "      <td>«16+» - для детей старше 16 лет</td>\n",
       "      <td>0.000</td>\n",
       "      <td>26500000.000</td>\n",
       "      <td>79411900.000</td>\n",
       "      <td>Министерство культуры</td>\n",
       "      <td>8.1</td>\n",
       "      <td>драма,мелодрама</td>\n",
       "      <td>365353.600</td>\n",
       "    </tr>\n",
       "    <tr>\n",
       "      <th>1448</th>\n",
       "      <td>Бесславные придурки</td>\n",
       "      <td>111003314</td>\n",
       "      <td>2014-03-28 12:00:00+00:00</td>\n",
       "      <td>Художественный</td>\n",
       "      <td>ООО \"Компания \"АТК-Студио\"</td>\n",
       "      <td>Россия</td>\n",
       "      <td>А.Якимчук</td>\n",
       "      <td>А.Тютрюмов</td>\n",
       "      <td>«12+» - для детей старше 12 лет</td>\n",
       "      <td>0.000</td>\n",
       "      <td>26000000.000</td>\n",
       "      <td>37142857.000</td>\n",
       "      <td>Министерство культуры</td>\n",
       "      <td>0</td>\n",
       "      <td>жанр не указан</td>\n",
       "      <td>28140.000</td>\n",
       "    </tr>\n",
       "    <tr>\n",
       "      <th>1498</th>\n",
       "      <td>Невидимки</td>\n",
       "      <td>111004213</td>\n",
       "      <td>2013-09-10 12:00:00+00:00</td>\n",
       "      <td>Художественный</td>\n",
       "      <td>ООО \"Компания \"РЕАЛ-ДАКОТА\"</td>\n",
       "      <td>Россия</td>\n",
       "      <td>Р.Давлетьяров, С.Комаров</td>\n",
       "      <td>Р.Давлетьяров, А.Котелевский, А.Олейников</td>\n",
       "      <td>«12+» - для детей старше 12 лет</td>\n",
       "      <td>0.000</td>\n",
       "      <td>107847945.000</td>\n",
       "      <td>176023490.000</td>\n",
       "      <td>Фонд кино</td>\n",
       "      <td>5.3</td>\n",
       "      <td>комедия,фантастика</td>\n",
       "      <td>19957031.500</td>\n",
       "    </tr>\n",
       "    <tr>\n",
       "      <th>1524</th>\n",
       "      <td>БЕРЦЫ</td>\n",
       "      <td>111004314</td>\n",
       "      <td>2014-05-05 12:00:00+00:00</td>\n",
       "      <td>Художественный</td>\n",
       "      <td>ООО \"Студия \"Пассажир\"</td>\n",
       "      <td>Россия</td>\n",
       "      <td>Е.Миндадзе (псевдоним Катя Шагалова)</td>\n",
       "      <td>Л.Антонова</td>\n",
       "      <td>«16+» - для детей старше 16 лет</td>\n",
       "      <td>0.000</td>\n",
       "      <td>28000000.000</td>\n",
       "      <td>40574140.000</td>\n",
       "      <td>Министерство культуры</td>\n",
       "      <td>4.2</td>\n",
       "      <td>драма</td>\n",
       "      <td>55917.500</td>\n",
       "    </tr>\n",
       "    <tr>\n",
       "      <th>1792</th>\n",
       "      <td>Братья Ч</td>\n",
       "      <td>111004414</td>\n",
       "      <td>2014-04-23 12:00:00+00:00</td>\n",
       "      <td>Художественный</td>\n",
       "      <td>ООО \"Студия \"Пассажир\"</td>\n",
       "      <td>Россия</td>\n",
       "      <td>М.Угаров</td>\n",
       "      <td>А.Миндадзе, Л.Антонова</td>\n",
       "      <td>«16+» - для детей старше 16 лет</td>\n",
       "      <td>0.000</td>\n",
       "      <td>25000000.000</td>\n",
       "      <td>40015122.000</td>\n",
       "      <td>Министерство культуры</td>\n",
       "      <td>6.4</td>\n",
       "      <td>драма</td>\n",
       "      <td>232100.000</td>\n",
       "    </tr>\n",
       "    <tr>\n",
       "      <th>...</th>\n",
       "      <td>...</td>\n",
       "      <td>...</td>\n",
       "      <td>...</td>\n",
       "      <td>...</td>\n",
       "      <td>...</td>\n",
       "      <td>...</td>\n",
       "      <td>...</td>\n",
       "      <td>...</td>\n",
       "      <td>...</td>\n",
       "      <td>...</td>\n",
       "      <td>...</td>\n",
       "      <td>...</td>\n",
       "      <td>...</td>\n",
       "      <td>...</td>\n",
       "      <td>...</td>\n",
       "      <td>...</td>\n",
       "    </tr>\n",
       "    <tr>\n",
       "      <th>7464</th>\n",
       "      <td>Союз спасения</td>\n",
       "      <td>111022019</td>\n",
       "      <td>2019-12-26 12:00:00+00:00</td>\n",
       "      <td>Художественный</td>\n",
       "      <td>ЗАО \"Дирекция кино\"</td>\n",
       "      <td>Россия</td>\n",
       "      <td>А.Кравчук</td>\n",
       "      <td>А.Максимов, К.Эрнст</td>\n",
       "      <td>«12+» - для детей старше 12 лет</td>\n",
       "      <td>100000000.000</td>\n",
       "      <td>400000000.000</td>\n",
       "      <td>980000000.000</td>\n",
       "      <td>Фонд кино</td>\n",
       "      <td>6.0</td>\n",
       "      <td>история,биография,драма</td>\n",
       "      <td>717703185.530</td>\n",
       "    </tr>\n",
       "    <tr>\n",
       "      <th>7466</th>\n",
       "      <td>Иван Царевич и Серый Волк 4</td>\n",
       "      <td>114005019</td>\n",
       "      <td>2019-12-20 12:00:00+00:00</td>\n",
       "      <td>Анимационный</td>\n",
       "      <td>ООО \"Студия анимационного кино \"Мельница\"</td>\n",
       "      <td>Россия</td>\n",
       "      <td>Д.Шмидт, К.Феоктистов</td>\n",
       "      <td>С.Сельянов, А.Боярский</td>\n",
       "      <td>«6+» - для детей старше 6 лет</td>\n",
       "      <td>100000000.000</td>\n",
       "      <td>0.000</td>\n",
       "      <td>190000000.000</td>\n",
       "      <td>Фонд кино</td>\n",
       "      <td>6.7</td>\n",
       "      <td>мультфильм,приключения,семейный</td>\n",
       "      <td>501069235.000</td>\n",
       "    </tr>\n",
       "    <tr>\n",
       "      <th>7474</th>\n",
       "      <td>Вторжение</td>\n",
       "      <td>111022519</td>\n",
       "      <td>2019-12-23 12:00:00+00:00</td>\n",
       "      <td>Художественный</td>\n",
       "      <td>ООО \"Арт Пикчерс Студия\", ООО \"Водород 2011\"</td>\n",
       "      <td>Россия</td>\n",
       "      <td>Ф.Бондарчук</td>\n",
       "      <td>Ф.Бондарчук, М.Врубель, А.Андрющенко, Д.Рудовский</td>\n",
       "      <td>«12+» - для детей старше 12 лет</td>\n",
       "      <td>100000000.000</td>\n",
       "      <td>400000000.000</td>\n",
       "      <td>944000000.000</td>\n",
       "      <td>Фонд кино</td>\n",
       "      <td>5.7</td>\n",
       "      <td>фантастика,боевик</td>\n",
       "      <td>NaN</td>\n",
       "    </tr>\n",
       "    <tr>\n",
       "      <th>7476</th>\n",
       "      <td>Я свободен</td>\n",
       "      <td>111023019</td>\n",
       "      <td>2019-12-26 12:00:00+00:00</td>\n",
       "      <td>Художественный</td>\n",
       "      <td>АО \"ТПО \"Киностудия им. М.Горького\"</td>\n",
       "      <td>Россия</td>\n",
       "      <td>И.Северов</td>\n",
       "      <td>С.Зернов</td>\n",
       "      <td>«12+» - для детей старше 12 лет</td>\n",
       "      <td>0.000</td>\n",
       "      <td>30000000.000</td>\n",
       "      <td>46154000.000</td>\n",
       "      <td>Министерство культуры</td>\n",
       "      <td>5.9</td>\n",
       "      <td>драма</td>\n",
       "      <td>NaN</td>\n",
       "    </tr>\n",
       "    <tr>\n",
       "      <th>7478</th>\n",
       "      <td>(Не)идеальный мужчина</td>\n",
       "      <td>111023119</td>\n",
       "      <td>2019-12-24 12:00:00+00:00</td>\n",
       "      <td>Художественный</td>\n",
       "      <td>ООО \"Нон-Стоп Продакшн\"</td>\n",
       "      <td>Россия</td>\n",
       "      <td>М.Бальчюнас (псевдоним М.Вайсберг)</td>\n",
       "      <td>С.Мелькумов, А.Роднянский, М.Вайсберг, Р.Минас...</td>\n",
       "      <td>«12+» - для детей старше 12 лет</td>\n",
       "      <td>40000000.000</td>\n",
       "      <td>60000000.000</td>\n",
       "      <td>150147502.000</td>\n",
       "      <td>Фонд кино</td>\n",
       "      <td>4.5</td>\n",
       "      <td>комедия,фантастика,мелодрама</td>\n",
       "      <td>NaN</td>\n",
       "    </tr>\n",
       "  </tbody>\n",
       "</table>\n",
       "<p>332 rows × 16 columns</p>\n",
       "</div>"
      ],
      "text/plain": [
       "                            title   puNumber           show_start_date  \\\n",
       "1281                Пока еще жива  111005313 2013-10-11 12:00:00+00:00   \n",
       "1448          Бесславные придурки  111003314 2014-03-28 12:00:00+00:00   \n",
       "1498                    Невидимки  111004213 2013-09-10 12:00:00+00:00   \n",
       "1524                        БЕРЦЫ  111004314 2014-05-05 12:00:00+00:00   \n",
       "1792                     Братья Ч  111004414 2014-04-23 12:00:00+00:00   \n",
       "...                           ...        ...                       ...   \n",
       "7464                Союз спасения  111022019 2019-12-26 12:00:00+00:00   \n",
       "7466  Иван Царевич и Серый Волк 4  114005019 2019-12-20 12:00:00+00:00   \n",
       "7474                    Вторжение  111022519 2019-12-23 12:00:00+00:00   \n",
       "7476                   Я свободен  111023019 2019-12-26 12:00:00+00:00   \n",
       "7478        (Не)идеальный мужчина  111023119 2019-12-24 12:00:00+00:00   \n",
       "\n",
       "                 type                                        film_studio  \\\n",
       "1281   Художественный  АНО содействия развитию кинематографии \"Ангел-...   \n",
       "1448   Художественный                         ООО \"Компания \"АТК-Студио\"   \n",
       "1498   Художественный                        ООО \"Компания \"РЕАЛ-ДАКОТА\"   \n",
       "1524   Художественный                             ООО \"Студия \"Пассажир\"   \n",
       "1792   Художественный                             ООО \"Студия \"Пассажир\"   \n",
       "...               ...                                                ...   \n",
       "7464   Художественный                                ЗАО \"Дирекция кино\"   \n",
       "7466     Анимационный          ООО \"Студия анимационного кино \"Мельница\"   \n",
       "7474   Художественный       ООО \"Арт Пикчерс Студия\", ООО \"Водород 2011\"   \n",
       "7476   Художественный                АО \"ТПО \"Киностудия им. М.Горького\"   \n",
       "7478   Художественный                           ООО \"Нон-Стоп Продакшн\"    \n",
       "\n",
       "     production_country                              director  \\\n",
       "1281             Россия                            А.Атанесян   \n",
       "1448             Россия                             А.Якимчук   \n",
       "1498             Россия              Р.Давлетьяров, С.Комаров   \n",
       "1524             Россия  Е.Миндадзе (псевдоним Катя Шагалова)   \n",
       "1792             Россия                              М.Угаров   \n",
       "...                 ...                                   ...   \n",
       "7464             Россия                             А.Кравчук   \n",
       "7466             Россия                 Д.Шмидт, К.Феоктистов   \n",
       "7474             Россия                           Ф.Бондарчук   \n",
       "7476             Россия                             И.Северов   \n",
       "7478             Россия    М.Бальчюнас (псевдоним М.Вайсберг)   \n",
       "\n",
       "                                               producer  \\\n",
       "1281                   А.Атанесян, М.Бабаханов, Р.Бутко   \n",
       "1448                                         А.Тютрюмов   \n",
       "1498          Р.Давлетьяров, А.Котелевский, А.Олейников   \n",
       "1524                                         Л.Антонова   \n",
       "1792                             А.Миндадзе, Л.Антонова   \n",
       "...                                                 ...   \n",
       "7464                                А.Максимов, К.Эрнст   \n",
       "7466                             С.Сельянов, А.Боярский   \n",
       "7474  Ф.Бондарчук, М.Врубель, А.Андрющенко, Д.Рудовский   \n",
       "7476                                           С.Зернов   \n",
       "7478  С.Мелькумов, А.Роднянский, М.Вайсберг, Р.Минас...   \n",
       "\n",
       "                      age_restriction  refundable_support  \\\n",
       "1281  «16+» - для детей старше 16 лет               0.000   \n",
       "1448  «12+» - для детей старше 12 лет               0.000   \n",
       "1498  «12+» - для детей старше 12 лет               0.000   \n",
       "1524  «16+» - для детей старше 16 лет               0.000   \n",
       "1792  «16+» - для детей старше 16 лет               0.000   \n",
       "...                               ...                 ...   \n",
       "7464  «12+» - для детей старше 12 лет       100000000.000   \n",
       "7466    «6+» - для детей старше 6 лет       100000000.000   \n",
       "7474  «12+» - для детей старше 12 лет       100000000.000   \n",
       "7476  «12+» - для детей старше 12 лет               0.000   \n",
       "7478  «12+» - для детей старше 12 лет        40000000.000   \n",
       "\n",
       "      nonrefundable_support        budget       financing_source ratings  \\\n",
       "1281           26500000.000  79411900.000  Министерство культуры     8.1   \n",
       "1448           26000000.000  37142857.000  Министерство культуры       0   \n",
       "1498          107847945.000 176023490.000              Фонд кино     5.3   \n",
       "1524           28000000.000  40574140.000  Министерство культуры     4.2   \n",
       "1792           25000000.000  40015122.000  Министерство культуры     6.4   \n",
       "...                     ...           ...                    ...     ...   \n",
       "7464          400000000.000 980000000.000              Фонд кино     6.0   \n",
       "7466                  0.000 190000000.000              Фонд кино     6.7   \n",
       "7474          400000000.000 944000000.000              Фонд кино     5.7   \n",
       "7476           30000000.000  46154000.000  Министерство культуры     5.9   \n",
       "7478           60000000.000 150147502.000              Фонд кино     4.5   \n",
       "\n",
       "                               genres    box_office  \n",
       "1281                  драма,мелодрама    365353.600  \n",
       "1448                   жанр не указан     28140.000  \n",
       "1498               комедия,фантастика  19957031.500  \n",
       "1524                            драма     55917.500  \n",
       "1792                            драма    232100.000  \n",
       "...                               ...           ...  \n",
       "7464          история,биография,драма 717703185.530  \n",
       "7466  мультфильм,приключения,семейный 501069235.000  \n",
       "7474                фантастика,боевик           NaN  \n",
       "7476                            драма           NaN  \n",
       "7478     комедия,фантастика,мелодрама           NaN  \n",
       "\n",
       "[332 rows x 16 columns]"
      ]
     },
     "execution_count": 22,
     "metadata": {},
     "output_type": "execute_result"
    }
   ],
   "source": [
    "#изучение refundable_support, nonrefundable_support, financing_source, box_office\n",
    "df[df['refundable_support'].notnull()]"
   ]
  },
  {
   "cell_type": "markdown",
   "metadata": {},
   "source": [
    "Вывод: в столбцах таблицы refundable_support, nonrefundable_support, financing_source, box_office указаны конкретные цифровые значения, заполнить каким-либо расчетным значением - исказить картину. Имеет смысл заменить NAN на 0. \n",
    "Тип данных Числа с плавающей точкой - можно оставить без изменений."
   ]
  },
  {
   "cell_type": "code",
   "execution_count": 23,
   "metadata": {},
   "outputs": [],
   "source": [
    "#замена NAN на 0\n",
    "df[['refundable_support', 'nonrefundable_support', 'financing_source', 'box_office']] \\\n",
    "= df[['refundable_support', 'nonrefundable_support', 'financing_source', 'box_office']]. fillna (-1)"
   ]
  },
  {
   "cell_type": "code",
   "execution_count": 24,
   "metadata": {},
   "outputs": [
    {
     "data": {
      "text/plain": [
       "title                    0\n",
       "puNumber                 0\n",
       "show_start_date          0\n",
       "type                     0\n",
       "film_studio              0\n",
       "production_country       0\n",
       "director                 0\n",
       "producer                 0\n",
       "age_restriction          0\n",
       "refundable_support       0\n",
       "nonrefundable_support    0\n",
       "budget                   0\n",
       "financing_source         0\n",
       "ratings                  0\n",
       "genres                   0\n",
       "box_office               0\n",
       "dtype: int64"
      ]
     },
     "execution_count": 24,
     "metadata": {},
     "output_type": "execute_result"
    }
   ],
   "source": [
    "#получения количества NaN элементов в записях\n",
    "df.isnull().sum()"
   ]
  },
  {
   "cell_type": "code",
   "execution_count": 25,
   "metadata": {},
   "outputs": [],
   "source": [
    "#проверка на дубликаты\n",
    "duplicate = df[df.duplicated(keep = 'last')]"
   ]
  },
  {
   "cell_type": "markdown",
   "metadata": {},
   "source": [
    "Вывод: в датафрейме не найдено явных дубликатов. Нужно посмотреть на наличие технических ошибок, опечаток и т.д. категориальных значений: названия фильмов, типы фильмов (задание 2.4.), названия студий, ФИО продюсера, режиссера \n",
    "Возможные причины появления дубликатов: технические ошибки, человеческий фактор.\n",
    "\n",
    "При этом: df результат объединения 2х датасетов по прокатному удостоверению (puNumber) и исходя из задания известно, что у  одного фильма может быть 2 прокатных удостоверения, следовательно, совпадения фильмов по названию - норма. "
   ]
  },
  {
   "cell_type": "code",
   "execution_count": 26,
   "metadata": {},
   "outputs": [
    {
     "data": {
      "text/plain": [
       "День святого Валентина_                5\n",
       "Код доступа \"Кейптаун\"                 4\n",
       "Химера                                 4\n",
       "Секс в большом городе 2                4\n",
       "Дорога /По новелле Кормака МкКарфи/    4\n",
       "                                      ..\n",
       "Кровь моей крови                       1\n",
       "Ой, мамочки (2017)                     1\n",
       "Гранд Централ. Любовь на атомы         1\n",
       "Новогодний ремонт                      1\n",
       "Зачётный препод                        1\n",
       "Name: title, Length: 6772, dtype: int64"
      ]
     },
     "execution_count": 26,
     "metadata": {},
     "output_type": "execute_result"
    }
   ],
   "source": [
    "#поймем кол-во дубликатов по  df['title']\n",
    "df['title'].value_counts()"
   ]
  },
  {
   "cell_type": "code",
   "execution_count": 27,
   "metadata": {},
   "outputs": [
    {
     "data": {
      "text/plain": [
       "221054410    2\n",
       "221154310    2\n",
       "0            1\n",
       "111008518    1\n",
       "114002716    1\n",
       "            ..\n",
       "121021814    1\n",
       "224028210    1\n",
       "121013618    1\n",
       "121017712    1\n",
       "126002916    1\n",
       "Name: puNumber, Length: 7484, dtype: int64"
      ]
     },
     "execution_count": 27,
     "metadata": {},
     "output_type": "execute_result"
    }
   ],
   "source": [
    "#поймем кол-во дубликатов по df['puNumber']\n",
    "df['puNumber'].value_counts()"
   ]
  },
  {
   "cell_type": "code",
   "execution_count": 28,
   "metadata": {},
   "outputs": [
    {
     "data": {
      "text/html": [
       "<div>\n",
       "<style scoped>\n",
       "    .dataframe tbody tr th:only-of-type {\n",
       "        vertical-align: middle;\n",
       "    }\n",
       "\n",
       "    .dataframe tbody tr th {\n",
       "        vertical-align: top;\n",
       "    }\n",
       "\n",
       "    .dataframe thead th {\n",
       "        text-align: right;\n",
       "    }\n",
       "</style>\n",
       "<table border=\"1\" class=\"dataframe\">\n",
       "  <thead>\n",
       "    <tr style=\"text-align: right;\">\n",
       "      <th></th>\n",
       "      <th>title</th>\n",
       "      <th>puNumber</th>\n",
       "      <th>show_start_date</th>\n",
       "      <th>type</th>\n",
       "      <th>film_studio</th>\n",
       "      <th>production_country</th>\n",
       "      <th>director</th>\n",
       "      <th>producer</th>\n",
       "      <th>age_restriction</th>\n",
       "      <th>refundable_support</th>\n",
       "      <th>nonrefundable_support</th>\n",
       "      <th>budget</th>\n",
       "      <th>financing_source</th>\n",
       "      <th>ratings</th>\n",
       "      <th>genres</th>\n",
       "      <th>box_office</th>\n",
       "    </tr>\n",
       "  </thead>\n",
       "  <tbody>\n",
       "    <tr>\n",
       "      <th>4638</th>\n",
       "      <td>Как жениться и остаться холостым</td>\n",
       "      <td>221154310</td>\n",
       "      <td>2010-12-17 12:00:00+00:00</td>\n",
       "      <td>Художественный</td>\n",
       "      <td>Ше Вам, Скрипт Ассосье, Тэ Фэ 1 Фильм Продюксь...</td>\n",
       "      <td>Франция</td>\n",
       "      <td>Эрик Лартиго</td>\n",
       "      <td>Амандин Било, Алан Шаба</td>\n",
       "      <td>«16+» - для детей старше 16 лет</td>\n",
       "      <td>-1.000</td>\n",
       "      <td>-1.000</td>\n",
       "      <td>0.000</td>\n",
       "      <td>коммерческое кино</td>\n",
       "      <td>7.0</td>\n",
       "      <td>мелодрама,комедия</td>\n",
       "      <td>-1.000</td>\n",
       "    </tr>\n",
       "    <tr>\n",
       "      <th>4639</th>\n",
       "      <td>Иоанна - женщина на папском престоле /По роман...</td>\n",
       "      <td>221154310</td>\n",
       "      <td>2010-12-17 12:00:00+00:00</td>\n",
       "      <td>Художественный</td>\n",
       "      <td>Константин Фильм, А Эр Ди Дегето Фильм, Дюне ...</td>\n",
       "      <td>Германия - Великобритания - Италия - Испания</td>\n",
       "      <td>Зенке Вортманн</td>\n",
       "      <td>Оливер Бербен, Дорис Д.Хайнце, Фарук Элтан</td>\n",
       "      <td>«16+» - для детей старше 16 лет</td>\n",
       "      <td>-1.000</td>\n",
       "      <td>-1.000</td>\n",
       "      <td>0.000</td>\n",
       "      <td>коммерческое кино</td>\n",
       "      <td>7.6</td>\n",
       "      <td>драма,мелодрама,история</td>\n",
       "      <td>-1.000</td>\n",
       "    </tr>\n",
       "    <tr>\n",
       "      <th>5067</th>\n",
       "      <td>Анализируй это!</td>\n",
       "      <td>221054410</td>\n",
       "      <td>2010-05-25 12:00:00+00:00</td>\n",
       "      <td>Художественный</td>\n",
       "      <td>Уорнер Бразерс, Вилладж Роудшоу Филмз ЛТД</td>\n",
       "      <td>США-Австралия</td>\n",
       "      <td>ХЭрольд Рэмис</td>\n",
       "      <td>Джейн Розенталь, Пола Уейнстейн</td>\n",
       "      <td>«16+» - для детей старше 16 лет</td>\n",
       "      <td>-1.000</td>\n",
       "      <td>-1.000</td>\n",
       "      <td>0.000</td>\n",
       "      <td>коммерческое кино</td>\n",
       "      <td>7.4</td>\n",
       "      <td>комедия,криминал</td>\n",
       "      <td>-1.000</td>\n",
       "    </tr>\n",
       "    <tr>\n",
       "      <th>5068</th>\n",
       "      <td>Анализируй то!</td>\n",
       "      <td>221054410</td>\n",
       "      <td>2010-05-25 12:00:00+00:00</td>\n",
       "      <td>Художественный</td>\n",
       "      <td>Уорнер Бразерс, Виллидж Роадшоу Пикчерз, Эн-Пи...</td>\n",
       "      <td>США</td>\n",
       "      <td>Гарольд Реймис</td>\n",
       "      <td>Джейн Розенталь, Паул Уэйнстейн</td>\n",
       "      <td>«12+» - для детей старше 12 лет</td>\n",
       "      <td>-1.000</td>\n",
       "      <td>-1.000</td>\n",
       "      <td>0.000</td>\n",
       "      <td>коммерческое кино</td>\n",
       "      <td>6.8</td>\n",
       "      <td>комедия,криминал</td>\n",
       "      <td>-1.000</td>\n",
       "    </tr>\n",
       "  </tbody>\n",
       "</table>\n",
       "</div>"
      ],
      "text/plain": [
       "                                                  title   puNumber  \\\n",
       "4638                   Как жениться и остаться холостым  221154310   \n",
       "4639  Иоанна - женщина на папском престоле /По роман...  221154310   \n",
       "5067                                    Анализируй это!  221054410   \n",
       "5068                                     Анализируй то!  221054410   \n",
       "\n",
       "               show_start_date            type  \\\n",
       "4638 2010-12-17 12:00:00+00:00  Художественный   \n",
       "4639 2010-12-17 12:00:00+00:00  Художественный   \n",
       "5067 2010-05-25 12:00:00+00:00  Художественный   \n",
       "5068 2010-05-25 12:00:00+00:00  Художественный   \n",
       "\n",
       "                                            film_studio  \\\n",
       "4638  Ше Вам, Скрипт Ассосье, Тэ Фэ 1 Фильм Продюксь...   \n",
       "4639   Константин Фильм, А Эр Ди Дегето Фильм, Дюне ...   \n",
       "5067          Уорнер Бразерс, Вилладж Роудшоу Филмз ЛТД   \n",
       "5068  Уорнер Бразерс, Виллидж Роадшоу Пикчерз, Эн-Пи...   \n",
       "\n",
       "                                production_country        director  \\\n",
       "4638                                       Франция    Эрик Лартиго   \n",
       "4639  Германия - Великобритания - Италия - Испания  Зенке Вортманн   \n",
       "5067                                 США-Австралия   ХЭрольд Рэмис   \n",
       "5068                                           США  Гарольд Реймис   \n",
       "\n",
       "                                        producer  \\\n",
       "4638                     Амандин Било, Алан Шаба   \n",
       "4639  Оливер Бербен, Дорис Д.Хайнце, Фарук Элтан   \n",
       "5067             Джейн Розенталь, Пола Уейнстейн   \n",
       "5068             Джейн Розенталь, Паул Уэйнстейн   \n",
       "\n",
       "                      age_restriction  refundable_support  \\\n",
       "4638  «16+» - для детей старше 16 лет              -1.000   \n",
       "4639  «16+» - для детей старше 16 лет              -1.000   \n",
       "5067  «16+» - для детей старше 16 лет              -1.000   \n",
       "5068  «12+» - для детей старше 12 лет              -1.000   \n",
       "\n",
       "      nonrefundable_support  budget   financing_source ratings  \\\n",
       "4638                 -1.000   0.000  коммерческое кино     7.0   \n",
       "4639                 -1.000   0.000  коммерческое кино     7.6   \n",
       "5067                 -1.000   0.000  коммерческое кино     7.4   \n",
       "5068                 -1.000   0.000  коммерческое кино     6.8   \n",
       "\n",
       "                       genres  box_office  \n",
       "4638        мелодрама,комедия      -1.000  \n",
       "4639  драма,мелодрама,история      -1.000  \n",
       "5067         комедия,криминал      -1.000  \n",
       "5068         комедия,криминал      -1.000  "
      ]
     },
     "execution_count": 28,
     "metadata": {},
     "output_type": "execute_result"
    }
   ],
   "source": [
    "#посмотрим строки, у которых номера прокатных удостоверений совпадают, то есть 221054410 и 221154310\n",
    "df.loc[((df['puNumber'] == 221054410) | (df['puNumber'] == 221154310))]"
   ]
  },
  {
   "cell_type": "code",
   "execution_count": 29,
   "metadata": {},
   "outputs": [
    {
     "data": {
      "text/html": [
       "<div>\n",
       "<style scoped>\n",
       "    .dataframe tbody tr th:only-of-type {\n",
       "        vertical-align: middle;\n",
       "    }\n",
       "\n",
       "    .dataframe tbody tr th {\n",
       "        vertical-align: top;\n",
       "    }\n",
       "\n",
       "    .dataframe thead th {\n",
       "        text-align: right;\n",
       "    }\n",
       "</style>\n",
       "<table border=\"1\" class=\"dataframe\">\n",
       "  <thead>\n",
       "    <tr style=\"text-align: right;\">\n",
       "      <th></th>\n",
       "      <th>title</th>\n",
       "      <th>puNumber</th>\n",
       "      <th>show_start_date</th>\n",
       "      <th>type</th>\n",
       "      <th>film_studio</th>\n",
       "      <th>production_country</th>\n",
       "      <th>director</th>\n",
       "      <th>producer</th>\n",
       "      <th>age_restriction</th>\n",
       "      <th>refundable_support</th>\n",
       "      <th>nonrefundable_support</th>\n",
       "      <th>budget</th>\n",
       "      <th>financing_source</th>\n",
       "      <th>ratings</th>\n",
       "      <th>genres</th>\n",
       "      <th>box_office</th>\n",
       "    </tr>\n",
       "  </thead>\n",
       "  <tbody>\n",
       "  </tbody>\n",
       "</table>\n",
       "</div>"
      ],
      "text/plain": [
       "Empty DataFrame\n",
       "Columns: [title, puNumber, show_start_date, type, film_studio, production_country, director, producer, age_restriction, refundable_support, nonrefundable_support, budget, financing_source, ratings, genres, box_office]\n",
       "Index: []"
      ]
     },
     "execution_count": 29,
     "metadata": {},
     "output_type": "execute_result"
    }
   ],
   "source": [
    "#проверка есть ли совпадения по названию фильма и номеру прокатного удостоверения\n",
    "df[df.duplicated(['title', 'puNumber'])]"
   ]
  },
  {
   "cell_type": "markdown",
   "metadata": {
    "id": "aKck8RIdgFyQ"
   },
   "source": [
    "Вывод: нет совпадений по названию фильма и номеру прокатного удостоверения"
   ]
  },
  {
   "cell_type": "code",
   "execution_count": 30,
   "metadata": {
    "scrolled": true
   },
   "outputs": [
    {
     "data": {
      "text/plain": [
       "Киностудия \"Мосфильм\"                                                                                                                                                                                341\n",
       "ООО \"Мульт в кино\"                                                                                                                                                                                    57\n",
       "Анимаккорд Лтд                                                                                                                                                                                        23\n",
       "студия не указана                                                                                                                                                                                     18\n",
       "ООО \"Мульт в кино\"                                                                                                                                                                                    18\n",
       "                                                                                                                                                                                                    ... \n",
       "ООО \"Анимационная студия \"Сказка\", ООО \"Муха\"                                                                                                                                                          1\n",
       "Мотлис, Энимал Кингдом, Арт Франс Синема, Бичсайд ФилмзБона Файд Продакшнз, Канал +, Сине +, Национальный фонд кинематографии Франции, Фонд Еуроимаж дю Конси де лЕроп, Мементо Филм, Нимбус Филм      1\n",
       "Шамонколфилм Интернэшнл, Ворк Пойнт Интертейнмент                                                                                                                                                      1\n",
       "Бакинская киностудия                                                                                                                                                                                   1\n",
       "Маав Филмз, Маав Стюдиос, Нью Паблик Пикчерз, Парамаунт Пикчерз, Пикселоид Стюдиос, Рокет Пикчерз                                                                                                      1\n",
       "Name: film_studio, Length: 5491, dtype: int64"
      ]
     },
     "execution_count": 30,
     "metadata": {},
     "output_type": "execute_result"
    }
   ],
   "source": [
    "#изучение столбца df['film_studio']\n",
    "df['film_studio'].value_counts()"
   ]
  },
  {
   "cell_type": "markdown",
   "metadata": {},
   "source": [
    "Определены ошибки/странности:\n",
    "* ООО \"Мульт в кино\" => проверить на тех.ошибки/опечатки...возможно буква \"о\" на англ и русс языках;\n",
    "* разный регист => сделать единообразным;\n",
    "\n",
    "Отметим, что оформление не единообразно (где-то указана форма собственности, где-то нет; где-то есть кавычки, где-то нет). "
   ]
  },
  {
   "cell_type": "code",
   "execution_count": 31,
   "metadata": {},
   "outputs": [],
   "source": [
    "#приведение к одному регистру df['film_studio']\n",
    "df['film_studio'] = df['film_studio'].str.lower()\n",
    "\n",
    "# заменим ё на е \n",
    "df['film_studio'] = df['film_studio'].str.replace('ё', 'е')\n",
    "#to_excel(r'C:\\Users\\79163\\data_analasys\\Остек-СТ\\1.xlsx')"
   ]
  },
  {
   "cell_type": "code",
   "execution_count": 32,
   "metadata": {},
   "outputs": [
    {
     "data": {
      "text/plain": [
       "киностудия \"мосфильм\"                                                                                                                                  341\n",
       "ооо \"мульт в кино\"                                                                                                                                      57\n",
       "анимаккорд лтд                                                                                                                                          23\n",
       "студия не указана                                                                                                                                       18\n",
       "ооо \"мульт в кино\"                                                                                                                                      18\n",
       "                                                                                                                                                      ... \n",
       "мьючел филм компани, полиграм филмд интертейнмент, марубени, тохо-това, теле-мюнхен, би-би-си ,ю-жи-си, мувимэйкерс нордиск филм, парамаунт пикчерз      1\n",
       "пахаррако фильм, ароннакс анимасьон                                                                                                                      1\n",
       "дабл дач интернэшнл                                                                                                                                      1\n",
       "фиделите, уайлд банч, марс филмз, октагон филмз, филмгейт филмз, филм и васт, евримаж совета европы, оранж синема сери, ирландский кинофонд              1\n",
       "лосев с.а.                                                                                                                                               1\n",
       "Name: film_studio, Length: 5449, dtype: int64"
      ]
     },
     "execution_count": 32,
     "metadata": {},
     "output_type": "execute_result"
    }
   ],
   "source": [
    "#подсчет уникальных значений с учетом изменения ругистра\n",
    "df['film_studio'].value_counts()"
   ]
  },
  {
   "cell_type": "code",
   "execution_count": 33,
   "metadata": {},
   "outputs": [
    {
     "data": {
      "text/plain": [
       "True"
      ]
     },
     "execution_count": 33,
     "metadata": {},
     "output_type": "execute_result"
    }
   ],
   "source": [
    "#просмотр фильмов студии ооо \"мульт в кино\" - почему их словно бы 2 разные студии?\n",
    "'ооо \"мульт в кино\"' == 'ооо \"мульт в кино\"'\n",
    "#записи одинаковые"
   ]
  },
  {
   "cell_type": "code",
   "execution_count": 34,
   "metadata": {},
   "outputs": [
    {
     "data": {
      "text/plain": [
       "(5449, 5449)"
      ]
     },
     "execution_count": 34,
     "metadata": {},
     "output_type": "execute_result"
    }
   ],
   "source": [
    "#посмотрим длинну\n",
    "len(set(df['film_studio'])), df['film_studio'].nunique()"
   ]
  },
  {
   "cell_type": "code",
   "execution_count": 35,
   "metadata": {},
   "outputs": [
    {
     "data": {
      "text/plain": [
       "Index(['киностудия \"мосфильм\"', 'ооо \"мульт в кино\"', 'анимаккорд лтд',\n",
       "       'студия не указана', 'ооо \"мульт в кино\" ',\n",
       "       'фгуп \"тпо \"киностудия \"союзмультфильм\"', 'ооо \"таббак\"', 'опус арте',\n",
       "       'р а и синема', 'ооо \"студия анимационного кино \"мельница\"',\n",
       "       ...\n",
       "       'индиго филм, патэ, франс 2 синема, нумбер 9 филмз, медуза филм, филм 4, канал +, сине +, франс телевизьон, телеклуб',\n",
       "       'сэмуэль голдвин филмз, дэстинейшн филмз, жеримака филм',\n",
       "       'партизан фильм, нексус фэктори, потемкино, шмуз',\n",
       "       'центропа интертейнмент, изабелла филмз интернэшнл, мемфис фильм интернэшнл, пэйн анлимитед, сигма филмз, слот машин, арт франс синема, франс 3 синема, эн пэ эс телевижн, норск ти ви 2 а эс',\n",
       "       'агат фильм и си, артеми продюксьон, франс 3 синема, радио телевизьон бельж франкофон, бельгаком, канал +, сине +, франс телевизьон ',\n",
       "       'мьючел филм компани, полиграм филмд интертейнмент, марубени, тохо-това, теле-мюнхен, би-би-си ,ю-жи-си, мувимэйкерс нордиск филм, парамаунт пикчерз',\n",
       "       'пахаррако фильм, ароннакс анимасьон', 'дабл дач интернэшнл',\n",
       "       'фиделите, уайлд банч, марс филмз, октагон филмз, филмгейт филмз, филм и васт, евримаж совета европы, оранж синема сери, ирландский кинофонд',\n",
       "       'лосев с.а.'],\n",
       "      dtype='object', length=5449)"
      ]
     },
     "execution_count": 35,
     "metadata": {},
     "output_type": "execute_result"
    }
   ],
   "source": [
    "# оказывается лишний пробел в окончании после ковычек 'ооо \"мульт в кино\"' != 'ооо \"мульт в кино\"_'\n",
    "pd.DataFrame(df['film_studio'].value_counts()).index"
   ]
  },
  {
   "cell_type": "code",
   "execution_count": 36,
   "metadata": {},
   "outputs": [],
   "source": [
    "#корректировка df['film_studio']\n",
    "df['film_studio'] = df['film_studio'].str.strip()"
   ]
  },
  {
   "cell_type": "code",
   "execution_count": 37,
   "metadata": {
    "scrolled": true
   },
   "outputs": [
    {
     "data": {
      "text/plain": [
       "киностудия \"мосфильм\"                                345\n",
       "ооо \"мульт в кино\"                                    75\n",
       "анимаккорд лтд                                        23\n",
       "студия не указана                                     18\n",
       "ооо \"таббак\"                                          18\n",
       "                                                    ... \n",
       "ип истратов андрей валерьевич                          1\n",
       "майфилмз                                               1\n",
       "калигари фильм                                         1\n",
       "ооо кинокомпания \"соливс\" по заказу ао \"вбд груп\"      1\n",
       "лосев с.а.                                             1\n",
       "Name: film_studio, Length: 5421, dtype: int64"
      ]
     },
     "execution_count": 37,
     "metadata": {},
     "output_type": "execute_result"
    }
   ],
   "source": [
    "#подсчет уникальных значений с учетом всех корректировок\n",
    "df['film_studio'].value_counts()"
   ]
  },
  {
   "cell_type": "markdown",
   "metadata": {},
   "source": [
    "С учетом полученного опыта сразу приведем все категориальные значения к нижнему регистру"
   ]
  },
  {
   "cell_type": "code",
   "execution_count": 38,
   "metadata": {},
   "outputs": [],
   "source": [
    "#цикл для приведения категориальных значений к нижнему регистру\n",
    "for col in ['production_country', 'director', 'producer', 'type', 'financing_source']:\n",
    "    df[col] = df[col].str.lower()"
   ]
  },
  {
   "cell_type": "code",
   "execution_count": 39,
   "metadata": {},
   "outputs": [
    {
     "data": {
      "text/plain": [
       "сша                        2172\n",
       "россия                     1821\n",
       "ссср                        347\n",
       "франция                     301\n",
       "великобритания              257\n",
       "                           ... \n",
       "республика армения            1\n",
       "германия, франция             1\n",
       "канада, сша, норвегия         1\n",
       "россия, франция, латвия       1\n",
       "россия, румыния               1\n",
       "Name: production_country, Length: 950, dtype: int64"
      ]
     },
     "execution_count": 39,
     "metadata": {},
     "output_type": "execute_result"
    }
   ],
   "source": [
    "#изучение столбца df['production_country']. \n",
    "df['production_country'].value_counts()"
   ]
  },
  {
   "cell_type": "code",
   "execution_count": 40,
   "metadata": {},
   "outputs": [
    {
     "data": {
      "text/plain": [
       "продюсер не указан                                                568\n",
       "п.смирнов                                                          67\n",
       "олег кузовков, дмитрий ловейко, марина ратина                      28\n",
       "с.сельянов                                                         18\n",
       "д.ловейко, о.кузовков                                              17\n",
       "                                                                 ... \n",
       "дед гарднер, николас гонда, брэд питт, бил полланд, грант хилл      1\n",
       "джонатан кинг, мишель литвак, гари майкл уотерс                     1\n",
       "мерседес гамеро, адриан герра, микель лехарса                       1\n",
       "кристофер робертс, сьюзен хоффман                                   1\n",
       "а.роднянский, с.мелькумов, г.фетисов                                1\n",
       "Name: producer, Length: 5340, dtype: int64"
      ]
     },
     "execution_count": 40,
     "metadata": {},
     "output_type": "execute_result"
    }
   ],
   "source": [
    "#изучение столбца df['producer']\n",
    "# заменим ё на е \n",
    "df['producer'] = df['producer'].str.replace('ё', 'е')\n",
    "df['producer'].value_counts()"
   ]
  },
  {
   "cell_type": "code",
   "execution_count": 41,
   "metadata": {},
   "outputs": [
    {
     "data": {
      "text/plain": [
       "«16+» - для детей старше 16 лет           2851\n",
       "«18+» - запрещено для детей               1605\n",
       "«12+» - для детей старше 12 лет           1593\n",
       "«0+» - для любой зрительской аудитории     811\n",
       "«6+» - для детей старше 6 лет              626\n",
       "Name: age_restriction, dtype: int64"
      ]
     },
     "execution_count": 41,
     "metadata": {},
     "output_type": "execute_result"
    }
   ],
   "source": [
    "#изучение столбца df['age_restriction']\n",
    "df['age_restriction'].value_counts()"
   ]
  },
  {
   "cell_type": "code",
   "execution_count": 42,
   "metadata": {},
   "outputs": [
    {
     "data": {
      "text/plain": [
       "жанр не указан                 976\n",
       "драма                          476\n",
       "комедия                        352\n",
       "мелодрама,комедия              222\n",
       "драма,мелодрама,комедия        189\n",
       "                              ... \n",
       "вестерн,биография,драма          1\n",
       "фантастика,драма,криминал        1\n",
       "драма,фэнтези,история            1\n",
       "мультфильм,мюзикл,мелодрама      1\n",
       "комедия,криминал,биография       1\n",
       "Name: genres, Length: 743, dtype: int64"
      ]
     },
     "execution_count": 42,
     "metadata": {},
     "output_type": "execute_result"
    }
   ],
   "source": [
    "#изучение столбца df['genres']\n",
    "df['genres'].value_counts()"
   ]
  },
  {
   "cell_type": "code",
   "execution_count": 43,
   "metadata": {},
   "outputs": [
    {
     "data": {
      "text/plain": [
       "коммерческое кино                   7154\n",
       "министерство культуры                164\n",
       "фонд кино                            146\n",
       "министерство культуры, фонд кино      22\n",
       "Name: financing_source, dtype: int64"
      ]
     },
     "execution_count": 43,
     "metadata": {},
     "output_type": "execute_result"
    }
   ],
   "source": [
    "#изучение столбца df['financing_source']\n",
    "df['financing_source'].value_counts()"
   ]
  },
  {
   "cell_type": "code",
   "execution_count": 44,
   "metadata": {},
   "outputs": [
    {
     "data": {
      "text/plain": [
       "художественный                4520\n",
       " художественный               1389\n",
       "анимационный                   828\n",
       "прочие                         406\n",
       "документальный                 288\n",
       "научно-популярный               53\n",
       "музыкально-развлекательный       1\n",
       " анимационный                    1\n",
       "Name: type, dtype: int64"
      ]
     },
     "execution_count": 44,
     "metadata": {},
     "output_type": "execute_result"
    }
   ],
   "source": [
    "#изучение столбца df['type']\n",
    "df['type'].value_counts()"
   ]
  },
  {
   "cell_type": "markdown",
   "metadata": {},
   "source": [
    "Вывод: есть 2 одинаковых категории:\n",
    "* \"Художественный\" и \" Художественный\" (с пробелом);\n",
    "* \"Анимационный\" и \" Анимационный\" (с пробелом);\n",
    "\n",
    "Причина: ошибка (в случае заполнения датасета человеком) и/или тех.сбой в случае автоматического формирования датасета \n",
    "Нужно привести в соответствие"
   ]
  },
  {
   "cell_type": "code",
   "execution_count": 45,
   "metadata": {},
   "outputs": [
    {
     "data": {
      "text/plain": [
       "художественный                5909\n",
       "анимационный                   829\n",
       "прочие                         406\n",
       "документальный                 288\n",
       "научно-популярный               53\n",
       "музыкально-развлекательный       1\n",
       "Name: type, dtype: int64"
      ]
     },
     "execution_count": 45,
     "metadata": {},
     "output_type": "execute_result"
    }
   ],
   "source": [
    "#корректировка df['type']\n",
    "df['type'] = df['type'].str.strip()\n",
    "\n",
    "#проверка\n",
    "df['type'].value_counts()"
   ]
  },
  {
   "cell_type": "markdown",
   "metadata": {},
   "source": [
    "Частично работа с категориальными данными проведена выше в разделе \"работа с дубликатами\".\n",
    "Общая проблема: пробелы; дубликаты из-за разного регистра (устранено)"
   ]
  },
  {
   "cell_type": "code",
   "execution_count": 46,
   "metadata": {
    "id": "PnXKIVdFgFyR"
   },
   "outputs": [
    {
     "data": {
      "image/png": "[encoded data removed]",
      "text/plain": [
       "<Figure size 1500x2000 with 6 Axes>"
      ]
     },
     "metadata": {},
     "output_type": "display_data"
    }
   ],
   "source": [
    "#гистограммы по количественным значениям\n",
    "df[['show_start_date', 'refundable_support', 'nonrefundable_support', 'budget', 'box_office']].hist(figsize=(15, 20), bins=100);"
   ]
  },
  {
   "cell_type": "markdown",
   "metadata": {
    "id": "YbzClBxagFyS"
   },
   "source": [
    "Видно смещение гистограммы вправо; есть очень большие пики (это замена пропусков на \"0\")"
   ]
  },
  {
   "cell_type": "code",
   "execution_count": 47,
   "metadata": {},
   "outputs": [
    {
     "data": {
      "image/png": "[encoded data removed]",
      "text/plain": [
       "<Figure size 500x500 with 1 Axes>"
      ]
     },
     "metadata": {},
     "output_type": "display_data"
    }
   ],
   "source": [
    "#гистограммы для значений 'box_office' больше 100 000 000\n",
    "df.loc[df['box_office'] > 100000000,'box_office'].hist(figsize=(5, 5), bins=50);"
   ]
  },
  {
   "cell_type": "code",
   "execution_count": 48,
   "metadata": {},
   "outputs": [
    {
     "data": {
      "image/png": "[encoded data removed]",
      "text/plain": [
       "<Figure size 500x500 with 1 Axes>"
      ]
     },
     "metadata": {},
     "output_type": "display_data"
    }
   ],
   "source": [
    "#гистограммы для значений 'budget' больше 100 000 000\n",
    "df.loc[df['budget'] > 100000000,'budget'].hist(figsize=(5, 5), bins=10);"
   ]
  },
  {
   "cell_type": "code",
   "execution_count": 49,
   "metadata": {},
   "outputs": [
    {
     "data": {
      "image/png": "[encoded data removed]",
      "text/plain": [
       "<Figure size 500x500 with 1 Axes>"
      ]
     },
     "metadata": {},
     "output_type": "display_data"
    }
   ],
   "source": [
    "#гистограммы для значений 'refundable_support' больше 0\n",
    "df.loc[df['refundable_support'] > 0,'refundable_support'].hist(figsize=(5, 5), bins=50);"
   ]
  },
  {
   "cell_type": "code",
   "execution_count": 50,
   "metadata": {},
   "outputs": [
    {
     "data": {
      "image/png": "[encoded data removed]",
      "text/plain": [
       "<Figure size 500x500 with 1 Axes>"
      ]
     },
     "metadata": {},
     "output_type": "display_data"
    }
   ],
   "source": [
    "#гистограммы для значений 'nonrefundable_support' больше 0\n",
    "df.loc[df['nonrefundable_support'] > 0,'nonrefundable_support'].hist(figsize=(5, 5), bins=100);"
   ]
  },
  {
   "cell_type": "code",
   "execution_count": 51,
   "metadata": {},
   "outputs": [
    {
     "data": {
      "text/html": [
       "<div>\n",
       "<style scoped>\n",
       "    .dataframe tbody tr th:only-of-type {\n",
       "        vertical-align: middle;\n",
       "    }\n",
       "\n",
       "    .dataframe tbody tr th {\n",
       "        vertical-align: top;\n",
       "    }\n",
       "\n",
       "    .dataframe thead th {\n",
       "        text-align: right;\n",
       "    }\n",
       "</style>\n",
       "<table border=\"1\" class=\"dataframe\">\n",
       "  <thead>\n",
       "    <tr style=\"text-align: right;\">\n",
       "      <th></th>\n",
       "      <th>refundable_support</th>\n",
       "      <th>nonrefundable_support</th>\n",
       "      <th>budget</th>\n",
       "      <th>box_office</th>\n",
       "    </tr>\n",
       "  </thead>\n",
       "  <tbody>\n",
       "    <tr>\n",
       "      <th>count</th>\n",
       "      <td>7486.000</td>\n",
       "      <td>7486.000</td>\n",
       "      <td>7486.000</td>\n",
       "      <td>7486.000</td>\n",
       "    </tr>\n",
       "    <tr>\n",
       "      <th>mean</th>\n",
       "      <td>526181.251</td>\n",
       "      <td>2172279.075</td>\n",
       "      <td>5642568.253</td>\n",
       "      <td>32262853.079</td>\n",
       "    </tr>\n",
       "    <tr>\n",
       "      <th>std</th>\n",
       "      <td>5781108.172</td>\n",
       "      <td>16148935.574</td>\n",
       "      <td>47528177.687</td>\n",
       "      <td>160600784.280</td>\n",
       "    </tr>\n",
       "    <tr>\n",
       "      <th>min</th>\n",
       "      <td>-1.000</td>\n",
       "      <td>-1.000</td>\n",
       "      <td>0.000</td>\n",
       "      <td>-1.000</td>\n",
       "    </tr>\n",
       "    <tr>\n",
       "      <th>25%</th>\n",
       "      <td>-1.000</td>\n",
       "      <td>-1.000</td>\n",
       "      <td>0.000</td>\n",
       "      <td>-1.000</td>\n",
       "    </tr>\n",
       "    <tr>\n",
       "      <th>50%</th>\n",
       "      <td>-1.000</td>\n",
       "      <td>-1.000</td>\n",
       "      <td>0.000</td>\n",
       "      <td>-1.000</td>\n",
       "    </tr>\n",
       "    <tr>\n",
       "      <th>75%</th>\n",
       "      <td>-1.000</td>\n",
       "      <td>-1.000</td>\n",
       "      <td>0.000</td>\n",
       "      <td>1080467.990</td>\n",
       "    </tr>\n",
       "    <tr>\n",
       "      <th>max</th>\n",
       "      <td>180000000.000</td>\n",
       "      <td>400000000.000</td>\n",
       "      <td>2305074303.000</td>\n",
       "      <td>3073568690.790</td>\n",
       "    </tr>\n",
       "  </tbody>\n",
       "</table>\n",
       "</div>"
      ],
      "text/plain": [
       "       refundable_support  nonrefundable_support         budget     box_office\n",
       "count            7486.000               7486.000       7486.000       7486.000\n",
       "mean           526181.251            2172279.075    5642568.253   32262853.079\n",
       "std           5781108.172           16148935.574   47528177.687  160600784.280\n",
       "min                -1.000                 -1.000          0.000         -1.000\n",
       "25%                -1.000                 -1.000          0.000         -1.000\n",
       "50%                -1.000                 -1.000          0.000         -1.000\n",
       "75%                -1.000                 -1.000          0.000    1080467.990\n",
       "max         180000000.000          400000000.000 2305074303.000 3073568690.790"
      ]
     },
     "execution_count": 51,
     "metadata": {},
     "output_type": "execute_result"
    }
   ],
   "source": [
    "#изучение количественных значений\n",
    "df[['show_start_date', 'refundable_support', 'nonrefundable_support', 'budget', 'box_office']].describe()"
   ]
  },
  {
   "cell_type": "markdown",
   "metadata": {},
   "source": [
    "Вывод: было много пропусков в количественных значениях и это пропуски были заменены на 0, что видно выше. \n",
    "Можно изучить данные без учета 0 значений. Нет необходимости заменять 0 на что-либо...это только исказит картину."
   ]
  },
  {
   "cell_type": "code",
   "execution_count": 52,
   "metadata": {},
   "outputs": [
    {
     "data": {
      "text/plain": [
       "count        7265.000\n",
       "mean       542187.591\n",
       "std       5867651.942\n",
       "min            -1.000\n",
       "25%            -1.000\n",
       "50%            -1.000\n",
       "75%            -1.000\n",
       "max     180000000.000\n",
       "Name: refundable_support, dtype: float64"
      ]
     },
     "execution_count": 52,
     "metadata": {},
     "output_type": "execute_result"
    }
   ],
   "source": [
    "#изучение количественных значений 'refundable_support' без 0\n",
    "df.loc[(df['refundable_support'] != 0), 'refundable_support'].describe()"
   ]
  },
  {
   "cell_type": "code",
   "execution_count": 53,
   "metadata": {},
   "outputs": [
    {
     "data": {
      "image/png": "[encoded data removed]",
      "text/plain": [
       "<Figure size 500x500 with 1 Axes>"
      ]
     },
     "metadata": {},
     "output_type": "display_data"
    }
   ],
   "source": [
    "#гистограммы по количественным значениям без учета 0 значений для df['refundable_support']\n",
    "fig, ax = plt.subplots()\n",
    "df.loc[(df['refundable_support'] != 0), 'refundable_support'].hist(figsize=(5, 5), bins=50);\n",
    "plt.title('Гистограмма для параметра \"Объём возвратных средств государственной поддержки\"');\n",
    "\n",
    "#  Добавляем подписи к осям:\n",
    "ax.set_xlabel('Объём возвратных средств государственной поддержки')\n",
    "ax.set_ylabel('Частота')\n",
    "plt.show()"
   ]
  },
  {
   "cell_type": "markdown",
   "metadata": {},
   "source": [
    "Вывод: гистограмма со смещением вправо; среднее значение больше медианы. Всего 111 фильмов получили возвратные средства господдержки; средний объем =  35 486 486.486 руб"
   ]
  },
  {
   "cell_type": "code",
   "execution_count": 54,
   "metadata": {},
   "outputs": [
    {
     "data": {
      "text/plain": [
       "count        7477.000\n",
       "mean      2174893.829\n",
       "std      16158477.125\n",
       "min            -1.000\n",
       "25%            -1.000\n",
       "50%            -1.000\n",
       "75%            -1.000\n",
       "max     400000000.000\n",
       "Name: nonrefundable_support, dtype: float64"
      ]
     },
     "execution_count": 54,
     "metadata": {},
     "output_type": "execute_result"
    }
   ],
   "source": [
    "#изучение количественных значений 'nonrefundable_support без 0\n",
    "df.loc[(df['nonrefundable_support'] != 0), 'nonrefundable_support'].describe()"
   ]
  },
  {
   "cell_type": "code",
   "execution_count": 55,
   "metadata": {},
   "outputs": [
    {
     "data": {
      "image/png": "[encoded data removed]",
      "text/plain": [
       "<Figure size 500x500 with 1 Axes>"
      ]
     },
     "metadata": {},
     "output_type": "display_data"
    }
   ],
   "source": [
    "#гистограммы по количественным значениям без учета 0 занчений для df['nonrefundable_support']\n",
    "fig, ax = plt.subplots()\n",
    "df.loc[(df['nonrefundable_support'] != 0), 'nonrefundable_support'].hist(figsize=(5, 5), bins=50);\n",
    "plt.title('Гистограмма для параметра \"Объём невозвратных средств государственной поддержки\"');\n",
    "\n",
    "#  Добавляем подписи к осям:\n",
    "ax.set_xlabel('Объём невозвратных средств государственной поддержки')\n",
    "ax.set_ylabel('Частота')\n",
    "plt.show()"
   ]
  },
  {
   "cell_type": "markdown",
   "metadata": {},
   "source": [
    "Вывод: гистограмма со смещением вправо; среднее значение больше медианы. Всего 323 фильма получили невозвратные средства господдерки; средний объем =  50 345 784.248 руб"
   ]
  },
  {
   "cell_type": "code",
   "execution_count": 56,
   "metadata": {},
   "outputs": [
    {
     "data": {
      "text/plain": [
       "count          315.000\n",
       "mean     134096082.346\n",
       "std      191226039.634\n",
       "min       14462464.000\n",
       "25%       46153866.500\n",
       "50%       73379554.000\n",
       "75%      150004286.500\n",
       "max     2305074303.000\n",
       "Name: budget, dtype: float64"
      ]
     },
     "execution_count": 56,
     "metadata": {},
     "output_type": "execute_result"
    }
   ],
   "source": [
    "#изучение количественных значений 'budget без 0\n",
    "df.loc[(df['budget'] != 0), 'budget'].describe()"
   ]
  },
  {
   "cell_type": "code",
   "execution_count": 57,
   "metadata": {},
   "outputs": [
    {
     "data": {
      "image/png": "[encoded data removed]",
      "text/plain": [
       "<Figure size 500x500 with 1 Axes>"
      ]
     },
     "metadata": {},
     "output_type": "display_data"
    }
   ],
   "source": [
    "#гистограммы по количественным значениям без учета 0 занчений для df['budget']\n",
    "fig, ax = plt.subplots()\n",
    "df.loc[(df['budget'] != 0), 'budget'].hist(figsize=(5, 5), bins=50);\n",
    "plt.title('Гистограмма для параметра \"Общий бюджет фильма\"');\n",
    "\n",
    "#  Добавляем подписи к осям:\n",
    "ax.set_xlabel('Общий бюджет фильма')\n",
    "ax.set_ylabel('Частота')\n",
    "plt.show()"
   ]
  },
  {
   "cell_type": "markdown",
   "metadata": {},
   "source": [
    "Вывод: гистограмма со смещением вправо; среднее значение больше медианы. \n",
    "Всего известны бюджеты 315; средний бюджет =  134 096 082.346 руб"
   ]
  },
  {
   "cell_type": "code",
   "execution_count": 58,
   "metadata": {},
   "outputs": [
    {
     "data": {
      "text/plain": [
       "count         7462.000\n",
       "mean      32366619.961\n",
       "std      160848440.056\n",
       "min             -1.000\n",
       "25%             -1.000\n",
       "50%             -1.000\n",
       "75%        1096438.000\n",
       "max     3073568690.790\n",
       "Name: box_office, dtype: float64"
      ]
     },
     "execution_count": 58,
     "metadata": {},
     "output_type": "execute_result"
    }
   ],
   "source": [
    "#изучение количественных значений 'box_office' без 0\n",
    "df.loc[(df['box_office'] != 0), 'box_office'].describe()"
   ]
  },
  {
   "cell_type": "code",
   "execution_count": 59,
   "metadata": {},
   "outputs": [
    {
     "data": {
      "image/png": "[encoded data removed]",
      "text/plain": [
       "<Figure size 500x500 with 1 Axes>"
      ]
     },
     "metadata": {},
     "output_type": "display_data"
    }
   ],
   "source": [
    "#гистограммы по количественным значениям без учета 0 занчений для df['box_office']\n",
    "fig, ax = plt.subplots()\n",
    "df.loc[(df['box_office'] != 0), 'box_office'].hist(figsize=(5, 5), bins=50);\n",
    "plt.title('Гистограмма для параметра \"Сборы в рублях\"');\n",
    "\n",
    "#  Добавляем подписи к осям:\n",
    "ax.set_xlabel('Сборы в рублях')\n",
    "ax.set_ylabel('Частота')\n",
    "plt.show()"
   ]
  },
  {
   "cell_type": "markdown",
   "metadata": {},
   "source": [
    "Вывод: гистограмма со смещением вправо; среднее значение больше медианы. \n",
    "Всего известны сборы по 3134 фильмам; средняя сумма =  77 064 365.819 руб"
   ]
  },
  {
   "cell_type": "markdown",
   "metadata": {
    "id": "Eu6oWp2CgFyS"
   },
   "source": [
    "#### Шаг 2.6. Добавьте новые столбцы\n",
    "\n",
    "\n",
    "\n"
   ]
  },
  {
   "cell_type": "markdown",
   "metadata": {
    "id": "7GgW-UpAgFyS"
   },
   "source": [
    "- Создайте столбец с информацией о годе проката. Выделите год из даты премьеры фильма."
   ]
  },
  {
   "cell_type": "code",
   "execution_count": 60,
   "metadata": {},
   "outputs": [],
   "source": [
    "#год проката фильма\n",
    "df['year'] = pd.DatetimeIndex(df['show_start_date']).year"
   ]
  },
  {
   "cell_type": "code",
   "execution_count": 61,
   "metadata": {},
   "outputs": [],
   "source": [
    "#ФИО главного режиссера\n",
    "df['main_director'] = df['director'].str.split(',').str[0]"
   ]
  },
  {
   "cell_type": "code",
   "execution_count": 62,
   "metadata": {},
   "outputs": [],
   "source": [
    "#основной жанр фильма\n",
    "df['main_genres'] = df['genres'].str.split(',').str[0]"
   ]
  },
  {
   "cell_type": "code",
   "execution_count": 63,
   "metadata": {},
   "outputs": [
    {
     "data": {
      "text/plain": [
       "count   101.000\n",
       "mean     52.013\n",
       "std      16.524\n",
       "min      10.023\n",
       "25%      42.308\n",
       "50%      57.345\n",
       "75%      65.449\n",
       "max      78.475\n",
       "Name: share_state_support, dtype: float64"
      ]
     },
     "execution_count": 63,
     "metadata": {},
     "output_type": "execute_result"
    }
   ],
   "source": [
    "#доля господдержки от общего бюджета фильма\n",
    "#при этом из задания известно, что budget включает в себя полный объём государственной поддержки\n",
    "#берем в расчет только фильмы, где есть господдержка (создание нового датасета)\n",
    "data = df[(df['refundable_support'] != 0) & (df['budget'] != 0)]\n",
    "\n",
    "#создание столбца с долей господдержки в новом датасете\n",
    "data = data.assign(share_state_support = ((df['refundable_support'] + df['nonrefundable_support']) \n",
    "                                          / df['budget'])*100)\n",
    "\n",
    "#проверка\n",
    "data['share_state_support'].describe()"
   ]
  },
  {
   "cell_type": "markdown",
   "metadata": {},
   "source": [
    "Вывод: в среднем размер господдежки порядка 50% от бюджета "
   ]
  },
  {
   "cell_type": "markdown",
   "metadata": {
    "id": "6t4EukPLgFyV"
   },
   "source": [
    "### Шаг 3. Исследовательский анализ данных\n"
   ]
  },
  {
   "cell_type": "code",
   "execution_count": 64,
   "metadata": {},
   "outputs": [
    {
     "data": {
      "text/html": [
       "<div>\n",
       "<style scoped>\n",
       "    .dataframe tbody tr th:only-of-type {\n",
       "        vertical-align: middle;\n",
       "    }\n",
       "\n",
       "    .dataframe tbody tr th {\n",
       "        vertical-align: top;\n",
       "    }\n",
       "\n",
       "    .dataframe thead tr th {\n",
       "        text-align: left;\n",
       "    }\n",
       "\n",
       "    .dataframe thead tr:last-of-type th {\n",
       "        text-align: right;\n",
       "    }\n",
       "</style>\n",
       "<table border=\"1\" class=\"dataframe\">\n",
       "  <thead>\n",
       "    <tr>\n",
       "      <th></th>\n",
       "      <th>sum</th>\n",
       "      <th>count</th>\n",
       "    </tr>\n",
       "    <tr>\n",
       "      <th></th>\n",
       "      <th>box_office</th>\n",
       "      <th>box_office</th>\n",
       "    </tr>\n",
       "    <tr>\n",
       "      <th>year</th>\n",
       "      <th></th>\n",
       "      <th></th>\n",
       "    </tr>\n",
       "  </thead>\n",
       "  <tbody>\n",
       "    <tr>\n",
       "      <th>2010</th>\n",
       "      <td>2427774.000</td>\n",
       "      <td>985</td>\n",
       "    </tr>\n",
       "    <tr>\n",
       "      <th>2011</th>\n",
       "      <td>14102252.000</td>\n",
       "      <td>622</td>\n",
       "    </tr>\n",
       "    <tr>\n",
       "      <th>2012</th>\n",
       "      <td>6954958.000</td>\n",
       "      <td>593</td>\n",
       "    </tr>\n",
       "    <tr>\n",
       "      <th>2013</th>\n",
       "      <td>29799260.200</td>\n",
       "      <td>630</td>\n",
       "    </tr>\n",
       "    <tr>\n",
       "      <th>2014</th>\n",
       "      <td>7444951331.200</td>\n",
       "      <td>807</td>\n",
       "    </tr>\n",
       "    <tr>\n",
       "      <th>2015</th>\n",
       "      <td>39497364956.400</td>\n",
       "      <td>705</td>\n",
       "    </tr>\n",
       "    <tr>\n",
       "      <th>2016</th>\n",
       "      <td>47866299449.910</td>\n",
       "      <td>818</td>\n",
       "    </tr>\n",
       "    <tr>\n",
       "      <th>2017</th>\n",
       "      <td>48563707069.510</td>\n",
       "      <td>505</td>\n",
       "    </tr>\n",
       "    <tr>\n",
       "      <th>2018</th>\n",
       "      <td>49668402718.320</td>\n",
       "      <td>891</td>\n",
       "    </tr>\n",
       "    <tr>\n",
       "      <th>2019</th>\n",
       "      <td>48425708379.590</td>\n",
       "      <td>930</td>\n",
       "    </tr>\n",
       "  </tbody>\n",
       "</table>\n",
       "</div>"
      ],
      "text/plain": [
       "                 sum      count\n",
       "          box_office box_office\n",
       "year                           \n",
       "2010     2427774.000        985\n",
       "2011    14102252.000        622\n",
       "2012     6954958.000        593\n",
       "2013    29799260.200        630\n",
       "2014  7444951331.200        807\n",
       "2015 39497364956.400        705\n",
       "2016 47866299449.910        818\n",
       "2017 48563707069.510        505\n",
       "2018 49668402718.320        891\n",
       "2019 48425708379.590        930"
      ]
     },
     "execution_count": 64,
     "metadata": {},
     "output_type": "execute_result"
    }
   ],
   "source": [
    "#Сколько фильмов выходило в прокат каждый год и их доходность\n",
    "#определим какую долю составляют фильмы с информацией о сумме сбора\n",
    "pd.pivot_table(df,\n",
    "               index=['year'],\n",
    "               values=['box_office'],\n",
    "               aggfunc=[np.sum, 'count'])"
   ]
  },
  {
   "cell_type": "markdown",
   "metadata": {
    "id": "I-yd1DkWgFyT"
   },
   "source": [
    "Вывод: больше всего фильмов вышло в 2010 и 2019м годах"
   ]
  },
  {
   "cell_type": "code",
   "execution_count": 65,
   "metadata": {},
   "outputs": [
    {
     "data": {
      "image/png": "[encoded data removed]",
      "text/plain": [
       "<Figure size 640x480 with 1 Axes>"
      ]
     },
     "metadata": {},
     "output_type": "display_data"
    }
   ],
   "source": [
    "#визуализация кол-ва фильмов по годам\n",
    "df['year'].value_counts().plot(kind='bar', rot=45);\n",
    "\n",
    "#  Добавляем название диаграммы:\n",
    "plt.title('Количество фильмов по годам')\n",
    "\n",
    "#  Добавляем подписи к осям:\n",
    "plt.xlabel(\"год\")\n",
    "plt.ylabel(\"кол-во фильмов\")\n",
    "plt.show()"
   ]
  },
  {
   "cell_type": "code",
   "execution_count": 66,
   "metadata": {},
   "outputs": [
    {
     "data": {
      "text/html": [
       "<div>\n",
       "<style scoped>\n",
       "    .dataframe tbody tr th:only-of-type {\n",
       "        vertical-align: middle;\n",
       "    }\n",
       "\n",
       "    .dataframe tbody tr th {\n",
       "        vertical-align: top;\n",
       "    }\n",
       "\n",
       "    .dataframe thead tr th {\n",
       "        text-align: left;\n",
       "    }\n",
       "</style>\n",
       "<table border=\"1\" class=\"dataframe\">\n",
       "  <thead>\n",
       "    <tr>\n",
       "      <th></th>\n",
       "      <th>year</th>\n",
       "      <th>box_office</th>\n",
       "    </tr>\n",
       "    <tr>\n",
       "      <th></th>\n",
       "      <th></th>\n",
       "      <th>count</th>\n",
       "    </tr>\n",
       "  </thead>\n",
       "  <tbody>\n",
       "    <tr>\n",
       "      <th>0</th>\n",
       "      <td>2010</td>\n",
       "      <td>101</td>\n",
       "    </tr>\n",
       "    <tr>\n",
       "      <th>1</th>\n",
       "      <td>2011</td>\n",
       "      <td>109</td>\n",
       "    </tr>\n",
       "    <tr>\n",
       "      <th>2</th>\n",
       "      <td>2012</td>\n",
       "      <td>123</td>\n",
       "    </tr>\n",
       "    <tr>\n",
       "      <th>3</th>\n",
       "      <td>2013</td>\n",
       "      <td>179</td>\n",
       "    </tr>\n",
       "    <tr>\n",
       "      <th>4</th>\n",
       "      <td>2014</td>\n",
       "      <td>273</td>\n",
       "    </tr>\n",
       "    <tr>\n",
       "      <th>5</th>\n",
       "      <td>2015</td>\n",
       "      <td>462</td>\n",
       "    </tr>\n",
       "    <tr>\n",
       "      <th>6</th>\n",
       "      <td>2016</td>\n",
       "      <td>525</td>\n",
       "    </tr>\n",
       "    <tr>\n",
       "      <th>7</th>\n",
       "      <td>2017</td>\n",
       "      <td>357</td>\n",
       "    </tr>\n",
       "    <tr>\n",
       "      <th>8</th>\n",
       "      <td>2018</td>\n",
       "      <td>475</td>\n",
       "    </tr>\n",
       "    <tr>\n",
       "      <th>9</th>\n",
       "      <td>2019</td>\n",
       "      <td>530</td>\n",
       "    </tr>\n",
       "  </tbody>\n",
       "</table>\n",
       "</div>"
      ],
      "text/plain": [
       "   year box_office\n",
       "             count\n",
       "0  2010        101\n",
       "1  2011        109\n",
       "2  2012        123\n",
       "3  2013        179\n",
       "4  2014        273\n",
       "5  2015        462\n",
       "6  2016        525\n",
       "7  2017        357\n",
       "8  2018        475\n",
       "9  2019        530"
      ]
     },
     "execution_count": 66,
     "metadata": {},
     "output_type": "execute_result"
    }
   ],
   "source": [
    "#определим кол-во фильмов, где сборы от проката в кино > 0 \n",
    "df.loc[df['box_office'] > 0].groupby(['year']).agg({'box_office': ['count']}).reset_index()"
   ]
  },
  {
   "cell_type": "code",
   "execution_count": 67,
   "metadata": {},
   "outputs": [
    {
     "data": {
      "text/html": [
       "<div>\n",
       "<style scoped>\n",
       "    .dataframe tbody tr th:only-of-type {\n",
       "        vertical-align: middle;\n",
       "    }\n",
       "\n",
       "    .dataframe tbody tr th {\n",
       "        vertical-align: top;\n",
       "    }\n",
       "\n",
       "    .dataframe thead th {\n",
       "        text-align: right;\n",
       "    }\n",
       "</style>\n",
       "<table border=\"1\" class=\"dataframe\">\n",
       "  <thead>\n",
       "    <tr style=\"text-align: right;\">\n",
       "      <th></th>\n",
       "      <th>count</th>\n",
       "    </tr>\n",
       "    <tr>\n",
       "      <th>year</th>\n",
       "      <th></th>\n",
       "    </tr>\n",
       "  </thead>\n",
       "  <tbody>\n",
       "    <tr>\n",
       "      <th>2010</th>\n",
       "      <td>0.103</td>\n",
       "    </tr>\n",
       "    <tr>\n",
       "      <th>2011</th>\n",
       "      <td>0.175</td>\n",
       "    </tr>\n",
       "    <tr>\n",
       "      <th>2012</th>\n",
       "      <td>0.207</td>\n",
       "    </tr>\n",
       "    <tr>\n",
       "      <th>2013</th>\n",
       "      <td>0.284</td>\n",
       "    </tr>\n",
       "    <tr>\n",
       "      <th>2014</th>\n",
       "      <td>0.338</td>\n",
       "    </tr>\n",
       "    <tr>\n",
       "      <th>2015</th>\n",
       "      <td>0.655</td>\n",
       "    </tr>\n",
       "    <tr>\n",
       "      <th>2016</th>\n",
       "      <td>0.642</td>\n",
       "    </tr>\n",
       "    <tr>\n",
       "      <th>2017</th>\n",
       "      <td>0.707</td>\n",
       "    </tr>\n",
       "    <tr>\n",
       "      <th>2018</th>\n",
       "      <td>0.533</td>\n",
       "    </tr>\n",
       "    <tr>\n",
       "      <th>2019</th>\n",
       "      <td>0.570</td>\n",
       "    </tr>\n",
       "  </tbody>\n",
       "</table>\n",
       "</div>"
      ],
      "text/plain": [
       "      count\n",
       "year       \n",
       "2010  0.103\n",
       "2011  0.175\n",
       "2012  0.207\n",
       "2013  0.284\n",
       "2014  0.338\n",
       "2015  0.655\n",
       "2016  0.642\n",
       "2017  0.707\n",
       "2018  0.533\n",
       "2019  0.570"
      ]
     },
     "execution_count": 67,
     "metadata": {},
     "output_type": "execute_result"
    }
   ],
   "source": [
    "#определим долю составляют фильмы с информацией о сумме сбора\n",
    "(df.loc[df['box_office'] > 0].groupby(['year']).agg({'box_office': ['count']})['box_office'] /\n",
    "df.groupby(['year']).agg({'box_office': ['count']})['box_office'])"
   ]
  },
  {
   "cell_type": "code",
   "execution_count": 68,
   "metadata": {
    "id": "LSbRZKbMgFyU"
   },
   "outputs": [
    {
     "data": {
      "image/png": "[encoded data removed]",
      "text/plain": [
       "<Figure size 640x480 with 1 Axes>"
      ]
     },
     "metadata": {},
     "output_type": "display_data"
    }
   ],
   "source": [
    "#Как менялась динамика проката по годам ()\n",
    "plt.plot(df[['year', 'puNumber']].groupby('year').count()['puNumber']);\n",
    "#  Добавляем название диаграммы:\n",
    "plt.title('Динамика проката по годам')\n",
    "\n",
    "#  Добавляем подписи к осям:\n",
    "plt.xlabel(\"год\")\n",
    "plt.ylabel(\"количество фильмов\")\n",
    "plt.show()"
   ]
  },
  {
   "cell_type": "markdown",
   "metadata": {
    "id": "LV6qFuZLgFyV"
   },
   "source": [
    "Вывод: меньше всего прокатных удостоверений было выдано в 2012 и в 2017м годах. По данным РБС: изменения в Правилах выдачи, отказа в выдаче и отзыва прокатного удостоверения на фильм вступили в силу 31 декабря 2016 года. Прокатное удостоверение, согласно этим изменениям, должно выдаваться на показ фильма в кинозале, на прокат фильма на материальном носителе и на показ фильма «другими техническими способами» - вероятно это могло повлиять на кол-во прокатных удостоверений в 2017м году."
   ]
  },
  {
   "cell_type": "code",
   "execution_count": 69,
   "metadata": {
    "id": "ABeV47y7gFyW"
   },
   "outputs": [
    {
     "data": {
      "image/png": "[encoded data removed]",
      "text/plain": [
       "<Figure size 640x480 with 1 Axes>"
      ]
     },
     "metadata": {},
     "output_type": "display_data"
    }
   ],
   "source": [
    "#визуализация сборов в рублях\n",
    "df[['box_office', 'year']].groupby('year').sum().plot(kind='bar', rot=45);\n",
    "\n",
    "#  Добавляем название диаграммы:\n",
    "plt.title('Динамика сборов по годам')\n",
    "\n",
    "#  Добавляем подписи к осям:\n",
    "plt.xlabel(\"год\")\n",
    "plt.ylabel(\"сумма сборов, млн. руб.\")\n",
    "plt.show()"
   ]
  },
  {
   "cell_type": "code",
   "execution_count": 70,
   "metadata": {
    "id": "tfEhofYvgFyX"
   },
   "outputs": [
    {
     "data": {
      "text/plain": [
       "year\n",
       "2010       2427774.000\n",
       "2011      14102252.000\n",
       "2012       6954958.000\n",
       "2013      29799260.200\n",
       "2014    7444951331.200\n",
       "2015   39497364956.400\n",
       "2016   47866299449.910\n",
       "2017   48563707069.510\n",
       "2018   49668402718.320\n",
       "2019   48425708379.590\n",
       "Name: box_office, dtype: float64"
      ]
     },
     "execution_count": 70,
     "metadata": {},
     "output_type": "execute_result"
    }
   ],
   "source": [
    "#максимальная и минимальная сумма сборов\n",
    "df[['year', 'box_office']].groupby(['year']).sum()['box_office']"
   ]
  },
  {
   "cell_type": "markdown",
   "metadata": {},
   "source": [
    "Вывод: по имеющимся данным\n",
    "* максимальная сумма сборов была в 2018 году и составила 49 668 403 134.320 руб\n",
    "* минимальный размер сборов был в 2010 году и составил 2 428 654,00 руб\n",
    "\n",
    "Вероятно данные за период с 2010 по 2014й год заполнены не полностью/представлены в датасете хуже. Данные за период с 2015 по 2019 год более \"полные\""
   ]
  },
  {
   "cell_type": "markdown",
   "metadata": {},
   "source": [
    "- Посмотрите, сколько фильмов выходило в прокат каждый год. Обратите внимание, что данные о прокате в кинотеатрах известны не для всех фильмов. Посчитайте, какую долю составляют фильмы с указанной информацией о прокате в кинотеатрах."
   ]
  },
  {
   "cell_type": "markdown",
   "metadata": {},
   "source": [
    "Отступление: демонтстрация фильма в прокате возможна только при наличии прокатного удостоверения - puNumber. Изначально объединение 2х таблиц шло именно по этому признаку. Неочень понятен вопрос в таком случае: если все фильмы имеют прокатное удостоверение, то обо всех фильмах есть информация о прокате.\n",
    "Кроме фильма Курбан-роман. (История с жертвой) - см 8ю строку кода.\n",
    "\n",
    "Вероятно имеется ввиду что не у всех фильмов есть информация о сборах в рублях, то есть может они не показывались в итоге?"
   ]
  },
  {
   "cell_type": "code",
   "execution_count": 71,
   "metadata": {},
   "outputs": [
    {
     "data": {
      "text/html": [
       "<div>\n",
       "<style scoped>\n",
       "    .dataframe tbody tr th:only-of-type {\n",
       "        vertical-align: middle;\n",
       "    }\n",
       "\n",
       "    .dataframe tbody tr th {\n",
       "        vertical-align: top;\n",
       "    }\n",
       "\n",
       "    .dataframe thead th {\n",
       "        text-align: right;\n",
       "    }\n",
       "</style>\n",
       "<table border=\"1\" class=\"dataframe\">\n",
       "  <thead>\n",
       "    <tr style=\"text-align: right;\">\n",
       "      <th></th>\n",
       "      <th>box_office</th>\n",
       "    </tr>\n",
       "    <tr>\n",
       "      <th>year</th>\n",
       "      <th></th>\n",
       "    </tr>\n",
       "  </thead>\n",
       "  <tbody>\n",
       "    <tr>\n",
       "      <th>2010</th>\n",
       "      <td>246474.518</td>\n",
       "    </tr>\n",
       "    <tr>\n",
       "      <th>2011</th>\n",
       "      <td>2267243.087</td>\n",
       "    </tr>\n",
       "    <tr>\n",
       "      <th>2012</th>\n",
       "      <td>1172842.833</td>\n",
       "    </tr>\n",
       "    <tr>\n",
       "      <th>2013</th>\n",
       "      <td>4730041.302</td>\n",
       "    </tr>\n",
       "    <tr>\n",
       "      <th>2014</th>\n",
       "      <td>922546633.358</td>\n",
       "    </tr>\n",
       "    <tr>\n",
       "      <th>2015</th>\n",
       "      <td>5602463114.383</td>\n",
       "    </tr>\n",
       "    <tr>\n",
       "      <th>2016</th>\n",
       "      <td>5851625849.622</td>\n",
       "    </tr>\n",
       "    <tr>\n",
       "      <th>2017</th>\n",
       "      <td>9616575657.329</td>\n",
       "    </tr>\n",
       "    <tr>\n",
       "      <th>2018</th>\n",
       "      <td>5574455972.875</td>\n",
       "    </tr>\n",
       "    <tr>\n",
       "      <th>2019</th>\n",
       "      <td>5207065417.160</td>\n",
       "    </tr>\n",
       "  </tbody>\n",
       "</table>\n",
       "</div>"
      ],
      "text/plain": [
       "         box_office\n",
       "year               \n",
       "2010     246474.518\n",
       "2011    2267243.087\n",
       "2012    1172842.833\n",
       "2013    4730041.302\n",
       "2014  922546633.358\n",
       "2015 5602463114.383\n",
       "2016 5851625849.622\n",
       "2017 9616575657.329\n",
       "2018 5574455972.875\n",
       "2019 5207065417.160"
      ]
     },
     "execution_count": 71,
     "metadata": {},
     "output_type": "execute_result"
    }
   ],
   "source": [
    "# поймем долю фильмов, где есть информация о размере сбора в прокате в рублях\n",
    "df[['year', 'box_office']].groupby(['year']).mean()*100"
   ]
  },
  {
   "cell_type": "markdown",
   "metadata": {},
   "source": [
    "Вывод: полнее всего представлены данные за период с 2015 по 2019й год"
   ]
  },
  {
   "cell_type": "code",
   "execution_count": 72,
   "metadata": {
    "id": "jmp-rgg9gFyY"
   },
   "outputs": [
    {
     "data": {
      "text/html": [
       "<div>\n",
       "<style scoped>\n",
       "    .dataframe tbody tr th:only-of-type {\n",
       "        vertical-align: middle;\n",
       "    }\n",
       "\n",
       "    .dataframe tbody tr th {\n",
       "        vertical-align: top;\n",
       "    }\n",
       "\n",
       "    .dataframe thead tr th {\n",
       "        text-align: left;\n",
       "    }\n",
       "\n",
       "    .dataframe thead tr:last-of-type th {\n",
       "        text-align: right;\n",
       "    }\n",
       "</style>\n",
       "<table border=\"1\" class=\"dataframe\">\n",
       "  <thead>\n",
       "    <tr>\n",
       "      <th></th>\n",
       "      <th>mean</th>\n",
       "      <th>median</th>\n",
       "    </tr>\n",
       "    <tr>\n",
       "      <th></th>\n",
       "      <th>box_office</th>\n",
       "      <th>box_office</th>\n",
       "    </tr>\n",
       "    <tr>\n",
       "      <th>year</th>\n",
       "      <th></th>\n",
       "      <th></th>\n",
       "    </tr>\n",
       "  </thead>\n",
       "  <tbody>\n",
       "    <tr>\n",
       "      <th>2010</th>\n",
       "      <td>2464.745</td>\n",
       "      <td>-1.000</td>\n",
       "    </tr>\n",
       "    <tr>\n",
       "      <th>2011</th>\n",
       "      <td>22672.431</td>\n",
       "      <td>-1.000</td>\n",
       "    </tr>\n",
       "    <tr>\n",
       "      <th>2012</th>\n",
       "      <td>11728.428</td>\n",
       "      <td>-1.000</td>\n",
       "    </tr>\n",
       "    <tr>\n",
       "      <th>2013</th>\n",
       "      <td>47300.413</td>\n",
       "      <td>-1.000</td>\n",
       "    </tr>\n",
       "    <tr>\n",
       "      <th>2014</th>\n",
       "      <td>9225466.334</td>\n",
       "      <td>-1.000</td>\n",
       "    </tr>\n",
       "    <tr>\n",
       "      <th>2015</th>\n",
       "      <td>56024631.144</td>\n",
       "      <td>739938.000</td>\n",
       "    </tr>\n",
       "    <tr>\n",
       "      <th>2016</th>\n",
       "      <td>58516258.496</td>\n",
       "      <td>479832.500</td>\n",
       "    </tr>\n",
       "    <tr>\n",
       "      <th>2017</th>\n",
       "      <td>96165756.573</td>\n",
       "      <td>2522174.000</td>\n",
       "    </tr>\n",
       "    <tr>\n",
       "      <th>2018</th>\n",
       "      <td>55744559.729</td>\n",
       "      <td>289040.000</td>\n",
       "    </tr>\n",
       "    <tr>\n",
       "      <th>2019</th>\n",
       "      <td>52070654.172</td>\n",
       "      <td>597710.000</td>\n",
       "    </tr>\n",
       "  </tbody>\n",
       "</table>\n",
       "</div>"
      ],
      "text/plain": [
       "             mean      median\n",
       "       box_office  box_office\n",
       "year                         \n",
       "2010     2464.745      -1.000\n",
       "2011    22672.431      -1.000\n",
       "2012    11728.428      -1.000\n",
       "2013    47300.413      -1.000\n",
       "2014  9225466.334      -1.000\n",
       "2015 56024631.144  739938.000\n",
       "2016 58516258.496  479832.500\n",
       "2017 96165756.573 2522174.000\n",
       "2018 55744559.729  289040.000\n",
       "2019 52070654.172  597710.000"
      ]
     },
     "execution_count": 72,
     "metadata": {},
     "output_type": "execute_result"
    }
   ],
   "source": [
    "#Посчитайте среднюю и медианную сумму сборов для каждого года\n",
    "pd.pivot_table(df,\n",
    "               index=['year'],\n",
    "               values=['box_office'],\n",
    "               aggfunc=[np.mean, np.median])"
   ]
  },
  {
   "cell_type": "markdown",
   "metadata": {},
   "source": [
    "Вывод: результаты расчета среднего значительно отличаются от результатов расчета медианы. \n",
    "Среднее (сумма всех значений / общее количество значений) было бы показательно, если бы парамет 'box_office' имел нормальное распределение, а у нас гистограмма со смещением вправо (данные распределены не нормально).\n",
    "\n",
    "Медиана — это значение, которое находится в центре (прямо посередине); данное значение достовернее."
   ]
  },
  {
   "cell_type": "code",
   "execution_count": 73,
   "metadata": {},
   "outputs": [
    {
     "data": {
      "image/png": "[encoded data removed]",
      "text/plain": [
       "<Figure size 500x500 with 2 Axes>"
      ]
     },
     "metadata": {},
     "output_type": "display_data"
    }
   ],
   "source": [
    "#Посмотрим на корреляции количественных признаков\n",
    "corr_matrix = df[['refundable_support', 'nonrefundable_support', 'budget', 'box_office']].corr()\n",
    "plt.figure(figsize = (5,5))\n",
    "sns.heatmap(corr_matrix,cmap=\"BrBG\", annot= True);\n",
    "\n",
    "#  Добавляем название диаграммы:\n",
    "plt.title('Корреляция количественных признаков');"
   ]
  },
  {
   "cell_type": "markdown",
   "metadata": {},
   "source": [
    "Вывод:\n",
    "* выявлена высокая корреляция между бюджетом и долей господдержки\n",
    "* не выявлено высокой корреляции между суммой сборов от фильма и долей господдежрки, размером бюджета"
   ]
  },
  {
   "cell_type": "code",
   "execution_count": 74,
   "metadata": {
    "id": "jsSbEqfjgFya"
   },
   "outputs": [
    {
     "data": {
      "text/html": [
       "<div>\n",
       "<style scoped>\n",
       "    .dataframe tbody tr th:only-of-type {\n",
       "        vertical-align: middle;\n",
       "    }\n",
       "\n",
       "    .dataframe tbody tr th {\n",
       "        vertical-align: top;\n",
       "    }\n",
       "\n",
       "    .dataframe thead th {\n",
       "        text-align: right;\n",
       "    }\n",
       "</style>\n",
       "<table border=\"1\" class=\"dataframe\">\n",
       "  <thead>\n",
       "    <tr style=\"text-align: right;\">\n",
       "      <th>year</th>\n",
       "      <th>2015</th>\n",
       "      <th>2016</th>\n",
       "      <th>2017</th>\n",
       "      <th>2018</th>\n",
       "      <th>2019</th>\n",
       "    </tr>\n",
       "    <tr>\n",
       "      <th>age_restriction</th>\n",
       "      <th></th>\n",
       "      <th></th>\n",
       "      <th></th>\n",
       "      <th></th>\n",
       "      <th></th>\n",
       "    </tr>\n",
       "  </thead>\n",
       "  <tbody>\n",
       "    <tr>\n",
       "      <th>«0+» - для любой зрительской аудитории</th>\n",
       "      <td>379054567.370</td>\n",
       "      <td>150228816.670</td>\n",
       "      <td>229598889.000</td>\n",
       "      <td>32448930.110</td>\n",
       "      <td>17745996.820</td>\n",
       "    </tr>\n",
       "    <tr>\n",
       "      <th>«12+» - для детей старше 12 лет</th>\n",
       "      <td>13616081944.910</td>\n",
       "      <td>12204446470.390</td>\n",
       "      <td>7851427631.670</td>\n",
       "      <td>14267291484.690</td>\n",
       "      <td>12680198655.670</td>\n",
       "    </tr>\n",
       "    <tr>\n",
       "      <th>«16+» - для детей старше 16 лет</th>\n",
       "      <td>11368120789.270</td>\n",
       "      <td>16664548454.740</td>\n",
       "      <td>18745042868.060</td>\n",
       "      <td>16503602267.960</td>\n",
       "      <td>12753418896.600</td>\n",
       "    </tr>\n",
       "    <tr>\n",
       "      <th>«18+» - запрещено для детей</th>\n",
       "      <td>5432308307.440</td>\n",
       "      <td>6793929724.870</td>\n",
       "      <td>9651495556.020</td>\n",
       "      <td>8760085458.150</td>\n",
       "      <td>10121796231.640</td>\n",
       "    </tr>\n",
       "    <tr>\n",
       "      <th>«6+» - для детей старше 6 лет</th>\n",
       "      <td>8701799347.410</td>\n",
       "      <td>12053145983.240</td>\n",
       "      <td>12086142124.760</td>\n",
       "      <td>10104974577.410</td>\n",
       "      <td>12852548598.860</td>\n",
       "    </tr>\n",
       "  </tbody>\n",
       "</table>\n",
       "</div>"
      ],
      "text/plain": [
       "year                                              2015            2016  \\\n",
       "age_restriction                                                          \n",
       "«0+» - для любой зрительской аудитории   379054567.370   150228816.670   \n",
       "«12+» - для детей старше 12 лет        13616081944.910 12204446470.390   \n",
       "«16+» - для детей старше 16 лет        11368120789.270 16664548454.740   \n",
       "«18+» - запрещено для детей             5432308307.440  6793929724.870   \n",
       "«6+» - для детей старше 6 лет           8701799347.410 12053145983.240   \n",
       "\n",
       "year                                              2017            2018  \\\n",
       "age_restriction                                                          \n",
       "«0+» - для любой зрительской аудитории   229598889.000    32448930.110   \n",
       "«12+» - для детей старше 12 лет         7851427631.670 14267291484.690   \n",
       "«16+» - для детей старше 16 лет        18745042868.060 16503602267.960   \n",
       "«18+» - запрещено для детей             9651495556.020  8760085458.150   \n",
       "«6+» - для детей старше 6 лет          12086142124.760 10104974577.410   \n",
       "\n",
       "year                                              2019  \n",
       "age_restriction                                         \n",
       "«0+» - для любой зрительской аудитории    17745996.820  \n",
       "«12+» - для детей старше 12 лет        12680198655.670  \n",
       "«16+» - для детей старше 16 лет        12753418896.600  \n",
       "«18+» - запрещено для детей            10121796231.640  \n",
       "«6+» - для детей старше 6 лет          12852548598.860  "
      ]
     },
     "execution_count": 74,
     "metadata": {},
     "output_type": "execute_result"
    }
   ],
   "source": [
    "#сводная таблица\n",
    "df[df['year'] > 2014].pivot_table(index='age_restriction', columns='year', values='box_office', aggfunc='sum')"
   ]
  },
  {
   "cell_type": "markdown",
   "metadata": {},
   "source": [
    "Вывод: да, возрастное ограничение влияет на сборы фильма в прокате в период с 2015 по 2019 года, наиболее прибыльные фильмы категории \"16+\"\n",
    "* 2019 год: наиболее прибыльная категория фильмы категории \"6+\";\n",
    "* 2018 год: наиболее прибыльная категория фильмы категории \"16+\";\n",
    "* 2017 год: наиболее прибыльная категория фильмы категории \"16+\";\n",
    "* 2016 год: наиболее прибыльная категория фильмы категории \"16+\";\n",
    "* 2015 год: наиболее прибыльная категория фильмы категории \"16+\";\n",
    "\n",
    "Обоснование: это наиболее широкая аудитория, вкл.несовершеннолетных с родителями."
   ]
  },
  {
   "cell_type": "markdown",
   "metadata": {
    "id": "l_Kg6Ku4gFya"
   },
   "source": [
    "### Шаг 4. Исследование фильмов, которые получили государственную поддержку\n",
    "\n",
    "Посмотрите, сколько выделяют средств на поддержку кино. Проверьте, хорошо ли окупаются такие фильмы, какой у них рейтинг."
   ]
  },
  {
   "cell_type": "code",
   "execution_count": 75,
   "metadata": {
    "id": "W9QKpjUdgFyb"
   },
   "outputs": [
    {
     "data": {
      "text/html": [
       "<div>\n",
       "<style scoped>\n",
       "    .dataframe tbody tr th:only-of-type {\n",
       "        vertical-align: middle;\n",
       "    }\n",
       "\n",
       "    .dataframe tbody tr th {\n",
       "        vertical-align: top;\n",
       "    }\n",
       "\n",
       "    .dataframe thead tr th {\n",
       "        text-align: left;\n",
       "    }\n",
       "\n",
       "    .dataframe thead tr:last-of-type th {\n",
       "        text-align: right;\n",
       "    }\n",
       "</style>\n",
       "<table border=\"1\" class=\"dataframe\">\n",
       "  <thead>\n",
       "    <tr>\n",
       "      <th></th>\n",
       "      <th colspan=\"2\" halign=\"left\">sum</th>\n",
       "    </tr>\n",
       "    <tr>\n",
       "      <th></th>\n",
       "      <th>nonrefundable_support</th>\n",
       "      <th>refundable_support</th>\n",
       "    </tr>\n",
       "    <tr>\n",
       "      <th>year</th>\n",
       "      <th></th>\n",
       "      <th></th>\n",
       "    </tr>\n",
       "  </thead>\n",
       "  <tbody>\n",
       "    <tr>\n",
       "      <th>2010</th>\n",
       "      <td>-985.000</td>\n",
       "      <td>-985.000</td>\n",
       "    </tr>\n",
       "    <tr>\n",
       "      <th>2011</th>\n",
       "      <td>-622.000</td>\n",
       "      <td>-622.000</td>\n",
       "    </tr>\n",
       "    <tr>\n",
       "      <th>2012</th>\n",
       "      <td>-593.000</td>\n",
       "      <td>-593.000</td>\n",
       "    </tr>\n",
       "    <tr>\n",
       "      <th>2013</th>\n",
       "      <td>134347317.000</td>\n",
       "      <td>-628.000</td>\n",
       "    </tr>\n",
       "    <tr>\n",
       "      <th>2014</th>\n",
       "      <td>501001508.000</td>\n",
       "      <td>70999209.000</td>\n",
       "    </tr>\n",
       "    <tr>\n",
       "      <th>2015</th>\n",
       "      <td>3019087721.000</td>\n",
       "      <td>637152500.000</td>\n",
       "    </tr>\n",
       "    <tr>\n",
       "      <th>2016</th>\n",
       "      <td>3381654725.000</td>\n",
       "      <td>921499243.000</td>\n",
       "    </tr>\n",
       "    <tr>\n",
       "      <th>2017</th>\n",
       "      <td>2464624317.000</td>\n",
       "      <td>719346417.000</td>\n",
       "    </tr>\n",
       "    <tr>\n",
       "      <th>2018</th>\n",
       "      <td>2784968630.000</td>\n",
       "      <td>661999165.000</td>\n",
       "    </tr>\n",
       "    <tr>\n",
       "      <th>2019</th>\n",
       "      <td>3975999140.000</td>\n",
       "      <td>927999140.000</td>\n",
       "    </tr>\n",
       "  </tbody>\n",
       "</table>\n",
       "</div>"
      ],
      "text/plain": [
       "                       sum                   \n",
       "     nonrefundable_support refundable_support\n",
       "year                                         \n",
       "2010              -985.000           -985.000\n",
       "2011              -622.000           -622.000\n",
       "2012              -593.000           -593.000\n",
       "2013         134347317.000           -628.000\n",
       "2014         501001508.000       70999209.000\n",
       "2015        3019087721.000      637152500.000\n",
       "2016        3381654725.000      921499243.000\n",
       "2017        2464624317.000      719346417.000\n",
       "2018        2784968630.000      661999165.000\n",
       "2019        3975999140.000      927999140.000"
      ]
     },
     "execution_count": 75,
     "metadata": {},
     "output_type": "execute_result"
    }
   ],
   "source": [
    "#изучение господдержки\n",
    "pd.pivot_table(df,\n",
    "               index=['year'],\n",
    "               values=['refundable_support', 'nonrefundable_support'],\n",
    "               aggfunc=[np.sum])"
   ]
  },
  {
   "cell_type": "markdown",
   "metadata": {},
   "source": [
    "Вывод: основаные данные о господдежрке начинаются с 2013 года и размер увеличивается с каждым годом."
   ]
  },
  {
   "cell_type": "code",
   "execution_count": 76,
   "metadata": {},
   "outputs": [
    {
     "data": {
      "image/png": "[encoded data removed]",
      "text/plain": [
       "<Figure size 300x300 with 2 Axes>"
      ]
     },
     "metadata": {},
     "output_type": "display_data"
    }
   ],
   "source": [
    "#Посмотрим на корреляцию господдержки и сборов от проката фильма, рейтинга\n",
    "corr_matrix = df[['refundable_support', 'nonrefundable_support', 'box_office']].corr()\n",
    "plt.figure(figsize = (3,3))\n",
    "sns.heatmap(corr_matrix,cmap=\"BrBG\", annot= True);\n",
    "\n",
    "#  Добавляем название диаграммы:\n",
    "plt.title('Корреляция количественных признаков');"
   ]
  },
  {
   "cell_type": "markdown",
   "metadata": {},
   "source": [
    "Вывод: размер сборов от проката не сильно зависит от размера господдержки"
   ]
  },
  {
   "cell_type": "code",
   "execution_count": 77,
   "metadata": {},
   "outputs": [
    {
     "data": {
      "text/plain": [
       "title                 Холоп\n",
       "box_office   3073568690.790\n",
       "Name: 7456, dtype: object"
      ]
     },
     "execution_count": 77,
     "metadata": {},
     "output_type": "execute_result"
    }
   ],
   "source": [
    "#определение самого кассового фильма\n",
    "df.loc[df['box_office'].argmax(), ['title', 'box_office']]"
   ]
  },
  {
   "cell_type": "code",
   "execution_count": 78,
   "metadata": {},
   "outputs": [
    {
     "data": {
      "text/plain": [
       "214"
      ]
     },
     "execution_count": 78,
     "metadata": {},
     "output_type": "execute_result"
    }
   ],
   "source": [
    "#определение фильмов с господдержкой, которые \"окупились\" (прибыль от проката > бюджета)\n",
    "#выберем все не коммерчесческие фильмы, то есть фильмы, где есть участие государства\n",
    "df_new = df[(df['financing_source'] != 'коммерческое кино')].copy()\n",
    "\n",
    "# создание нового столбца, где указано любое постпление гос.денег\n",
    "df_new['state_total'] = df_new['refundable_support'] + df_new['nonrefundable_support']\n",
    "\n",
    "# посмотреть строки, где сумма, полученная от государства, превышает сборы от проката фильма\n",
    "df_new.query('state_total > box_office').count()['title']"
   ]
  },
  {
   "cell_type": "markdown",
   "metadata": {},
   "source": [
    "Вывод: у 214ти фильмов с господдержкой размер господдержки превышает размер сборов, то есть они не окупились"
   ]
  },
  {
   "cell_type": "code",
   "execution_count": 79,
   "metadata": {},
   "outputs": [
    {
     "data": {
      "text/plain": [
       "0.6445783132530121"
      ]
     },
     "execution_count": 79,
     "metadata": {},
     "output_type": "execute_result"
    }
   ],
   "source": [
    "#посчитать кол-во фильмов с госфинансированием\n",
    "len(df_new)\n",
    "\n",
    "#посчитать долю фильмов, которые не окупили вложенные госсредства\n",
    "df_new.query('state_total > box_office').count()['title'] / len(df_new)"
   ]
  },
  {
   "cell_type": "code",
   "execution_count": 80,
   "metadata": {},
   "outputs": [
    {
     "data": {
      "text/plain": [
       "2.084756168222393"
      ]
     },
     "execution_count": 80,
     "metadata": {},
     "output_type": "execute_result"
    }
   ],
   "source": [
    "# поймем прибыльность от госфинансирования в целом: имеет ли смысл вообще вкладывать деньги в кино,\n",
    "# если цель - исключительно получение прибыли\n",
    "df_new['box_office'].sum() / df_new['state_total'].sum()"
   ]
  },
  {
   "cell_type": "markdown",
   "metadata": {},
   "source": [
    "Вывод: в целом инвестиции в кино окупаются"
   ]
  },
  {
   "cell_type": "markdown",
   "metadata": {
    "id": "V2gYwMcPgFyd"
   },
   "source": [
    "### Шаг 5. Общий вывод"
   ]
  },
  {
   "cell_type": "markdown",
   "metadata": {},
   "source": [
    "В ходе исследования было установлено:\n",
    "1) Наличие пропусков - осуществлена замена пропусков, где это было необходимо.\n",
    "\n",
    "2) Проведен анализ категориальных данных:\n",
    "определены дубликатов по причине ошибок при вводе: наличие лишних пробелов; использование различных регистров;\n",
    "Данные были приведены к единообразному виду (нижний регистр), удалены лишние пробелы; исправлены типы данных, где это было необходимо.\n",
    "\n",
    "Установлено, что есть 2 посторяющихся номера прокатного удостоверения у разных фильмов: 221054410 и 221154310\n",
    "Причина: ошибка при заполнении исходных датасетов (установлено, но дубликат был в mkrf_movies)\n",
    "\n",
    "3) Проведен анализ количественных значений:\n",
    "  1. 111 фильмов получили возвратные средства господдержки; средний объем =  35 486 486.486 руб\n",
    "  2. 323 фильма получили невозвратные средства господдерки; средний объем =  50 345 784.248 руб \n",
    "  3. известны бюджеты 315; средний бюджет =  134 096 082.346 руб\n",
    "  4. известны сборы по 3134 фильмам; средняя сумма =  77 064 365.819 руб\n",
    " \n",
    "4) Больше всего фильмов вышло в 2010 и 2019м годах. Стоит отметить, что меньше всего прокатных удостоверений было выдано в 2012 и в 2017м годах. По данным РБС: изменения в Правилах выдачи, отказа в выдаче и отзыва прокатного удостоверения на фильм вступили в силу 31 декабря 2016 года. Прокатное удостоверение, согласно этим изменениям, должно выдаваться на показ фильма в кинозале, на прокат фильма на материальном носителе и на показ фильма «другими техническими способами» - вероятно это могло повлиять на кол-во прокатных удостоверений в 2017м году.\n",
    "\n",
    "5) По имеющимся данным установлено, что:\n",
    "* максимальная сумма сборов была в 2018 году и составила 49 668 403 134.320 руб\n",
    "* минимальный размер сборов был в 2010 году и составил 2 428 654,00 руб\n",
    "\n",
    "6) Проанализирована взаимосвязь параметров. При этом выявлено:\n",
    "* высокая корреляция между бюджетом и долей господдержки\n",
    "* низкая взаимосвязь между суммой сборов от фильма и долей господдежрки, размером бюджета\n",
    "* наиболее прибыльные фильмы категории \"16+\"\n",
    "\n",
    "7) Данные за период с 2010 по 2014й год заполнены не полностью/представлены в датасете хуже. Данные за период с 2015 по 2019 год более \"полные\"\n",
    "\n",
    "8) Основаные данные о господдежрке начинаются с 2013 года и размер увеличивается с каждым годом.\n",
    "\n",
    "9) Самый кассовый фильм - Холоп, размер сборов 3 073 568 690.79 руб\n",
    "\n",
    "10) Установлено, что 214ть фильмов с господдержкой не окупились, однако, в целом инвестиции в кино окупаются."
   ]
  }
 ],
 "metadata": {
  "ExecuteTimeLog": [
   {
    "duration": 537,
    "start_time": "2021-07-07T10:12:08.634Z"
   },
   {
    "duration": 206,
    "start_time": "2021-07-07T10:12:30.191Z"
   },
   {
    "duration": 227,
    "start_time": "2021-07-07T10:12:33.078Z"
   },
   {
    "duration": 153,
    "start_time": "2021-07-07T10:13:42.146Z"
   },
   {
    "duration": 233,
    "start_time": "2021-07-07T10:30:09.252Z"
   },
   {
    "duration": 19,
    "start_time": "2021-07-07T10:30:15.577Z"
   },
   {
    "duration": 18,
    "start_time": "2021-07-07T10:30:57.348Z"
   },
   {
    "duration": 19,
    "start_time": "2021-07-07T10:31:17.452Z"
   },
   {
    "duration": 21,
    "start_time": "2021-07-07T10:31:32.227Z"
   },
   {
    "duration": 27,
    "start_time": "2021-07-07T10:32:06.588Z"
   },
   {
    "duration": 23,
    "start_time": "2021-07-07T10:32:43.645Z"
   },
   {
    "duration": 24,
    "start_time": "2021-07-07T10:33:06.948Z"
   },
   {
    "duration": 7,
    "start_time": "2021-07-07T10:33:28.558Z"
   },
   {
    "duration": 23,
    "start_time": "2021-07-07T10:33:43.761Z"
   },
   {
    "duration": 28,
    "start_time": "2021-07-07T10:34:13.466Z"
   },
   {
    "duration": 23,
    "start_time": "2021-07-07T10:35:56.187Z"
   },
   {
    "duration": 6,
    "start_time": "2021-07-07T10:36:48.182Z"
   },
   {
    "duration": 14,
    "start_time": "2021-07-07T10:37:49.641Z"
   },
   {
    "duration": 6,
    "start_time": "2021-07-07T10:38:06.694Z"
   },
   {
    "duration": 6,
    "start_time": "2021-07-07T10:38:13.493Z"
   },
   {
    "duration": 19,
    "start_time": "2021-07-07T10:38:44.056Z"
   },
   {
    "duration": 186,
    "start_time": "2021-07-07T10:48:35.618Z"
   },
   {
    "duration": 24,
    "start_time": "2021-07-07T10:48:51.498Z"
   },
   {
    "duration": 20,
    "start_time": "2021-07-07T10:48:59.415Z"
   },
   {
    "duration": 20,
    "start_time": "2021-07-07T10:53:02.195Z"
   },
   {
    "duration": 188,
    "start_time": "2021-07-07T10:54:40.486Z"
   },
   {
    "duration": 115,
    "start_time": "2021-07-07T10:54:52.552Z"
   },
   {
    "duration": 214,
    "start_time": "2021-07-07T10:54:56.354Z"
   },
   {
    "duration": 47,
    "start_time": "2021-07-07T10:54:58.282Z"
   },
   {
    "duration": 217,
    "start_time": "2021-07-07T10:59:16.075Z"
   },
   {
    "duration": 51,
    "start_time": "2021-07-07T10:59:16.243Z"
   },
   {
    "duration": 578,
    "start_time": "2021-07-07T10:59:18.774Z"
   },
   {
    "duration": 161,
    "start_time": "2021-07-07T10:59:21.238Z"
   },
   {
    "duration": 59,
    "start_time": "2021-07-07T10:59:21.453Z"
   },
   {
    "duration": 3,
    "start_time": "2021-07-07T11:02:10.786Z"
   },
   {
    "duration": 13,
    "start_time": "2021-07-07T11:07:07.722Z"
   },
   {
    "duration": 26,
    "start_time": "2021-07-07T11:07:17.958Z"
   },
   {
    "duration": 22,
    "start_time": "2021-07-07T11:08:17.939Z"
   },
   {
    "duration": 212,
    "start_time": "2021-07-07T11:08:19.665Z"
   },
   {
    "duration": 21,
    "start_time": "2021-07-07T11:08:29.945Z"
   },
   {
    "duration": 31,
    "start_time": "2021-07-07T11:08:38.899Z"
   },
   {
    "duration": 23,
    "start_time": "2021-07-07T11:08:54.527Z"
   },
   {
    "duration": 8,
    "start_time": "2021-07-07T11:18:55.974Z"
   },
   {
    "duration": 7,
    "start_time": "2021-07-07T11:19:03.639Z"
   },
   {
    "duration": 7,
    "start_time": "2021-07-07T11:19:06.444Z"
   },
   {
    "duration": 578,
    "start_time": "2021-07-07T12:09:59.576Z"
   },
   {
    "duration": 195,
    "start_time": "2021-07-07T12:10:00.156Z"
   },
   {
    "duration": 115,
    "start_time": "2021-07-07T12:10:00.353Z"
   },
   {
    "duration": 3,
    "start_time": "2021-07-07T12:10:00.470Z"
   },
   {
    "duration": 32,
    "start_time": "2021-07-07T12:10:00.474Z"
   },
   {
    "duration": 23,
    "start_time": "2021-07-07T12:10:00.508Z"
   },
   {
    "duration": 19,
    "start_time": "2021-07-07T12:10:00.533Z"
   },
   {
    "duration": 44,
    "start_time": "2021-07-07T12:10:00.553Z"
   },
   {
    "duration": 7,
    "start_time": "2021-07-07T12:10:00.600Z"
   },
   {
    "duration": 7,
    "start_time": "2021-07-07T12:19:45.761Z"
   },
   {
    "duration": 21,
    "start_time": "2021-07-07T12:21:35.482Z"
   },
   {
    "duration": 21,
    "start_time": "2021-07-07T12:29:23.569Z"
   },
   {
    "duration": 525,
    "start_time": "2021-07-07T12:29:44.542Z"
   },
   {
    "duration": 214,
    "start_time": "2021-07-07T12:29:45.069Z"
   },
   {
    "duration": 92,
    "start_time": "2021-07-07T12:29:45.285Z"
   },
   {
    "duration": 3,
    "start_time": "2021-07-07T12:29:45.379Z"
   },
   {
    "duration": 28,
    "start_time": "2021-07-07T12:29:45.384Z"
   },
   {
    "duration": 23,
    "start_time": "2021-07-07T12:29:45.413Z"
   },
   {
    "duration": 21,
    "start_time": "2021-07-07T12:29:45.437Z"
   },
   {
    "duration": 41,
    "start_time": "2021-07-07T12:29:45.460Z"
   },
   {
    "duration": 7,
    "start_time": "2021-07-07T12:29:45.502Z"
   },
   {
    "duration": 20,
    "start_time": "2021-07-07T12:29:45.511Z"
   },
   {
    "duration": 12,
    "start_time": "2021-07-07T12:34:02.800Z"
   },
   {
    "duration": 7,
    "start_time": "2021-07-07T12:35:10.479Z"
   },
   {
    "duration": 8,
    "start_time": "2021-07-07T12:35:22.440Z"
   },
   {
    "duration": 6,
    "start_time": "2021-07-07T12:35:35.649Z"
   },
   {
    "duration": 6,
    "start_time": "2021-07-07T12:35:43.107Z"
   },
   {
    "duration": 22,
    "start_time": "2021-07-07T12:38:03.029Z"
   },
   {
    "duration": 10,
    "start_time": "2021-07-07T12:38:06.592Z"
   },
   {
    "duration": 563,
    "start_time": "2021-07-07T12:38:46.493Z"
   },
   {
    "duration": 265,
    "start_time": "2021-07-07T12:38:47.058Z"
   },
   {
    "duration": 94,
    "start_time": "2021-07-07T12:38:47.325Z"
   },
   {
    "duration": 3,
    "start_time": "2021-07-07T12:38:47.422Z"
   },
   {
    "duration": 30,
    "start_time": "2021-07-07T12:38:47.427Z"
   },
   {
    "duration": 16,
    "start_time": "2021-07-07T12:38:53.305Z"
   },
   {
    "duration": 10,
    "start_time": "2021-07-07T12:38:53.499Z"
   },
   {
    "duration": 8,
    "start_time": "2021-07-07T12:39:48.161Z"
   },
   {
    "duration": 27,
    "start_time": "2021-07-07T12:41:17.629Z"
   },
   {
    "duration": 17,
    "start_time": "2021-07-07T12:41:17.867Z"
   },
   {
    "duration": 21,
    "start_time": "2021-07-07T12:41:19.310Z"
   },
   {
    "duration": 7,
    "start_time": "2021-07-07T12:41:19.544Z"
   },
   {
    "duration": 20,
    "start_time": "2021-07-07T12:41:20.504Z"
   },
   {
    "duration": 554,
    "start_time": "2021-07-07T12:56:23.696Z"
   },
   {
    "duration": 200,
    "start_time": "2021-07-07T12:56:25.234Z"
   },
   {
    "duration": 119,
    "start_time": "2021-07-07T12:56:25.480Z"
   },
   {
    "duration": 4,
    "start_time": "2021-07-07T12:56:25.762Z"
   },
   {
    "duration": 26,
    "start_time": "2021-07-07T12:56:27.172Z"
   },
   {
    "duration": 12,
    "start_time": "2021-07-07T12:56:29.051Z"
   },
   {
    "duration": 10,
    "start_time": "2021-07-07T12:56:29.291Z"
   },
   {
    "duration": 8,
    "start_time": "2021-07-07T12:56:29.623Z"
   },
   {
    "duration": 28,
    "start_time": "2021-07-07T12:56:32.137Z"
   },
   {
    "duration": 19,
    "start_time": "2021-07-07T12:56:39.785Z"
   },
   {
    "duration": 20,
    "start_time": "2021-07-07T12:56:44.297Z"
   },
   {
    "duration": 7,
    "start_time": "2021-07-07T12:56:45.392Z"
   },
   {
    "duration": 23,
    "start_time": "2021-07-07T12:56:46.615Z"
   },
   {
    "duration": 4,
    "start_time": "2021-07-07T12:57:06.625Z"
   },
   {
    "duration": 32,
    "start_time": "2021-07-07T12:57:36.690Z"
   },
   {
    "duration": 18,
    "start_time": "2021-07-07T12:58:00.149Z"
   },
   {
    "duration": 15,
    "start_time": "2021-07-07T12:59:16.793Z"
   },
   {
    "duration": 7,
    "start_time": "2021-07-07T13:19:22.624Z"
   },
   {
    "duration": 6,
    "start_time": "2021-07-07T14:17:33.527Z"
   },
   {
    "duration": 9,
    "start_time": "2021-07-07T14:17:48.409Z"
   },
   {
    "duration": 8,
    "start_time": "2021-07-07T14:20:13.060Z"
   },
   {
    "duration": 8,
    "start_time": "2021-07-07T14:20:37.957Z"
   },
   {
    "duration": 8,
    "start_time": "2021-07-07T14:20:47.470Z"
   },
   {
    "duration": 9,
    "start_time": "2021-07-07T14:20:54.503Z"
   },
   {
    "duration": 10,
    "start_time": "2021-07-07T14:28:57.763Z"
   },
   {
    "duration": 3,
    "start_time": "2021-07-07T14:30:23.377Z"
   },
   {
    "duration": 3,
    "start_time": "2021-07-07T14:30:36.489Z"
   },
   {
    "duration": 103,
    "start_time": "2021-07-07T14:30:52.351Z"
   },
   {
    "duration": 8,
    "start_time": "2021-07-07T14:30:54.763Z"
   },
   {
    "duration": 8,
    "start_time": "2021-07-07T14:31:29.301Z"
   },
   {
    "duration": 13,
    "start_time": "2021-07-07T14:31:44.516Z"
   },
   {
    "duration": 7,
    "start_time": "2021-07-07T14:33:10.972Z"
   },
   {
    "duration": 11,
    "start_time": "2021-07-07T14:33:27.780Z"
   },
   {
    "duration": 8,
    "start_time": "2021-07-07T14:34:44.588Z"
   },
   {
    "duration": 57,
    "start_time": "2021-07-07T14:35:59.042Z"
   },
   {
    "duration": 3,
    "start_time": "2021-07-07T14:36:28.168Z"
   },
   {
    "duration": 5,
    "start_time": "2021-07-07T14:36:46.254Z"
   },
   {
    "duration": 4,
    "start_time": "2021-07-07T14:36:52.714Z"
   },
   {
    "duration": 3,
    "start_time": "2021-07-07T14:36:56.612Z"
   },
   {
    "duration": 4,
    "start_time": "2021-07-07T14:36:57.049Z"
   },
   {
    "duration": 3,
    "start_time": "2021-07-07T14:39:21.214Z"
   },
   {
    "duration": 7,
    "start_time": "2021-07-07T14:39:52.406Z"
   },
   {
    "duration": 11,
    "start_time": "2021-07-07T14:39:58.576Z"
   },
   {
    "duration": 9,
    "start_time": "2021-07-07T14:40:26.301Z"
   },
   {
    "duration": 10,
    "start_time": "2021-07-07T14:40:31.704Z"
   },
   {
    "duration": 11,
    "start_time": "2021-07-07T14:40:36.249Z"
   },
   {
    "duration": 10,
    "start_time": "2021-07-07T14:40:39.783Z"
   },
   {
    "duration": 9,
    "start_time": "2021-07-07T14:40:48.558Z"
   },
   {
    "duration": 10,
    "start_time": "2021-07-07T14:40:57.143Z"
   },
   {
    "duration": 9,
    "start_time": "2021-07-07T14:41:06.074Z"
   },
   {
    "duration": 4324,
    "start_time": "2021-07-07T14:41:22.004Z"
   },
   {
    "duration": 11,
    "start_time": "2021-07-07T14:41:33.392Z"
   },
   {
    "duration": 9,
    "start_time": "2021-07-07T14:41:39.288Z"
   },
   {
    "duration": 569,
    "start_time": "2021-07-07T14:42:14.387Z"
   },
   {
    "duration": 197,
    "start_time": "2021-07-07T14:42:14.959Z"
   },
   {
    "duration": 84,
    "start_time": "2021-07-07T14:42:16.052Z"
   },
   {
    "duration": 4,
    "start_time": "2021-07-07T14:42:16.900Z"
   },
   {
    "duration": 27,
    "start_time": "2021-07-07T14:42:19.898Z"
   },
   {
    "duration": 12,
    "start_time": "2021-07-07T14:42:21.577Z"
   },
   {
    "duration": 9,
    "start_time": "2021-07-07T14:42:21.813Z"
   },
   {
    "duration": 9,
    "start_time": "2021-07-07T14:42:22.569Z"
   },
   {
    "duration": 29,
    "start_time": "2021-07-07T14:42:25.837Z"
   },
   {
    "duration": 20,
    "start_time": "2021-07-07T14:42:27.003Z"
   },
   {
    "duration": 21,
    "start_time": "2021-07-07T14:42:28.767Z"
   },
   {
    "duration": 7,
    "start_time": "2021-07-07T14:42:29.838Z"
   },
   {
    "duration": 4,
    "start_time": "2021-07-07T14:43:25.493Z"
   },
   {
    "duration": 7,
    "start_time": "2021-07-07T14:43:26.573Z"
   },
   {
    "duration": 10,
    "start_time": "2021-07-07T14:43:31.639Z"
   },
   {
    "duration": 9,
    "start_time": "2021-07-07T14:43:32.046Z"
   },
   {
    "duration": 10,
    "start_time": "2021-07-07T14:43:33.301Z"
   },
   {
    "duration": 12,
    "start_time": "2021-07-07T14:43:33.658Z"
   },
   {
    "duration": 8,
    "start_time": "2021-07-07T14:43:34.552Z"
   },
   {
    "duration": 9,
    "start_time": "2021-07-07T14:43:35.058Z"
   },
   {
    "duration": 12,
    "start_time": "2021-07-07T14:43:35.914Z"
   },
   {
    "duration": 17,
    "start_time": "2021-07-07T14:45:34.368Z"
   },
   {
    "duration": 512,
    "start_time": "2021-07-07T14:51:58.236Z"
   },
   {
    "duration": 223,
    "start_time": "2021-07-07T14:51:58.750Z"
   },
   {
    "duration": 93,
    "start_time": "2021-07-07T14:51:58.977Z"
   },
   {
    "duration": 4,
    "start_time": "2021-07-07T14:51:59.071Z"
   },
   {
    "duration": 37,
    "start_time": "2021-07-07T14:51:59.077Z"
   },
   {
    "duration": 18,
    "start_time": "2021-07-07T14:51:59.116Z"
   },
   {
    "duration": 10,
    "start_time": "2021-07-07T14:51:59.137Z"
   },
   {
    "duration": 8,
    "start_time": "2021-07-07T14:51:59.149Z"
   },
   {
    "duration": 54,
    "start_time": "2021-07-07T14:51:59.158Z"
   },
   {
    "duration": 18,
    "start_time": "2021-07-07T14:51:59.213Z"
   },
   {
    "duration": 22,
    "start_time": "2021-07-07T14:51:59.232Z"
   },
   {
    "duration": 36,
    "start_time": "2021-07-07T14:51:59.255Z"
   },
   {
    "duration": 7,
    "start_time": "2021-07-07T14:51:59.293Z"
   },
   {
    "duration": 10,
    "start_time": "2021-07-07T14:51:59.302Z"
   },
   {
    "duration": 9,
    "start_time": "2021-07-07T14:51:59.313Z"
   },
   {
    "duration": 11,
    "start_time": "2021-07-07T14:51:59.324Z"
   },
   {
    "duration": 8,
    "start_time": "2021-07-07T14:51:59.337Z"
   },
   {
    "duration": 46,
    "start_time": "2021-07-07T14:51:59.347Z"
   },
   {
    "duration": 22,
    "start_time": "2021-07-07T14:51:59.395Z"
   },
   {
    "duration": 24,
    "start_time": "2021-07-07T14:57:32.911Z"
   },
   {
    "duration": 7,
    "start_time": "2021-07-07T14:58:22.070Z"
   },
   {
    "duration": 4,
    "start_time": "2021-07-07T14:59:11.239Z"
   },
   {
    "duration": 25,
    "start_time": "2021-07-07T15:07:22.208Z"
   },
   {
    "duration": 16,
    "start_time": "2021-07-07T15:08:25.560Z"
   },
   {
    "duration": 15,
    "start_time": "2021-07-07T15:08:40.647Z"
   },
   {
    "duration": 14,
    "start_time": "2021-07-07T15:08:46.669Z"
   },
   {
    "duration": 533,
    "start_time": "2021-07-07T15:18:07.440Z"
   },
   {
    "duration": 173,
    "start_time": "2021-07-07T15:18:07.974Z"
   },
   {
    "duration": 84,
    "start_time": "2021-07-07T15:18:08.149Z"
   },
   {
    "duration": 3,
    "start_time": "2021-07-07T15:18:08.235Z"
   },
   {
    "duration": 30,
    "start_time": "2021-07-07T15:18:08.240Z"
   },
   {
    "duration": 22,
    "start_time": "2021-07-07T15:18:08.272Z"
   },
   {
    "duration": 11,
    "start_time": "2021-07-07T15:18:08.295Z"
   },
   {
    "duration": 11,
    "start_time": "2021-07-07T15:18:08.309Z"
   },
   {
    "duration": 40,
    "start_time": "2021-07-07T15:18:08.322Z"
   },
   {
    "duration": 42,
    "start_time": "2021-07-07T15:18:08.364Z"
   },
   {
    "duration": 22,
    "start_time": "2021-07-07T15:18:08.408Z"
   },
   {
    "duration": 5,
    "start_time": "2021-07-07T15:18:08.432Z"
   },
   {
    "duration": 13,
    "start_time": "2021-07-07T15:18:08.439Z"
   },
   {
    "duration": 9,
    "start_time": "2021-07-07T15:18:08.454Z"
   },
   {
    "duration": 32,
    "start_time": "2021-07-07T15:18:08.465Z"
   },
   {
    "duration": 10,
    "start_time": "2021-07-07T15:18:08.501Z"
   },
   {
    "duration": 7,
    "start_time": "2021-07-07T15:18:08.513Z"
   },
   {
    "duration": 11,
    "start_time": "2021-07-07T15:18:08.521Z"
   },
   {
    "duration": 17,
    "start_time": "2021-07-07T15:18:08.534Z"
   },
   {
    "duration": 44,
    "start_time": "2021-07-07T15:18:08.553Z"
   },
   {
    "duration": 22,
    "start_time": "2021-07-07T15:18:08.599Z"
   },
   {
    "duration": 61,
    "start_time": "2021-07-07T15:18:08.622Z"
   },
   {
    "duration": 7,
    "start_time": "2021-07-07T15:18:39.457Z"
   },
   {
    "duration": 5,
    "start_time": "2021-07-07T16:05:17.020Z"
   },
   {
    "duration": 5,
    "start_time": "2021-07-07T16:51:28.794Z"
   },
   {
    "duration": 546,
    "start_time": "2021-07-07T16:52:26.306Z"
   },
   {
    "duration": 203,
    "start_time": "2021-07-07T16:52:27.523Z"
   },
   {
    "duration": 85,
    "start_time": "2021-07-07T16:52:27.736Z"
   },
   {
    "duration": 4,
    "start_time": "2021-07-07T16:52:27.899Z"
   },
   {
    "duration": 25,
    "start_time": "2021-07-07T16:52:28.674Z"
   },
   {
    "duration": 8,
    "start_time": "2021-07-07T16:52:32.956Z"
   },
   {
    "duration": 18,
    "start_time": "2021-07-07T16:52:35.616Z"
   },
   {
    "duration": 6,
    "start_time": "2021-07-07T16:52:36.913Z"
   },
   {
    "duration": 11,
    "start_time": "2021-07-07T16:52:40.258Z"
   },
   {
    "duration": 10,
    "start_time": "2021-07-07T16:52:46.251Z"
   },
   {
    "duration": 8,
    "start_time": "2021-07-07T16:52:47.182Z"
   },
   {
    "duration": 27,
    "start_time": "2021-07-07T16:53:20.391Z"
   },
   {
    "duration": 20,
    "start_time": "2021-07-07T16:53:22.022Z"
   },
   {
    "duration": 23,
    "start_time": "2021-07-07T16:53:23.690Z"
   },
   {
    "duration": 8,
    "start_time": "2021-07-07T16:53:24.261Z"
   },
   {
    "duration": 4,
    "start_time": "2021-07-07T16:53:38.733Z"
   },
   {
    "duration": 7,
    "start_time": "2021-07-07T16:53:40.445Z"
   },
   {
    "duration": 11,
    "start_time": "2021-07-07T16:53:41.348Z"
   },
   {
    "duration": 13,
    "start_time": "2021-07-07T16:53:45.250Z"
   },
   {
    "duration": 12,
    "start_time": "2021-07-07T16:53:45.467Z"
   },
   {
    "duration": 4,
    "start_time": "2021-07-07T16:55:32.704Z"
   },
   {
    "duration": 12,
    "start_time": "2021-07-07T16:55:49.012Z"
   },
   {
    "duration": 18,
    "start_time": "2021-07-07T16:55:49.547Z"
   },
   {
    "duration": 611,
    "start_time": "2021-07-07T16:58:35.156Z"
   },
   {
    "duration": 200,
    "start_time": "2021-07-07T16:58:35.770Z"
   },
   {
    "duration": 86,
    "start_time": "2021-07-07T16:58:35.972Z"
   },
   {
    "duration": 3,
    "start_time": "2021-07-07T16:58:36.060Z"
   },
   {
    "duration": 27,
    "start_time": "2021-07-07T16:58:36.065Z"
   },
   {
    "duration": 8,
    "start_time": "2021-07-07T16:58:36.094Z"
   },
   {
    "duration": 17,
    "start_time": "2021-07-07T16:58:36.103Z"
   },
   {
    "duration": 5,
    "start_time": "2021-07-07T16:58:36.123Z"
   },
   {
    "duration": 11,
    "start_time": "2021-07-07T16:58:36.130Z"
   },
   {
    "duration": 7,
    "start_time": "2021-07-07T16:58:36.143Z"
   },
   {
    "duration": 37,
    "start_time": "2021-07-07T16:58:36.152Z"
   },
   {
    "duration": 27,
    "start_time": "2021-07-07T16:58:36.191Z"
   },
   {
    "duration": 19,
    "start_time": "2021-07-07T16:58:36.219Z"
   },
   {
    "duration": 49,
    "start_time": "2021-07-07T16:58:36.240Z"
   },
   {
    "duration": 6,
    "start_time": "2021-07-07T16:58:36.291Z"
   },
   {
    "duration": 3,
    "start_time": "2021-07-07T16:58:36.299Z"
   },
   {
    "duration": 13,
    "start_time": "2021-07-07T16:58:36.304Z"
   },
   {
    "duration": 10,
    "start_time": "2021-07-07T16:58:36.319Z"
   },
   {
    "duration": 10,
    "start_time": "2021-07-07T16:58:36.331Z"
   },
   {
    "duration": 44,
    "start_time": "2021-07-07T16:58:36.343Z"
   },
   {
    "duration": 4,
    "start_time": "2021-07-07T16:58:36.388Z"
   },
   {
    "duration": 13,
    "start_time": "2021-07-07T16:58:36.394Z"
   },
   {
    "duration": 16,
    "start_time": "2021-07-07T16:58:36.410Z"
   },
   {
    "duration": 8,
    "start_time": "2021-07-07T17:02:31.629Z"
   },
   {
    "duration": 8,
    "start_time": "2021-07-07T17:02:34.308Z"
   },
   {
    "duration": 6,
    "start_time": "2021-07-07T17:05:13.483Z"
   },
   {
    "duration": 17,
    "start_time": "2021-07-07T17:05:20.606Z"
   },
   {
    "duration": 7,
    "start_time": "2021-07-07T17:05:34.638Z"
   },
   {
    "duration": 3,
    "start_time": "2021-07-07T17:06:31.883Z"
   },
   {
    "duration": 570,
    "start_time": "2021-07-07T17:06:37.165Z"
   },
   {
    "duration": 174,
    "start_time": "2021-07-07T17:06:37.737Z"
   },
   {
    "duration": 47,
    "start_time": "2021-07-07T17:06:37.913Z"
   },
   {
    "duration": 3,
    "start_time": "2021-07-07T17:06:37.962Z"
   },
   {
    "duration": 27,
    "start_time": "2021-07-07T17:06:37.967Z"
   },
   {
    "duration": 7,
    "start_time": "2021-07-07T17:06:37.996Z"
   },
   {
    "duration": 16,
    "start_time": "2021-07-07T17:06:38.005Z"
   },
   {
    "duration": 6,
    "start_time": "2021-07-07T17:06:38.024Z"
   },
   {
    "duration": 12,
    "start_time": "2021-07-07T17:06:38.031Z"
   },
   {
    "duration": 41,
    "start_time": "2021-07-07T17:06:38.045Z"
   },
   {
    "duration": 8,
    "start_time": "2021-07-07T17:06:38.088Z"
   },
   {
    "duration": 26,
    "start_time": "2021-07-07T17:06:38.098Z"
   },
   {
    "duration": 17,
    "start_time": "2021-07-07T17:06:38.126Z"
   },
   {
    "duration": 43,
    "start_time": "2021-07-07T17:06:38.144Z"
   },
   {
    "duration": 6,
    "start_time": "2021-07-07T17:06:38.188Z"
   },
   {
    "duration": 5,
    "start_time": "2021-07-07T17:06:38.195Z"
   },
   {
    "duration": 9,
    "start_time": "2021-07-07T17:06:38.201Z"
   },
   {
    "duration": 12,
    "start_time": "2021-07-07T17:06:38.212Z"
   },
   {
    "duration": 11,
    "start_time": "2021-07-07T17:06:38.226Z"
   },
   {
    "duration": 47,
    "start_time": "2021-07-07T17:06:38.239Z"
   },
   {
    "duration": 4,
    "start_time": "2021-07-07T17:06:38.288Z"
   },
   {
    "duration": 13,
    "start_time": "2021-07-07T17:06:38.293Z"
   },
   {
    "duration": 5,
    "start_time": "2021-07-07T17:06:38.309Z"
   },
   {
    "duration": 18,
    "start_time": "2021-07-07T17:06:38.325Z"
   },
   {
    "duration": 20,
    "start_time": "2021-07-07T17:07:02.805Z"
   },
   {
    "duration": 19,
    "start_time": "2021-07-07T17:07:08.527Z"
   },
   {
    "duration": 19,
    "start_time": "2021-07-07T17:07:12.758Z"
   },
   {
    "duration": 22,
    "start_time": "2021-07-07T17:07:17.497Z"
   },
   {
    "duration": 19,
    "start_time": "2021-07-07T17:07:19.645Z"
   },
   {
    "duration": 10,
    "start_time": "2021-07-07T17:07:34.239Z"
   },
   {
    "duration": 17,
    "start_time": "2021-07-07T17:07:54.144Z"
   },
   {
    "duration": 14,
    "start_time": "2021-07-07T17:08:14.357Z"
   },
   {
    "duration": 616,
    "start_time": "2021-07-07T17:08:45.254Z"
   },
   {
    "duration": 178,
    "start_time": "2021-07-07T17:08:45.872Z"
   },
   {
    "duration": 60,
    "start_time": "2021-07-07T17:08:46.054Z"
   },
   {
    "duration": 3,
    "start_time": "2021-07-07T17:08:46.116Z"
   },
   {
    "duration": 26,
    "start_time": "2021-07-07T17:08:46.121Z"
   },
   {
    "duration": 7,
    "start_time": "2021-07-07T17:08:46.149Z"
   },
   {
    "duration": 17,
    "start_time": "2021-07-07T17:08:46.158Z"
   },
   {
    "duration": 14,
    "start_time": "2021-07-07T17:08:46.176Z"
   },
   {
    "duration": 17,
    "start_time": "2021-07-07T17:08:46.193Z"
   },
   {
    "duration": 9,
    "start_time": "2021-07-07T17:08:46.211Z"
   },
   {
    "duration": 21,
    "start_time": "2021-07-07T17:08:46.221Z"
   },
   {
    "duration": 49,
    "start_time": "2021-07-07T17:08:46.244Z"
   },
   {
    "duration": 24,
    "start_time": "2021-07-07T17:08:46.295Z"
   },
   {
    "duration": 22,
    "start_time": "2021-07-07T17:08:46.321Z"
   },
   {
    "duration": 6,
    "start_time": "2021-07-07T17:08:46.345Z"
   },
   {
    "duration": 5,
    "start_time": "2021-07-07T17:08:46.353Z"
   },
   {
    "duration": 13,
    "start_time": "2021-07-07T17:08:46.386Z"
   },
   {
    "duration": 12,
    "start_time": "2021-07-07T17:08:46.402Z"
   },
   {
    "duration": 10,
    "start_time": "2021-07-07T17:08:46.415Z"
   },
   {
    "duration": 7,
    "start_time": "2021-07-07T17:08:46.427Z"
   },
   {
    "duration": 8,
    "start_time": "2021-07-07T17:08:46.435Z"
   },
   {
    "duration": 68,
    "start_time": "2021-07-07T17:08:46.446Z"
   },
   {
    "duration": 13,
    "start_time": "2021-07-07T17:08:46.516Z"
   },
   {
    "duration": 78,
    "start_time": "2021-07-07T17:08:46.530Z"
   },
   {
    "duration": 40,
    "start_time": "2021-07-07T17:09:08.185Z"
   },
   {
    "duration": 16,
    "start_time": "2021-07-07T17:09:19.324Z"
   },
   {
    "duration": 21,
    "start_time": "2021-07-07T17:09:23.290Z"
   },
   {
    "duration": 13,
    "start_time": "2021-07-07T17:09:54.812Z"
   },
   {
    "duration": 13,
    "start_time": "2021-07-07T17:10:02.039Z"
   },
   {
    "duration": 10,
    "start_time": "2021-07-07T17:10:29.632Z"
   },
   {
    "duration": 13,
    "start_time": "2021-07-07T17:10:52.372Z"
   },
   {
    "duration": 13,
    "start_time": "2021-07-07T17:11:17.270Z"
   },
   {
    "duration": 13,
    "start_time": "2021-07-07T17:14:59.284Z"
   },
   {
    "duration": 547,
    "start_time": "2021-07-07T17:18:52.403Z"
   },
   {
    "duration": 163,
    "start_time": "2021-07-07T17:18:52.952Z"
   },
   {
    "duration": 44,
    "start_time": "2021-07-07T17:18:53.117Z"
   },
   {
    "duration": 3,
    "start_time": "2021-07-07T17:18:53.162Z"
   },
   {
    "duration": 26,
    "start_time": "2021-07-07T17:18:53.167Z"
   },
   {
    "duration": 6,
    "start_time": "2021-07-07T17:18:53.195Z"
   },
   {
    "duration": 15,
    "start_time": "2021-07-07T17:18:53.203Z"
   },
   {
    "duration": 5,
    "start_time": "2021-07-07T17:18:53.220Z"
   },
   {
    "duration": 11,
    "start_time": "2021-07-07T17:18:53.228Z"
   },
   {
    "duration": 9,
    "start_time": "2021-07-07T17:18:53.241Z"
   },
   {
    "duration": 41,
    "start_time": "2021-07-07T17:18:53.252Z"
   },
   {
    "duration": 33,
    "start_time": "2021-07-07T17:18:53.295Z"
   },
   {
    "duration": 19,
    "start_time": "2021-07-07T17:18:53.330Z"
   },
   {
    "duration": 49,
    "start_time": "2021-07-07T17:18:53.350Z"
   },
   {
    "duration": 5,
    "start_time": "2021-07-07T17:18:53.401Z"
   },
   {
    "duration": 5,
    "start_time": "2021-07-07T17:18:53.408Z"
   },
   {
    "duration": 11,
    "start_time": "2021-07-07T17:18:53.414Z"
   },
   {
    "duration": 9,
    "start_time": "2021-07-07T17:18:53.427Z"
   },
   {
    "duration": 10,
    "start_time": "2021-07-07T17:18:53.437Z"
   },
   {
    "duration": 39,
    "start_time": "2021-07-07T17:18:53.448Z"
   },
   {
    "duration": 26,
    "start_time": "2021-07-07T17:18:55.799Z"
   },
   {
    "duration": 598,
    "start_time": "2021-07-07T17:20:17.862Z"
   },
   {
    "duration": 161,
    "start_time": "2021-07-07T17:20:18.462Z"
   },
   {
    "duration": 45,
    "start_time": "2021-07-07T17:20:18.626Z"
   },
   {
    "duration": 4,
    "start_time": "2021-07-07T17:20:18.673Z"
   },
   {
    "duration": 38,
    "start_time": "2021-07-07T17:20:26.877Z"
   },
   {
    "duration": 7,
    "start_time": "2021-07-07T17:20:37.405Z"
   },
   {
    "duration": 19,
    "start_time": "2021-07-07T17:20:51.534Z"
   },
   {
    "duration": 5,
    "start_time": "2021-07-07T17:20:57.228Z"
   },
   {
    "duration": 7,
    "start_time": "2021-07-07T17:21:08.235Z"
   },
   {
    "duration": 19,
    "start_time": "2021-07-07T17:21:42.158Z"
   },
   {
    "duration": 14,
    "start_time": "2021-07-07T17:21:50.225Z"
   },
   {
    "duration": 22,
    "start_time": "2021-07-07T17:22:54.104Z"
   },
   {
    "duration": 5,
    "start_time": "2021-07-07T17:22:56.371Z"
   },
   {
    "duration": 14,
    "start_time": "2021-07-07T17:22:58.316Z"
   },
   {
    "duration": 5,
    "start_time": "2021-07-07T17:22:58.493Z"
   },
   {
    "duration": 35,
    "start_time": "2021-07-07T17:22:59.666Z"
   },
   {
    "duration": 6,
    "start_time": "2021-07-07T17:23:02.410Z"
   },
   {
    "duration": 611,
    "start_time": "2021-07-07T17:24:59.664Z"
   },
   {
    "duration": 178,
    "start_time": "2021-07-07T17:25:01.945Z"
   },
   {
    "duration": 47,
    "start_time": "2021-07-07T17:25:02.125Z"
   },
   {
    "duration": 2,
    "start_time": "2021-07-07T17:25:07.903Z"
   },
   {
    "duration": 254,
    "start_time": "2021-07-07T17:25:08.232Z"
   },
   {
    "duration": 182,
    "start_time": "2021-07-07T17:25:08.671Z"
   },
   {
    "duration": 6,
    "start_time": "2021-07-07T17:25:13.104Z"
   },
   {
    "duration": 36,
    "start_time": "2021-07-07T17:25:13.662Z"
   },
   {
    "duration": 7,
    "start_time": "2021-07-07T17:25:14.528Z"
   },
   {
    "duration": 24,
    "start_time": "2021-07-07T17:25:27.982Z"
   },
   {
    "duration": 3,
    "start_time": "2021-07-07T17:25:48.982Z"
   },
   {
    "duration": 165,
    "start_time": "2021-07-07T17:25:48.987Z"
   },
   {
    "duration": 50,
    "start_time": "2021-07-07T17:25:49.154Z"
   },
   {
    "duration": 4,
    "start_time": "2021-07-07T17:25:49.206Z"
   },
   {
    "duration": 26,
    "start_time": "2021-07-07T17:25:49.212Z"
   },
   {
    "duration": 7,
    "start_time": "2021-07-07T17:25:49.240Z"
   },
   {
    "duration": 16,
    "start_time": "2021-07-07T17:25:49.249Z"
   },
   {
    "duration": 22,
    "start_time": "2021-07-07T17:25:49.266Z"
   },
   {
    "duration": 16,
    "start_time": "2021-07-07T17:25:49.291Z"
   },
   {
    "duration": 9,
    "start_time": "2021-07-07T17:25:49.309Z"
   },
   {
    "duration": 7,
    "start_time": "2021-07-07T17:25:49.319Z"
   },
   {
    "duration": 28,
    "start_time": "2021-07-07T17:25:49.328Z"
   },
   {
    "duration": 44,
    "start_time": "2021-07-07T17:25:49.357Z"
   },
   {
    "duration": 22,
    "start_time": "2021-07-07T17:25:49.403Z"
   },
   {
    "duration": 7,
    "start_time": "2021-07-07T17:25:49.427Z"
   },
   {
    "duration": 3,
    "start_time": "2021-07-07T17:25:49.436Z"
   },
   {
    "duration": 44,
    "start_time": "2021-07-07T17:25:49.441Z"
   },
   {
    "duration": 12,
    "start_time": "2021-07-07T17:25:49.488Z"
   },
   {
    "duration": 13,
    "start_time": "2021-07-07T17:25:49.502Z"
   },
   {
    "duration": 10,
    "start_time": "2021-07-07T17:25:49.516Z"
   },
   {
    "duration": 62,
    "start_time": "2021-07-07T17:25:49.527Z"
   },
   {
    "duration": 26,
    "start_time": "2021-07-07T17:26:51.809Z"
   },
   {
    "duration": 26,
    "start_time": "2021-07-07T17:26:55.759Z"
   },
   {
    "duration": 26,
    "start_time": "2021-07-07T17:27:04.501Z"
   },
   {
    "duration": 25,
    "start_time": "2021-07-07T17:28:24.859Z"
   },
   {
    "duration": 21,
    "start_time": "2021-07-07T17:28:55.250Z"
   },
   {
    "duration": 21,
    "start_time": "2021-07-07T17:28:58.885Z"
   },
   {
    "duration": 7,
    "start_time": "2021-07-07T17:45:40.972Z"
   },
   {
    "duration": 13,
    "start_time": "2021-07-07T17:45:42.529Z"
   },
   {
    "duration": 27,
    "start_time": "2021-07-07T17:45:51.026Z"
   },
   {
    "duration": 518,
    "start_time": "2021-07-07T17:46:15.532Z"
   },
   {
    "duration": 235,
    "start_time": "2021-07-07T17:46:16.053Z"
   },
   {
    "duration": 80,
    "start_time": "2021-07-07T17:46:16.292Z"
   },
   {
    "duration": 5,
    "start_time": "2021-07-07T17:46:16.373Z"
   },
   {
    "duration": 26,
    "start_time": "2021-07-07T17:46:16.380Z"
   },
   {
    "duration": 7,
    "start_time": "2021-07-07T17:46:16.408Z"
   },
   {
    "duration": 16,
    "start_time": "2021-07-07T17:46:16.418Z"
   },
   {
    "duration": 5,
    "start_time": "2021-07-07T17:46:16.436Z"
   },
   {
    "duration": 13,
    "start_time": "2021-07-07T17:46:16.442Z"
   },
   {
    "duration": 35,
    "start_time": "2021-07-07T17:46:16.456Z"
   },
   {
    "duration": 8,
    "start_time": "2021-07-07T17:46:16.493Z"
   },
   {
    "duration": 28,
    "start_time": "2021-07-07T17:46:16.502Z"
   },
   {
    "duration": 17,
    "start_time": "2021-07-07T17:46:16.532Z"
   },
   {
    "duration": 44,
    "start_time": "2021-07-07T17:46:16.551Z"
   },
   {
    "duration": 6,
    "start_time": "2021-07-07T17:46:16.597Z"
   },
   {
    "duration": 4,
    "start_time": "2021-07-07T17:46:16.605Z"
   },
   {
    "duration": 9,
    "start_time": "2021-07-07T17:46:16.610Z"
   },
   {
    "duration": 9,
    "start_time": "2021-07-07T17:46:16.621Z"
   },
   {
    "duration": 10,
    "start_time": "2021-07-07T17:46:16.632Z"
   },
   {
    "duration": 43,
    "start_time": "2021-07-07T17:46:16.644Z"
   },
   {
    "duration": 26,
    "start_time": "2021-07-07T17:46:16.689Z"
   },
   {
    "duration": 19,
    "start_time": "2021-07-07T17:46:16.718Z"
   },
   {
    "duration": 8,
    "start_time": "2021-07-07T17:46:16.738Z"
   },
   {
    "duration": 43,
    "start_time": "2021-07-07T17:46:16.747Z"
   },
   {
    "duration": 19,
    "start_time": "2021-07-07T17:46:16.791Z"
   },
   {
    "duration": 9,
    "start_time": "2021-07-07T17:46:16.812Z"
   },
   {
    "duration": 60,
    "start_time": "2021-07-07T17:46:16.822Z"
   },
   {
    "duration": -8,
    "start_time": "2021-07-07T17:46:16.892Z"
   },
   {
    "duration": 12,
    "start_time": "2021-07-07T17:48:47.707Z"
   },
   {
    "duration": 553,
    "start_time": "2021-07-07T18:10:09.350Z"
   },
   {
    "duration": 230,
    "start_time": "2021-07-07T18:10:09.905Z"
   },
   {
    "duration": 97,
    "start_time": "2021-07-07T18:10:10.137Z"
   },
   {
    "duration": 5,
    "start_time": "2021-07-07T18:10:10.236Z"
   },
   {
    "duration": 29,
    "start_time": "2021-07-07T18:10:10.242Z"
   },
   {
    "duration": 7,
    "start_time": "2021-07-07T18:10:10.272Z"
   },
   {
    "duration": 15,
    "start_time": "2021-07-07T18:10:10.281Z"
   },
   {
    "duration": 4,
    "start_time": "2021-07-07T18:10:10.299Z"
   },
   {
    "duration": 14,
    "start_time": "2021-07-07T18:10:10.305Z"
   },
   {
    "duration": 8,
    "start_time": "2021-07-07T18:10:10.321Z"
   },
   {
    "duration": 8,
    "start_time": "2021-07-07T18:10:10.331Z"
   },
   {
    "duration": 56,
    "start_time": "2021-07-07T18:10:10.341Z"
   },
   {
    "duration": 19,
    "start_time": "2021-07-07T18:10:10.399Z"
   },
   {
    "duration": 23,
    "start_time": "2021-07-07T18:10:10.419Z"
   },
   {
    "duration": 6,
    "start_time": "2021-07-07T18:10:10.444Z"
   },
   {
    "duration": 9,
    "start_time": "2021-07-07T18:10:10.451Z"
   },
   {
    "duration": 30,
    "start_time": "2021-07-07T18:10:10.462Z"
   },
   {
    "duration": 9,
    "start_time": "2021-07-07T18:10:10.494Z"
   },
   {
    "duration": 14,
    "start_time": "2021-07-07T18:10:10.505Z"
   },
   {
    "duration": 7,
    "start_time": "2021-07-07T18:10:10.521Z"
   },
   {
    "duration": 26,
    "start_time": "2021-07-07T18:10:10.530Z"
   },
   {
    "duration": 44,
    "start_time": "2021-07-07T18:10:10.558Z"
   },
   {
    "duration": 7,
    "start_time": "2021-07-07T18:10:10.605Z"
   },
   {
    "duration": 11,
    "start_time": "2021-07-07T18:10:10.614Z"
   },
   {
    "duration": 19,
    "start_time": "2021-07-07T18:10:10.626Z"
   },
   {
    "duration": 44,
    "start_time": "2021-07-07T18:10:10.646Z"
   },
   {
    "duration": 516,
    "start_time": "2021-07-07T18:14:00.826Z"
   },
   {
    "duration": 230,
    "start_time": "2021-07-07T18:14:01.344Z"
   },
   {
    "duration": 105,
    "start_time": "2021-07-07T18:14:01.576Z"
   },
   {
    "duration": 5,
    "start_time": "2021-07-07T18:14:01.683Z"
   },
   {
    "duration": 46,
    "start_time": "2021-07-07T18:14:01.690Z"
   },
   {
    "duration": 7,
    "start_time": "2021-07-07T18:14:01.738Z"
   },
   {
    "duration": 20,
    "start_time": "2021-07-07T18:14:01.747Z"
   },
   {
    "duration": 16,
    "start_time": "2021-07-07T18:14:01.769Z"
   },
   {
    "duration": 14,
    "start_time": "2021-07-07T18:14:01.787Z"
   },
   {
    "duration": 15,
    "start_time": "2021-07-07T18:14:01.803Z"
   },
   {
    "duration": 12,
    "start_time": "2021-07-07T18:14:01.820Z"
   },
   {
    "duration": 35,
    "start_time": "2021-07-07T18:14:01.833Z"
   },
   {
    "duration": 31,
    "start_time": "2021-07-07T18:14:01.869Z"
   },
   {
    "duration": 37,
    "start_time": "2021-07-07T18:14:01.902Z"
   },
   {
    "duration": 8,
    "start_time": "2021-07-07T18:14:01.942Z"
   },
   {
    "duration": 16,
    "start_time": "2021-07-07T18:14:01.952Z"
   },
   {
    "duration": 13,
    "start_time": "2021-07-07T18:14:01.970Z"
   },
   {
    "duration": 32,
    "start_time": "2021-07-07T18:14:01.985Z"
   },
   {
    "duration": 11,
    "start_time": "2021-07-07T18:14:02.019Z"
   },
   {
    "duration": 22,
    "start_time": "2021-07-07T18:14:02.031Z"
   },
   {
    "duration": 27,
    "start_time": "2021-07-07T18:14:02.055Z"
   },
   {
    "duration": 18,
    "start_time": "2021-07-07T18:14:02.084Z"
   },
   {
    "duration": 18,
    "start_time": "2021-07-07T18:14:02.106Z"
   },
   {
    "duration": 11,
    "start_time": "2021-07-07T18:14:02.126Z"
   },
   {
    "duration": 21,
    "start_time": "2021-07-07T18:14:02.138Z"
   },
   {
    "duration": 32,
    "start_time": "2021-07-07T18:14:02.161Z"
   },
   {
    "duration": 28,
    "start_time": "2021-07-07T18:14:44.295Z"
   },
   {
    "duration": 6,
    "start_time": "2021-07-07T18:15:05.834Z"
   },
   {
    "duration": 511,
    "start_time": "2021-07-07T18:15:41.541Z"
   },
   {
    "duration": 183,
    "start_time": "2021-07-07T18:15:42.054Z"
   },
   {
    "duration": 50,
    "start_time": "2021-07-07T18:15:42.239Z"
   },
   {
    "duration": 5,
    "start_time": "2021-07-07T18:15:42.291Z"
   },
   {
    "duration": 48,
    "start_time": "2021-07-07T18:15:42.297Z"
   },
   {
    "duration": 8,
    "start_time": "2021-07-07T18:15:42.346Z"
   },
   {
    "duration": 17,
    "start_time": "2021-07-07T18:15:42.356Z"
   },
   {
    "duration": 15,
    "start_time": "2021-07-07T18:15:42.375Z"
   },
   {
    "duration": 12,
    "start_time": "2021-07-07T18:15:42.392Z"
   },
   {
    "duration": 7,
    "start_time": "2021-07-07T18:15:42.406Z"
   },
   {
    "duration": 7,
    "start_time": "2021-07-07T18:15:42.415Z"
   },
   {
    "duration": 29,
    "start_time": "2021-07-07T18:15:42.423Z"
   },
   {
    "duration": 43,
    "start_time": "2021-07-07T18:15:42.453Z"
   },
   {
    "duration": 18,
    "start_time": "2021-07-07T18:15:42.497Z"
   },
   {
    "duration": 6,
    "start_time": "2021-07-07T18:15:42.516Z"
   },
   {
    "duration": 3,
    "start_time": "2021-07-07T18:15:42.523Z"
   },
   {
    "duration": 18,
    "start_time": "2021-07-07T18:15:42.528Z"
   },
   {
    "duration": 10,
    "start_time": "2021-07-07T18:15:42.547Z"
   },
   {
    "duration": 36,
    "start_time": "2021-07-07T18:15:42.559Z"
   },
   {
    "duration": 8,
    "start_time": "2021-07-07T18:15:42.597Z"
   },
   {
    "duration": 28,
    "start_time": "2021-07-07T18:15:42.606Z"
   },
   {
    "duration": 52,
    "start_time": "2021-07-07T18:15:42.635Z"
   },
   {
    "duration": 7,
    "start_time": "2021-07-07T18:15:42.690Z"
   },
   {
    "duration": 10,
    "start_time": "2021-07-07T18:15:42.699Z"
   },
   {
    "duration": 19,
    "start_time": "2021-07-07T18:15:42.711Z"
   },
   {
    "duration": 9,
    "start_time": "2021-07-07T18:15:42.732Z"
   },
   {
    "duration": 5,
    "start_time": "2021-07-07T18:15:42.743Z"
   },
   {
    "duration": 1450,
    "start_time": "2021-07-07T18:15:51.984Z"
   },
   {
    "duration": 161,
    "start_time": "2021-07-07T18:15:53.435Z"
   },
   {
    "duration": 124,
    "start_time": "2021-07-07T18:15:53.598Z"
   },
   {
    "duration": 5,
    "start_time": "2021-07-07T18:15:53.724Z"
   },
   {
    "duration": 34,
    "start_time": "2021-07-07T18:15:53.730Z"
   },
   {
    "duration": 7,
    "start_time": "2021-07-07T18:15:53.765Z"
   },
   {
    "duration": 15,
    "start_time": "2021-07-07T18:15:53.773Z"
   },
   {
    "duration": 5,
    "start_time": "2021-07-07T18:15:53.791Z"
   },
   {
    "duration": 19,
    "start_time": "2021-07-07T18:15:53.798Z"
   },
   {
    "duration": 9,
    "start_time": "2021-07-07T18:15:53.818Z"
   },
   {
    "duration": 19,
    "start_time": "2021-07-07T18:15:53.828Z"
   },
   {
    "duration": 27,
    "start_time": "2021-07-07T18:15:53.848Z"
   },
   {
    "duration": 16,
    "start_time": "2021-07-07T18:15:53.884Z"
   },
   {
    "duration": 29,
    "start_time": "2021-07-07T18:15:53.901Z"
   },
   {
    "duration": 5,
    "start_time": "2021-07-07T18:15:53.932Z"
   },
   {
    "duration": 15,
    "start_time": "2021-07-07T18:15:53.939Z"
   },
   {
    "duration": 13,
    "start_time": "2021-07-07T18:15:53.956Z"
   },
   {
    "duration": 20,
    "start_time": "2021-07-07T18:15:53.971Z"
   },
   {
    "duration": 14,
    "start_time": "2021-07-07T18:15:53.992Z"
   },
   {
    "duration": 9,
    "start_time": "2021-07-07T18:15:54.009Z"
   },
   {
    "duration": 28,
    "start_time": "2021-07-07T18:15:54.020Z"
   },
   {
    "duration": 50,
    "start_time": "2021-07-07T18:15:54.051Z"
   },
   {
    "duration": 8,
    "start_time": "2021-07-07T18:15:54.105Z"
   },
   {
    "duration": 11,
    "start_time": "2021-07-07T18:15:54.115Z"
   },
   {
    "duration": 20,
    "start_time": "2021-07-07T18:15:54.128Z"
   },
   {
    "duration": 13,
    "start_time": "2021-07-07T18:15:54.184Z"
   },
   {
    "duration": 7,
    "start_time": "2021-07-07T18:15:54.199Z"
   },
   {
    "duration": 7,
    "start_time": "2021-07-07T18:17:08.042Z"
   },
   {
    "duration": 8,
    "start_time": "2021-07-07T18:17:21.008Z"
   },
   {
    "duration": 7,
    "start_time": "2021-07-07T18:17:29.003Z"
   },
   {
    "duration": 8,
    "start_time": "2021-07-07T18:17:32.492Z"
   },
   {
    "duration": 9,
    "start_time": "2021-07-07T18:17:41.758Z"
   },
   {
    "duration": 255,
    "start_time": "2021-07-07T18:20:20.897Z"
   },
   {
    "duration": 173,
    "start_time": "2021-07-07T18:20:26.636Z"
   },
   {
    "duration": 7,
    "start_time": "2021-07-07T18:21:47.164Z"
   },
   {
    "duration": 254,
    "start_time": "2021-07-07T18:23:08.703Z"
   },
   {
    "duration": 21,
    "start_time": "2021-07-07T18:23:22.506Z"
   },
   {
    "duration": 315,
    "start_time": "2021-07-07T18:25:54.801Z"
   },
   {
    "duration": 34,
    "start_time": "2021-07-07T18:26:51.817Z"
   },
   {
    "duration": 327,
    "start_time": "2021-07-07T18:26:56.147Z"
   },
   {
    "duration": 342,
    "start_time": "2021-07-07T18:27:15.887Z"
   },
   {
    "duration": 302,
    "start_time": "2021-07-07T18:28:18.569Z"
   },
   {
    "duration": 226,
    "start_time": "2021-07-07T18:29:20.879Z"
   },
   {
    "duration": 207,
    "start_time": "2021-07-07T18:29:58.114Z"
   },
   {
    "duration": 140,
    "start_time": "2021-07-07T18:32:04.372Z"
   },
   {
    "duration": 158,
    "start_time": "2021-07-07T18:32:32.508Z"
   },
   {
    "duration": 145,
    "start_time": "2021-07-07T18:32:41.365Z"
   },
   {
    "duration": 132,
    "start_time": "2021-07-07T18:32:45.199Z"
   },
   {
    "duration": 11,
    "start_time": "2021-07-07T18:35:24.679Z"
   },
   {
    "duration": 268,
    "start_time": "2021-07-07T18:36:16.145Z"
   },
   {
    "duration": 227,
    "start_time": "2021-07-07T18:37:04.918Z"
   },
   {
    "duration": 3,
    "start_time": "2021-07-07T18:37:33.012Z"
   },
   {
    "duration": 671,
    "start_time": "2021-07-07T18:37:38.295Z"
   },
   {
    "duration": 54,
    "start_time": "2021-07-07T18:37:53.406Z"
   },
   {
    "duration": 631,
    "start_time": "2021-07-07T18:37:56.463Z"
   },
   {
    "duration": 19,
    "start_time": "2021-07-07T18:39:40.535Z"
   },
   {
    "duration": 20,
    "start_time": "2021-07-07T18:40:12.236Z"
   },
   {
    "duration": 633,
    "start_time": "2021-07-07T18:42:00.398Z"
   },
   {
    "duration": 218,
    "start_time": "2021-07-07T18:42:01.033Z"
   },
   {
    "duration": 49,
    "start_time": "2021-07-07T18:42:01.253Z"
   },
   {
    "duration": 5,
    "start_time": "2021-07-07T18:42:01.303Z"
   },
   {
    "duration": 27,
    "start_time": "2021-07-07T18:42:01.310Z"
   },
   {
    "duration": 8,
    "start_time": "2021-07-07T18:42:01.339Z"
   },
   {
    "duration": 20,
    "start_time": "2021-07-07T18:42:01.348Z"
   },
   {
    "duration": 6,
    "start_time": "2021-07-07T18:42:01.386Z"
   },
   {
    "duration": 16,
    "start_time": "2021-07-07T18:42:01.394Z"
   },
   {
    "duration": 9,
    "start_time": "2021-07-07T18:42:01.411Z"
   },
   {
    "duration": 11,
    "start_time": "2021-07-07T18:42:01.421Z"
   },
   {
    "duration": 31,
    "start_time": "2021-07-07T18:42:01.434Z"
   },
   {
    "duration": 18,
    "start_time": "2021-07-07T18:42:01.485Z"
   },
   {
    "duration": 23,
    "start_time": "2021-07-07T18:42:01.505Z"
   },
   {
    "duration": 6,
    "start_time": "2021-07-07T18:42:01.530Z"
   },
   {
    "duration": 10,
    "start_time": "2021-07-07T18:42:01.538Z"
   },
   {
    "duration": 13,
    "start_time": "2021-07-07T18:42:01.550Z"
   },
   {
    "duration": 24,
    "start_time": "2021-07-07T18:42:01.564Z"
   },
   {
    "duration": 20,
    "start_time": "2021-07-07T18:42:01.590Z"
   },
   {
    "duration": 8,
    "start_time": "2021-07-07T18:42:01.611Z"
   },
   {
    "duration": 31,
    "start_time": "2021-07-07T18:42:01.620Z"
   },
   {
    "duration": 39,
    "start_time": "2021-07-07T18:42:01.653Z"
   },
   {
    "duration": 8,
    "start_time": "2021-07-07T18:42:01.696Z"
   },
   {
    "duration": 13,
    "start_time": "2021-07-07T18:42:01.705Z"
   },
   {
    "duration": 20,
    "start_time": "2021-07-07T18:42:01.720Z"
   },
   {
    "duration": 12,
    "start_time": "2021-07-07T18:42:01.741Z"
   },
   {
    "duration": 35,
    "start_time": "2021-07-07T18:42:01.755Z"
   },
   {
    "duration": 14,
    "start_time": "2021-07-07T18:42:01.792Z"
   },
   {
    "duration": 188,
    "start_time": "2021-07-07T18:42:01.808Z"
   },
   {
    "duration": 19,
    "start_time": "2021-07-07T18:42:01.998Z"
   },
   {
    "duration": 175,
    "start_time": "2021-07-07T18:42:02.019Z"
   },
   {
    "duration": 134,
    "start_time": "2021-07-07T18:42:02.196Z"
   },
   {
    "duration": 10,
    "start_time": "2021-07-07T18:42:02.331Z"
   },
   {
    "duration": 19,
    "start_time": "2021-07-07T18:42:02.343Z"
   },
   {
    "duration": 628,
    "start_time": "2021-07-07T18:46:30.701Z"
   },
   {
    "duration": 183,
    "start_time": "2021-07-07T18:46:31.331Z"
   },
   {
    "duration": 48,
    "start_time": "2021-07-07T18:46:31.516Z"
   },
   {
    "duration": 5,
    "start_time": "2021-07-07T18:46:31.566Z"
   },
   {
    "duration": 28,
    "start_time": "2021-07-07T18:46:31.572Z"
   },
   {
    "duration": 8,
    "start_time": "2021-07-07T18:46:31.602Z"
   },
   {
    "duration": 19,
    "start_time": "2021-07-07T18:46:31.611Z"
   },
   {
    "duration": 6,
    "start_time": "2021-07-07T18:46:31.633Z"
   },
   {
    "duration": 17,
    "start_time": "2021-07-07T18:46:31.642Z"
   },
   {
    "duration": 10,
    "start_time": "2021-07-07T18:46:31.684Z"
   },
   {
    "duration": 9,
    "start_time": "2021-07-07T18:46:31.695Z"
   },
   {
    "duration": 28,
    "start_time": "2021-07-07T18:46:31.705Z"
   },
   {
    "duration": 18,
    "start_time": "2021-07-07T18:46:31.735Z"
   },
   {
    "duration": 48,
    "start_time": "2021-07-07T18:46:31.755Z"
   },
   {
    "duration": 6,
    "start_time": "2021-07-07T18:46:31.804Z"
   },
   {
    "duration": 4,
    "start_time": "2021-07-07T18:46:31.812Z"
   },
   {
    "duration": 9,
    "start_time": "2021-07-07T18:46:31.817Z"
   },
   {
    "duration": 10,
    "start_time": "2021-07-07T18:46:31.827Z"
   },
   {
    "duration": 12,
    "start_time": "2021-07-07T18:46:31.838Z"
   },
   {
    "duration": 39,
    "start_time": "2021-07-07T18:46:31.851Z"
   },
   {
    "duration": 24,
    "start_time": "2021-07-07T18:46:31.892Z"
   },
   {
    "duration": 15,
    "start_time": "2021-07-07T18:46:31.918Z"
   },
   {
    "duration": 7,
    "start_time": "2021-07-07T18:46:31.936Z"
   },
   {
    "duration": 8,
    "start_time": "2021-07-07T18:46:31.944Z"
   },
   {
    "duration": 19,
    "start_time": "2021-07-07T18:46:31.984Z"
   },
   {
    "duration": 10,
    "start_time": "2021-07-07T18:46:32.004Z"
   },
   {
    "duration": 5,
    "start_time": "2021-07-07T18:46:32.016Z"
   },
   {
    "duration": 9,
    "start_time": "2021-07-07T18:46:32.023Z"
   },
   {
    "duration": 199,
    "start_time": "2021-07-07T18:46:32.033Z"
   },
   {
    "duration": 19,
    "start_time": "2021-07-07T18:46:32.234Z"
   },
   {
    "duration": 159,
    "start_time": "2021-07-07T18:46:32.255Z"
   },
   {
    "duration": 134,
    "start_time": "2021-07-07T18:46:32.416Z"
   },
   {
    "duration": 10,
    "start_time": "2021-07-07T18:46:32.552Z"
   },
   {
    "duration": 34,
    "start_time": "2021-07-07T18:46:32.563Z"
   },
   {
    "duration": 1039,
    "start_time": "2021-07-08T08:41:09.419Z"
   },
   {
    "duration": 333,
    "start_time": "2021-07-08T08:41:10.459Z"
   },
   {
    "duration": 173,
    "start_time": "2021-07-08T08:41:10.794Z"
   },
   {
    "duration": 5,
    "start_time": "2021-07-08T08:41:10.968Z"
   },
   {
    "duration": 25,
    "start_time": "2021-07-08T08:41:10.975Z"
   },
   {
    "duration": 9,
    "start_time": "2021-07-08T08:41:11.002Z"
   },
   {
    "duration": 18,
    "start_time": "2021-07-08T08:41:11.013Z"
   },
   {
    "duration": 6,
    "start_time": "2021-07-08T08:41:11.033Z"
   },
   {
    "duration": 44,
    "start_time": "2021-07-08T08:41:11.042Z"
   },
   {
    "duration": 10,
    "start_time": "2021-07-08T08:41:11.088Z"
   },
   {
    "duration": 9,
    "start_time": "2021-07-08T08:41:11.100Z"
   },
   {
    "duration": 27,
    "start_time": "2021-07-08T08:41:11.111Z"
   },
   {
    "duration": 46,
    "start_time": "2021-07-08T08:41:11.140Z"
   },
   {
    "duration": 17,
    "start_time": "2021-07-08T08:41:11.187Z"
   },
   {
    "duration": 6,
    "start_time": "2021-07-08T08:41:11.206Z"
   },
   {
    "duration": 5,
    "start_time": "2021-07-08T08:41:11.213Z"
   },
   {
    "duration": 10,
    "start_time": "2021-07-08T08:41:11.219Z"
   },
   {
    "duration": 9,
    "start_time": "2021-07-08T08:41:11.230Z"
   },
   {
    "duration": 45,
    "start_time": "2021-07-08T08:41:11.241Z"
   },
   {
    "duration": 7,
    "start_time": "2021-07-08T08:41:11.287Z"
   },
   {
    "duration": 24,
    "start_time": "2021-07-08T08:41:11.296Z"
   },
   {
    "duration": 16,
    "start_time": "2021-07-08T08:41:11.322Z"
   },
   {
    "duration": 7,
    "start_time": "2021-07-08T08:41:11.341Z"
   },
   {
    "duration": 41,
    "start_time": "2021-07-08T08:41:11.349Z"
   },
   {
    "duration": 17,
    "start_time": "2021-07-08T08:41:11.391Z"
   },
   {
    "duration": 9,
    "start_time": "2021-07-08T08:41:11.410Z"
   },
   {
    "duration": 5,
    "start_time": "2021-07-08T08:41:11.421Z"
   },
   {
    "duration": 6,
    "start_time": "2021-07-08T08:41:11.428Z"
   },
   {
    "duration": 198,
    "start_time": "2021-07-08T08:41:11.435Z"
   },
   {
    "duration": 18,
    "start_time": "2021-07-08T08:41:11.635Z"
   },
   {
    "duration": 155,
    "start_time": "2021-07-08T08:41:11.655Z"
   },
   {
    "duration": 138,
    "start_time": "2021-07-08T08:41:11.811Z"
   },
   {
    "duration": 10,
    "start_time": "2021-07-08T08:41:11.950Z"
   },
   {
    "duration": 29,
    "start_time": "2021-07-08T08:41:11.961Z"
   },
   {
    "duration": 171,
    "start_time": "2021-07-08T08:47:44.522Z"
   },
   {
    "duration": 124,
    "start_time": "2021-07-08T08:47:46.872Z"
   },
   {
    "duration": 191,
    "start_time": "2021-07-08T08:47:58.148Z"
   },
   {
    "duration": 191,
    "start_time": "2021-07-08T08:48:07.412Z"
   },
   {
    "duration": 261,
    "start_time": "2021-07-08T08:48:10.385Z"
   },
   {
    "duration": 255,
    "start_time": "2021-07-08T08:48:14.494Z"
   },
   {
    "duration": 219,
    "start_time": "2021-07-08T08:48:22.752Z"
   },
   {
    "duration": 173,
    "start_time": "2021-07-08T08:49:06.395Z"
   },
   {
    "duration": 180,
    "start_time": "2021-07-08T08:49:21.011Z"
   },
   {
    "duration": 6,
    "start_time": "2021-07-08T08:50:31.697Z"
   },
   {
    "duration": 10,
    "start_time": "2021-07-08T08:50:47.394Z"
   },
   {
    "duration": 11,
    "start_time": "2021-07-08T08:53:49.332Z"
   },
   {
    "duration": 171,
    "start_time": "2021-07-08T08:54:28.408Z"
   },
   {
    "duration": 636,
    "start_time": "2021-07-08T09:02:48.385Z"
   },
   {
    "duration": 227,
    "start_time": "2021-07-08T09:02:49.023Z"
   },
   {
    "duration": 104,
    "start_time": "2021-07-08T09:02:49.252Z"
   },
   {
    "duration": 5,
    "start_time": "2021-07-08T09:02:49.358Z"
   },
   {
    "duration": 27,
    "start_time": "2021-07-08T09:02:49.365Z"
   },
   {
    "duration": 8,
    "start_time": "2021-07-08T09:02:49.394Z"
   },
   {
    "duration": 18,
    "start_time": "2021-07-08T09:02:49.404Z"
   },
   {
    "duration": 6,
    "start_time": "2021-07-08T09:02:49.424Z"
   },
   {
    "duration": 11,
    "start_time": "2021-07-08T09:02:49.433Z"
   },
   {
    "duration": 13,
    "start_time": "2021-07-08T09:02:49.485Z"
   },
   {
    "duration": 9,
    "start_time": "2021-07-08T09:02:49.500Z"
   },
   {
    "duration": 38,
    "start_time": "2021-07-08T09:02:49.511Z"
   },
   {
    "duration": 42,
    "start_time": "2021-07-08T09:02:49.551Z"
   },
   {
    "duration": 21,
    "start_time": "2021-07-08T09:02:49.594Z"
   },
   {
    "duration": 6,
    "start_time": "2021-07-08T09:02:49.616Z"
   },
   {
    "duration": 3,
    "start_time": "2021-07-08T09:02:49.623Z"
   },
   {
    "duration": 9,
    "start_time": "2021-07-08T09:02:49.628Z"
   },
   {
    "duration": 52,
    "start_time": "2021-07-08T09:02:49.638Z"
   },
   {
    "duration": 11,
    "start_time": "2021-07-08T09:02:49.692Z"
   },
   {
    "duration": 8,
    "start_time": "2021-07-08T09:02:49.704Z"
   },
   {
    "duration": 27,
    "start_time": "2021-07-08T09:02:49.713Z"
   },
   {
    "duration": 59,
    "start_time": "2021-07-08T09:02:49.741Z"
   },
   {
    "duration": 8,
    "start_time": "2021-07-08T09:02:49.803Z"
   },
   {
    "duration": 14,
    "start_time": "2021-07-08T09:02:49.813Z"
   },
   {
    "duration": 20,
    "start_time": "2021-07-08T09:02:49.829Z"
   },
   {
    "duration": 44,
    "start_time": "2021-07-08T09:02:49.851Z"
   },
   {
    "duration": 14,
    "start_time": "2021-07-08T09:02:49.896Z"
   },
   {
    "duration": 221,
    "start_time": "2021-07-08T09:02:49.912Z"
   },
   {
    "duration": 6,
    "start_time": "2021-07-08T09:02:50.134Z"
   },
   {
    "duration": 206,
    "start_time": "2021-07-08T09:02:50.142Z"
   },
   {
    "duration": 19,
    "start_time": "2021-07-08T09:02:50.350Z"
   },
   {
    "duration": 21,
    "start_time": "2021-07-08T09:02:50.370Z"
   },
   {
    "duration": 20,
    "start_time": "2021-07-08T09:02:50.393Z"
   },
   {
    "duration": 5,
    "start_time": "2021-07-08T09:02:50.414Z"
   },
   {
    "duration": 5,
    "start_time": "2021-07-08T09:03:34.173Z"
   },
   {
    "duration": 6,
    "start_time": "2021-07-08T09:04:49.062Z"
   },
   {
    "duration": 9,
    "start_time": "2021-07-08T09:04:50.118Z"
   },
   {
    "duration": 14,
    "start_time": "2021-07-08T09:04:58.512Z"
   },
   {
    "duration": 9,
    "start_time": "2021-07-08T09:05:10.988Z"
   },
   {
    "duration": 11,
    "start_time": "2021-07-08T09:05:11.743Z"
   },
   {
    "duration": 7,
    "start_time": "2021-07-08T09:05:25.677Z"
   },
   {
    "duration": 13,
    "start_time": "2021-07-08T09:05:47.189Z"
   },
   {
    "duration": 13,
    "start_time": "2021-07-08T09:05:54.755Z"
   },
   {
    "duration": 4,
    "start_time": "2021-07-08T09:06:29.189Z"
   },
   {
    "duration": 244,
    "start_time": "2021-07-08T09:06:29.195Z"
   },
   {
    "duration": 91,
    "start_time": "2021-07-08T09:06:29.441Z"
   },
   {
    "duration": 4,
    "start_time": "2021-07-08T09:06:29.534Z"
   },
   {
    "duration": 28,
    "start_time": "2021-07-08T09:06:29.540Z"
   },
   {
    "duration": 6,
    "start_time": "2021-07-08T09:06:29.570Z"
   },
   {
    "duration": 18,
    "start_time": "2021-07-08T09:06:29.578Z"
   },
   {
    "duration": 5,
    "start_time": "2021-07-08T09:06:29.597Z"
   },
   {
    "duration": 13,
    "start_time": "2021-07-08T09:06:29.605Z"
   },
   {
    "duration": 8,
    "start_time": "2021-07-08T09:06:29.620Z"
   },
   {
    "duration": 7,
    "start_time": "2021-07-08T09:06:29.630Z"
   },
   {
    "duration": 63,
    "start_time": "2021-07-08T09:06:29.639Z"
   },
   {
    "duration": 17,
    "start_time": "2021-07-08T09:06:29.704Z"
   },
   {
    "duration": 20,
    "start_time": "2021-07-08T09:06:29.723Z"
   },
   {
    "duration": 6,
    "start_time": "2021-07-08T09:06:29.745Z"
   },
   {
    "duration": 3,
    "start_time": "2021-07-08T09:06:29.752Z"
   },
   {
    "duration": 7,
    "start_time": "2021-07-08T09:06:29.785Z"
   },
   {
    "duration": 11,
    "start_time": "2021-07-08T09:06:29.794Z"
   },
   {
    "duration": 15,
    "start_time": "2021-07-08T09:06:29.807Z"
   },
   {
    "duration": 8,
    "start_time": "2021-07-08T09:06:29.823Z"
   },
   {
    "duration": 70,
    "start_time": "2021-07-08T09:06:29.832Z"
   },
   {
    "duration": 17,
    "start_time": "2021-07-08T09:06:29.903Z"
   },
   {
    "duration": 9,
    "start_time": "2021-07-08T09:06:29.921Z"
   },
   {
    "duration": 9,
    "start_time": "2021-07-08T09:06:29.932Z"
   },
   {
    "duration": 57,
    "start_time": "2021-07-08T09:06:29.942Z"
   },
   {
    "duration": 11,
    "start_time": "2021-07-08T09:06:30.001Z"
   },
   {
    "duration": 19,
    "start_time": "2021-07-08T09:06:30.016Z"
   },
   {
    "duration": 217,
    "start_time": "2021-07-08T09:06:30.037Z"
   },
   {
    "duration": 6,
    "start_time": "2021-07-08T09:06:30.255Z"
   },
   {
    "duration": 205,
    "start_time": "2021-07-08T09:06:30.263Z"
   },
   {
    "duration": 27,
    "start_time": "2021-07-08T09:06:30.470Z"
   },
   {
    "duration": 11,
    "start_time": "2021-07-08T09:06:30.500Z"
   },
   {
    "duration": 31,
    "start_time": "2021-07-08T09:06:30.513Z"
   },
   {
    "duration": 18,
    "start_time": "2021-07-08T09:06:30.546Z"
   },
   {
    "duration": 11,
    "start_time": "2021-07-08T09:06:30.566Z"
   },
   {
    "duration": 19,
    "start_time": "2021-07-08T09:06:30.579Z"
   },
   {
    "duration": 20,
    "start_time": "2021-07-08T09:06:49.466Z"
   },
   {
    "duration": 9,
    "start_time": "2021-07-08T09:06:51.994Z"
   },
   {
    "duration": 20,
    "start_time": "2021-07-08T09:06:52.273Z"
   },
   {
    "duration": 246,
    "start_time": "2021-07-08T09:10:21.272Z"
   },
   {
    "duration": 84,
    "start_time": "2021-07-08T09:10:21.436Z"
   },
   {
    "duration": 7,
    "start_time": "2021-07-08T09:10:37.608Z"
   },
   {
    "duration": 189,
    "start_time": "2021-07-08T09:10:38.573Z"
   },
   {
    "duration": 185,
    "start_time": "2021-07-08T09:10:53.181Z"
   },
   {
    "duration": 11,
    "start_time": "2021-07-08T09:10:59.549Z"
   },
   {
    "duration": 42,
    "start_time": "2021-07-08T09:10:59.709Z"
   },
   {
    "duration": 12,
    "start_time": "2021-07-08T09:11:02.857Z"
   },
   {
    "duration": 28,
    "start_time": "2021-07-08T09:11:10.062Z"
   },
   {
    "duration": 249,
    "start_time": "2021-07-08T09:11:37.388Z"
   },
   {
    "duration": 232,
    "start_time": "2021-07-08T09:11:49.485Z"
   },
   {
    "duration": 453,
    "start_time": "2021-07-08T09:12:01.546Z"
   },
   {
    "duration": 440,
    "start_time": "2021-07-08T09:12:12.347Z"
   },
   {
    "duration": 213,
    "start_time": "2021-07-08T09:13:32.196Z"
   },
   {
    "duration": 172,
    "start_time": "2021-07-08T09:14:07.400Z"
   },
   {
    "duration": 185,
    "start_time": "2021-07-08T09:14:14.905Z"
   },
   {
    "duration": 209,
    "start_time": "2021-07-08T09:14:40.109Z"
   },
   {
    "duration": 201,
    "start_time": "2021-07-08T09:14:54.506Z"
   },
   {
    "duration": 622,
    "start_time": "2021-07-08T09:18:14.497Z"
   },
   {
    "duration": 220,
    "start_time": "2021-07-08T09:18:15.121Z"
   },
   {
    "duration": 79,
    "start_time": "2021-07-08T09:18:15.343Z"
   },
   {
    "duration": 4,
    "start_time": "2021-07-08T09:18:15.425Z"
   },
   {
    "duration": 24,
    "start_time": "2021-07-08T09:18:15.431Z"
   },
   {
    "duration": 8,
    "start_time": "2021-07-08T09:18:15.457Z"
   },
   {
    "duration": 16,
    "start_time": "2021-07-08T09:18:15.466Z"
   },
   {
    "duration": 5,
    "start_time": "2021-07-08T09:18:15.484Z"
   },
   {
    "duration": 10,
    "start_time": "2021-07-08T09:18:15.493Z"
   },
   {
    "duration": 8,
    "start_time": "2021-07-08T09:18:15.504Z"
   },
   {
    "duration": 7,
    "start_time": "2021-07-08T09:18:15.513Z"
   },
   {
    "duration": 26,
    "start_time": "2021-07-08T09:18:15.522Z"
   },
   {
    "duration": 49,
    "start_time": "2021-07-08T09:18:15.550Z"
   },
   {
    "duration": 21,
    "start_time": "2021-07-08T09:18:15.601Z"
   },
   {
    "duration": 8,
    "start_time": "2021-07-08T09:18:15.624Z"
   },
   {
    "duration": 3,
    "start_time": "2021-07-08T09:18:15.634Z"
   },
   {
    "duration": 8,
    "start_time": "2021-07-08T09:18:15.639Z"
   },
   {
    "duration": 45,
    "start_time": "2021-07-08T09:18:15.649Z"
   },
   {
    "duration": 13,
    "start_time": "2021-07-08T09:18:15.696Z"
   },
   {
    "duration": 10,
    "start_time": "2021-07-08T09:18:15.711Z"
   },
   {
    "duration": 64,
    "start_time": "2021-07-08T09:18:15.722Z"
   },
   {
    "duration": 19,
    "start_time": "2021-07-08T09:18:15.788Z"
   },
   {
    "duration": 9,
    "start_time": "2021-07-08T09:18:15.809Z"
   },
   {
    "duration": 9,
    "start_time": "2021-07-08T09:18:15.820Z"
   },
   {
    "duration": 18,
    "start_time": "2021-07-08T09:18:15.831Z"
   },
   {
    "duration": 43,
    "start_time": "2021-07-08T09:18:15.851Z"
   },
   {
    "duration": 12,
    "start_time": "2021-07-08T09:18:15.897Z"
   },
   {
    "duration": 219,
    "start_time": "2021-07-08T09:18:15.911Z"
   },
   {
    "duration": 8,
    "start_time": "2021-07-08T09:18:16.132Z"
   },
   {
    "duration": 199,
    "start_time": "2021-07-08T09:18:16.141Z"
   },
   {
    "duration": 18,
    "start_time": "2021-07-08T09:18:16.341Z"
   },
   {
    "duration": 24,
    "start_time": "2021-07-08T09:18:16.361Z"
   },
   {
    "duration": 24,
    "start_time": "2021-07-08T09:18:16.387Z"
   },
   {
    "duration": 211,
    "start_time": "2021-07-08T09:18:16.413Z"
   },
   {
    "duration": 18,
    "start_time": "2021-07-08T09:18:16.626Z"
   },
   {
    "duration": 596,
    "start_time": "2021-07-08T10:06:33.623Z"
   },
   {
    "duration": 181,
    "start_time": "2021-07-08T10:06:34.221Z"
   },
   {
    "duration": 176,
    "start_time": "2021-07-08T10:06:34.635Z"
   },
   {
    "duration": 239,
    "start_time": "2021-07-08T10:06:55.572Z"
   },
   {
    "duration": 6,
    "start_time": "2021-07-08T10:06:57.687Z"
   },
   {
    "duration": 4,
    "start_time": "2021-07-08T10:07:03.956Z"
   },
   {
    "duration": 4,
    "start_time": "2021-07-08T10:07:10.376Z"
   },
   {
    "duration": 4,
    "start_time": "2021-07-08T10:17:19.889Z"
   },
   {
    "duration": 3,
    "start_time": "2021-07-08T10:19:19.407Z"
   },
   {
    "duration": 197,
    "start_time": "2021-07-08T10:19:19.412Z"
   },
   {
    "duration": 127,
    "start_time": "2021-07-08T10:19:19.611Z"
   },
   {
    "duration": 4,
    "start_time": "2021-07-08T10:19:19.740Z"
   },
   {
    "duration": 27,
    "start_time": "2021-07-08T10:19:19.746Z"
   },
   {
    "duration": 7,
    "start_time": "2021-07-08T10:19:19.775Z"
   },
   {
    "duration": 30,
    "start_time": "2021-07-08T10:19:19.784Z"
   },
   {
    "duration": 7,
    "start_time": "2021-07-08T10:19:19.817Z"
   },
   {
    "duration": 26,
    "start_time": "2021-07-08T10:19:19.826Z"
   },
   {
    "duration": 18,
    "start_time": "2021-07-08T10:19:19.854Z"
   },
   {
    "duration": 14,
    "start_time": "2021-07-08T10:19:19.874Z"
   },
   {
    "duration": 48,
    "start_time": "2021-07-08T10:19:19.890Z"
   },
   {
    "duration": 17,
    "start_time": "2021-07-08T10:19:19.940Z"
   },
   {
    "duration": 38,
    "start_time": "2021-07-08T10:19:19.959Z"
   },
   {
    "duration": 8,
    "start_time": "2021-07-08T10:19:19.999Z"
   },
   {
    "duration": 15,
    "start_time": "2021-07-08T10:19:20.009Z"
   },
   {
    "duration": 22,
    "start_time": "2021-07-08T10:19:20.026Z"
   },
   {
    "duration": 10,
    "start_time": "2021-07-08T10:19:20.050Z"
   },
   {
    "duration": 10,
    "start_time": "2021-07-08T10:19:20.062Z"
   },
   {
    "duration": 20,
    "start_time": "2021-07-08T10:19:20.073Z"
   },
   {
    "duration": 29,
    "start_time": "2021-07-08T10:19:20.095Z"
   },
   {
    "duration": 17,
    "start_time": "2021-07-08T10:19:20.126Z"
   },
   {
    "duration": 40,
    "start_time": "2021-07-08T10:19:20.146Z"
   },
   {
    "duration": 15,
    "start_time": "2021-07-08T10:19:20.189Z"
   },
   {
    "duration": 19,
    "start_time": "2021-07-08T10:19:20.206Z"
   },
   {
    "duration": 10,
    "start_time": "2021-07-08T10:19:20.226Z"
   },
   {
    "duration": 11,
    "start_time": "2021-07-08T10:19:20.238Z"
   },
   {
    "duration": 297,
    "start_time": "2021-07-08T10:19:20.250Z"
   },
   {
    "duration": 6,
    "start_time": "2021-07-08T10:19:20.549Z"
   },
   {
    "duration": 191,
    "start_time": "2021-07-08T10:19:20.557Z"
   },
   {
    "duration": 19,
    "start_time": "2021-07-08T10:19:20.750Z"
   },
   {
    "duration": 20,
    "start_time": "2021-07-08T10:19:20.771Z"
   },
   {
    "duration": 15,
    "start_time": "2021-07-08T10:19:20.793Z"
   },
   {
    "duration": 222,
    "start_time": "2021-07-08T10:19:20.809Z"
   },
   {
    "duration": 20,
    "start_time": "2021-07-08T10:19:21.033Z"
   },
   {
    "duration": 27,
    "start_time": "2021-07-08T10:45:04.055Z"
   },
   {
    "duration": 8,
    "start_time": "2021-07-08T10:45:08.478Z"
   },
   {
    "duration": 8,
    "start_time": "2021-07-08T10:45:31.982Z"
   },
   {
    "duration": 10,
    "start_time": "2021-07-08T10:46:01.221Z"
   },
   {
    "duration": 17,
    "start_time": "2021-07-08T10:46:40.011Z"
   },
   {
    "duration": 193,
    "start_time": "2021-07-08T10:48:19.471Z"
   },
   {
    "duration": 225,
    "start_time": "2021-07-08T10:49:26.480Z"
   },
   {
    "duration": 204,
    "start_time": "2021-07-08T10:49:59.992Z"
   },
   {
    "duration": 435,
    "start_time": "2021-07-08T10:50:06.779Z"
   },
   {
    "duration": 199,
    "start_time": "2021-07-08T10:50:14.891Z"
   },
   {
    "duration": 204,
    "start_time": "2021-07-08T10:50:18.501Z"
   },
   {
    "duration": 244,
    "start_time": "2021-07-08T10:50:23.359Z"
   },
   {
    "duration": 192,
    "start_time": "2021-07-08T10:50:29.135Z"
   },
   {
    "duration": 218,
    "start_time": "2021-07-08T10:50:33.092Z"
   },
   {
    "duration": 207,
    "start_time": "2021-07-08T10:52:45.381Z"
   },
   {
    "duration": 5,
    "start_time": "2021-07-08T10:53:34.641Z"
   },
   {
    "duration": 196,
    "start_time": "2021-07-08T10:53:41.478Z"
   },
   {
    "duration": 43,
    "start_time": "2021-07-08T10:53:50.335Z"
   },
   {
    "duration": 32,
    "start_time": "2021-07-08T10:53:55.294Z"
   },
   {
    "duration": 55,
    "start_time": "2021-07-08T10:54:09.675Z"
   },
   {
    "duration": 16,
    "start_time": "2021-07-08T10:54:12.260Z"
   },
   {
    "duration": 15,
    "start_time": "2021-07-08T10:54:49.150Z"
   },
   {
    "duration": 20,
    "start_time": "2021-07-08T10:56:07.596Z"
   },
   {
    "duration": 16,
    "start_time": "2021-07-08T10:58:26.276Z"
   },
   {
    "duration": 22,
    "start_time": "2021-07-08T10:59:00.486Z"
   },
   {
    "duration": 18,
    "start_time": "2021-07-08T11:02:09.653Z"
   },
   {
    "duration": 10,
    "start_time": "2021-07-08T11:03:44.331Z"
   },
   {
    "duration": 10,
    "start_time": "2021-07-08T11:03:54.055Z"
   },
   {
    "duration": 12,
    "start_time": "2021-07-08T11:04:41.967Z"
   },
   {
    "duration": 24,
    "start_time": "2021-07-08T11:07:30.732Z"
   },
   {
    "duration": 6,
    "start_time": "2021-07-08T11:07:37.364Z"
   },
   {
    "duration": 16,
    "start_time": "2021-07-08T11:08:01.819Z"
   },
   {
    "duration": 17,
    "start_time": "2021-07-08T11:09:47.488Z"
   },
   {
    "duration": 246,
    "start_time": "2021-07-08T11:10:00.830Z"
   },
   {
    "duration": 18,
    "start_time": "2021-07-08T11:13:55.195Z"
   },
   {
    "duration": 204,
    "start_time": "2021-07-08T11:14:04.951Z"
   },
   {
    "duration": 19,
    "start_time": "2021-07-08T11:15:10.613Z"
   },
   {
    "duration": 680,
    "start_time": "2021-07-08T11:16:25.793Z"
   },
   {
    "duration": 451,
    "start_time": "2021-07-08T11:16:40.313Z"
   },
   {
    "duration": 469,
    "start_time": "2021-07-08T11:17:21.286Z"
   },
   {
    "duration": 20,
    "start_time": "2021-07-08T11:19:12.554Z"
   },
   {
    "duration": 35,
    "start_time": "2021-07-08T11:20:05.484Z"
   },
   {
    "duration": 53,
    "start_time": "2021-07-08T11:21:40.050Z"
   },
   {
    "duration": 13,
    "start_time": "2021-07-08T11:22:26.059Z"
   },
   {
    "duration": 19,
    "start_time": "2021-07-08T11:22:47.419Z"
   },
   {
    "duration": 25,
    "start_time": "2021-07-08T11:23:19.958Z"
   },
   {
    "duration": 29,
    "start_time": "2021-07-08T11:23:25.415Z"
   },
   {
    "duration": 10,
    "start_time": "2021-07-08T11:24:45.138Z"
   },
   {
    "duration": 19,
    "start_time": "2021-07-08T11:24:54.498Z"
   },
   {
    "duration": 12,
    "start_time": "2021-07-08T11:25:32.225Z"
   },
   {
    "duration": 19,
    "start_time": "2021-07-08T11:25:37.092Z"
   },
   {
    "duration": 17,
    "start_time": "2021-07-08T11:25:58.116Z"
   },
   {
    "duration": 15,
    "start_time": "2021-07-08T11:26:02.258Z"
   },
   {
    "duration": 8,
    "start_time": "2021-07-08T11:26:59.682Z"
   },
   {
    "duration": 184,
    "start_time": "2021-07-08T11:27:21.894Z"
   },
   {
    "duration": 8,
    "start_time": "2021-07-08T11:27:23.824Z"
   },
   {
    "duration": 202,
    "start_time": "2021-07-08T11:27:23.962Z"
   },
   {
    "duration": 360,
    "start_time": "2021-07-08T11:28:33.215Z"
   },
   {
    "duration": 231,
    "start_time": "2021-07-08T11:32:05.542Z"
   },
   {
    "duration": 607,
    "start_time": "2021-07-08T11:36:27.854Z"
   },
   {
    "duration": 241,
    "start_time": "2021-07-08T11:36:28.463Z"
   },
   {
    "duration": 67,
    "start_time": "2021-07-08T11:36:28.709Z"
   },
   {
    "duration": 5,
    "start_time": "2021-07-08T11:36:28.778Z"
   },
   {
    "duration": 32,
    "start_time": "2021-07-08T11:36:28.784Z"
   },
   {
    "duration": 11,
    "start_time": "2021-07-08T11:36:28.819Z"
   },
   {
    "duration": 20,
    "start_time": "2021-07-08T11:36:28.834Z"
   },
   {
    "duration": 36,
    "start_time": "2021-07-08T11:36:28.857Z"
   },
   {
    "duration": 16,
    "start_time": "2021-07-08T11:36:28.895Z"
   },
   {
    "duration": 14,
    "start_time": "2021-07-08T11:36:28.913Z"
   },
   {
    "duration": 9,
    "start_time": "2021-07-08T11:36:28.930Z"
   },
   {
    "duration": 55,
    "start_time": "2021-07-08T11:36:28.941Z"
   },
   {
    "duration": 27,
    "start_time": "2021-07-08T11:36:28.999Z"
   },
   {
    "duration": 30,
    "start_time": "2021-07-08T11:36:29.028Z"
   },
   {
    "duration": 31,
    "start_time": "2021-07-08T11:36:29.060Z"
   },
   {
    "duration": 3,
    "start_time": "2021-07-08T11:36:29.093Z"
   },
   {
    "duration": 12,
    "start_time": "2021-07-08T11:36:29.099Z"
   },
   {
    "duration": 11,
    "start_time": "2021-07-08T11:36:29.112Z"
   },
   {
    "duration": 12,
    "start_time": "2021-07-08T11:36:29.125Z"
   },
   {
    "duration": 9,
    "start_time": "2021-07-08T11:36:29.139Z"
   },
   {
    "duration": 31,
    "start_time": "2021-07-08T11:36:29.191Z"
   },
   {
    "duration": 17,
    "start_time": "2021-07-08T11:36:29.226Z"
   },
   {
    "duration": 7,
    "start_time": "2021-07-08T11:36:29.245Z"
   },
   {
    "duration": 10,
    "start_time": "2021-07-08T11:36:29.254Z"
   },
   {
    "duration": 30,
    "start_time": "2021-07-08T11:36:29.292Z"
   },
   {
    "duration": 11,
    "start_time": "2021-07-08T11:36:29.324Z"
   },
   {
    "duration": 11,
    "start_time": "2021-07-08T11:36:29.337Z"
   },
   {
    "duration": 230,
    "start_time": "2021-07-08T11:36:29.349Z"
   },
   {
    "duration": 13,
    "start_time": "2021-07-08T11:36:29.588Z"
   },
   {
    "duration": 205,
    "start_time": "2021-07-08T11:36:29.603Z"
   },
   {
    "duration": 20,
    "start_time": "2021-07-08T11:36:29.810Z"
   },
   {
    "duration": 9,
    "start_time": "2021-07-08T11:36:29.832Z"
   },
   {
    "duration": 16,
    "start_time": "2021-07-08T11:36:29.843Z"
   },
   {
    "duration": 283,
    "start_time": "2021-07-08T11:36:29.861Z"
   },
   {
    "duration": 50,
    "start_time": "2021-07-08T11:36:30.146Z"
   },
   {
    "duration": 14,
    "start_time": "2021-07-08T11:36:30.198Z"
   },
   {
    "duration": 11,
    "start_time": "2021-07-08T11:36:30.214Z"
   },
   {
    "duration": 245,
    "start_time": "2021-07-08T11:36:30.227Z"
   },
   {
    "duration": 439,
    "start_time": "2021-07-08T11:36:30.474Z"
   },
   {
    "duration": 210,
    "start_time": "2021-07-08T11:36:30.915Z"
   },
   {
    "duration": 15,
    "start_time": "2021-07-08T11:36:31.127Z"
   },
   {
    "duration": 17,
    "start_time": "2021-07-08T11:38:20.451Z"
   },
   {
    "duration": 642,
    "start_time": "2021-07-08T11:46:17.881Z"
   },
   {
    "duration": 210,
    "start_time": "2021-07-08T11:46:18.525Z"
   },
   {
    "duration": 104,
    "start_time": "2021-07-08T11:46:18.741Z"
   },
   {
    "duration": 8,
    "start_time": "2021-07-08T11:46:18.847Z"
   },
   {
    "duration": 25,
    "start_time": "2021-07-08T11:46:18.857Z"
   },
   {
    "duration": 14,
    "start_time": "2021-07-08T11:46:18.884Z"
   },
   {
    "duration": 22,
    "start_time": "2021-07-08T11:46:18.900Z"
   },
   {
    "duration": 5,
    "start_time": "2021-07-08T11:46:18.924Z"
   },
   {
    "duration": 13,
    "start_time": "2021-07-08T11:46:18.931Z"
   },
   {
    "duration": 45,
    "start_time": "2021-07-08T11:46:18.946Z"
   },
   {
    "duration": 12,
    "start_time": "2021-07-08T11:46:18.993Z"
   },
   {
    "duration": 38,
    "start_time": "2021-07-08T11:46:19.006Z"
   },
   {
    "duration": 50,
    "start_time": "2021-07-08T11:46:19.046Z"
   },
   {
    "duration": 29,
    "start_time": "2021-07-08T11:46:19.099Z"
   },
   {
    "duration": 7,
    "start_time": "2021-07-08T11:46:19.130Z"
   },
   {
    "duration": 3,
    "start_time": "2021-07-08T11:46:19.139Z"
   },
   {
    "duration": 11,
    "start_time": "2021-07-08T11:46:19.144Z"
   },
   {
    "duration": 40,
    "start_time": "2021-07-08T11:46:19.157Z"
   },
   {
    "duration": 15,
    "start_time": "2021-07-08T11:46:19.199Z"
   },
   {
    "duration": 10,
    "start_time": "2021-07-08T11:46:19.217Z"
   },
   {
    "duration": 68,
    "start_time": "2021-07-08T11:46:19.230Z"
   },
   {
    "duration": 17,
    "start_time": "2021-07-08T11:46:19.301Z"
   },
   {
    "duration": 7,
    "start_time": "2021-07-08T11:46:19.321Z"
   },
   {
    "duration": 11,
    "start_time": "2021-07-08T11:46:19.330Z"
   },
   {
    "duration": 59,
    "start_time": "2021-07-08T11:46:19.343Z"
   },
   {
    "duration": 17,
    "start_time": "2021-07-08T11:46:19.405Z"
   },
   {
    "duration": 16,
    "start_time": "2021-07-08T11:46:19.424Z"
   },
   {
    "duration": 252,
    "start_time": "2021-07-08T11:46:19.443Z"
   },
   {
    "duration": 9,
    "start_time": "2021-07-08T11:46:19.697Z"
   },
   {
    "duration": 224,
    "start_time": "2021-07-08T11:46:19.708Z"
   },
   {
    "duration": 21,
    "start_time": "2021-07-08T11:46:19.934Z"
   },
   {
    "duration": 9,
    "start_time": "2021-07-08T11:46:19.956Z"
   },
   {
    "duration": 32,
    "start_time": "2021-07-08T11:46:19.967Z"
   },
   {
    "duration": 288,
    "start_time": "2021-07-08T11:46:20.004Z"
   },
   {
    "duration": 23,
    "start_time": "2021-07-08T11:46:20.300Z"
   },
   {
    "duration": 11,
    "start_time": "2021-07-08T11:46:20.325Z"
   },
   {
    "duration": 11,
    "start_time": "2021-07-08T11:46:20.339Z"
   },
   {
    "duration": 259,
    "start_time": "2021-07-08T11:46:20.352Z"
   },
   {
    "duration": 438,
    "start_time": "2021-07-08T11:46:20.613Z"
   },
   {
    "duration": 207,
    "start_time": "2021-07-08T11:46:21.054Z"
   },
   {
    "duration": 27,
    "start_time": "2021-07-08T11:46:21.262Z"
   },
   {
    "duration": 19,
    "start_time": "2021-07-08T11:46:21.291Z"
   },
   {
    "duration": 820,
    "start_time": "2021-07-08T11:49:01.655Z"
   },
   {
    "duration": 372,
    "start_time": "2021-07-08T11:49:02.478Z"
   },
   {
    "duration": 98,
    "start_time": "2021-07-08T11:49:02.853Z"
   },
   {
    "duration": 6,
    "start_time": "2021-07-08T11:49:02.953Z"
   },
   {
    "duration": 39,
    "start_time": "2021-07-08T11:49:02.960Z"
   },
   {
    "duration": 9,
    "start_time": "2021-07-08T11:49:03.003Z"
   },
   {
    "duration": 23,
    "start_time": "2021-07-08T11:49:03.014Z"
   },
   {
    "duration": 6,
    "start_time": "2021-07-08T11:49:03.041Z"
   },
   {
    "duration": 20,
    "start_time": "2021-07-08T11:49:03.049Z"
   },
   {
    "duration": 18,
    "start_time": "2021-07-08T11:49:03.084Z"
   },
   {
    "duration": 14,
    "start_time": "2021-07-08T11:49:03.104Z"
   },
   {
    "duration": 39,
    "start_time": "2021-07-08T11:49:03.119Z"
   },
   {
    "duration": 38,
    "start_time": "2021-07-08T11:49:03.160Z"
   },
   {
    "duration": 26,
    "start_time": "2021-07-08T11:49:03.200Z"
   },
   {
    "duration": 7,
    "start_time": "2021-07-08T11:49:03.227Z"
   },
   {
    "duration": 4,
    "start_time": "2021-07-08T11:49:03.236Z"
   },
   {
    "duration": 15,
    "start_time": "2021-07-08T11:49:03.243Z"
   },
   {
    "duration": 21,
    "start_time": "2021-07-08T11:49:03.285Z"
   },
   {
    "duration": 17,
    "start_time": "2021-07-08T11:49:03.309Z"
   },
   {
    "duration": 10,
    "start_time": "2021-07-08T11:49:03.328Z"
   },
   {
    "duration": 65,
    "start_time": "2021-07-08T11:49:03.340Z"
   },
   {
    "duration": 18,
    "start_time": "2021-07-08T11:49:03.407Z"
   },
   {
    "duration": 8,
    "start_time": "2021-07-08T11:49:03.428Z"
   },
   {
    "duration": 15,
    "start_time": "2021-07-08T11:49:03.438Z"
   },
   {
    "duration": 40,
    "start_time": "2021-07-08T11:49:03.455Z"
   },
   {
    "duration": 12,
    "start_time": "2021-07-08T11:49:03.497Z"
   },
   {
    "duration": 29,
    "start_time": "2021-07-08T11:49:03.511Z"
   },
   {
    "duration": 285,
    "start_time": "2021-07-08T11:49:03.542Z"
   },
   {
    "duration": 8,
    "start_time": "2021-07-08T11:49:03.829Z"
   },
   {
    "duration": 227,
    "start_time": "2021-07-08T11:49:03.838Z"
   },
   {
    "duration": 40,
    "start_time": "2021-07-08T11:49:04.066Z"
   },
   {
    "duration": 10,
    "start_time": "2021-07-08T11:49:04.108Z"
   },
   {
    "duration": 26,
    "start_time": "2021-07-08T11:49:04.121Z"
   },
   {
    "duration": 290,
    "start_time": "2021-07-08T11:49:04.149Z"
   },
   {
    "duration": 26,
    "start_time": "2021-07-08T11:49:04.441Z"
   },
   {
    "duration": 31,
    "start_time": "2021-07-08T11:49:04.470Z"
   },
   {
    "duration": 14,
    "start_time": "2021-07-08T11:49:04.503Z"
   },
   {
    "duration": 259,
    "start_time": "2021-07-08T11:49:04.521Z"
   },
   {
    "duration": 480,
    "start_time": "2021-07-08T11:49:04.782Z"
   },
   {
    "duration": 225,
    "start_time": "2021-07-08T11:49:05.264Z"
   },
   {
    "duration": 22,
    "start_time": "2021-07-08T11:49:05.491Z"
   },
   {
    "duration": 24,
    "start_time": "2021-07-08T11:49:05.515Z"
   },
   {
    "duration": 634,
    "start_time": "2021-07-08T11:52:24.960Z"
   },
   {
    "duration": 199,
    "start_time": "2021-07-08T11:52:25.599Z"
   },
   {
    "duration": 106,
    "start_time": "2021-07-08T11:52:25.803Z"
   },
   {
    "duration": 7,
    "start_time": "2021-07-08T11:52:25.911Z"
   },
   {
    "duration": 29,
    "start_time": "2021-07-08T11:52:25.920Z"
   },
   {
    "duration": 7,
    "start_time": "2021-07-08T11:52:25.951Z"
   },
   {
    "duration": 26,
    "start_time": "2021-07-08T11:52:25.961Z"
   },
   {
    "duration": 11,
    "start_time": "2021-07-08T11:52:25.990Z"
   },
   {
    "duration": 29,
    "start_time": "2021-07-08T11:52:26.005Z"
   },
   {
    "duration": 9,
    "start_time": "2021-07-08T11:52:26.036Z"
   },
   {
    "duration": 8,
    "start_time": "2021-07-08T11:52:26.047Z"
   },
   {
    "duration": 63,
    "start_time": "2021-07-08T11:52:26.057Z"
   },
   {
    "duration": 17,
    "start_time": "2021-07-08T11:52:26.122Z"
   },
   {
    "duration": 43,
    "start_time": "2021-07-08T11:52:26.142Z"
   },
   {
    "duration": 17,
    "start_time": "2021-07-08T11:52:26.187Z"
   },
   {
    "duration": 5,
    "start_time": "2021-07-08T11:52:26.206Z"
   },
   {
    "duration": 12,
    "start_time": "2021-07-08T11:52:26.212Z"
   },
   {
    "duration": 11,
    "start_time": "2021-07-08T11:52:26.226Z"
   },
   {
    "duration": 12,
    "start_time": "2021-07-08T11:52:26.238Z"
   },
   {
    "duration": 38,
    "start_time": "2021-07-08T11:52:26.252Z"
   },
   {
    "duration": 40,
    "start_time": "2021-07-08T11:52:26.292Z"
   },
   {
    "duration": 17,
    "start_time": "2021-07-08T11:52:26.336Z"
   },
   {
    "duration": 39,
    "start_time": "2021-07-08T11:52:26.355Z"
   },
   {
    "duration": 11,
    "start_time": "2021-07-08T11:52:26.395Z"
   },
   {
    "duration": 23,
    "start_time": "2021-07-08T11:52:26.408Z"
   },
   {
    "duration": 12,
    "start_time": "2021-07-08T11:52:26.432Z"
   },
   {
    "duration": 41,
    "start_time": "2021-07-08T11:52:26.446Z"
   },
   {
    "duration": 215,
    "start_time": "2021-07-08T11:52:26.493Z"
   },
   {
    "duration": 8,
    "start_time": "2021-07-08T11:52:26.710Z"
   },
   {
    "duration": 228,
    "start_time": "2021-07-08T11:52:26.720Z"
   },
   {
    "duration": 18,
    "start_time": "2021-07-08T11:52:26.950Z"
   },
   {
    "duration": 35,
    "start_time": "2021-07-08T11:52:26.969Z"
   },
   {
    "duration": 23,
    "start_time": "2021-07-08T11:52:27.006Z"
   },
   {
    "duration": 258,
    "start_time": "2021-07-08T11:52:27.030Z"
   },
   {
    "duration": 24,
    "start_time": "2021-07-08T11:52:27.290Z"
   },
   {
    "duration": 12,
    "start_time": "2021-07-08T11:52:27.316Z"
   },
   {
    "duration": 10,
    "start_time": "2021-07-08T11:52:27.329Z"
   },
   {
    "duration": 298,
    "start_time": "2021-07-08T11:52:27.341Z"
   },
   {
    "duration": 436,
    "start_time": "2021-07-08T11:52:27.641Z"
   },
   {
    "duration": 216,
    "start_time": "2021-07-08T11:52:28.079Z"
   },
   {
    "duration": 20,
    "start_time": "2021-07-08T11:52:28.297Z"
   },
   {
    "duration": 17,
    "start_time": "2021-07-08T11:52:28.319Z"
   },
   {
    "duration": 1323,
    "start_time": "2023-02-09T06:41:37.407Z"
   },
   {
    "duration": 3,
    "start_time": "2023-02-09T06:41:38.732Z"
   },
   {
    "duration": 5,
    "start_time": "2023-02-09T06:41:38.736Z"
   },
   {
    "duration": 98,
    "start_time": "2023-02-09T06:41:38.743Z"
   },
   {
    "duration": 272,
    "start_time": "2023-02-09T06:42:14.521Z"
   },
   {
    "duration": 15,
    "start_time": "2023-02-09T06:42:51.194Z"
   },
   {
    "duration": 1202,
    "start_time": "2023-02-09T06:46:43.909Z"
   },
   {
    "duration": 2,
    "start_time": "2023-02-09T06:46:45.114Z"
   },
   {
    "duration": 6,
    "start_time": "2023-02-09T06:46:45.118Z"
   },
   {
    "duration": 51,
    "start_time": "2023-02-09T06:46:45.126Z"
   },
   {
    "duration": 80,
    "start_time": "2023-02-09T06:46:45.179Z"
   },
   {
    "duration": 19,
    "start_time": "2023-02-09T06:46:45.260Z"
   },
   {
    "duration": 27,
    "start_time": "2023-02-09T06:46:45.280Z"
   },
   {
    "duration": 8,
    "start_time": "2023-02-09T06:46:45.309Z"
   },
   {
    "duration": 14,
    "start_time": "2023-02-09T06:46:45.318Z"
   },
   {
    "duration": 8,
    "start_time": "2023-02-09T06:46:45.333Z"
   },
   {
    "duration": 10,
    "start_time": "2023-02-09T06:46:45.343Z"
   },
   {
    "duration": 1201,
    "start_time": "2023-02-09T06:47:46.088Z"
   },
   {
    "duration": 2,
    "start_time": "2023-02-09T06:47:47.292Z"
   },
   {
    "duration": 8,
    "start_time": "2023-02-09T06:47:47.296Z"
   },
   {
    "duration": 50,
    "start_time": "2023-02-09T06:47:47.313Z"
   },
   {
    "duration": 83,
    "start_time": "2023-02-09T06:47:47.365Z"
   },
   {
    "duration": 18,
    "start_time": "2023-02-09T06:47:47.450Z"
   },
   {
    "duration": 12,
    "start_time": "2023-02-09T06:47:47.470Z"
   },
   {
    "duration": 28,
    "start_time": "2023-02-09T06:47:47.484Z"
   },
   {
    "duration": 15,
    "start_time": "2023-02-09T06:47:47.513Z"
   },
   {
    "duration": 8,
    "start_time": "2023-02-09T06:47:47.530Z"
   },
   {
    "duration": 13,
    "start_time": "2023-02-09T06:47:47.539Z"
   },
   {
    "duration": 79,
    "start_time": "2023-02-09T06:47:47.554Z"
   },
   {
    "duration": 0,
    "start_time": "2023-02-09T06:47:47.635Z"
   },
   {
    "duration": 12,
    "start_time": "2023-02-09T06:48:34.948Z"
   },
   {
    "duration": 1082,
    "start_time": "2023-02-09T06:51:21.344Z"
   },
   {
    "duration": 3,
    "start_time": "2023-02-09T06:51:22.428Z"
   },
   {
    "duration": 9,
    "start_time": "2023-02-09T06:51:22.432Z"
   },
   {
    "duration": 47,
    "start_time": "2023-02-09T06:51:22.443Z"
   },
   {
    "duration": 82,
    "start_time": "2023-02-09T06:51:22.492Z"
   },
   {
    "duration": 13,
    "start_time": "2023-02-09T06:51:22.576Z"
   },
   {
    "duration": 20,
    "start_time": "2023-02-09T06:51:22.590Z"
   },
   {
    "duration": 5,
    "start_time": "2023-02-09T06:51:22.612Z"
   },
   {
    "duration": 9,
    "start_time": "2023-02-09T06:51:22.618Z"
   },
   {
    "duration": 7,
    "start_time": "2023-02-09T06:51:22.629Z"
   },
   {
    "duration": 9,
    "start_time": "2023-02-09T06:51:22.638Z"
   },
   {
    "duration": 12,
    "start_time": "2023-02-09T06:51:22.648Z"
   },
   {
    "duration": 20,
    "start_time": "2023-02-09T06:51:22.661Z"
   },
   {
    "duration": 9,
    "start_time": "2023-02-09T06:51:22.709Z"
   },
   {
    "duration": 4,
    "start_time": "2023-02-09T06:51:22.720Z"
   },
   {
    "duration": 11,
    "start_time": "2023-02-09T06:51:22.725Z"
   },
   {
    "duration": 17,
    "start_time": "2023-02-09T06:51:22.737Z"
   },
   {
    "duration": 12,
    "start_time": "2023-02-09T06:51:22.755Z"
   },
   {
    "duration": 1075,
    "start_time": "2023-02-09T06:53:04.457Z"
   },
   {
    "duration": 3,
    "start_time": "2023-02-09T06:53:05.534Z"
   },
   {
    "duration": 10,
    "start_time": "2023-02-09T06:53:05.538Z"
   },
   {
    "duration": 67,
    "start_time": "2023-02-09T06:53:05.550Z"
   },
   {
    "duration": 83,
    "start_time": "2023-02-09T06:53:05.619Z"
   },
   {
    "duration": 12,
    "start_time": "2023-02-09T06:53:05.704Z"
   },
   {
    "duration": 11,
    "start_time": "2023-02-09T06:53:05.718Z"
   },
   {
    "duration": 6,
    "start_time": "2023-02-09T06:53:05.730Z"
   },
   {
    "duration": 10,
    "start_time": "2023-02-09T06:53:05.737Z"
   },
   {
    "duration": 7,
    "start_time": "2023-02-09T06:53:05.749Z"
   },
   {
    "duration": 9,
    "start_time": "2023-02-09T06:53:05.757Z"
   },
   {
    "duration": 20,
    "start_time": "2023-02-09T06:53:05.767Z"
   },
   {
    "duration": 41,
    "start_time": "2023-02-09T06:53:05.788Z"
   },
   {
    "duration": 8,
    "start_time": "2023-02-09T06:53:05.830Z"
   },
   {
    "duration": 5,
    "start_time": "2023-02-09T06:53:05.840Z"
   },
   {
    "duration": 11,
    "start_time": "2023-02-09T06:53:05.847Z"
   },
   {
    "duration": 10,
    "start_time": "2023-02-09T06:53:05.860Z"
   },
   {
    "duration": 38,
    "start_time": "2023-02-09T06:53:05.871Z"
   },
   {
    "duration": 19,
    "start_time": "2023-02-09T06:53:05.911Z"
   },
   {
    "duration": 5,
    "start_time": "2023-02-09T06:53:05.931Z"
   },
   {
    "duration": 12,
    "start_time": "2023-02-09T06:53:05.938Z"
   },
   {
    "duration": 23,
    "start_time": "2023-02-09T06:53:05.952Z"
   },
   {
    "duration": 1133,
    "start_time": "2023-02-09T06:54:28.697Z"
   },
   {
    "duration": 2,
    "start_time": "2023-02-09T06:54:29.832Z"
   },
   {
    "duration": 7,
    "start_time": "2023-02-09T06:54:29.836Z"
   },
   {
    "duration": 47,
    "start_time": "2023-02-09T06:54:29.844Z"
   },
   {
    "duration": 81,
    "start_time": "2023-02-09T06:54:29.894Z"
   },
   {
    "duration": 16,
    "start_time": "2023-02-09T06:54:29.976Z"
   },
   {
    "duration": 20,
    "start_time": "2023-02-09T06:54:29.993Z"
   },
   {
    "duration": 15,
    "start_time": "2023-02-09T06:54:30.015Z"
   },
   {
    "duration": 10,
    "start_time": "2023-02-09T06:54:30.031Z"
   },
   {
    "duration": 11,
    "start_time": "2023-02-09T06:54:30.043Z"
   },
   {
    "duration": 35,
    "start_time": "2023-02-09T06:54:30.056Z"
   },
   {
    "duration": 13,
    "start_time": "2023-02-09T06:54:30.093Z"
   },
   {
    "duration": 25,
    "start_time": "2023-02-09T06:54:30.107Z"
   },
   {
    "duration": 9,
    "start_time": "2023-02-09T06:54:30.135Z"
   },
   {
    "duration": 24,
    "start_time": "2023-02-09T06:54:30.145Z"
   },
   {
    "duration": 17,
    "start_time": "2023-02-09T06:54:30.170Z"
   },
   {
    "duration": 18,
    "start_time": "2023-02-09T06:54:30.188Z"
   },
   {
    "duration": 15,
    "start_time": "2023-02-09T06:54:30.208Z"
   },
   {
    "duration": 45,
    "start_time": "2023-02-09T06:54:30.224Z"
   },
   {
    "duration": 30,
    "start_time": "2023-02-09T06:54:30.271Z"
   },
   {
    "duration": 42,
    "start_time": "2023-02-09T06:54:30.303Z"
   },
   {
    "duration": 52,
    "start_time": "2023-02-09T06:54:30.347Z"
   },
   {
    "duration": 10,
    "start_time": "2023-02-09T06:54:30.401Z"
   },
   {
    "duration": 28,
    "start_time": "2023-02-09T06:54:30.412Z"
   },
   {
    "duration": 21,
    "start_time": "2023-02-09T06:54:30.442Z"
   },
   {
    "duration": 1148,
    "start_time": "2023-02-09T06:56:18.277Z"
   },
   {
    "duration": 2,
    "start_time": "2023-02-09T06:56:19.427Z"
   },
   {
    "duration": 7,
    "start_time": "2023-02-09T06:56:19.430Z"
   },
   {
    "duration": 47,
    "start_time": "2023-02-09T06:56:19.439Z"
   },
   {
    "duration": 80,
    "start_time": "2023-02-09T06:56:19.488Z"
   },
   {
    "duration": 14,
    "start_time": "2023-02-09T06:56:19.569Z"
   },
   {
    "duration": 14,
    "start_time": "2023-02-09T06:56:19.584Z"
   },
   {
    "duration": 6,
    "start_time": "2023-02-09T06:56:19.609Z"
   },
   {
    "duration": 13,
    "start_time": "2023-02-09T06:56:19.617Z"
   },
   {
    "duration": 8,
    "start_time": "2023-02-09T06:56:19.633Z"
   },
   {
    "duration": 11,
    "start_time": "2023-02-09T06:56:19.642Z"
   },
   {
    "duration": 16,
    "start_time": "2023-02-09T06:56:19.654Z"
   },
   {
    "duration": 21,
    "start_time": "2023-02-09T06:56:19.671Z"
   },
   {
    "duration": 23,
    "start_time": "2023-02-09T06:56:19.694Z"
   },
   {
    "duration": 15,
    "start_time": "2023-02-09T06:56:19.718Z"
   },
   {
    "duration": 12,
    "start_time": "2023-02-09T06:56:19.734Z"
   },
   {
    "duration": 23,
    "start_time": "2023-02-09T06:56:19.748Z"
   },
   {
    "duration": 16,
    "start_time": "2023-02-09T06:56:19.772Z"
   },
   {
    "duration": 24,
    "start_time": "2023-02-09T06:56:19.789Z"
   },
   {
    "duration": 5,
    "start_time": "2023-02-09T06:56:19.814Z"
   },
   {
    "duration": 12,
    "start_time": "2023-02-09T06:56:19.820Z"
   },
   {
    "duration": 24,
    "start_time": "2023-02-09T06:56:19.833Z"
   },
   {
    "duration": 9,
    "start_time": "2023-02-09T06:56:19.859Z"
   },
   {
    "duration": 12,
    "start_time": "2023-02-09T06:56:19.869Z"
   },
   {
    "duration": 27,
    "start_time": "2023-02-09T06:56:19.883Z"
   },
   {
    "duration": 12,
    "start_time": "2023-02-09T06:56:19.912Z"
   },
   {
    "duration": 11,
    "start_time": "2023-02-09T06:56:19.926Z"
   },
   {
    "duration": 3,
    "start_time": "2023-02-09T06:56:19.940Z"
   },
   {
    "duration": 28,
    "start_time": "2023-02-09T06:56:19.945Z"
   },
   {
    "duration": 7,
    "start_time": "2023-02-09T06:56:19.975Z"
   },
   {
    "duration": 11,
    "start_time": "2023-02-09T06:56:19.983Z"
   },
   {
    "duration": 19,
    "start_time": "2023-02-09T06:56:19.995Z"
   },
   {
    "duration": 50,
    "start_time": "2023-02-09T06:56:20.015Z"
   },
   {
    "duration": 12,
    "start_time": "2023-02-09T06:56:20.066Z"
   },
   {
    "duration": 14,
    "start_time": "2023-02-09T06:56:20.079Z"
   },
   {
    "duration": 1221,
    "start_time": "2023-02-09T06:58:56.751Z"
   },
   {
    "duration": 3,
    "start_time": "2023-02-09T06:58:57.974Z"
   },
   {
    "duration": 7,
    "start_time": "2023-02-09T06:58:57.978Z"
   },
   {
    "duration": 52,
    "start_time": "2023-02-09T06:58:57.986Z"
   },
   {
    "duration": 103,
    "start_time": "2023-02-09T06:58:58.040Z"
   },
   {
    "duration": 13,
    "start_time": "2023-02-09T06:58:58.145Z"
   },
   {
    "duration": 11,
    "start_time": "2023-02-09T06:58:58.160Z"
   },
   {
    "duration": 12,
    "start_time": "2023-02-09T06:58:58.173Z"
   },
   {
    "duration": 23,
    "start_time": "2023-02-09T06:58:58.187Z"
   },
   {
    "duration": 7,
    "start_time": "2023-02-09T06:58:58.212Z"
   },
   {
    "duration": 11,
    "start_time": "2023-02-09T06:58:58.221Z"
   },
   {
    "duration": 11,
    "start_time": "2023-02-09T06:58:58.233Z"
   },
   {
    "duration": 27,
    "start_time": "2023-02-09T06:58:58.246Z"
   },
   {
    "duration": 33,
    "start_time": "2023-02-09T06:58:58.278Z"
   },
   {
    "duration": 5,
    "start_time": "2023-02-09T06:58:58.312Z"
   },
   {
    "duration": 13,
    "start_time": "2023-02-09T06:58:58.319Z"
   },
   {
    "duration": 10,
    "start_time": "2023-02-09T06:58:58.333Z"
   },
   {
    "duration": 17,
    "start_time": "2023-02-09T06:58:58.344Z"
   },
   {
    "duration": 20,
    "start_time": "2023-02-09T06:58:58.362Z"
   },
   {
    "duration": 29,
    "start_time": "2023-02-09T06:58:58.384Z"
   },
   {
    "duration": 14,
    "start_time": "2023-02-09T06:58:58.414Z"
   },
   {
    "duration": 25,
    "start_time": "2023-02-09T06:58:58.430Z"
   },
   {
    "duration": 13,
    "start_time": "2023-02-09T06:58:58.457Z"
   },
   {
    "duration": 13,
    "start_time": "2023-02-09T06:58:58.471Z"
   },
   {
    "duration": 10,
    "start_time": "2023-02-09T06:58:58.510Z"
   },
   {
    "duration": 17,
    "start_time": "2023-02-09T06:58:58.522Z"
   },
   {
    "duration": 11,
    "start_time": "2023-02-09T06:58:58.540Z"
   },
   {
    "duration": 22,
    "start_time": "2023-02-09T06:58:58.552Z"
   },
   {
    "duration": 19,
    "start_time": "2023-02-09T06:58:58.576Z"
   },
   {
    "duration": 22,
    "start_time": "2023-02-09T06:58:58.596Z"
   },
   {
    "duration": 7,
    "start_time": "2023-02-09T06:58:58.620Z"
   },
   {
    "duration": 17,
    "start_time": "2023-02-09T06:58:58.628Z"
   },
   {
    "duration": 47,
    "start_time": "2023-02-09T06:58:58.646Z"
   },
   {
    "duration": 15,
    "start_time": "2023-02-09T06:58:58.695Z"
   },
   {
    "duration": 28,
    "start_time": "2023-02-09T06:58:58.712Z"
   },
   {
    "duration": 16,
    "start_time": "2023-02-09T06:58:58.741Z"
   },
   {
    "duration": 24,
    "start_time": "2023-02-09T06:58:58.759Z"
   },
   {
    "duration": 21,
    "start_time": "2023-02-09T06:58:58.784Z"
   },
   {
    "duration": 24,
    "start_time": "2023-02-09T06:58:58.807Z"
   },
   {
    "duration": 1101,
    "start_time": "2023-02-09T07:01:21.432Z"
   },
   {
    "duration": 3,
    "start_time": "2023-02-09T07:01:22.535Z"
   },
   {
    "duration": 8,
    "start_time": "2023-02-09T07:01:22.539Z"
   },
   {
    "duration": 55,
    "start_time": "2023-02-09T07:01:22.548Z"
   },
   {
    "duration": 83,
    "start_time": "2023-02-09T07:01:22.605Z"
   },
   {
    "duration": 14,
    "start_time": "2023-02-09T07:01:22.689Z"
   },
   {
    "duration": 14,
    "start_time": "2023-02-09T07:01:22.705Z"
   },
   {
    "duration": 6,
    "start_time": "2023-02-09T07:01:22.721Z"
   },
   {
    "duration": 8,
    "start_time": "2023-02-09T07:01:22.729Z"
   },
   {
    "duration": 8,
    "start_time": "2023-02-09T07:01:22.739Z"
   },
   {
    "duration": 13,
    "start_time": "2023-02-09T07:01:22.748Z"
   },
   {
    "duration": 8,
    "start_time": "2023-02-09T07:01:22.762Z"
   },
   {
    "duration": 63,
    "start_time": "2023-02-09T07:01:22.772Z"
   },
   {
    "duration": 8,
    "start_time": "2023-02-09T07:01:22.838Z"
   },
   {
    "duration": 5,
    "start_time": "2023-02-09T07:01:22.848Z"
   },
   {
    "duration": 10,
    "start_time": "2023-02-09T07:01:22.854Z"
   },
   {
    "duration": 8,
    "start_time": "2023-02-09T07:01:22.865Z"
   },
   {
    "duration": 40,
    "start_time": "2023-02-09T07:01:22.875Z"
   },
   {
    "duration": 27,
    "start_time": "2023-02-09T07:01:22.917Z"
   },
   {
    "duration": 19,
    "start_time": "2023-02-09T07:01:22.946Z"
   },
   {
    "duration": 14,
    "start_time": "2023-02-09T07:01:22.967Z"
   },
   {
    "duration": 32,
    "start_time": "2023-02-09T07:01:22.983Z"
   },
   {
    "duration": 20,
    "start_time": "2023-02-09T07:01:23.017Z"
   },
   {
    "duration": 20,
    "start_time": "2023-02-09T07:01:23.039Z"
   },
   {
    "duration": 25,
    "start_time": "2023-02-09T07:01:23.061Z"
   },
   {
    "duration": 15,
    "start_time": "2023-02-09T07:01:23.088Z"
   },
   {
    "duration": 12,
    "start_time": "2023-02-09T07:01:23.105Z"
   },
   {
    "duration": 43,
    "start_time": "2023-02-09T07:01:23.118Z"
   },
   {
    "duration": 19,
    "start_time": "2023-02-09T07:01:23.163Z"
   },
   {
    "duration": 8,
    "start_time": "2023-02-09T07:01:23.183Z"
   },
   {
    "duration": 8,
    "start_time": "2023-02-09T07:01:23.193Z"
   },
   {
    "duration": 21,
    "start_time": "2023-02-09T07:01:23.203Z"
   },
   {
    "duration": 25,
    "start_time": "2023-02-09T07:01:23.226Z"
   },
   {
    "duration": 10,
    "start_time": "2023-02-09T07:01:26.361Z"
   },
   {
    "duration": 18,
    "start_time": "2023-02-09T07:01:26.373Z"
   },
   {
    "duration": 8,
    "start_time": "2023-02-09T07:01:26.393Z"
   },
   {
    "duration": 7,
    "start_time": "2023-02-09T07:01:26.403Z"
   },
   {
    "duration": 7,
    "start_time": "2023-02-09T07:01:26.412Z"
   },
   {
    "duration": 8,
    "start_time": "2023-02-09T07:01:26.421Z"
   },
   {
    "duration": 13,
    "start_time": "2023-02-09T07:01:26.430Z"
   },
   {
    "duration": 1348,
    "start_time": "2023-02-09T07:01:51.352Z"
   },
   {
    "duration": 1295,
    "start_time": "2023-02-09T07:03:13.955Z"
   },
   {
    "duration": 3,
    "start_time": "2023-02-09T07:03:15.252Z"
   },
   {
    "duration": 12,
    "start_time": "2023-02-09T07:03:15.257Z"
   },
   {
    "duration": 73,
    "start_time": "2023-02-09T07:03:15.271Z"
   },
   {
    "duration": 117,
    "start_time": "2023-02-09T07:03:15.346Z"
   },
   {
    "duration": 19,
    "start_time": "2023-02-09T07:03:15.465Z"
   },
   {
    "duration": 28,
    "start_time": "2023-02-09T07:03:15.486Z"
   },
   {
    "duration": 17,
    "start_time": "2023-02-09T07:03:15.516Z"
   },
   {
    "duration": 19,
    "start_time": "2023-02-09T07:03:15.535Z"
   },
   {
    "duration": 14,
    "start_time": "2023-02-09T07:03:15.557Z"
   },
   {
    "duration": 25,
    "start_time": "2023-02-09T07:03:15.572Z"
   },
   {
    "duration": 17,
    "start_time": "2023-02-09T07:03:15.599Z"
   },
   {
    "duration": 39,
    "start_time": "2023-02-09T07:03:15.618Z"
   },
   {
    "duration": 10,
    "start_time": "2023-02-09T07:03:15.659Z"
   },
   {
    "duration": 12,
    "start_time": "2023-02-09T07:03:15.671Z"
   },
   {
    "duration": 17,
    "start_time": "2023-02-09T07:03:15.685Z"
   },
   {
    "duration": 38,
    "start_time": "2023-02-09T07:03:15.703Z"
   },
   {
    "duration": 17,
    "start_time": "2023-02-09T07:03:15.743Z"
   },
   {
    "duration": 24,
    "start_time": "2023-02-09T07:03:15.762Z"
   },
   {
    "duration": 8,
    "start_time": "2023-02-09T07:03:15.789Z"
   },
   {
    "duration": 10,
    "start_time": "2023-02-09T07:03:15.799Z"
   },
   {
    "duration": 24,
    "start_time": "2023-02-09T07:03:15.811Z"
   },
   {
    "duration": 9,
    "start_time": "2023-02-09T07:03:15.837Z"
   },
   {
    "duration": 37,
    "start_time": "2023-02-09T07:03:15.847Z"
   },
   {
    "duration": 9,
    "start_time": "2023-02-09T07:03:15.886Z"
   },
   {
    "duration": 17,
    "start_time": "2023-02-09T07:03:15.897Z"
   },
   {
    "duration": 9,
    "start_time": "2023-02-09T07:03:15.916Z"
   },
   {
    "duration": 4,
    "start_time": "2023-02-09T07:03:15.928Z"
   },
   {
    "duration": 18,
    "start_time": "2023-02-09T07:03:15.933Z"
   },
   {
    "duration": 9,
    "start_time": "2023-02-09T07:03:15.953Z"
   },
   {
    "duration": 6,
    "start_time": "2023-02-09T07:03:15.964Z"
   },
   {
    "duration": 39,
    "start_time": "2023-02-09T07:03:15.972Z"
   },
   {
    "duration": 28,
    "start_time": "2023-02-09T07:03:16.012Z"
   },
   {
    "duration": 7,
    "start_time": "2023-02-09T07:03:16.042Z"
   },
   {
    "duration": 13,
    "start_time": "2023-02-09T07:03:16.050Z"
   },
   {
    "duration": 5,
    "start_time": "2023-02-09T07:03:16.065Z"
   },
   {
    "duration": 8,
    "start_time": "2023-02-09T07:03:16.071Z"
   },
   {
    "duration": 33,
    "start_time": "2023-02-09T07:03:16.081Z"
   },
   {
    "duration": 18,
    "start_time": "2023-02-09T07:03:16.116Z"
   },
   {
    "duration": 10,
    "start_time": "2023-02-09T07:03:16.136Z"
   },
   {
    "duration": 1528,
    "start_time": "2023-02-09T07:03:16.148Z"
   },
   {
    "duration": 32,
    "start_time": "2023-02-09T07:03:17.679Z"
   },
   {
    "duration": 10,
    "start_time": "2023-02-09T07:03:17.713Z"
   },
   {
    "duration": 287,
    "start_time": "2023-02-09T07:03:17.724Z"
   },
   {
    "duration": 95,
    "start_time": "2023-02-09T07:03:18.013Z"
   },
   {
    "duration": 1190,
    "start_time": "2023-02-09T07:05:12.942Z"
   },
   {
    "duration": 3,
    "start_time": "2023-02-09T07:05:14.134Z"
   },
   {
    "duration": 15,
    "start_time": "2023-02-09T07:05:14.139Z"
   },
   {
    "duration": 53,
    "start_time": "2023-02-09T07:05:14.155Z"
   },
   {
    "duration": 104,
    "start_time": "2023-02-09T07:05:14.210Z"
   },
   {
    "duration": 15,
    "start_time": "2023-02-09T07:05:14.315Z"
   },
   {
    "duration": 12,
    "start_time": "2023-02-09T07:05:14.332Z"
   },
   {
    "duration": 6,
    "start_time": "2023-02-09T07:05:14.346Z"
   },
   {
    "duration": 9,
    "start_time": "2023-02-09T07:05:14.353Z"
   },
   {
    "duration": 8,
    "start_time": "2023-02-09T07:05:14.364Z"
   },
   {
    "duration": 43,
    "start_time": "2023-02-09T07:05:14.373Z"
   },
   {
    "duration": 11,
    "start_time": "2023-02-09T07:05:14.417Z"
   },
   {
    "duration": 22,
    "start_time": "2023-02-09T07:05:14.430Z"
   },
   {
    "duration": 13,
    "start_time": "2023-02-09T07:05:14.456Z"
   },
   {
    "duration": 9,
    "start_time": "2023-02-09T07:05:14.470Z"
   },
   {
    "duration": 11,
    "start_time": "2023-02-09T07:05:14.510Z"
   },
   {
    "duration": 11,
    "start_time": "2023-02-09T07:05:14.523Z"
   },
   {
    "duration": 13,
    "start_time": "2023-02-09T07:05:14.536Z"
   },
   {
    "duration": 27,
    "start_time": "2023-02-09T07:05:14.551Z"
   },
   {
    "duration": 30,
    "start_time": "2023-02-09T07:05:14.581Z"
   },
   {
    "duration": 9,
    "start_time": "2023-02-09T07:05:14.612Z"
   },
   {
    "duration": 25,
    "start_time": "2023-02-09T07:05:14.623Z"
   },
   {
    "duration": 13,
    "start_time": "2023-02-09T07:05:14.650Z"
   },
   {
    "duration": 11,
    "start_time": "2023-02-09T07:05:14.665Z"
   },
   {
    "duration": 38,
    "start_time": "2023-02-09T07:05:14.678Z"
   },
   {
    "duration": 42,
    "start_time": "2023-02-09T07:05:14.718Z"
   },
   {
    "duration": 16,
    "start_time": "2023-02-09T07:05:14.762Z"
   },
   {
    "duration": 9,
    "start_time": "2023-02-09T07:05:14.780Z"
   },
   {
    "duration": 20,
    "start_time": "2023-02-09T07:05:14.791Z"
   },
   {
    "duration": 11,
    "start_time": "2023-02-09T07:05:14.812Z"
   },
   {
    "duration": 12,
    "start_time": "2023-02-09T07:05:14.826Z"
   },
   {
    "duration": 13,
    "start_time": "2023-02-09T07:05:14.839Z"
   },
   {
    "duration": 37,
    "start_time": "2023-02-09T07:05:14.853Z"
   },
   {
    "duration": 26,
    "start_time": "2023-02-09T07:05:14.892Z"
   },
   {
    "duration": 16,
    "start_time": "2023-02-09T07:05:14.919Z"
   },
   {
    "duration": 9,
    "start_time": "2023-02-09T07:05:14.937Z"
   },
   {
    "duration": 9,
    "start_time": "2023-02-09T07:05:14.948Z"
   },
   {
    "duration": 12,
    "start_time": "2023-02-09T07:05:14.959Z"
   },
   {
    "duration": 14,
    "start_time": "2023-02-09T07:05:14.973Z"
   },
   {
    "duration": 16,
    "start_time": "2023-02-09T07:05:15.009Z"
   },
   {
    "duration": 1357,
    "start_time": "2023-02-09T07:05:15.029Z"
   },
   {
    "duration": 27,
    "start_time": "2023-02-09T07:05:16.388Z"
   },
   {
    "duration": 8,
    "start_time": "2023-02-09T07:05:16.417Z"
   },
   {
    "duration": 365,
    "start_time": "2023-02-09T07:05:16.426Z"
   },
   {
    "duration": 14,
    "start_time": "2023-02-09T07:05:16.804Z"
   },
   {
    "duration": 286,
    "start_time": "2023-02-09T07:05:16.820Z"
   },
   {
    "duration": 13,
    "start_time": "2023-02-09T07:05:17.109Z"
   },
   {
    "duration": 215,
    "start_time": "2023-02-09T07:05:17.124Z"
   },
   {
    "duration": 11,
    "start_time": "2023-02-09T07:05:17.341Z"
   },
   {
    "duration": 200,
    "start_time": "2023-02-09T07:05:17.353Z"
   },
   {
    "duration": 1119,
    "start_time": "2023-02-09T07:13:04.813Z"
   },
   {
    "duration": 2,
    "start_time": "2023-02-09T07:13:05.934Z"
   },
   {
    "duration": 4,
    "start_time": "2023-02-09T07:13:05.940Z"
   },
   {
    "duration": 47,
    "start_time": "2023-02-09T07:13:05.946Z"
   },
   {
    "duration": 82,
    "start_time": "2023-02-09T07:13:05.994Z"
   },
   {
    "duration": 13,
    "start_time": "2023-02-09T07:13:06.079Z"
   },
   {
    "duration": 20,
    "start_time": "2023-02-09T07:13:06.094Z"
   },
   {
    "duration": 11,
    "start_time": "2023-02-09T07:13:06.115Z"
   },
   {
    "duration": 11,
    "start_time": "2023-02-09T07:13:06.129Z"
   },
   {
    "duration": 23,
    "start_time": "2023-02-09T07:13:06.142Z"
   },
   {
    "duration": 11,
    "start_time": "2023-02-09T07:13:06.167Z"
   },
   {
    "duration": 10,
    "start_time": "2023-02-09T07:13:06.179Z"
   },
   {
    "duration": 27,
    "start_time": "2023-02-09T07:13:06.190Z"
   },
   {
    "duration": 9,
    "start_time": "2023-02-09T07:13:06.218Z"
   },
   {
    "duration": 4,
    "start_time": "2023-02-09T07:13:06.228Z"
   },
   {
    "duration": 12,
    "start_time": "2023-02-09T07:13:06.234Z"
   },
   {
    "duration": 12,
    "start_time": "2023-02-09T07:13:06.248Z"
   },
   {
    "duration": 13,
    "start_time": "2023-02-09T07:13:06.261Z"
   },
   {
    "duration": 44,
    "start_time": "2023-02-09T07:13:06.276Z"
   },
   {
    "duration": 5,
    "start_time": "2023-02-09T07:13:06.321Z"
   },
   {
    "duration": 10,
    "start_time": "2023-02-09T07:13:06.327Z"
   },
   {
    "duration": 23,
    "start_time": "2023-02-09T07:13:06.339Z"
   },
   {
    "duration": 9,
    "start_time": "2023-02-09T07:13:06.364Z"
   },
   {
    "duration": 39,
    "start_time": "2023-02-09T07:13:06.374Z"
   },
   {
    "duration": 9,
    "start_time": "2023-02-09T07:13:06.414Z"
   },
   {
    "duration": 25,
    "start_time": "2023-02-09T07:13:06.424Z"
   },
   {
    "duration": 8,
    "start_time": "2023-02-09T07:13:06.452Z"
   },
   {
    "duration": 5,
    "start_time": "2023-02-09T07:13:06.461Z"
   },
   {
    "duration": 17,
    "start_time": "2023-02-09T07:13:06.468Z"
   },
   {
    "duration": 26,
    "start_time": "2023-02-09T07:13:06.487Z"
   },
   {
    "duration": 7,
    "start_time": "2023-02-09T07:13:06.515Z"
   },
   {
    "duration": 10,
    "start_time": "2023-02-09T07:13:06.523Z"
   },
   {
    "duration": 22,
    "start_time": "2023-02-09T07:13:06.535Z"
   },
   {
    "duration": 13,
    "start_time": "2023-02-09T07:13:06.559Z"
   },
   {
    "duration": 38,
    "start_time": "2023-02-09T07:13:06.573Z"
   },
   {
    "duration": 28,
    "start_time": "2023-02-09T07:13:06.615Z"
   },
   {
    "duration": 21,
    "start_time": "2023-02-09T07:13:06.645Z"
   },
   {
    "duration": 12,
    "start_time": "2023-02-09T07:13:06.668Z"
   },
   {
    "duration": 22,
    "start_time": "2023-02-09T07:13:06.681Z"
   },
   {
    "duration": 17,
    "start_time": "2023-02-09T07:13:06.705Z"
   },
   {
    "duration": 1341,
    "start_time": "2023-02-09T07:13:06.724Z"
   },
   {
    "duration": 19,
    "start_time": "2023-02-09T07:13:08.066Z"
   },
   {
    "duration": 8,
    "start_time": "2023-02-09T07:13:08.086Z"
   },
   {
    "duration": 291,
    "start_time": "2023-02-09T07:13:08.111Z"
   },
   {
    "duration": 12,
    "start_time": "2023-02-09T07:13:08.403Z"
   },
   {
    "duration": 201,
    "start_time": "2023-02-09T07:13:08.416Z"
   },
   {
    "duration": 8,
    "start_time": "2023-02-09T07:13:08.619Z"
   },
   {
    "duration": 178,
    "start_time": "2023-02-09T07:13:08.628Z"
   },
   {
    "duration": 10,
    "start_time": "2023-02-09T07:13:08.809Z"
   },
   {
    "duration": 197,
    "start_time": "2023-02-09T07:13:08.820Z"
   },
   {
    "duration": 14,
    "start_time": "2023-02-09T07:13:09.018Z"
   },
   {
    "duration": 20,
    "start_time": "2023-02-09T07:13:09.035Z"
   },
   {
    "duration": 15,
    "start_time": "2023-02-09T07:13:09.056Z"
   },
   {
    "duration": 15,
    "start_time": "2023-02-09T07:13:09.072Z"
   },
   {
    "duration": 4,
    "start_time": "2023-02-09T07:13:09.088Z"
   },
   {
    "duration": 124,
    "start_time": "2023-02-09T07:13:09.094Z"
   },
   {
    "duration": 172,
    "start_time": "2023-02-09T07:13:09.220Z"
   },
   {
    "duration": 17,
    "start_time": "2023-02-09T07:13:09.394Z"
   },
   {
    "duration": 10,
    "start_time": "2023-02-09T07:13:09.413Z"
   },
   {
    "duration": 20,
    "start_time": "2023-02-09T07:13:09.425Z"
   },
   {
    "duration": 1120,
    "start_time": "2023-02-09T07:14:27.219Z"
   },
   {
    "duration": 2,
    "start_time": "2023-02-09T07:14:28.342Z"
   },
   {
    "duration": 5,
    "start_time": "2023-02-09T07:14:28.346Z"
   },
   {
    "duration": 47,
    "start_time": "2023-02-09T07:14:28.354Z"
   },
   {
    "duration": 82,
    "start_time": "2023-02-09T07:14:28.403Z"
   },
   {
    "duration": 14,
    "start_time": "2023-02-09T07:14:28.487Z"
   },
   {
    "duration": 16,
    "start_time": "2023-02-09T07:14:28.503Z"
   },
   {
    "duration": 7,
    "start_time": "2023-02-09T07:14:28.521Z"
   },
   {
    "duration": 9,
    "start_time": "2023-02-09T07:14:28.530Z"
   },
   {
    "duration": 8,
    "start_time": "2023-02-09T07:14:28.542Z"
   },
   {
    "duration": 9,
    "start_time": "2023-02-09T07:14:28.552Z"
   },
   {
    "duration": 9,
    "start_time": "2023-02-09T07:14:28.563Z"
   },
   {
    "duration": 22,
    "start_time": "2023-02-09T07:14:28.610Z"
   },
   {
    "duration": 8,
    "start_time": "2023-02-09T07:14:28.633Z"
   },
   {
    "duration": 5,
    "start_time": "2023-02-09T07:14:28.643Z"
   },
   {
    "duration": 10,
    "start_time": "2023-02-09T07:14:28.649Z"
   },
   {
    "duration": 8,
    "start_time": "2023-02-09T07:14:28.660Z"
   },
   {
    "duration": 53,
    "start_time": "2023-02-09T07:14:28.669Z"
   },
   {
    "duration": 28,
    "start_time": "2023-02-09T07:14:28.724Z"
   },
   {
    "duration": 6,
    "start_time": "2023-02-09T07:14:28.753Z"
   },
   {
    "duration": 15,
    "start_time": "2023-02-09T07:14:28.761Z"
   },
   {
    "duration": 52,
    "start_time": "2023-02-09T07:14:28.778Z"
   },
   {
    "duration": 11,
    "start_time": "2023-02-09T07:14:28.832Z"
   },
   {
    "duration": 12,
    "start_time": "2023-02-09T07:14:28.844Z"
   },
   {
    "duration": 8,
    "start_time": "2023-02-09T07:14:28.858Z"
   },
   {
    "duration": 15,
    "start_time": "2023-02-09T07:14:28.867Z"
   },
   {
    "duration": 32,
    "start_time": "2023-02-09T07:14:28.883Z"
   },
   {
    "duration": 15,
    "start_time": "2023-02-09T07:14:28.918Z"
   },
   {
    "duration": 13,
    "start_time": "2023-02-09T07:14:28.934Z"
   },
   {
    "duration": 7,
    "start_time": "2023-02-09T07:14:28.949Z"
   },
   {
    "duration": 9,
    "start_time": "2023-02-09T07:14:28.958Z"
   },
   {
    "duration": 8,
    "start_time": "2023-02-09T07:14:28.968Z"
   },
   {
    "duration": 41,
    "start_time": "2023-02-09T07:14:28.978Z"
   },
   {
    "duration": 10,
    "start_time": "2023-02-09T07:14:29.021Z"
   },
   {
    "duration": 12,
    "start_time": "2023-02-09T07:14:29.032Z"
   },
   {
    "duration": 6,
    "start_time": "2023-02-09T07:14:29.045Z"
   },
   {
    "duration": 12,
    "start_time": "2023-02-09T07:14:29.052Z"
   },
   {
    "duration": 12,
    "start_time": "2023-02-09T07:14:29.065Z"
   },
   {
    "duration": 8,
    "start_time": "2023-02-09T07:14:29.078Z"
   },
   {
    "duration": 26,
    "start_time": "2023-02-09T07:14:29.087Z"
   },
   {
    "duration": 1273,
    "start_time": "2023-02-09T07:14:29.115Z"
   },
   {
    "duration": 34,
    "start_time": "2023-02-09T07:14:30.390Z"
   },
   {
    "duration": 9,
    "start_time": "2023-02-09T07:14:30.426Z"
   },
   {
    "duration": 301,
    "start_time": "2023-02-09T07:14:30.436Z"
   },
   {
    "duration": 8,
    "start_time": "2023-02-09T07:14:30.739Z"
   },
   {
    "duration": 235,
    "start_time": "2023-02-09T07:14:30.749Z"
   },
   {
    "duration": 9,
    "start_time": "2023-02-09T07:14:30.985Z"
   },
   {
    "duration": 208,
    "start_time": "2023-02-09T07:14:30.995Z"
   },
   {
    "duration": 8,
    "start_time": "2023-02-09T07:14:31.205Z"
   },
   {
    "duration": 198,
    "start_time": "2023-02-09T07:14:31.214Z"
   },
   {
    "duration": 5,
    "start_time": "2023-02-09T07:14:31.414Z"
   },
   {
    "duration": 19,
    "start_time": "2023-02-09T07:14:31.420Z"
   },
   {
    "duration": 23,
    "start_time": "2023-02-09T07:14:31.440Z"
   },
   {
    "duration": 27,
    "start_time": "2023-02-09T07:14:31.464Z"
   },
   {
    "duration": 8,
    "start_time": "2023-02-09T07:14:31.492Z"
   },
   {
    "duration": 127,
    "start_time": "2023-02-09T07:14:31.501Z"
   },
   {
    "duration": 161,
    "start_time": "2023-02-09T07:14:31.630Z"
   },
   {
    "duration": 17,
    "start_time": "2023-02-09T07:14:31.793Z"
   },
   {
    "duration": 9,
    "start_time": "2023-02-09T07:14:31.812Z"
   },
   {
    "duration": 25,
    "start_time": "2023-02-09T07:14:31.822Z"
   },
   {
    "duration": 367,
    "start_time": "2023-02-09T07:14:31.848Z"
   },
   {
    "duration": 19,
    "start_time": "2023-02-09T07:14:32.217Z"
   },
   {
    "duration": 72,
    "start_time": "2023-02-09T07:14:48.272Z"
   },
   {
    "duration": 1124,
    "start_time": "2023-02-09T07:15:45.232Z"
   },
   {
    "duration": 2,
    "start_time": "2023-02-09T07:15:46.358Z"
   },
   {
    "duration": 7,
    "start_time": "2023-02-09T07:15:46.362Z"
   },
   {
    "duration": 48,
    "start_time": "2023-02-09T07:15:46.371Z"
   },
   {
    "duration": 83,
    "start_time": "2023-02-09T07:15:46.421Z"
   },
   {
    "duration": 15,
    "start_time": "2023-02-09T07:15:46.506Z"
   },
   {
    "duration": 13,
    "start_time": "2023-02-09T07:15:46.523Z"
   },
   {
    "duration": 12,
    "start_time": "2023-02-09T07:15:46.537Z"
   },
   {
    "duration": 17,
    "start_time": "2023-02-09T07:15:46.551Z"
   },
   {
    "duration": 14,
    "start_time": "2023-02-09T07:15:46.570Z"
   },
   {
    "duration": 26,
    "start_time": "2023-02-09T07:15:46.586Z"
   },
   {
    "duration": 18,
    "start_time": "2023-02-09T07:15:46.614Z"
   },
   {
    "duration": 33,
    "start_time": "2023-02-09T07:15:46.634Z"
   },
   {
    "duration": 10,
    "start_time": "2023-02-09T07:15:46.671Z"
   },
   {
    "duration": 7,
    "start_time": "2023-02-09T07:15:46.683Z"
   },
   {
    "duration": 160,
    "start_time": "2023-02-09T07:15:46.695Z"
   },
   {
    "duration": 20,
    "start_time": "2023-02-09T07:15:46.856Z"
   },
   {
    "duration": 15,
    "start_time": "2023-02-09T07:15:46.878Z"
   },
   {
    "duration": 22,
    "start_time": "2023-02-09T07:15:46.894Z"
   },
   {
    "duration": 5,
    "start_time": "2023-02-09T07:15:46.917Z"
   },
   {
    "duration": 10,
    "start_time": "2023-02-09T07:15:46.924Z"
   },
   {
    "duration": 23,
    "start_time": "2023-02-09T07:15:46.936Z"
   },
   {
    "duration": 14,
    "start_time": "2023-02-09T07:15:46.961Z"
   },
   {
    "duration": 37,
    "start_time": "2023-02-09T07:15:46.977Z"
   },
   {
    "duration": 10,
    "start_time": "2023-02-09T07:15:47.015Z"
   },
   {
    "duration": 19,
    "start_time": "2023-02-09T07:15:47.026Z"
   },
   {
    "duration": 15,
    "start_time": "2023-02-09T07:15:47.046Z"
   },
   {
    "duration": 6,
    "start_time": "2023-02-09T07:15:47.063Z"
   },
   {
    "duration": 12,
    "start_time": "2023-02-09T07:15:47.070Z"
   },
   {
    "duration": 27,
    "start_time": "2023-02-09T07:15:47.084Z"
   },
   {
    "duration": 6,
    "start_time": "2023-02-09T07:15:47.112Z"
   },
   {
    "duration": 15,
    "start_time": "2023-02-09T07:15:47.119Z"
   },
   {
    "duration": 23,
    "start_time": "2023-02-09T07:15:47.136Z"
   },
   {
    "duration": 9,
    "start_time": "2023-02-09T07:15:47.160Z"
   },
   {
    "duration": 13,
    "start_time": "2023-02-09T07:15:47.170Z"
   },
   {
    "duration": 28,
    "start_time": "2023-02-09T07:15:47.184Z"
   },
   {
    "duration": 9,
    "start_time": "2023-02-09T07:15:47.214Z"
   },
   {
    "duration": 8,
    "start_time": "2023-02-09T07:15:47.225Z"
   },
   {
    "duration": 11,
    "start_time": "2023-02-09T07:15:47.234Z"
   },
   {
    "duration": 13,
    "start_time": "2023-02-09T07:15:47.247Z"
   },
   {
    "duration": 1307,
    "start_time": "2023-02-09T07:15:47.266Z"
   },
   {
    "duration": 19,
    "start_time": "2023-02-09T07:15:48.575Z"
   },
   {
    "duration": 20,
    "start_time": "2023-02-09T07:15:48.596Z"
   },
   {
    "duration": 298,
    "start_time": "2023-02-09T07:15:48.618Z"
   },
   {
    "duration": 8,
    "start_time": "2023-02-09T07:15:48.917Z"
   },
   {
    "duration": 209,
    "start_time": "2023-02-09T07:15:48.926Z"
   },
   {
    "duration": 7,
    "start_time": "2023-02-09T07:15:49.137Z"
   },
   {
    "duration": 185,
    "start_time": "2023-02-09T07:15:49.146Z"
   },
   {
    "duration": 8,
    "start_time": "2023-02-09T07:15:49.333Z"
   },
   {
    "duration": 179,
    "start_time": "2023-02-09T07:15:49.343Z"
   },
   {
    "duration": 3,
    "start_time": "2023-02-09T07:15:49.524Z"
   },
   {
    "duration": 14,
    "start_time": "2023-02-09T07:15:49.528Z"
   },
   {
    "duration": 13,
    "start_time": "2023-02-09T07:15:49.543Z"
   },
   {
    "duration": 12,
    "start_time": "2023-02-09T07:15:49.558Z"
   },
   {
    "duration": 5,
    "start_time": "2023-02-09T07:15:49.571Z"
   },
   {
    "duration": 133,
    "start_time": "2023-02-09T07:15:49.577Z"
   },
   {
    "duration": 152,
    "start_time": "2023-02-09T07:15:49.711Z"
   },
   {
    "duration": 8,
    "start_time": "2023-02-09T07:15:49.864Z"
   },
   {
    "duration": 12,
    "start_time": "2023-02-09T07:15:49.873Z"
   },
   {
    "duration": 34,
    "start_time": "2023-02-09T07:15:49.887Z"
   },
   {
    "duration": 331,
    "start_time": "2023-02-09T07:15:49.922Z"
   },
   {
    "duration": 19,
    "start_time": "2023-02-09T07:15:50.255Z"
   },
   {
    "duration": 19,
    "start_time": "2023-02-09T07:15:50.276Z"
   },
   {
    "duration": 296,
    "start_time": "2023-02-09T07:15:50.296Z"
   },
   {
    "duration": 1096,
    "start_time": "2023-02-09T07:16:31.239Z"
   },
   {
    "duration": 3,
    "start_time": "2023-02-09T07:16:32.336Z"
   },
   {
    "duration": 12,
    "start_time": "2023-02-09T07:16:32.340Z"
   },
   {
    "duration": 61,
    "start_time": "2023-02-09T07:16:32.354Z"
   },
   {
    "duration": 85,
    "start_time": "2023-02-09T07:16:32.417Z"
   },
   {
    "duration": 14,
    "start_time": "2023-02-09T07:16:32.503Z"
   },
   {
    "duration": 17,
    "start_time": "2023-02-09T07:16:32.518Z"
   },
   {
    "duration": 7,
    "start_time": "2023-02-09T07:16:32.537Z"
   },
   {
    "duration": 12,
    "start_time": "2023-02-09T07:16:32.545Z"
   },
   {
    "duration": 7,
    "start_time": "2023-02-09T07:16:32.560Z"
   },
   {
    "duration": 9,
    "start_time": "2023-02-09T07:16:32.568Z"
   },
   {
    "duration": 8,
    "start_time": "2023-02-09T07:16:32.579Z"
   },
   {
    "duration": 21,
    "start_time": "2023-02-09T07:16:32.610Z"
   },
   {
    "duration": 9,
    "start_time": "2023-02-09T07:16:32.632Z"
   },
   {
    "duration": 10,
    "start_time": "2023-02-09T07:16:32.642Z"
   },
   {
    "duration": 14,
    "start_time": "2023-02-09T07:16:32.653Z"
   },
   {
    "duration": 8,
    "start_time": "2023-02-09T07:16:32.669Z"
   },
   {
    "duration": 13,
    "start_time": "2023-02-09T07:16:32.679Z"
   },
   {
    "duration": 37,
    "start_time": "2023-02-09T07:16:32.693Z"
   },
   {
    "duration": 5,
    "start_time": "2023-02-09T07:16:32.732Z"
   },
   {
    "duration": 12,
    "start_time": "2023-02-09T07:16:32.738Z"
   },
   {
    "duration": 22,
    "start_time": "2023-02-09T07:16:32.752Z"
   },
   {
    "duration": 9,
    "start_time": "2023-02-09T07:16:32.776Z"
   },
   {
    "duration": 12,
    "start_time": "2023-02-09T07:16:32.809Z"
   },
   {
    "duration": 8,
    "start_time": "2023-02-09T07:16:32.822Z"
   },
   {
    "duration": 17,
    "start_time": "2023-02-09T07:16:32.831Z"
   },
   {
    "duration": 8,
    "start_time": "2023-02-09T07:16:32.849Z"
   },
   {
    "duration": 10,
    "start_time": "2023-02-09T07:16:32.860Z"
   },
   {
    "duration": 15,
    "start_time": "2023-02-09T07:16:32.872Z"
   },
   {
    "duration": 22,
    "start_time": "2023-02-09T07:16:32.888Z"
   },
   {
    "duration": 12,
    "start_time": "2023-02-09T07:16:32.912Z"
   },
   {
    "duration": 13,
    "start_time": "2023-02-09T07:16:32.925Z"
   },
   {
    "duration": 30,
    "start_time": "2023-02-09T07:16:32.939Z"
   },
   {
    "duration": 8,
    "start_time": "2023-02-09T07:16:32.970Z"
   },
   {
    "duration": 22,
    "start_time": "2023-02-09T07:16:32.980Z"
   },
   {
    "duration": 6,
    "start_time": "2023-02-09T07:16:33.010Z"
   },
   {
    "duration": 14,
    "start_time": "2023-02-09T07:16:33.018Z"
   },
   {
    "duration": 19,
    "start_time": "2023-02-09T07:16:33.033Z"
   },
   {
    "duration": 16,
    "start_time": "2023-02-09T07:16:33.053Z"
   },
   {
    "duration": 25,
    "start_time": "2023-02-09T07:16:33.070Z"
   },
   {
    "duration": 1259,
    "start_time": "2023-02-09T07:16:33.097Z"
   },
   {
    "duration": 19,
    "start_time": "2023-02-09T07:16:34.358Z"
   },
   {
    "duration": 8,
    "start_time": "2023-02-09T07:16:34.378Z"
   },
   {
    "duration": 303,
    "start_time": "2023-02-09T07:16:34.387Z"
   },
   {
    "duration": 8,
    "start_time": "2023-02-09T07:16:34.692Z"
   },
   {
    "duration": 204,
    "start_time": "2023-02-09T07:16:34.710Z"
   },
   {
    "duration": 8,
    "start_time": "2023-02-09T07:16:34.916Z"
   },
   {
    "duration": 200,
    "start_time": "2023-02-09T07:16:34.925Z"
   },
   {
    "duration": 9,
    "start_time": "2023-02-09T07:16:35.127Z"
   },
   {
    "duration": 199,
    "start_time": "2023-02-09T07:16:35.139Z"
   },
   {
    "duration": 4,
    "start_time": "2023-02-09T07:16:35.340Z"
   },
   {
    "duration": 13,
    "start_time": "2023-02-09T07:16:35.346Z"
   },
   {
    "duration": 16,
    "start_time": "2023-02-09T07:16:35.360Z"
   },
   {
    "duration": 20,
    "start_time": "2023-02-09T07:16:35.378Z"
   },
   {
    "duration": 11,
    "start_time": "2023-02-09T07:16:35.399Z"
   },
   {
    "duration": 122,
    "start_time": "2023-02-09T07:16:35.412Z"
   },
   {
    "duration": 154,
    "start_time": "2023-02-09T07:16:35.536Z"
   },
   {
    "duration": 18,
    "start_time": "2023-02-09T07:16:35.692Z"
   },
   {
    "duration": 9,
    "start_time": "2023-02-09T07:16:35.712Z"
   },
   {
    "duration": 18,
    "start_time": "2023-02-09T07:16:35.722Z"
   },
   {
    "duration": 320,
    "start_time": "2023-02-09T07:16:35.742Z"
   },
   {
    "duration": 19,
    "start_time": "2023-02-09T07:16:36.064Z"
   },
   {
    "duration": 35,
    "start_time": "2023-02-09T07:16:36.085Z"
   },
   {
    "duration": 301,
    "start_time": "2023-02-09T07:16:36.123Z"
   },
   {
    "duration": 375,
    "start_time": "2023-02-09T07:26:10.408Z"
   },
   {
    "duration": 334,
    "start_time": "2023-02-09T07:30:24.727Z"
   },
   {
    "duration": 1550,
    "start_time": "2023-02-09T16:46:59.986Z"
   },
   {
    "duration": 12,
    "start_time": "2023-02-09T16:47:01.538Z"
   },
   {
    "duration": 60,
    "start_time": "2023-02-09T16:47:01.553Z"
   },
   {
    "duration": 277,
    "start_time": "2023-02-09T16:47:01.616Z"
   },
   {
    "duration": 563,
    "start_time": "2023-02-09T16:47:01.902Z"
   },
   {
    "duration": 26,
    "start_time": "2023-02-09T16:47:02.466Z"
   },
   {
    "duration": 30,
    "start_time": "2023-02-09T16:47:02.499Z"
   },
   {
    "duration": 55,
    "start_time": "2023-02-09T16:47:02.531Z"
   },
   {
    "duration": 37,
    "start_time": "2023-02-09T16:47:02.588Z"
   },
   {
    "duration": 85,
    "start_time": "2023-02-09T16:47:02.629Z"
   },
   {
    "duration": 71,
    "start_time": "2023-02-09T16:47:02.716Z"
   },
   {
    "duration": 25,
    "start_time": "2023-02-09T16:47:02.797Z"
   },
   {
    "duration": 90,
    "start_time": "2023-02-09T16:47:02.825Z"
   },
   {
    "duration": 16,
    "start_time": "2023-02-09T16:47:02.918Z"
   },
   {
    "duration": 59,
    "start_time": "2023-02-09T16:47:02.936Z"
   },
   {
    "duration": 29,
    "start_time": "2023-02-09T16:47:02.997Z"
   },
   {
    "duration": 72,
    "start_time": "2023-02-09T16:47:03.028Z"
   },
   {
    "duration": 34,
    "start_time": "2023-02-09T16:47:03.102Z"
   },
   {
    "duration": 157,
    "start_time": "2023-02-09T16:47:03.154Z"
   },
   {
    "duration": 7,
    "start_time": "2023-02-09T16:47:03.314Z"
   },
   {
    "duration": 67,
    "start_time": "2023-02-09T16:47:03.323Z"
   },
   {
    "duration": 71,
    "start_time": "2023-02-09T16:47:03.392Z"
   },
   {
    "duration": 36,
    "start_time": "2023-02-09T16:47:03.468Z"
   },
   {
    "duration": 17,
    "start_time": "2023-02-09T16:47:03.506Z"
   },
   {
    "duration": 19,
    "start_time": "2023-02-09T16:47:03.525Z"
   },
   {
    "duration": 69,
    "start_time": "2023-02-09T16:47:03.545Z"
   },
   {
    "duration": 19,
    "start_time": "2023-02-09T16:47:03.617Z"
   },
   {
    "duration": 47,
    "start_time": "2023-02-09T16:47:03.649Z"
   },
   {
    "duration": 19,
    "start_time": "2023-02-09T16:47:03.698Z"
   },
   {
    "duration": 13,
    "start_time": "2023-02-09T16:47:03.719Z"
   },
   {
    "duration": 44,
    "start_time": "2023-02-09T16:47:03.733Z"
   },
   {
    "duration": 18,
    "start_time": "2023-02-09T16:47:03.782Z"
   },
   {
    "duration": 45,
    "start_time": "2023-02-09T16:47:03.802Z"
   },
   {
    "duration": 9,
    "start_time": "2023-02-09T16:47:03.849Z"
   },
   {
    "duration": 60,
    "start_time": "2023-02-09T16:47:03.860Z"
   },
   {
    "duration": 65,
    "start_time": "2023-02-09T16:47:03.922Z"
   },
   {
    "duration": 38,
    "start_time": "2023-02-09T16:47:03.989Z"
   },
   {
    "duration": 61,
    "start_time": "2023-02-09T16:47:04.029Z"
   },
   {
    "duration": 95,
    "start_time": "2023-02-09T16:47:04.092Z"
   },
   {
    "duration": 27,
    "start_time": "2023-02-09T16:47:04.189Z"
   },
   {
    "duration": 1853,
    "start_time": "2023-02-09T16:47:04.218Z"
   },
   {
    "duration": 23,
    "start_time": "2023-02-09T16:47:06.079Z"
   },
   {
    "duration": 9,
    "start_time": "2023-02-09T16:47:06.104Z"
   },
   {
    "duration": 389,
    "start_time": "2023-02-09T16:47:06.114Z"
   },
   {
    "duration": 10,
    "start_time": "2023-02-09T16:47:06.505Z"
   },
   {
    "duration": 277,
    "start_time": "2023-02-09T16:47:06.517Z"
   },
   {
    "duration": 10,
    "start_time": "2023-02-09T16:47:06.796Z"
   },
   {
    "duration": 267,
    "start_time": "2023-02-09T16:47:06.808Z"
   },
   {
    "duration": 16,
    "start_time": "2023-02-09T16:47:07.076Z"
   },
   {
    "duration": 224,
    "start_time": "2023-02-09T16:47:07.093Z"
   },
   {
    "duration": 5,
    "start_time": "2023-02-09T16:47:07.318Z"
   },
   {
    "duration": 63,
    "start_time": "2023-02-09T16:47:07.325Z"
   },
   {
    "duration": 32,
    "start_time": "2023-02-09T16:47:07.390Z"
   },
   {
    "duration": 33,
    "start_time": "2023-02-09T16:47:07.424Z"
   },
   {
    "duration": 30,
    "start_time": "2023-02-09T16:47:07.463Z"
   },
   {
    "duration": 154,
    "start_time": "2023-02-09T16:47:07.495Z"
   },
   {
    "duration": 207,
    "start_time": "2023-02-09T16:47:07.651Z"
   },
   {
    "duration": 19,
    "start_time": "2023-02-09T16:47:07.871Z"
   },
   {
    "duration": 53,
    "start_time": "2023-02-09T16:47:07.892Z"
   },
   {
    "duration": 80,
    "start_time": "2023-02-09T16:47:07.949Z"
   },
   {
    "duration": 512,
    "start_time": "2023-02-09T16:47:08.030Z"
   },
   {
    "duration": 27,
    "start_time": "2023-02-09T16:47:08.549Z"
   },
   {
    "duration": 33,
    "start_time": "2023-02-09T16:47:08.577Z"
   },
   {
    "duration": 371,
    "start_time": "2023-02-09T16:47:08.611Z"
   },
   {
    "duration": 8,
    "start_time": "2023-02-09T16:47:08.987Z"
   },
   {
    "duration": 1125,
    "start_time": "2023-02-10T13:23:16.227Z"
   },
   {
    "duration": 3,
    "start_time": "2023-02-10T13:23:17.354Z"
   },
   {
    "duration": 5,
    "start_time": "2023-02-10T13:23:17.359Z"
   },
   {
    "duration": 50,
    "start_time": "2023-02-10T13:23:17.366Z"
   },
   {
    "duration": 80,
    "start_time": "2023-02-10T13:23:17.418Z"
   },
   {
    "duration": 15,
    "start_time": "2023-02-10T13:23:17.501Z"
   },
   {
    "duration": 14,
    "start_time": "2023-02-10T13:23:17.517Z"
   },
   {
    "duration": 9,
    "start_time": "2023-02-10T13:23:17.533Z"
   },
   {
    "duration": 13,
    "start_time": "2023-02-10T13:23:17.544Z"
   },
   {
    "duration": 9,
    "start_time": "2023-02-10T13:23:17.558Z"
   },
   {
    "duration": 11,
    "start_time": "2023-02-10T13:23:17.569Z"
   },
   {
    "duration": 17,
    "start_time": "2023-02-10T13:23:17.604Z"
   },
   {
    "duration": 47,
    "start_time": "2023-02-10T13:23:17.623Z"
   },
   {
    "duration": 10,
    "start_time": "2023-02-10T13:23:17.675Z"
   },
   {
    "duration": 13,
    "start_time": "2023-02-10T13:23:17.687Z"
   },
   {
    "duration": 24,
    "start_time": "2023-02-10T13:23:17.702Z"
   },
   {
    "duration": 9,
    "start_time": "2023-02-10T13:23:17.728Z"
   },
   {
    "duration": 14,
    "start_time": "2023-02-10T13:23:17.738Z"
   },
   {
    "duration": 30,
    "start_time": "2023-02-10T13:23:17.754Z"
   },
   {
    "duration": 6,
    "start_time": "2023-02-10T13:23:17.785Z"
   },
   {
    "duration": 9,
    "start_time": "2023-02-10T13:23:17.804Z"
   },
   {
    "duration": 30,
    "start_time": "2023-02-10T13:23:17.815Z"
   },
   {
    "duration": 10,
    "start_time": "2023-02-10T13:23:17.847Z"
   },
   {
    "duration": 18,
    "start_time": "2023-02-10T13:23:17.859Z"
   },
   {
    "duration": 25,
    "start_time": "2023-02-10T13:23:17.879Z"
   },
   {
    "duration": 14,
    "start_time": "2023-02-10T13:23:17.906Z"
   },
   {
    "duration": 19,
    "start_time": "2023-02-10T13:23:17.921Z"
   },
   {
    "duration": 7,
    "start_time": "2023-02-10T13:23:17.942Z"
   },
   {
    "duration": 17,
    "start_time": "2023-02-10T13:23:17.950Z"
   },
   {
    "duration": 8,
    "start_time": "2023-02-10T13:23:17.968Z"
   },
   {
    "duration": 25,
    "start_time": "2023-02-10T13:23:17.978Z"
   },
   {
    "duration": 9,
    "start_time": "2023-02-10T13:23:18.005Z"
   },
   {
    "duration": 23,
    "start_time": "2023-02-10T13:23:18.016Z"
   },
   {
    "duration": 8,
    "start_time": "2023-02-10T13:23:18.041Z"
   },
   {
    "duration": 32,
    "start_time": "2023-02-10T13:23:18.050Z"
   },
   {
    "duration": 7,
    "start_time": "2023-02-10T13:23:18.083Z"
   },
   {
    "duration": 14,
    "start_time": "2023-02-10T13:23:18.092Z"
   },
   {
    "duration": 7,
    "start_time": "2023-02-10T13:23:18.107Z"
   },
   {
    "duration": 14,
    "start_time": "2023-02-10T13:23:18.116Z"
   },
   {
    "duration": 12,
    "start_time": "2023-02-10T13:23:18.132Z"
   },
   {
    "duration": 1455,
    "start_time": "2023-02-10T13:23:18.148Z"
   },
   {
    "duration": 20,
    "start_time": "2023-02-10T13:23:19.605Z"
   },
   {
    "duration": 10,
    "start_time": "2023-02-10T13:23:19.626Z"
   },
   {
    "duration": 348,
    "start_time": "2023-02-10T13:23:19.637Z"
   },
   {
    "duration": 18,
    "start_time": "2023-02-10T13:23:19.986Z"
   },
   {
    "duration": 233,
    "start_time": "2023-02-10T13:23:20.006Z"
   },
   {
    "duration": 8,
    "start_time": "2023-02-10T13:23:20.241Z"
   },
   {
    "duration": 209,
    "start_time": "2023-02-10T13:23:20.251Z"
   },
   {
    "duration": 10,
    "start_time": "2023-02-10T13:23:20.461Z"
   },
   {
    "duration": 217,
    "start_time": "2023-02-10T13:23:20.472Z"
   },
   {
    "duration": 5,
    "start_time": "2023-02-10T13:23:20.691Z"
   },
   {
    "duration": 11,
    "start_time": "2023-02-10T13:23:20.702Z"
   },
   {
    "duration": 12,
    "start_time": "2023-02-10T13:23:20.715Z"
   },
   {
    "duration": 19,
    "start_time": "2023-02-10T13:23:20.744Z"
   },
   {
    "duration": 33,
    "start_time": "2023-02-10T13:23:20.765Z"
   },
   {
    "duration": 130,
    "start_time": "2023-02-10T13:23:20.800Z"
   },
   {
    "duration": 175,
    "start_time": "2023-02-10T13:23:20.932Z"
   },
   {
    "duration": 8,
    "start_time": "2023-02-10T13:23:21.109Z"
   },
   {
    "duration": 10,
    "start_time": "2023-02-10T13:23:21.119Z"
   },
   {
    "duration": 23,
    "start_time": "2023-02-10T13:23:21.131Z"
   },
   {
    "duration": 395,
    "start_time": "2023-02-10T13:23:21.156Z"
   },
   {
    "duration": 21,
    "start_time": "2023-02-10T13:23:21.552Z"
   },
   {
    "duration": 32,
    "start_time": "2023-02-10T13:23:21.575Z"
   },
   {
    "duration": 300,
    "start_time": "2023-02-10T13:23:21.609Z"
   },
   {
    "duration": 7,
    "start_time": "2023-02-10T13:23:21.910Z"
   },
   {
    "duration": 1317,
    "start_time": "2023-02-10T16:40:49.131Z"
   },
   {
    "duration": 3,
    "start_time": "2023-02-10T16:40:50.450Z"
   },
   {
    "duration": 10,
    "start_time": "2023-02-10T16:40:50.455Z"
   },
   {
    "duration": 106,
    "start_time": "2023-02-10T16:40:50.467Z"
   },
   {
    "duration": 11,
    "start_time": "2023-02-10T16:40:50.574Z"
   },
   {
    "duration": 200,
    "start_time": "2023-02-10T16:40:50.587Z"
   },
   {
    "duration": 14,
    "start_time": "2023-02-10T16:40:50.788Z"
   },
   {
    "duration": 26,
    "start_time": "2023-02-10T16:40:50.803Z"
   },
   {
    "duration": 8,
    "start_time": "2023-02-10T16:40:50.830Z"
   },
   {
    "duration": 8,
    "start_time": "2023-02-10T16:40:50.842Z"
   },
   {
    "duration": 9,
    "start_time": "2023-02-10T16:40:50.852Z"
   },
   {
    "duration": 10,
    "start_time": "2023-02-10T16:40:50.863Z"
   },
   {
    "duration": 10,
    "start_time": "2023-02-10T16:40:50.875Z"
   },
   {
    "duration": 24,
    "start_time": "2023-02-10T16:40:50.887Z"
   },
   {
    "duration": 38,
    "start_time": "2023-02-10T16:40:50.912Z"
   },
   {
    "duration": 4,
    "start_time": "2023-02-10T16:40:50.952Z"
   },
   {
    "duration": 11,
    "start_time": "2023-02-10T16:40:50.958Z"
   },
   {
    "duration": 11,
    "start_time": "2023-02-10T16:40:50.970Z"
   },
   {
    "duration": 14,
    "start_time": "2023-02-10T16:40:50.982Z"
   },
   {
    "duration": 52,
    "start_time": "2023-02-10T16:40:50.998Z"
   },
   {
    "duration": 8,
    "start_time": "2023-02-10T16:40:51.052Z"
   },
   {
    "duration": 11,
    "start_time": "2023-02-10T16:40:51.062Z"
   },
   {
    "duration": 28,
    "start_time": "2023-02-10T16:40:51.074Z"
   },
   {
    "duration": 8,
    "start_time": "2023-02-10T16:40:51.104Z"
   },
   {
    "duration": 35,
    "start_time": "2023-02-10T16:40:51.114Z"
   },
   {
    "duration": 8,
    "start_time": "2023-02-10T16:40:51.151Z"
   },
   {
    "duration": 19,
    "start_time": "2023-02-10T16:40:51.161Z"
   },
   {
    "duration": 8,
    "start_time": "2023-02-10T16:40:51.183Z"
   },
   {
    "duration": 4,
    "start_time": "2023-02-10T16:40:51.193Z"
   },
   {
    "duration": 14,
    "start_time": "2023-02-10T16:40:51.198Z"
   },
   {
    "duration": 15,
    "start_time": "2023-02-10T16:40:51.214Z"
   },
   {
    "duration": 7,
    "start_time": "2023-02-10T16:40:51.249Z"
   },
   {
    "duration": 13,
    "start_time": "2023-02-10T16:40:51.258Z"
   },
   {
    "duration": 22,
    "start_time": "2023-02-10T16:40:51.273Z"
   },
   {
    "duration": 8,
    "start_time": "2023-02-10T16:40:51.297Z"
   },
   {
    "duration": 29,
    "start_time": "2023-02-10T16:40:51.306Z"
   },
   {
    "duration": 7,
    "start_time": "2023-02-10T16:40:51.348Z"
   },
   {
    "duration": 29,
    "start_time": "2023-02-10T16:40:51.357Z"
   },
   {
    "duration": 92,
    "start_time": "2023-02-10T16:40:51.388Z"
   },
   {
    "duration": 13,
    "start_time": "2023-02-10T16:40:51.482Z"
   },
   {
    "duration": 14,
    "start_time": "2023-02-10T16:40:51.497Z"
   },
   {
    "duration": 1323,
    "start_time": "2023-02-10T16:40:51.513Z"
   },
   {
    "duration": 28,
    "start_time": "2023-02-10T16:40:52.838Z"
   },
   {
    "duration": 9,
    "start_time": "2023-02-10T16:40:52.868Z"
   },
   {
    "duration": 315,
    "start_time": "2023-02-10T16:40:52.879Z"
   },
   {
    "duration": 8,
    "start_time": "2023-02-10T16:40:53.196Z"
   },
   {
    "duration": 225,
    "start_time": "2023-02-10T16:40:53.205Z"
   },
   {
    "duration": 8,
    "start_time": "2023-02-10T16:40:53.432Z"
   },
   {
    "duration": 187,
    "start_time": "2023-02-10T16:40:53.448Z"
   },
   {
    "duration": 17,
    "start_time": "2023-02-10T16:40:53.636Z"
   },
   {
    "duration": 227,
    "start_time": "2023-02-10T16:40:53.654Z"
   },
   {
    "duration": 4,
    "start_time": "2023-02-10T16:40:53.882Z"
   },
   {
    "duration": 13,
    "start_time": "2023-02-10T16:40:53.888Z"
   },
   {
    "duration": 20,
    "start_time": "2023-02-10T16:40:53.902Z"
   },
   {
    "duration": 25,
    "start_time": "2023-02-10T16:40:53.924Z"
   },
   {
    "duration": 5,
    "start_time": "2023-02-10T16:40:53.950Z"
   },
   {
    "duration": 211,
    "start_time": "2023-02-10T16:40:53.957Z"
   },
   {
    "duration": 167,
    "start_time": "2023-02-10T16:40:54.171Z"
   },
   {
    "duration": 13,
    "start_time": "2023-02-10T16:40:54.340Z"
   },
   {
    "duration": 9,
    "start_time": "2023-02-10T16:40:54.354Z"
   },
   {
    "duration": 18,
    "start_time": "2023-02-10T16:40:54.365Z"
   },
   {
    "duration": 356,
    "start_time": "2023-02-10T16:40:54.384Z"
   },
   {
    "duration": 21,
    "start_time": "2023-02-10T16:40:54.741Z"
   },
   {
    "duration": 12,
    "start_time": "2023-02-10T16:40:54.764Z"
   },
   {
    "duration": 271,
    "start_time": "2023-02-10T16:40:54.777Z"
   },
   {
    "duration": 7,
    "start_time": "2023-02-10T16:40:55.049Z"
   },
   {
    "duration": 1154,
    "start_time": "2023-02-10T17:08:53.037Z"
   },
   {
    "duration": 3,
    "start_time": "2023-02-10T17:08:54.192Z"
   },
   {
    "duration": 9,
    "start_time": "2023-02-10T17:08:54.197Z"
   },
   {
    "duration": 53,
    "start_time": "2023-02-10T17:08:54.208Z"
   },
   {
    "duration": 10,
    "start_time": "2023-02-10T17:08:54.263Z"
   },
   {
    "duration": 88,
    "start_time": "2023-02-10T17:08:54.274Z"
   },
   {
    "duration": 14,
    "start_time": "2023-02-10T17:08:54.364Z"
   },
   {
    "duration": 17,
    "start_time": "2023-02-10T17:08:54.380Z"
   },
   {
    "duration": 6,
    "start_time": "2023-02-10T17:08:54.399Z"
   },
   {
    "duration": 9,
    "start_time": "2023-02-10T17:08:54.408Z"
   },
   {
    "duration": 30,
    "start_time": "2023-02-10T17:08:54.419Z"
   },
   {
    "duration": 11,
    "start_time": "2023-02-10T17:08:54.451Z"
   },
   {
    "duration": 17,
    "start_time": "2023-02-10T17:08:54.463Z"
   },
   {
    "duration": 22,
    "start_time": "2023-02-10T17:08:54.482Z"
   },
   {
    "duration": 11,
    "start_time": "2023-02-10T17:08:54.505Z"
   },
   {
    "duration": 5,
    "start_time": "2023-02-10T17:08:54.518Z"
   },
   {
    "duration": 10,
    "start_time": "2023-02-10T17:08:54.548Z"
   },
   {
    "duration": 12,
    "start_time": "2023-02-10T17:08:54.560Z"
   },
   {
    "duration": 15,
    "start_time": "2023-02-10T17:08:54.573Z"
   },
   {
    "duration": 23,
    "start_time": "2023-02-10T17:08:54.590Z"
   },
   {
    "duration": 6,
    "start_time": "2023-02-10T17:08:54.615Z"
   },
   {
    "duration": 35,
    "start_time": "2023-02-10T17:08:54.622Z"
   },
   {
    "duration": 55,
    "start_time": "2023-02-10T17:08:54.658Z"
   },
   {
    "duration": 10,
    "start_time": "2023-02-10T17:08:54.715Z"
   },
   {
    "duration": 26,
    "start_time": "2023-02-10T17:08:54.726Z"
   },
   {
    "duration": 10,
    "start_time": "2023-02-10T17:08:54.754Z"
   },
   {
    "duration": 29,
    "start_time": "2023-02-10T17:08:54.766Z"
   },
   {
    "duration": 12,
    "start_time": "2023-02-10T17:08:54.800Z"
   },
   {
    "duration": 6,
    "start_time": "2023-02-10T17:08:54.814Z"
   },
   {
    "duration": 19,
    "start_time": "2023-02-10T17:08:54.822Z"
   },
   {
    "duration": 12,
    "start_time": "2023-02-10T17:08:54.843Z"
   },
   {
    "duration": 8,
    "start_time": "2023-02-10T17:08:54.857Z"
   },
   {
    "duration": 20,
    "start_time": "2023-02-10T17:08:54.866Z"
   },
   {
    "duration": 26,
    "start_time": "2023-02-10T17:08:54.887Z"
   },
   {
    "duration": 8,
    "start_time": "2023-02-10T17:08:54.914Z"
   },
   {
    "duration": 30,
    "start_time": "2023-02-10T17:08:54.923Z"
   },
   {
    "duration": 14,
    "start_time": "2023-02-10T17:08:54.954Z"
   },
   {
    "duration": 13,
    "start_time": "2023-02-10T17:08:54.973Z"
   },
   {
    "duration": 10,
    "start_time": "2023-02-10T17:08:54.987Z"
   },
   {
    "duration": 12,
    "start_time": "2023-02-10T17:08:54.999Z"
   },
   {
    "duration": 15,
    "start_time": "2023-02-10T17:08:55.013Z"
   },
   {
    "duration": 1540,
    "start_time": "2023-02-10T17:08:55.030Z"
   },
   {
    "duration": 19,
    "start_time": "2023-02-10T17:08:56.572Z"
   },
   {
    "duration": 8,
    "start_time": "2023-02-10T17:08:56.592Z"
   },
   {
    "duration": 339,
    "start_time": "2023-02-10T17:08:56.601Z"
   },
   {
    "duration": 12,
    "start_time": "2023-02-10T17:08:56.942Z"
   },
   {
    "duration": 202,
    "start_time": "2023-02-10T17:08:56.955Z"
   },
   {
    "duration": 8,
    "start_time": "2023-02-10T17:08:57.158Z"
   },
   {
    "duration": 184,
    "start_time": "2023-02-10T17:08:57.167Z"
   },
   {
    "duration": 8,
    "start_time": "2023-02-10T17:08:57.352Z"
   },
   {
    "duration": 187,
    "start_time": "2023-02-10T17:08:57.361Z"
   },
   {
    "duration": 4,
    "start_time": "2023-02-10T17:08:57.549Z"
   },
   {
    "duration": 15,
    "start_time": "2023-02-10T17:08:57.555Z"
   },
   {
    "duration": 11,
    "start_time": "2023-02-10T17:08:57.571Z"
   },
   {
    "duration": 16,
    "start_time": "2023-02-10T17:08:57.584Z"
   },
   {
    "duration": 5,
    "start_time": "2023-02-10T17:08:57.601Z"
   },
   {
    "duration": 139,
    "start_time": "2023-02-10T17:08:57.607Z"
   },
   {
    "duration": 152,
    "start_time": "2023-02-10T17:08:57.748Z"
   },
   {
    "duration": 8,
    "start_time": "2023-02-10T17:08:57.902Z"
   },
   {
    "duration": 11,
    "start_time": "2023-02-10T17:08:57.911Z"
   },
   {
    "duration": 32,
    "start_time": "2023-02-10T17:08:57.924Z"
   },
   {
    "duration": 327,
    "start_time": "2023-02-10T17:08:57.958Z"
   },
   {
    "duration": 20,
    "start_time": "2023-02-10T17:08:58.286Z"
   },
   {
    "duration": 15,
    "start_time": "2023-02-10T17:08:58.307Z"
   },
   {
    "duration": 307,
    "start_time": "2023-02-10T17:08:58.324Z"
   },
   {
    "duration": 17,
    "start_time": "2023-02-10T17:08:58.632Z"
   },
   {
    "duration": 13,
    "start_time": "2023-02-10T17:17:16.755Z"
   },
   {
    "duration": 233,
    "start_time": "2023-02-10T17:22:23.208Z"
   },
   {
    "duration": 139,
    "start_time": "2023-02-10T17:22:43.035Z"
   },
   {
    "duration": 18,
    "start_time": "2023-02-10T17:30:50.494Z"
   },
   {
    "duration": 104,
    "start_time": "2023-02-10T17:31:21.747Z"
   },
   {
    "duration": 18,
    "start_time": "2023-02-10T17:31:27.417Z"
   },
   {
    "duration": 2,
    "start_time": "2023-02-10T17:32:08.636Z"
   },
   {
    "duration": 16,
    "start_time": "2023-02-10T17:34:54.177Z"
   },
   {
    "duration": 13,
    "start_time": "2023-02-10T17:36:33.367Z"
   },
   {
    "duration": 14,
    "start_time": "2023-02-10T17:37:19.791Z"
   },
   {
    "duration": 1149,
    "start_time": "2023-02-10T17:38:53.438Z"
   },
   {
    "duration": 3,
    "start_time": "2023-02-10T17:38:54.591Z"
   },
   {
    "duration": 9,
    "start_time": "2023-02-10T17:38:54.596Z"
   },
   {
    "duration": 54,
    "start_time": "2023-02-10T17:38:54.607Z"
   },
   {
    "duration": 10,
    "start_time": "2023-02-10T17:38:54.662Z"
   },
   {
    "duration": 84,
    "start_time": "2023-02-10T17:38:54.674Z"
   },
   {
    "duration": 15,
    "start_time": "2023-02-10T17:38:54.760Z"
   },
   {
    "duration": 14,
    "start_time": "2023-02-10T17:38:54.777Z"
   },
   {
    "duration": 26,
    "start_time": "2023-02-10T17:38:54.794Z"
   },
   {
    "duration": 12,
    "start_time": "2023-02-10T17:38:54.821Z"
   },
   {
    "duration": 14,
    "start_time": "2023-02-10T17:38:54.835Z"
   },
   {
    "duration": 10,
    "start_time": "2023-02-10T17:38:54.850Z"
   },
   {
    "duration": 10,
    "start_time": "2023-02-10T17:38:54.862Z"
   },
   {
    "duration": 22,
    "start_time": "2023-02-10T17:38:54.874Z"
   },
   {
    "duration": 10,
    "start_time": "2023-02-10T17:38:54.898Z"
   },
   {
    "duration": 12,
    "start_time": "2023-02-10T17:38:54.909Z"
   },
   {
    "duration": 33,
    "start_time": "2023-02-10T17:38:54.922Z"
   },
   {
    "duration": 11,
    "start_time": "2023-02-10T17:38:54.957Z"
   },
   {
    "duration": 14,
    "start_time": "2023-02-10T17:38:54.970Z"
   },
   {
    "duration": 24,
    "start_time": "2023-02-10T17:38:54.986Z"
   },
   {
    "duration": 6,
    "start_time": "2023-02-10T17:38:55.012Z"
   },
   {
    "duration": 33,
    "start_time": "2023-02-10T17:38:55.019Z"
   },
   {
    "duration": 26,
    "start_time": "2023-02-10T17:38:55.053Z"
   },
   {
    "duration": 10,
    "start_time": "2023-02-10T17:38:55.081Z"
   },
   {
    "duration": 19,
    "start_time": "2023-02-10T17:38:55.092Z"
   },
   {
    "duration": 42,
    "start_time": "2023-02-10T17:38:55.113Z"
   },
   {
    "duration": 12,
    "start_time": "2023-02-10T17:38:55.160Z"
   },
   {
    "duration": 20,
    "start_time": "2023-02-10T17:38:55.174Z"
   },
   {
    "duration": 19,
    "start_time": "2023-02-10T17:38:55.196Z"
   },
   {
    "duration": 12,
    "start_time": "2023-02-10T17:38:55.217Z"
   },
   {
    "duration": 19,
    "start_time": "2023-02-10T17:38:55.231Z"
   },
   {
    "duration": 10,
    "start_time": "2023-02-10T17:38:55.252Z"
   },
   {
    "duration": 16,
    "start_time": "2023-02-10T17:38:55.264Z"
   },
   {
    "duration": 17,
    "start_time": "2023-02-10T17:38:55.282Z"
   },
   {
    "duration": 30,
    "start_time": "2023-02-10T17:38:55.301Z"
   },
   {
    "duration": 10,
    "start_time": "2023-02-10T17:38:55.347Z"
   },
   {
    "duration": 20,
    "start_time": "2023-02-10T17:38:55.359Z"
   },
   {
    "duration": 9,
    "start_time": "2023-02-10T17:38:55.380Z"
   },
   {
    "duration": 13,
    "start_time": "2023-02-10T17:38:55.390Z"
   },
   {
    "duration": 9,
    "start_time": "2023-02-10T17:38:55.405Z"
   },
   {
    "duration": 33,
    "start_time": "2023-02-10T17:38:55.416Z"
   },
   {
    "duration": 10,
    "start_time": "2023-02-10T17:38:55.450Z"
   },
   {
    "duration": 1357,
    "start_time": "2023-02-10T17:38:55.461Z"
   },
   {
    "duration": 29,
    "start_time": "2023-02-10T17:38:56.820Z"
   },
   {
    "duration": 9,
    "start_time": "2023-02-10T17:38:56.850Z"
   },
   {
    "duration": 327,
    "start_time": "2023-02-10T17:38:56.860Z"
   },
   {
    "duration": 8,
    "start_time": "2023-02-10T17:38:57.189Z"
   },
   {
    "duration": 215,
    "start_time": "2023-02-10T17:38:57.199Z"
   },
   {
    "duration": 8,
    "start_time": "2023-02-10T17:38:57.416Z"
   },
   {
    "duration": 192,
    "start_time": "2023-02-10T17:38:57.425Z"
   },
   {
    "duration": 8,
    "start_time": "2023-02-10T17:38:57.618Z"
   },
   {
    "duration": 186,
    "start_time": "2023-02-10T17:38:57.628Z"
   },
   {
    "duration": 4,
    "start_time": "2023-02-10T17:38:57.816Z"
   },
   {
    "duration": 15,
    "start_time": "2023-02-10T17:38:57.821Z"
   },
   {
    "duration": 16,
    "start_time": "2023-02-10T17:38:57.847Z"
   },
   {
    "duration": 19,
    "start_time": "2023-02-10T17:38:57.865Z"
   },
   {
    "duration": 7,
    "start_time": "2023-02-10T17:38:57.885Z"
   },
   {
    "duration": 162,
    "start_time": "2023-02-10T17:38:57.895Z"
   },
   {
    "duration": 3,
    "start_time": "2023-02-10T17:38:58.058Z"
   },
   {
    "duration": 123,
    "start_time": "2023-02-10T17:38:58.062Z"
   },
   {
    "duration": 153,
    "start_time": "2023-02-10T17:38:58.187Z"
   },
   {
    "duration": 8,
    "start_time": "2023-02-10T17:38:58.347Z"
   },
   {
    "duration": 13,
    "start_time": "2023-02-10T17:38:58.356Z"
   },
   {
    "duration": 20,
    "start_time": "2023-02-10T17:38:58.371Z"
   },
   {
    "duration": 337,
    "start_time": "2023-02-10T17:38:58.392Z"
   },
   {
    "duration": 27,
    "start_time": "2023-02-10T17:38:58.731Z"
   },
   {
    "duration": 14,
    "start_time": "2023-02-10T17:38:58.760Z"
   },
   {
    "duration": 372,
    "start_time": "2023-02-10T17:38:58.776Z"
   },
   {
    "duration": 6,
    "start_time": "2023-02-10T17:38:59.149Z"
   },
   {
    "duration": 15,
    "start_time": "2023-02-10T17:38:59.157Z"
   },
   {
    "duration": 1152,
    "start_time": "2023-02-10T17:41:03.236Z"
   },
   {
    "duration": 2,
    "start_time": "2023-02-10T17:41:04.391Z"
   },
   {
    "duration": 5,
    "start_time": "2023-02-10T17:41:04.395Z"
   },
   {
    "duration": 54,
    "start_time": "2023-02-10T17:41:04.403Z"
   },
   {
    "duration": 9,
    "start_time": "2023-02-10T17:41:04.459Z"
   },
   {
    "duration": 88,
    "start_time": "2023-02-10T17:41:04.469Z"
   },
   {
    "duration": 16,
    "start_time": "2023-02-10T17:41:04.558Z"
   },
   {
    "duration": 13,
    "start_time": "2023-02-10T17:41:04.575Z"
   },
   {
    "duration": 9,
    "start_time": "2023-02-10T17:41:04.589Z"
   },
   {
    "duration": 9,
    "start_time": "2023-02-10T17:41:04.600Z"
   },
   {
    "duration": 37,
    "start_time": "2023-02-10T17:41:04.611Z"
   },
   {
    "duration": 11,
    "start_time": "2023-02-10T17:41:04.650Z"
   },
   {
    "duration": 10,
    "start_time": "2023-02-10T17:41:04.663Z"
   },
   {
    "duration": 22,
    "start_time": "2023-02-10T17:41:04.674Z"
   },
   {
    "duration": 9,
    "start_time": "2023-02-10T17:41:04.697Z"
   },
   {
    "duration": 5,
    "start_time": "2023-02-10T17:41:04.708Z"
   },
   {
    "duration": 41,
    "start_time": "2023-02-10T17:41:04.714Z"
   },
   {
    "duration": 10,
    "start_time": "2023-02-10T17:41:04.757Z"
   },
   {
    "duration": 14,
    "start_time": "2023-02-10T17:41:04.768Z"
   },
   {
    "duration": 28,
    "start_time": "2023-02-10T17:41:04.783Z"
   },
   {
    "duration": 6,
    "start_time": "2023-02-10T17:41:04.812Z"
   },
   {
    "duration": 33,
    "start_time": "2023-02-10T17:41:04.819Z"
   },
   {
    "duration": 34,
    "start_time": "2023-02-10T17:41:04.854Z"
   },
   {
    "duration": 10,
    "start_time": "2023-02-10T17:41:04.890Z"
   },
   {
    "duration": 10,
    "start_time": "2023-02-10T17:41:04.902Z"
   },
   {
    "duration": 38,
    "start_time": "2023-02-10T17:41:04.913Z"
   },
   {
    "duration": 9,
    "start_time": "2023-02-10T17:41:04.953Z"
   },
   {
    "duration": 13,
    "start_time": "2023-02-10T17:41:04.966Z"
   },
   {
    "duration": 11,
    "start_time": "2023-02-10T17:41:04.980Z"
   },
   {
    "duration": 4,
    "start_time": "2023-02-10T17:41:04.992Z"
   },
   {
    "duration": 14,
    "start_time": "2023-02-10T17:41:04.998Z"
   },
   {
    "duration": 35,
    "start_time": "2023-02-10T17:41:05.014Z"
   },
   {
    "duration": 7,
    "start_time": "2023-02-10T17:41:05.051Z"
   },
   {
    "duration": 12,
    "start_time": "2023-02-10T17:41:05.060Z"
   },
   {
    "duration": 26,
    "start_time": "2023-02-10T17:41:05.074Z"
   },
   {
    "duration": 7,
    "start_time": "2023-02-10T17:41:05.101Z"
   },
   {
    "duration": 14,
    "start_time": "2023-02-10T17:41:05.110Z"
   },
   {
    "duration": 7,
    "start_time": "2023-02-10T17:41:05.148Z"
   },
   {
    "duration": 16,
    "start_time": "2023-02-10T17:41:05.156Z"
   },
   {
    "duration": 8,
    "start_time": "2023-02-10T17:41:05.173Z"
   },
   {
    "duration": 10,
    "start_time": "2023-02-10T17:41:05.183Z"
   },
   {
    "duration": 26,
    "start_time": "2023-02-10T17:41:05.195Z"
   },
   {
    "duration": 1481,
    "start_time": "2023-02-10T17:41:05.224Z"
   },
   {
    "duration": 20,
    "start_time": "2023-02-10T17:41:06.707Z"
   },
   {
    "duration": 22,
    "start_time": "2023-02-10T17:41:06.728Z"
   },
   {
    "duration": 353,
    "start_time": "2023-02-10T17:41:06.752Z"
   },
   {
    "duration": 9,
    "start_time": "2023-02-10T17:41:07.106Z"
   },
   {
    "duration": 231,
    "start_time": "2023-02-10T17:41:07.117Z"
   },
   {
    "duration": 8,
    "start_time": "2023-02-10T17:41:07.350Z"
   },
   {
    "duration": 191,
    "start_time": "2023-02-10T17:41:07.360Z"
   },
   {
    "duration": 9,
    "start_time": "2023-02-10T17:41:07.553Z"
   },
   {
    "duration": 207,
    "start_time": "2023-02-10T17:41:07.563Z"
   },
   {
    "duration": 4,
    "start_time": "2023-02-10T17:41:07.771Z"
   },
   {
    "duration": 12,
    "start_time": "2023-02-10T17:41:07.777Z"
   },
   {
    "duration": 13,
    "start_time": "2023-02-10T17:41:07.791Z"
   },
   {
    "duration": 22,
    "start_time": "2023-02-10T17:41:07.805Z"
   },
   {
    "duration": 23,
    "start_time": "2023-02-10T17:41:07.829Z"
   },
   {
    "duration": 154,
    "start_time": "2023-02-10T17:41:07.854Z"
   },
   {
    "duration": 2,
    "start_time": "2023-02-10T17:41:08.010Z"
   },
   {
    "duration": 125,
    "start_time": "2023-02-10T17:41:08.014Z"
   },
   {
    "duration": 161,
    "start_time": "2023-02-10T17:41:08.141Z"
   },
   {
    "duration": 7,
    "start_time": "2023-02-10T17:41:08.304Z"
   },
   {
    "duration": 11,
    "start_time": "2023-02-10T17:41:08.314Z"
   },
   {
    "duration": 34,
    "start_time": "2023-02-10T17:41:08.327Z"
   },
   {
    "duration": 380,
    "start_time": "2023-02-10T17:41:08.362Z"
   },
   {
    "duration": 20,
    "start_time": "2023-02-10T17:41:08.747Z"
   },
   {
    "duration": 14,
    "start_time": "2023-02-10T17:41:08.768Z"
   },
   {
    "duration": 399,
    "start_time": "2023-02-10T17:41:08.784Z"
   },
   {
    "duration": 5,
    "start_time": "2023-02-10T17:41:09.185Z"
   },
   {
    "duration": 29,
    "start_time": "2023-02-10T17:41:09.192Z"
   },
   {
    "duration": 1350,
    "start_time": "2023-02-11T07:16:46.056Z"
   },
   {
    "duration": 3,
    "start_time": "2023-02-11T07:16:47.409Z"
   },
   {
    "duration": 11,
    "start_time": "2023-02-11T07:16:47.414Z"
   },
   {
    "duration": 107,
    "start_time": "2023-02-11T07:16:47.428Z"
   },
   {
    "duration": 10,
    "start_time": "2023-02-11T07:16:47.537Z"
   },
   {
    "duration": 225,
    "start_time": "2023-02-11T07:16:47.549Z"
   },
   {
    "duration": 15,
    "start_time": "2023-02-11T07:16:47.776Z"
   },
   {
    "duration": 13,
    "start_time": "2023-02-11T07:16:47.793Z"
   },
   {
    "duration": 8,
    "start_time": "2023-02-11T07:16:47.807Z"
   },
   {
    "duration": 9,
    "start_time": "2023-02-11T07:16:47.818Z"
   },
   {
    "duration": 9,
    "start_time": "2023-02-11T07:16:47.828Z"
   },
   {
    "duration": 10,
    "start_time": "2023-02-11T07:16:47.839Z"
   },
   {
    "duration": 43,
    "start_time": "2023-02-11T07:16:47.851Z"
   },
   {
    "duration": 26,
    "start_time": "2023-02-11T07:16:47.896Z"
   },
   {
    "duration": 9,
    "start_time": "2023-02-11T07:16:47.924Z"
   },
   {
    "duration": 5,
    "start_time": "2023-02-11T07:16:47.935Z"
   },
   {
    "duration": 12,
    "start_time": "2023-02-11T07:16:47.941Z"
   },
   {
    "duration": 37,
    "start_time": "2023-02-11T07:16:47.955Z"
   },
   {
    "duration": 15,
    "start_time": "2023-02-11T07:16:47.994Z"
   },
   {
    "duration": 24,
    "start_time": "2023-02-11T07:16:48.011Z"
   },
   {
    "duration": 6,
    "start_time": "2023-02-11T07:16:48.036Z"
   },
   {
    "duration": 11,
    "start_time": "2023-02-11T07:16:48.044Z"
   },
   {
    "duration": 53,
    "start_time": "2023-02-11T07:16:48.057Z"
   },
   {
    "duration": 9,
    "start_time": "2023-02-11T07:16:48.112Z"
   },
   {
    "duration": 15,
    "start_time": "2023-02-11T07:16:48.123Z"
   },
   {
    "duration": 23,
    "start_time": "2023-02-11T07:16:48.140Z"
   },
   {
    "duration": 18,
    "start_time": "2023-02-11T07:16:48.166Z"
   },
   {
    "duration": 20,
    "start_time": "2023-02-11T07:16:48.194Z"
   },
   {
    "duration": 15,
    "start_time": "2023-02-11T07:16:48.215Z"
   },
   {
    "duration": 13,
    "start_time": "2023-02-11T07:16:48.232Z"
   },
   {
    "duration": 14,
    "start_time": "2023-02-11T07:16:48.247Z"
   },
   {
    "duration": 14,
    "start_time": "2023-02-11T07:16:48.262Z"
   },
   {
    "duration": 15,
    "start_time": "2023-02-11T07:16:48.278Z"
   },
   {
    "duration": 19,
    "start_time": "2023-02-11T07:16:48.296Z"
   },
   {
    "duration": 37,
    "start_time": "2023-02-11T07:16:48.317Z"
   },
   {
    "duration": 7,
    "start_time": "2023-02-11T07:16:48.356Z"
   },
   {
    "duration": 28,
    "start_time": "2023-02-11T07:16:48.365Z"
   },
   {
    "duration": 5,
    "start_time": "2023-02-11T07:16:48.395Z"
   },
   {
    "duration": 18,
    "start_time": "2023-02-11T07:16:48.402Z"
   },
   {
    "duration": 10,
    "start_time": "2023-02-11T07:16:48.422Z"
   },
   {
    "duration": 11,
    "start_time": "2023-02-11T07:16:48.433Z"
   },
   {
    "duration": 12,
    "start_time": "2023-02-11T07:16:48.446Z"
   },
   {
    "duration": 1514,
    "start_time": "2023-02-11T07:16:48.459Z"
   },
   {
    "duration": 30,
    "start_time": "2023-02-11T07:16:49.975Z"
   },
   {
    "duration": 10,
    "start_time": "2023-02-11T07:16:50.007Z"
   },
   {
    "duration": 349,
    "start_time": "2023-02-11T07:16:50.019Z"
   },
   {
    "duration": 9,
    "start_time": "2023-02-11T07:16:50.370Z"
   },
   {
    "duration": 235,
    "start_time": "2023-02-11T07:16:50.391Z"
   },
   {
    "duration": 9,
    "start_time": "2023-02-11T07:16:50.629Z"
   },
   {
    "duration": 261,
    "start_time": "2023-02-11T07:16:50.641Z"
   },
   {
    "duration": 11,
    "start_time": "2023-02-11T07:16:50.904Z"
   },
   {
    "duration": 229,
    "start_time": "2023-02-11T07:16:50.918Z"
   },
   {
    "duration": 4,
    "start_time": "2023-02-11T07:16:51.149Z"
   },
   {
    "duration": 18,
    "start_time": "2023-02-11T07:16:51.154Z"
   },
   {
    "duration": 23,
    "start_time": "2023-02-11T07:16:51.173Z"
   },
   {
    "duration": 32,
    "start_time": "2023-02-11T07:16:51.198Z"
   },
   {
    "duration": 5,
    "start_time": "2023-02-11T07:16:51.231Z"
   },
   {
    "duration": 140,
    "start_time": "2023-02-11T07:16:51.238Z"
   },
   {
    "duration": 3,
    "start_time": "2023-02-11T07:16:51.379Z"
   },
   {
    "duration": 121,
    "start_time": "2023-02-11T07:16:51.392Z"
   },
   {
    "duration": 193,
    "start_time": "2023-02-11T07:16:51.514Z"
   },
   {
    "duration": 8,
    "start_time": "2023-02-11T07:16:51.709Z"
   },
   {
    "duration": 27,
    "start_time": "2023-02-11T07:16:51.718Z"
   },
   {
    "duration": 27,
    "start_time": "2023-02-11T07:16:51.747Z"
   },
   {
    "duration": 404,
    "start_time": "2023-02-11T07:16:51.776Z"
   },
   {
    "duration": 24,
    "start_time": "2023-02-11T07:16:52.182Z"
   },
   {
    "duration": 15,
    "start_time": "2023-02-11T07:16:52.208Z"
   },
   {
    "duration": 283,
    "start_time": "2023-02-11T07:16:52.224Z"
   },
   {
    "duration": 6,
    "start_time": "2023-02-11T07:16:52.509Z"
   },
   {
    "duration": 118,
    "start_time": "2023-02-11T07:16:52.517Z"
   },
   {
    "duration": 1247,
    "start_time": "2023-02-11T08:41:48.939Z"
   },
   {
    "duration": 3,
    "start_time": "2023-02-11T08:41:50.188Z"
   },
   {
    "duration": 5,
    "start_time": "2023-02-11T08:41:50.192Z"
   },
   {
    "duration": 75,
    "start_time": "2023-02-11T08:41:50.198Z"
   },
   {
    "duration": 9,
    "start_time": "2023-02-11T08:41:50.275Z"
   },
   {
    "duration": 225,
    "start_time": "2023-02-11T08:41:50.286Z"
   },
   {
    "duration": 14,
    "start_time": "2023-02-11T08:41:50.512Z"
   },
   {
    "duration": 15,
    "start_time": "2023-02-11T08:41:50.527Z"
   },
   {
    "duration": 7,
    "start_time": "2023-02-11T08:41:50.544Z"
   },
   {
    "duration": 9,
    "start_time": "2023-02-11T08:41:50.552Z"
   },
   {
    "duration": 7,
    "start_time": "2023-02-11T08:41:50.562Z"
   },
   {
    "duration": 9,
    "start_time": "2023-02-11T08:41:50.570Z"
   },
   {
    "duration": 34,
    "start_time": "2023-02-11T08:41:50.580Z"
   },
   {
    "duration": 23,
    "start_time": "2023-02-11T08:41:50.617Z"
   },
   {
    "duration": 8,
    "start_time": "2023-02-11T08:41:50.641Z"
   },
   {
    "duration": 5,
    "start_time": "2023-02-11T08:41:50.650Z"
   },
   {
    "duration": 9,
    "start_time": "2023-02-11T08:41:50.656Z"
   },
   {
    "duration": 7,
    "start_time": "2023-02-11T08:41:50.666Z"
   },
   {
    "duration": 40,
    "start_time": "2023-02-11T08:41:50.674Z"
   },
   {
    "duration": 23,
    "start_time": "2023-02-11T08:41:50.715Z"
   },
   {
    "duration": 5,
    "start_time": "2023-02-11T08:41:50.740Z"
   },
   {
    "duration": 8,
    "start_time": "2023-02-11T08:41:50.747Z"
   },
   {
    "duration": 23,
    "start_time": "2023-02-11T08:41:50.756Z"
   },
   {
    "duration": 34,
    "start_time": "2023-02-11T08:41:50.780Z"
   },
   {
    "duration": 10,
    "start_time": "2023-02-11T08:41:50.816Z"
   },
   {
    "duration": 11,
    "start_time": "2023-02-11T08:41:50.828Z"
   },
   {
    "duration": 8,
    "start_time": "2023-02-11T08:41:50.840Z"
   },
   {
    "duration": 13,
    "start_time": "2023-02-11T08:41:50.849Z"
   },
   {
    "duration": 10,
    "start_time": "2023-02-11T08:41:50.863Z"
   },
   {
    "duration": 3,
    "start_time": "2023-02-11T08:41:50.875Z"
   },
   {
    "duration": 10,
    "start_time": "2023-02-11T08:41:50.910Z"
   },
   {
    "duration": 7,
    "start_time": "2023-02-11T08:41:50.921Z"
   },
   {
    "duration": 5,
    "start_time": "2023-02-11T08:41:50.930Z"
   },
   {
    "duration": 9,
    "start_time": "2023-02-11T08:41:50.937Z"
   },
   {
    "duration": 21,
    "start_time": "2023-02-11T08:41:50.948Z"
   },
   {
    "duration": 40,
    "start_time": "2023-02-11T08:41:50.970Z"
   },
   {
    "duration": 15,
    "start_time": "2023-02-11T08:41:51.011Z"
   },
   {
    "duration": 5,
    "start_time": "2023-02-11T08:41:51.028Z"
   },
   {
    "duration": 13,
    "start_time": "2023-02-11T08:41:51.035Z"
   },
   {
    "duration": 9,
    "start_time": "2023-02-11T08:41:51.050Z"
   },
   {
    "duration": 6,
    "start_time": "2023-02-11T08:41:51.062Z"
   },
   {
    "duration": 11,
    "start_time": "2023-02-11T08:41:51.069Z"
   },
   {
    "duration": 1270,
    "start_time": "2023-02-11T08:41:51.082Z"
   },
   {
    "duration": 20,
    "start_time": "2023-02-11T08:41:52.354Z"
   },
   {
    "duration": 11,
    "start_time": "2023-02-11T08:41:52.376Z"
   },
   {
    "duration": 297,
    "start_time": "2023-02-11T08:41:52.388Z"
   },
   {
    "duration": 9,
    "start_time": "2023-02-11T08:41:52.687Z"
   },
   {
    "duration": 207,
    "start_time": "2023-02-11T08:41:52.698Z"
   },
   {
    "duration": 10,
    "start_time": "2023-02-11T08:41:52.906Z"
   },
   {
    "duration": 203,
    "start_time": "2023-02-11T08:41:52.917Z"
   },
   {
    "duration": 9,
    "start_time": "2023-02-11T08:41:53.121Z"
   },
   {
    "duration": 183,
    "start_time": "2023-02-11T08:41:53.132Z"
   },
   {
    "duration": 5,
    "start_time": "2023-02-11T08:41:53.317Z"
   },
   {
    "duration": 15,
    "start_time": "2023-02-11T08:41:53.323Z"
   },
   {
    "duration": 12,
    "start_time": "2023-02-11T08:41:53.339Z"
   },
   {
    "duration": 16,
    "start_time": "2023-02-11T08:41:53.352Z"
   },
   {
    "duration": 5,
    "start_time": "2023-02-11T08:41:53.369Z"
   },
   {
    "duration": 162,
    "start_time": "2023-02-11T08:41:53.375Z"
   },
   {
    "duration": 2,
    "start_time": "2023-02-11T08:41:53.538Z"
   },
   {
    "duration": 113,
    "start_time": "2023-02-11T08:41:53.542Z"
   },
   {
    "duration": 155,
    "start_time": "2023-02-11T08:41:53.656Z"
   },
   {
    "duration": 7,
    "start_time": "2023-02-11T08:41:53.813Z"
   },
   {
    "duration": 14,
    "start_time": "2023-02-11T08:41:53.821Z"
   },
   {
    "duration": 27,
    "start_time": "2023-02-11T08:41:53.836Z"
   },
   {
    "duration": 401,
    "start_time": "2023-02-11T08:41:53.865Z"
   },
   {
    "duration": 17,
    "start_time": "2023-02-11T08:41:54.268Z"
   },
   {
    "duration": 23,
    "start_time": "2023-02-11T08:41:54.287Z"
   },
   {
    "duration": 277,
    "start_time": "2023-02-11T08:41:54.312Z"
   },
   {
    "duration": 7,
    "start_time": "2023-02-11T08:41:54.590Z"
   },
   {
    "duration": 78,
    "start_time": "2023-02-11T08:41:54.610Z"
   },
   {
    "duration": 7,
    "start_time": "2023-02-11T08:44:00.452Z"
   },
   {
    "duration": 1182,
    "start_time": "2023-02-11T08:44:25.679Z"
   },
   {
    "duration": 2,
    "start_time": "2023-02-11T08:44:26.863Z"
   },
   {
    "duration": 5,
    "start_time": "2023-02-11T08:44:26.867Z"
   },
   {
    "duration": 42,
    "start_time": "2023-02-11T08:44:26.873Z"
   },
   {
    "duration": 10,
    "start_time": "2023-02-11T08:44:26.916Z"
   },
   {
    "duration": 80,
    "start_time": "2023-02-11T08:44:26.927Z"
   },
   {
    "duration": 14,
    "start_time": "2023-02-11T08:44:27.010Z"
   },
   {
    "duration": 17,
    "start_time": "2023-02-11T08:44:27.025Z"
   },
   {
    "duration": 11,
    "start_time": "2023-02-11T08:44:27.044Z"
   },
   {
    "duration": 12,
    "start_time": "2023-02-11T08:44:27.058Z"
   },
   {
    "duration": 8,
    "start_time": "2023-02-11T08:44:27.071Z"
   },
   {
    "duration": 36,
    "start_time": "2023-02-11T08:44:27.081Z"
   },
   {
    "duration": 10,
    "start_time": "2023-02-11T08:44:27.119Z"
   },
   {
    "duration": 22,
    "start_time": "2023-02-11T08:44:27.130Z"
   },
   {
    "duration": 9,
    "start_time": "2023-02-11T08:44:27.153Z"
   },
   {
    "duration": 4,
    "start_time": "2023-02-11T08:44:27.164Z"
   },
   {
    "duration": 43,
    "start_time": "2023-02-11T08:44:27.169Z"
   },
   {
    "duration": 9,
    "start_time": "2023-02-11T08:44:27.213Z"
   },
   {
    "duration": 15,
    "start_time": "2023-02-11T08:44:27.223Z"
   },
   {
    "duration": 21,
    "start_time": "2023-02-11T08:44:27.240Z"
   },
   {
    "duration": 5,
    "start_time": "2023-02-11T08:44:27.263Z"
   },
   {
    "duration": 40,
    "start_time": "2023-02-11T08:44:27.270Z"
   },
   {
    "duration": 24,
    "start_time": "2023-02-11T08:44:27.312Z"
   },
   {
    "duration": 11,
    "start_time": "2023-02-11T08:44:27.338Z"
   },
   {
    "duration": 11,
    "start_time": "2023-02-11T08:44:27.350Z"
   },
   {
    "duration": 10,
    "start_time": "2023-02-11T08:44:27.362Z"
   },
   {
    "duration": 37,
    "start_time": "2023-02-11T08:44:27.374Z"
   },
   {
    "duration": 9,
    "start_time": "2023-02-11T08:44:27.414Z"
   },
   {
    "duration": 15,
    "start_time": "2023-02-11T08:44:27.424Z"
   },
   {
    "duration": 12,
    "start_time": "2023-02-11T08:44:27.440Z"
   },
   {
    "duration": 6,
    "start_time": "2023-02-11T08:44:27.454Z"
   },
   {
    "duration": 11,
    "start_time": "2023-02-11T08:44:27.461Z"
   },
   {
    "duration": 10,
    "start_time": "2023-02-11T08:44:27.474Z"
   },
   {
    "duration": 6,
    "start_time": "2023-02-11T08:44:27.510Z"
   },
   {
    "duration": 11,
    "start_time": "2023-02-11T08:44:27.518Z"
   },
   {
    "duration": 32,
    "start_time": "2023-02-11T08:44:27.531Z"
   },
   {
    "duration": 9,
    "start_time": "2023-02-11T08:44:27.565Z"
   },
   {
    "duration": 14,
    "start_time": "2023-02-11T08:44:27.575Z"
   },
   {
    "duration": 24,
    "start_time": "2023-02-11T08:44:27.590Z"
   },
   {
    "duration": 8,
    "start_time": "2023-02-11T08:44:27.616Z"
   },
   {
    "duration": 6,
    "start_time": "2023-02-11T08:44:27.625Z"
   },
   {
    "duration": 7,
    "start_time": "2023-02-11T08:44:27.632Z"
   },
   {
    "duration": 11,
    "start_time": "2023-02-11T08:44:27.640Z"
   },
   {
    "duration": 1372,
    "start_time": "2023-02-11T08:44:27.653Z"
   },
   {
    "duration": 18,
    "start_time": "2023-02-11T08:44:29.026Z"
   },
   {
    "duration": 7,
    "start_time": "2023-02-11T08:44:29.046Z"
   },
   {
    "duration": 296,
    "start_time": "2023-02-11T08:44:29.055Z"
   },
   {
    "duration": 8,
    "start_time": "2023-02-11T08:44:29.353Z"
   },
   {
    "duration": 211,
    "start_time": "2023-02-11T08:44:29.363Z"
   },
   {
    "duration": 7,
    "start_time": "2023-02-11T08:44:29.576Z"
   },
   {
    "duration": 182,
    "start_time": "2023-02-11T08:44:29.585Z"
   },
   {
    "duration": 8,
    "start_time": "2023-02-11T08:44:29.768Z"
   },
   {
    "duration": 187,
    "start_time": "2023-02-11T08:44:29.778Z"
   },
   {
    "duration": 3,
    "start_time": "2023-02-11T08:44:29.966Z"
   },
   {
    "duration": 13,
    "start_time": "2023-02-11T08:44:29.971Z"
   },
   {
    "duration": 30,
    "start_time": "2023-02-11T08:44:29.985Z"
   },
   {
    "duration": 32,
    "start_time": "2023-02-11T08:44:30.017Z"
   },
   {
    "duration": 16,
    "start_time": "2023-02-11T08:44:30.051Z"
   },
   {
    "duration": 150,
    "start_time": "2023-02-11T08:44:30.068Z"
   },
   {
    "duration": 2,
    "start_time": "2023-02-11T08:44:30.219Z"
   },
   {
    "duration": 144,
    "start_time": "2023-02-11T08:44:30.223Z"
   },
   {
    "duration": 166,
    "start_time": "2023-02-11T08:44:30.369Z"
   },
   {
    "duration": 8,
    "start_time": "2023-02-11T08:44:30.537Z"
   },
   {
    "duration": 39,
    "start_time": "2023-02-11T08:44:30.547Z"
   },
   {
    "duration": 45,
    "start_time": "2023-02-11T08:44:30.588Z"
   },
   {
    "duration": 397,
    "start_time": "2023-02-11T08:44:30.635Z"
   },
   {
    "duration": 18,
    "start_time": "2023-02-11T08:44:31.033Z"
   },
   {
    "duration": 27,
    "start_time": "2023-02-11T08:44:31.052Z"
   },
   {
    "duration": 390,
    "start_time": "2023-02-11T08:44:31.080Z"
   },
   {
    "duration": 5,
    "start_time": "2023-02-11T08:44:31.472Z"
   },
   {
    "duration": 31,
    "start_time": "2023-02-11T08:44:31.479Z"
   },
   {
    "duration": 76,
    "start_time": "2023-02-11T08:46:54.750Z"
   },
   {
    "duration": 1263,
    "start_time": "2023-02-11T08:49:00.806Z"
   },
   {
    "duration": 1147,
    "start_time": "2023-02-11T08:49:25.680Z"
   },
   {
    "duration": 10,
    "start_time": "2023-02-11T08:50:55.661Z"
   },
   {
    "duration": 1097,
    "start_time": "2023-02-11T08:51:12.639Z"
   },
   {
    "duration": 3,
    "start_time": "2023-02-11T08:51:13.738Z"
   },
   {
    "duration": 6,
    "start_time": "2023-02-11T08:51:13.743Z"
   },
   {
    "duration": 41,
    "start_time": "2023-02-11T08:51:13.751Z"
   },
   {
    "duration": 9,
    "start_time": "2023-02-11T08:51:13.794Z"
   },
   {
    "duration": 79,
    "start_time": "2023-02-11T08:51:13.805Z"
   },
   {
    "duration": 13,
    "start_time": "2023-02-11T08:51:13.886Z"
   },
   {
    "duration": 17,
    "start_time": "2023-02-11T08:51:13.901Z"
   },
   {
    "duration": 6,
    "start_time": "2023-02-11T08:51:13.919Z"
   },
   {
    "duration": 8,
    "start_time": "2023-02-11T08:51:13.927Z"
   },
   {
    "duration": 8,
    "start_time": "2023-02-11T08:51:13.936Z"
   },
   {
    "duration": 8,
    "start_time": "2023-02-11T08:51:13.946Z"
   },
   {
    "duration": 14,
    "start_time": "2023-02-11T08:51:13.955Z"
   },
   {
    "duration": 52,
    "start_time": "2023-02-11T08:51:13.972Z"
   },
   {
    "duration": 8,
    "start_time": "2023-02-11T08:51:14.025Z"
   },
   {
    "duration": 3,
    "start_time": "2023-02-11T08:51:14.035Z"
   },
   {
    "duration": 12,
    "start_time": "2023-02-11T08:51:14.039Z"
   },
   {
    "duration": 7,
    "start_time": "2023-02-11T08:51:14.052Z"
   },
   {
    "duration": 13,
    "start_time": "2023-02-11T08:51:14.060Z"
   },
   {
    "duration": 43,
    "start_time": "2023-02-11T08:51:14.075Z"
   },
   {
    "duration": 5,
    "start_time": "2023-02-11T08:51:14.119Z"
   },
   {
    "duration": 8,
    "start_time": "2023-02-11T08:51:14.125Z"
   },
   {
    "duration": 23,
    "start_time": "2023-02-11T08:51:14.134Z"
   },
   {
    "duration": 8,
    "start_time": "2023-02-11T08:51:14.158Z"
   },
   {
    "duration": 4,
    "start_time": "2023-02-11T08:51:14.168Z"
   },
   {
    "duration": 40,
    "start_time": "2023-02-11T08:51:14.174Z"
   },
   {
    "duration": 12,
    "start_time": "2023-02-11T08:51:14.215Z"
   },
   {
    "duration": 20,
    "start_time": "2023-02-11T08:51:14.229Z"
   },
   {
    "duration": 8,
    "start_time": "2023-02-11T08:51:14.251Z"
   },
   {
    "duration": 12,
    "start_time": "2023-02-11T08:51:14.260Z"
   },
   {
    "duration": 9,
    "start_time": "2023-02-11T08:51:14.274Z"
   },
   {
    "duration": 25,
    "start_time": "2023-02-11T08:51:14.285Z"
   },
   {
    "duration": 10,
    "start_time": "2023-02-11T08:51:14.311Z"
   },
   {
    "duration": 7,
    "start_time": "2023-02-11T08:51:14.322Z"
   },
   {
    "duration": 5,
    "start_time": "2023-02-11T08:51:14.330Z"
   },
   {
    "duration": 10,
    "start_time": "2023-02-11T08:51:14.336Z"
   },
   {
    "duration": 21,
    "start_time": "2023-02-11T08:51:14.348Z"
   },
   {
    "duration": 6,
    "start_time": "2023-02-11T08:51:14.370Z"
   },
   {
    "duration": 41,
    "start_time": "2023-02-11T08:51:14.378Z"
   },
   {
    "duration": 4,
    "start_time": "2023-02-11T08:51:14.420Z"
   },
   {
    "duration": 7,
    "start_time": "2023-02-11T08:51:14.430Z"
   },
   {
    "duration": 8,
    "start_time": "2023-02-11T08:51:14.438Z"
   },
   {
    "duration": 10,
    "start_time": "2023-02-11T08:51:14.447Z"
   },
   {
    "duration": 9,
    "start_time": "2023-02-11T08:51:14.458Z"
   },
   {
    "duration": 1283,
    "start_time": "2023-02-11T08:51:14.468Z"
   },
   {
    "duration": 18,
    "start_time": "2023-02-11T08:51:15.753Z"
   },
   {
    "duration": 8,
    "start_time": "2023-02-11T08:51:15.772Z"
   },
   {
    "duration": 287,
    "start_time": "2023-02-11T08:51:15.781Z"
   },
   {
    "duration": 7,
    "start_time": "2023-02-11T08:51:16.069Z"
   },
   {
    "duration": 216,
    "start_time": "2023-02-11T08:51:16.077Z"
   },
   {
    "duration": 8,
    "start_time": "2023-02-11T08:51:16.295Z"
   },
   {
    "duration": 175,
    "start_time": "2023-02-11T08:51:16.310Z"
   },
   {
    "duration": 7,
    "start_time": "2023-02-11T08:51:16.487Z"
   },
   {
    "duration": 351,
    "start_time": "2023-02-11T08:51:16.495Z"
   },
   {
    "duration": 3,
    "start_time": "2023-02-11T08:51:16.848Z"
   },
   {
    "duration": 63,
    "start_time": "2023-02-11T08:51:16.852Z"
   },
   {
    "duration": 14,
    "start_time": "2023-02-11T08:51:16.917Z"
   },
   {
    "duration": 14,
    "start_time": "2023-02-11T08:51:16.932Z"
   },
   {
    "duration": 4,
    "start_time": "2023-02-11T08:51:16.948Z"
   },
   {
    "duration": 292,
    "start_time": "2023-02-11T08:51:16.953Z"
   },
   {
    "duration": 2,
    "start_time": "2023-02-11T08:51:17.247Z"
   },
   {
    "duration": 266,
    "start_time": "2023-02-11T08:51:17.250Z"
   },
   {
    "duration": 302,
    "start_time": "2023-02-11T08:51:17.518Z"
   },
   {
    "duration": 7,
    "start_time": "2023-02-11T08:51:17.822Z"
   },
   {
    "duration": 9,
    "start_time": "2023-02-11T08:51:17.831Z"
   },
   {
    "duration": 74,
    "start_time": "2023-02-11T08:51:17.842Z"
   },
   {
    "duration": 498,
    "start_time": "2023-02-11T08:51:17.917Z"
   },
   {
    "duration": 18,
    "start_time": "2023-02-11T08:51:18.416Z"
   },
   {
    "duration": 13,
    "start_time": "2023-02-11T08:51:18.436Z"
   },
   {
    "duration": 423,
    "start_time": "2023-02-11T08:51:18.450Z"
   },
   {
    "duration": 6,
    "start_time": "2023-02-11T08:51:18.875Z"
   },
   {
    "duration": 28,
    "start_time": "2023-02-11T08:51:18.882Z"
   },
   {
    "duration": 66,
    "start_time": "2023-02-11T08:52:18.900Z"
   },
   {
    "duration": 3,
    "start_time": "2023-02-11T08:52:31.625Z"
   },
   {
    "duration": 10,
    "start_time": "2023-02-11T08:52:39.152Z"
   },
   {
    "duration": 12,
    "start_time": "2023-02-11T08:52:46.760Z"
   },
   {
    "duration": 10,
    "start_time": "2023-02-11T08:53:43.142Z"
   },
   {
    "duration": 9,
    "start_time": "2023-02-11T08:53:56.789Z"
   },
   {
    "duration": 10,
    "start_time": "2023-02-11T08:54:03.978Z"
   },
   {
    "duration": 10,
    "start_time": "2023-02-11T08:54:13.594Z"
   },
   {
    "duration": 9,
    "start_time": "2023-02-11T08:56:55.993Z"
   },
   {
    "duration": 14,
    "start_time": "2023-02-11T08:57:05.452Z"
   },
   {
    "duration": 11,
    "start_time": "2023-02-11T08:57:14.341Z"
   },
   {
    "duration": 9,
    "start_time": "2023-02-11T08:58:52.108Z"
   },
   {
    "duration": 10,
    "start_time": "2023-02-11T08:59:18.800Z"
   },
   {
    "duration": 1159,
    "start_time": "2023-02-11T09:07:16.789Z"
   },
   {
    "duration": 3,
    "start_time": "2023-02-11T09:07:17.949Z"
   },
   {
    "duration": 7,
    "start_time": "2023-02-11T09:07:17.954Z"
   },
   {
    "duration": 49,
    "start_time": "2023-02-11T09:07:17.963Z"
   },
   {
    "duration": 10,
    "start_time": "2023-02-11T09:07:18.014Z"
   },
   {
    "duration": 5,
    "start_time": "2023-02-11T09:07:18.026Z"
   },
   {
    "duration": 96,
    "start_time": "2023-02-11T09:07:18.032Z"
   },
   {
    "duration": 9,
    "start_time": "2023-02-11T09:07:18.130Z"
   },
   {
    "duration": 15,
    "start_time": "2023-02-11T09:07:18.140Z"
   },
   {
    "duration": 13,
    "start_time": "2023-02-11T09:07:18.157Z"
   },
   {
    "duration": 15,
    "start_time": "2023-02-11T09:07:18.172Z"
   },
   {
    "duration": 28,
    "start_time": "2023-02-11T09:07:18.188Z"
   },
   {
    "duration": 9,
    "start_time": "2023-02-11T09:07:18.217Z"
   },
   {
    "duration": 10,
    "start_time": "2023-02-11T09:07:18.228Z"
   },
   {
    "duration": 9,
    "start_time": "2023-02-11T09:07:18.240Z"
   },
   {
    "duration": 24,
    "start_time": "2023-02-11T09:07:18.250Z"
   },
   {
    "duration": 35,
    "start_time": "2023-02-11T09:07:18.275Z"
   },
   {
    "duration": 4,
    "start_time": "2023-02-11T09:07:18.312Z"
   },
   {
    "duration": 10,
    "start_time": "2023-02-11T09:07:18.318Z"
   },
   {
    "duration": 8,
    "start_time": "2023-02-11T09:07:18.329Z"
   },
   {
    "duration": 13,
    "start_time": "2023-02-11T09:07:18.338Z"
   },
   {
    "duration": 22,
    "start_time": "2023-02-11T09:07:18.352Z"
   },
   {
    "duration": 6,
    "start_time": "2023-02-11T09:07:18.410Z"
   },
   {
    "duration": 10,
    "start_time": "2023-02-11T09:07:18.417Z"
   },
   {
    "duration": 24,
    "start_time": "2023-02-11T09:07:18.428Z"
   },
   {
    "duration": 9,
    "start_time": "2023-02-11T09:07:18.453Z"
   },
   {
    "duration": 5,
    "start_time": "2023-02-11T09:07:18.463Z"
   },
   {
    "duration": 43,
    "start_time": "2023-02-11T09:07:18.469Z"
   },
   {
    "duration": 14,
    "start_time": "2023-02-11T09:07:18.513Z"
   },
   {
    "duration": 11,
    "start_time": "2023-02-11T09:07:18.529Z"
   },
   {
    "duration": 15,
    "start_time": "2023-02-11T09:07:18.541Z"
   },
   {
    "duration": 9,
    "start_time": "2023-02-11T09:07:18.558Z"
   },
   {
    "duration": 41,
    "start_time": "2023-02-11T09:07:18.569Z"
   },
   {
    "duration": 10,
    "start_time": "2023-02-11T09:07:18.612Z"
   },
   {
    "duration": 9,
    "start_time": "2023-02-11T09:07:18.624Z"
   },
   {
    "duration": 17,
    "start_time": "2023-02-11T09:07:18.634Z"
   },
   {
    "duration": 16,
    "start_time": "2023-02-11T09:07:18.652Z"
   },
   {
    "duration": 7,
    "start_time": "2023-02-11T09:07:18.669Z"
   },
   {
    "duration": 11,
    "start_time": "2023-02-11T09:07:18.678Z"
   },
   {
    "duration": 42,
    "start_time": "2023-02-11T09:07:18.690Z"
   },
   {
    "duration": 10,
    "start_time": "2023-02-11T09:07:18.736Z"
   },
   {
    "duration": 16,
    "start_time": "2023-02-11T09:07:18.748Z"
   },
   {
    "duration": 10,
    "start_time": "2023-02-11T09:07:18.765Z"
   },
   {
    "duration": 8,
    "start_time": "2023-02-11T09:07:18.777Z"
   },
   {
    "duration": 10,
    "start_time": "2023-02-11T09:07:18.786Z"
   },
   {
    "duration": 6,
    "start_time": "2023-02-11T09:07:18.810Z"
   },
   {
    "duration": 11,
    "start_time": "2023-02-11T09:07:18.817Z"
   },
   {
    "duration": 1261,
    "start_time": "2023-02-11T09:07:18.829Z"
   },
   {
    "duration": 25,
    "start_time": "2023-02-11T09:07:20.091Z"
   },
   {
    "duration": 6,
    "start_time": "2023-02-11T09:07:20.117Z"
   },
   {
    "duration": 279,
    "start_time": "2023-02-11T09:07:20.124Z"
   },
   {
    "duration": 11,
    "start_time": "2023-02-11T09:07:20.404Z"
   },
   {
    "duration": 197,
    "start_time": "2023-02-11T09:07:20.416Z"
   },
   {
    "duration": 7,
    "start_time": "2023-02-11T09:07:20.615Z"
   },
   {
    "duration": 170,
    "start_time": "2023-02-11T09:07:20.624Z"
   },
   {
    "duration": 15,
    "start_time": "2023-02-11T09:07:20.795Z"
   },
   {
    "duration": 171,
    "start_time": "2023-02-11T09:07:20.812Z"
   },
   {
    "duration": 4,
    "start_time": "2023-02-11T09:07:20.985Z"
   },
   {
    "duration": 22,
    "start_time": "2023-02-11T09:07:20.990Z"
   },
   {
    "duration": 11,
    "start_time": "2023-02-11T09:07:21.014Z"
   },
   {
    "duration": 17,
    "start_time": "2023-02-11T09:07:21.026Z"
   },
   {
    "duration": 4,
    "start_time": "2023-02-11T09:07:21.045Z"
   },
   {
    "duration": 146,
    "start_time": "2023-02-11T09:07:21.050Z"
   },
   {
    "duration": 2,
    "start_time": "2023-02-11T09:07:21.197Z"
   },
   {
    "duration": 125,
    "start_time": "2023-02-11T09:07:21.200Z"
   },
   {
    "duration": 158,
    "start_time": "2023-02-11T09:07:21.327Z"
   },
   {
    "duration": 8,
    "start_time": "2023-02-11T09:07:21.486Z"
   },
   {
    "duration": 16,
    "start_time": "2023-02-11T09:07:21.495Z"
   },
   {
    "duration": 18,
    "start_time": "2023-02-11T09:07:21.512Z"
   },
   {
    "duration": 327,
    "start_time": "2023-02-11T09:07:21.532Z"
   },
   {
    "duration": 20,
    "start_time": "2023-02-11T09:07:21.861Z"
   },
   {
    "duration": 29,
    "start_time": "2023-02-11T09:07:21.882Z"
   },
   {
    "duration": 284,
    "start_time": "2023-02-11T09:07:21.913Z"
   },
   {
    "duration": 16,
    "start_time": "2023-02-11T09:07:22.198Z"
   },
   {
    "duration": 95,
    "start_time": "2023-02-11T09:07:22.215Z"
   },
   {
    "duration": 16,
    "start_time": "2023-02-11T09:10:39.110Z"
   },
   {
    "duration": 1146,
    "start_time": "2023-02-11T09:11:21.279Z"
   },
   {
    "duration": 2,
    "start_time": "2023-02-11T09:11:22.428Z"
   },
   {
    "duration": 4,
    "start_time": "2023-02-11T09:11:22.432Z"
   },
   {
    "duration": 41,
    "start_time": "2023-02-11T09:11:22.437Z"
   },
   {
    "duration": 9,
    "start_time": "2023-02-11T09:11:22.481Z"
   },
   {
    "duration": 6,
    "start_time": "2023-02-11T09:11:22.491Z"
   },
   {
    "duration": 81,
    "start_time": "2023-02-11T09:11:22.498Z"
   },
   {
    "duration": 9,
    "start_time": "2023-02-11T09:11:22.580Z"
   },
   {
    "duration": 26,
    "start_time": "2023-02-11T09:11:22.590Z"
   },
   {
    "duration": 24,
    "start_time": "2023-02-11T09:11:22.617Z"
   },
   {
    "duration": 8,
    "start_time": "2023-02-11T09:11:22.642Z"
   },
   {
    "duration": 14,
    "start_time": "2023-02-11T09:11:22.651Z"
   },
   {
    "duration": 14,
    "start_time": "2023-02-11T09:11:22.666Z"
   },
   {
    "duration": 9,
    "start_time": "2023-02-11T09:11:22.683Z"
   },
   {
    "duration": 17,
    "start_time": "2023-02-11T09:11:22.694Z"
   },
   {
    "duration": 20,
    "start_time": "2023-02-11T09:11:22.712Z"
   },
   {
    "duration": 8,
    "start_time": "2023-02-11T09:11:22.734Z"
   },
   {
    "duration": 14,
    "start_time": "2023-02-11T09:11:22.743Z"
   },
   {
    "duration": 11,
    "start_time": "2023-02-11T09:11:22.758Z"
   },
   {
    "duration": 7,
    "start_time": "2023-02-11T09:11:22.771Z"
   },
   {
    "duration": 32,
    "start_time": "2023-02-11T09:11:22.780Z"
   },
   {
    "duration": 22,
    "start_time": "2023-02-11T09:11:22.814Z"
   },
   {
    "duration": 6,
    "start_time": "2023-02-11T09:11:22.838Z"
   },
   {
    "duration": 11,
    "start_time": "2023-02-11T09:11:22.845Z"
   },
   {
    "duration": 52,
    "start_time": "2023-02-11T09:11:22.858Z"
   },
   {
    "duration": 9,
    "start_time": "2023-02-11T09:11:22.911Z"
   },
   {
    "duration": 5,
    "start_time": "2023-02-11T09:11:22.922Z"
   },
   {
    "duration": 15,
    "start_time": "2023-02-11T09:11:22.928Z"
   },
   {
    "duration": 14,
    "start_time": "2023-02-11T09:11:22.944Z"
   },
   {
    "duration": 10,
    "start_time": "2023-02-11T09:11:22.960Z"
   },
   {
    "duration": 47,
    "start_time": "2023-02-11T09:11:22.971Z"
   },
   {
    "duration": 10,
    "start_time": "2023-02-11T09:11:23.020Z"
   },
   {
    "duration": 8,
    "start_time": "2023-02-11T09:11:23.032Z"
   },
   {
    "duration": 19,
    "start_time": "2023-02-11T09:11:23.042Z"
   },
   {
    "duration": 25,
    "start_time": "2023-02-11T09:11:23.063Z"
   },
   {
    "duration": 7,
    "start_time": "2023-02-11T09:11:23.090Z"
   },
   {
    "duration": 17,
    "start_time": "2023-02-11T09:11:23.099Z"
   },
   {
    "duration": 23,
    "start_time": "2023-02-11T09:11:23.118Z"
   },
   {
    "duration": 9,
    "start_time": "2023-02-11T09:11:23.142Z"
   },
   {
    "duration": 12,
    "start_time": "2023-02-11T09:11:23.152Z"
   },
   {
    "duration": 5,
    "start_time": "2023-02-11T09:11:23.168Z"
   },
   {
    "duration": 35,
    "start_time": "2023-02-11T09:11:23.175Z"
   },
   {
    "duration": 6,
    "start_time": "2023-02-11T09:11:23.211Z"
   },
   {
    "duration": 12,
    "start_time": "2023-02-11T09:11:23.219Z"
   },
   {
    "duration": 13,
    "start_time": "2023-02-11T09:11:23.232Z"
   },
   {
    "duration": 1281,
    "start_time": "2023-02-11T09:11:23.247Z"
   },
   {
    "duration": 19,
    "start_time": "2023-02-11T09:11:24.530Z"
   },
   {
    "duration": 8,
    "start_time": "2023-02-11T09:11:24.551Z"
   },
   {
    "duration": 290,
    "start_time": "2023-02-11T09:11:24.560Z"
   },
   {
    "duration": 8,
    "start_time": "2023-02-11T09:11:24.852Z"
   },
   {
    "duration": 224,
    "start_time": "2023-02-11T09:11:24.861Z"
   },
   {
    "duration": 8,
    "start_time": "2023-02-11T09:11:25.087Z"
   },
   {
    "duration": 192,
    "start_time": "2023-02-11T09:11:25.096Z"
   },
   {
    "duration": 19,
    "start_time": "2023-02-11T09:11:25.290Z"
   },
   {
    "duration": 174,
    "start_time": "2023-02-11T09:11:25.311Z"
   },
   {
    "duration": 4,
    "start_time": "2023-02-11T09:11:25.487Z"
   },
   {
    "duration": 22,
    "start_time": "2023-02-11T09:11:25.492Z"
   },
   {
    "duration": 11,
    "start_time": "2023-02-11T09:11:25.516Z"
   },
   {
    "duration": 13,
    "start_time": "2023-02-11T09:11:25.528Z"
   },
   {
    "duration": 5,
    "start_time": "2023-02-11T09:11:25.542Z"
   },
   {
    "duration": 147,
    "start_time": "2023-02-11T09:11:25.548Z"
   },
   {
    "duration": 2,
    "start_time": "2023-02-11T09:11:25.697Z"
   },
   {
    "duration": 110,
    "start_time": "2023-02-11T09:11:25.709Z"
   },
   {
    "duration": 156,
    "start_time": "2023-02-11T09:11:25.821Z"
   },
   {
    "duration": 8,
    "start_time": "2023-02-11T09:11:25.979Z"
   },
   {
    "duration": 23,
    "start_time": "2023-02-11T09:11:25.988Z"
   },
   {
    "duration": 17,
    "start_time": "2023-02-11T09:11:26.013Z"
   },
   {
    "duration": 324,
    "start_time": "2023-02-11T09:11:26.032Z"
   },
   {
    "duration": 19,
    "start_time": "2023-02-11T09:11:26.358Z"
   },
   {
    "duration": 14,
    "start_time": "2023-02-11T09:11:26.378Z"
   },
   {
    "duration": 425,
    "start_time": "2023-02-11T09:11:26.393Z"
   },
   {
    "duration": 7,
    "start_time": "2023-02-11T09:11:26.820Z"
   },
   {
    "duration": 18,
    "start_time": "2023-02-11T09:11:26.829Z"
   },
   {
    "duration": 14,
    "start_time": "2023-02-11T09:20:16.439Z"
   },
   {
    "duration": 108,
    "start_time": "2023-02-11T09:20:30.528Z"
   },
   {
    "duration": 8,
    "start_time": "2023-02-11T09:20:40.620Z"
   },
   {
    "duration": 18,
    "start_time": "2023-02-11T09:20:51.180Z"
   },
   {
    "duration": 15,
    "start_time": "2023-02-11T09:24:23.069Z"
   },
   {
    "duration": 19,
    "start_time": "2023-02-11T09:24:57.910Z"
   },
   {
    "duration": 29,
    "start_time": "2023-02-11T09:25:37.982Z"
   },
   {
    "duration": 18,
    "start_time": "2023-02-11T09:26:00.029Z"
   },
   {
    "duration": 15,
    "start_time": "2023-02-11T09:26:36.490Z"
   },
   {
    "duration": 16,
    "start_time": "2023-02-11T09:26:45.810Z"
   },
   {
    "duration": 22,
    "start_time": "2023-02-11T09:28:16.750Z"
   },
   {
    "duration": 1095,
    "start_time": "2023-02-11T09:28:39.966Z"
   },
   {
    "duration": 3,
    "start_time": "2023-02-11T09:28:41.063Z"
   },
   {
    "duration": 10,
    "start_time": "2023-02-11T09:28:41.067Z"
   },
   {
    "duration": 44,
    "start_time": "2023-02-11T09:28:41.078Z"
   },
   {
    "duration": 10,
    "start_time": "2023-02-11T09:28:41.124Z"
   },
   {
    "duration": 6,
    "start_time": "2023-02-11T09:28:41.136Z"
   },
   {
    "duration": 90,
    "start_time": "2023-02-11T09:28:41.144Z"
   },
   {
    "duration": 8,
    "start_time": "2023-02-11T09:28:41.236Z"
   },
   {
    "duration": 18,
    "start_time": "2023-02-11T09:28:41.246Z"
   },
   {
    "duration": 13,
    "start_time": "2023-02-11T09:28:41.266Z"
   },
   {
    "duration": 10,
    "start_time": "2023-02-11T09:28:41.282Z"
   },
   {
    "duration": 22,
    "start_time": "2023-02-11T09:28:41.293Z"
   },
   {
    "duration": 8,
    "start_time": "2023-02-11T09:28:41.317Z"
   },
   {
    "duration": 18,
    "start_time": "2023-02-11T09:28:41.329Z"
   },
   {
    "duration": 14,
    "start_time": "2023-02-11T09:28:41.350Z"
   },
   {
    "duration": 44,
    "start_time": "2023-02-11T09:28:41.366Z"
   },
   {
    "duration": 10,
    "start_time": "2023-02-11T09:28:41.411Z"
   },
   {
    "duration": 19,
    "start_time": "2023-02-11T09:28:41.423Z"
   },
   {
    "duration": 12,
    "start_time": "2023-02-11T09:28:41.444Z"
   },
   {
    "duration": 11,
    "start_time": "2023-02-11T09:28:41.457Z"
   },
   {
    "duration": 31,
    "start_time": "2023-02-11T09:28:41.470Z"
   },
   {
    "duration": 20,
    "start_time": "2023-02-11T09:28:41.503Z"
   },
   {
    "duration": 5,
    "start_time": "2023-02-11T09:28:41.525Z"
   },
   {
    "duration": 9,
    "start_time": "2023-02-11T09:28:41.531Z"
   },
   {
    "duration": 25,
    "start_time": "2023-02-11T09:28:41.541Z"
   },
   {
    "duration": 10,
    "start_time": "2023-02-11T09:28:41.567Z"
   },
   {
    "duration": 6,
    "start_time": "2023-02-11T09:28:41.578Z"
   },
   {
    "duration": 38,
    "start_time": "2023-02-11T09:28:41.585Z"
   },
   {
    "duration": 11,
    "start_time": "2023-02-11T09:28:41.625Z"
   },
   {
    "duration": 8,
    "start_time": "2023-02-11T09:28:41.638Z"
   },
   {
    "duration": 13,
    "start_time": "2023-02-11T09:28:41.647Z"
   },
   {
    "duration": 10,
    "start_time": "2023-02-11T09:28:41.661Z"
   },
   {
    "duration": 12,
    "start_time": "2023-02-11T09:28:41.672Z"
   },
   {
    "duration": 10,
    "start_time": "2023-02-11T09:28:41.710Z"
   },
   {
    "duration": 7,
    "start_time": "2023-02-11T09:28:41.722Z"
   },
   {
    "duration": 6,
    "start_time": "2023-02-11T09:28:41.731Z"
   },
   {
    "duration": 9,
    "start_time": "2023-02-11T09:28:41.739Z"
   },
   {
    "duration": 21,
    "start_time": "2023-02-11T09:28:41.749Z"
   },
   {
    "duration": 7,
    "start_time": "2023-02-11T09:28:41.771Z"
   },
   {
    "duration": 13,
    "start_time": "2023-02-11T09:28:41.810Z"
   },
   {
    "duration": 12,
    "start_time": "2023-02-11T09:28:41.827Z"
   },
   {
    "duration": 25,
    "start_time": "2023-02-11T09:28:41.840Z"
   },
   {
    "duration": 11,
    "start_time": "2023-02-11T09:28:41.866Z"
   },
   {
    "duration": 7,
    "start_time": "2023-02-11T09:28:41.878Z"
   },
   {
    "duration": 10,
    "start_time": "2023-02-11T09:28:41.887Z"
   },
   {
    "duration": 1317,
    "start_time": "2023-02-11T09:28:41.898Z"
   },
   {
    "duration": 19,
    "start_time": "2023-02-11T09:28:43.217Z"
   },
   {
    "duration": 8,
    "start_time": "2023-02-11T09:28:43.239Z"
   },
   {
    "duration": 325,
    "start_time": "2023-02-11T09:28:43.249Z"
   },
   {
    "duration": 9,
    "start_time": "2023-02-11T09:28:43.576Z"
   },
   {
    "duration": 214,
    "start_time": "2023-02-11T09:28:43.587Z"
   },
   {
    "duration": 11,
    "start_time": "2023-02-11T09:28:43.802Z"
   },
   {
    "duration": 182,
    "start_time": "2023-02-11T09:28:43.814Z"
   },
   {
    "duration": 14,
    "start_time": "2023-02-11T09:28:43.998Z"
   },
   {
    "duration": 183,
    "start_time": "2023-02-11T09:28:44.013Z"
   },
   {
    "duration": 20,
    "start_time": "2023-02-11T09:28:44.198Z"
   },
   {
    "duration": 22,
    "start_time": "2023-02-11T09:28:44.220Z"
   },
   {
    "duration": 15,
    "start_time": "2023-02-11T09:28:44.244Z"
   },
   {
    "duration": 19,
    "start_time": "2023-02-11T09:28:44.262Z"
   },
   {
    "duration": 35,
    "start_time": "2023-02-11T09:28:44.283Z"
   },
   {
    "duration": 173,
    "start_time": "2023-02-11T09:28:44.320Z"
   },
   {
    "duration": 32,
    "start_time": "2023-02-11T09:28:44.494Z"
   },
   {
    "duration": 119,
    "start_time": "2023-02-11T09:28:44.528Z"
   },
   {
    "duration": 165,
    "start_time": "2023-02-11T09:28:44.648Z"
   },
   {
    "duration": 8,
    "start_time": "2023-02-11T09:28:44.814Z"
   },
   {
    "duration": 9,
    "start_time": "2023-02-11T09:28:44.824Z"
   },
   {
    "duration": 18,
    "start_time": "2023-02-11T09:28:44.835Z"
   },
   {
    "duration": 375,
    "start_time": "2023-02-11T09:28:44.854Z"
   },
   {
    "duration": 25,
    "start_time": "2023-02-11T09:28:45.231Z"
   },
   {
    "duration": 20,
    "start_time": "2023-02-11T09:28:45.258Z"
   },
   {
    "duration": 387,
    "start_time": "2023-02-11T09:28:45.280Z"
   },
   {
    "duration": 6,
    "start_time": "2023-02-11T09:28:45.669Z"
   },
   {
    "duration": 14,
    "start_time": "2023-02-11T09:28:45.676Z"
   },
   {
    "duration": 1118,
    "start_time": "2023-02-11T10:32:12.127Z"
   },
   {
    "duration": 2,
    "start_time": "2023-02-11T10:32:13.247Z"
   },
   {
    "duration": 8,
    "start_time": "2023-02-11T10:32:13.250Z"
   },
   {
    "duration": 45,
    "start_time": "2023-02-11T10:32:13.260Z"
   },
   {
    "duration": 11,
    "start_time": "2023-02-11T10:32:13.306Z"
   },
   {
    "duration": 9,
    "start_time": "2023-02-11T10:32:13.318Z"
   },
   {
    "duration": 92,
    "start_time": "2023-02-11T10:32:13.329Z"
   },
   {
    "duration": 10,
    "start_time": "2023-02-11T10:32:13.423Z"
   },
   {
    "duration": 18,
    "start_time": "2023-02-11T10:32:13.434Z"
   },
   {
    "duration": 14,
    "start_time": "2023-02-11T10:32:13.456Z"
   },
   {
    "duration": 12,
    "start_time": "2023-02-11T10:32:13.471Z"
   },
   {
    "duration": 32,
    "start_time": "2023-02-11T10:32:13.484Z"
   },
   {
    "duration": 8,
    "start_time": "2023-02-11T10:32:13.518Z"
   },
   {
    "duration": 10,
    "start_time": "2023-02-11T10:32:13.528Z"
   },
   {
    "duration": 8,
    "start_time": "2023-02-11T10:32:13.540Z"
   },
   {
    "duration": 22,
    "start_time": "2023-02-11T10:32:13.550Z"
   },
   {
    "duration": 41,
    "start_time": "2023-02-11T10:32:13.573Z"
   },
   {
    "duration": 7,
    "start_time": "2023-02-11T10:32:13.616Z"
   },
   {
    "duration": 21,
    "start_time": "2023-02-11T10:32:13.625Z"
   },
   {
    "duration": 8,
    "start_time": "2023-02-11T10:32:13.648Z"
   },
   {
    "duration": 14,
    "start_time": "2023-02-11T10:32:13.657Z"
   },
   {
    "duration": 24,
    "start_time": "2023-02-11T10:32:13.672Z"
   },
   {
    "duration": 7,
    "start_time": "2023-02-11T10:32:13.709Z"
   },
   {
    "duration": 10,
    "start_time": "2023-02-11T10:32:13.717Z"
   },
   {
    "duration": 23,
    "start_time": "2023-02-11T10:32:13.728Z"
   },
   {
    "duration": 9,
    "start_time": "2023-02-11T10:32:13.753Z"
   },
   {
    "duration": 16,
    "start_time": "2023-02-11T10:32:13.764Z"
   },
   {
    "duration": 35,
    "start_time": "2023-02-11T10:32:13.784Z"
   },
   {
    "duration": 11,
    "start_time": "2023-02-11T10:32:13.820Z"
   },
   {
    "duration": 8,
    "start_time": "2023-02-11T10:32:13.833Z"
   },
   {
    "duration": 14,
    "start_time": "2023-02-11T10:32:13.843Z"
   },
   {
    "duration": 16,
    "start_time": "2023-02-11T10:32:13.858Z"
   },
   {
    "duration": 4,
    "start_time": "2023-02-11T10:32:13.876Z"
   },
   {
    "duration": 33,
    "start_time": "2023-02-11T10:32:13.881Z"
   },
   {
    "duration": 7,
    "start_time": "2023-02-11T10:32:13.915Z"
   },
   {
    "duration": 5,
    "start_time": "2023-02-11T10:32:13.924Z"
   },
   {
    "duration": 11,
    "start_time": "2023-02-11T10:32:13.931Z"
   },
   {
    "duration": 21,
    "start_time": "2023-02-11T10:32:13.944Z"
   },
   {
    "duration": 7,
    "start_time": "2023-02-11T10:32:13.966Z"
   },
   {
    "duration": 39,
    "start_time": "2023-02-11T10:32:13.981Z"
   },
   {
    "duration": 6,
    "start_time": "2023-02-11T10:32:14.022Z"
   },
   {
    "duration": 7,
    "start_time": "2023-02-11T10:32:14.030Z"
   },
   {
    "duration": 5,
    "start_time": "2023-02-11T10:32:14.039Z"
   },
   {
    "duration": 9,
    "start_time": "2023-02-11T10:32:14.046Z"
   },
   {
    "duration": 11,
    "start_time": "2023-02-11T10:32:14.056Z"
   },
   {
    "duration": 1274,
    "start_time": "2023-02-11T10:32:14.069Z"
   },
   {
    "duration": 17,
    "start_time": "2023-02-11T10:32:15.345Z"
   },
   {
    "duration": 7,
    "start_time": "2023-02-11T10:32:15.363Z"
   },
   {
    "duration": 289,
    "start_time": "2023-02-11T10:32:15.371Z"
   },
   {
    "duration": 8,
    "start_time": "2023-02-11T10:32:15.662Z"
   },
   {
    "duration": 201,
    "start_time": "2023-02-11T10:32:15.671Z"
   },
   {
    "duration": 7,
    "start_time": "2023-02-11T10:32:15.874Z"
   },
   {
    "duration": 177,
    "start_time": "2023-02-11T10:32:15.882Z"
   },
   {
    "duration": 8,
    "start_time": "2023-02-11T10:32:16.061Z"
   },
   {
    "duration": 184,
    "start_time": "2023-02-11T10:32:16.071Z"
   },
   {
    "duration": 4,
    "start_time": "2023-02-11T10:32:16.257Z"
   },
   {
    "duration": 13,
    "start_time": "2023-02-11T10:32:16.262Z"
   },
   {
    "duration": 17,
    "start_time": "2023-02-11T10:32:16.276Z"
   },
   {
    "duration": 26,
    "start_time": "2023-02-11T10:32:16.294Z"
   },
   {
    "duration": 18,
    "start_time": "2023-02-11T10:32:16.322Z"
   },
   {
    "duration": 146,
    "start_time": "2023-02-11T10:32:16.341Z"
   },
   {
    "duration": 22,
    "start_time": "2023-02-11T10:32:16.488Z"
   },
   {
    "duration": 117,
    "start_time": "2023-02-11T10:32:16.512Z"
   },
   {
    "duration": 185,
    "start_time": "2023-02-11T10:32:16.630Z"
   },
   {
    "duration": 12,
    "start_time": "2023-02-11T10:32:16.817Z"
   },
   {
    "duration": 14,
    "start_time": "2023-02-11T10:32:16.830Z"
   },
   {
    "duration": 24,
    "start_time": "2023-02-11T10:32:16.846Z"
   },
   {
    "duration": 383,
    "start_time": "2023-02-11T10:32:16.872Z"
   },
   {
    "duration": 19,
    "start_time": "2023-02-11T10:32:17.256Z"
   },
   {
    "duration": 34,
    "start_time": "2023-02-11T10:32:17.277Z"
   },
   {
    "duration": 286,
    "start_time": "2023-02-11T10:32:17.312Z"
   },
   {
    "duration": 12,
    "start_time": "2023-02-11T10:32:17.599Z"
   },
   {
    "duration": 90,
    "start_time": "2023-02-11T10:32:17.612Z"
   },
   {
    "duration": 13,
    "start_time": "2023-02-11T10:35:03.248Z"
   },
   {
    "duration": 14,
    "start_time": "2023-02-11T10:36:40.376Z"
   },
   {
    "duration": 14,
    "start_time": "2023-02-11T10:37:14.708Z"
   },
   {
    "duration": 18,
    "start_time": "2023-02-11T10:37:47.351Z"
   },
   {
    "duration": 70,
    "start_time": "2023-02-11T10:38:27.318Z"
   },
   {
    "duration": 67,
    "start_time": "2023-02-11T10:38:44.599Z"
   },
   {
    "duration": 21,
    "start_time": "2023-02-11T10:38:48.721Z"
   },
   {
    "duration": 16,
    "start_time": "2023-02-11T10:41:54.692Z"
   },
   {
    "duration": 1240,
    "start_time": "2023-02-11T10:44:29.989Z"
   },
   {
    "duration": 3,
    "start_time": "2023-02-11T10:44:31.231Z"
   },
   {
    "duration": 20,
    "start_time": "2023-02-11T10:44:31.235Z"
   },
   {
    "duration": 58,
    "start_time": "2023-02-11T10:44:31.256Z"
   },
   {
    "duration": 12,
    "start_time": "2023-02-11T10:44:31.317Z"
   },
   {
    "duration": 28,
    "start_time": "2023-02-11T10:44:31.331Z"
   },
   {
    "duration": 120,
    "start_time": "2023-02-11T10:44:31.360Z"
   },
   {
    "duration": 13,
    "start_time": "2023-02-11T10:44:31.482Z"
   },
   {
    "duration": 29,
    "start_time": "2023-02-11T10:44:31.498Z"
   },
   {
    "duration": 17,
    "start_time": "2023-02-11T10:44:31.529Z"
   },
   {
    "duration": 30,
    "start_time": "2023-02-11T10:44:31.548Z"
   },
   {
    "duration": 15,
    "start_time": "2023-02-11T10:44:31.580Z"
   },
   {
    "duration": 28,
    "start_time": "2023-02-11T10:44:31.597Z"
   },
   {
    "duration": 20,
    "start_time": "2023-02-11T10:44:31.629Z"
   },
   {
    "duration": 25,
    "start_time": "2023-02-11T10:44:31.650Z"
   },
   {
    "duration": 45,
    "start_time": "2023-02-11T10:44:31.678Z"
   },
   {
    "duration": 13,
    "start_time": "2023-02-11T10:44:31.724Z"
   },
   {
    "duration": 8,
    "start_time": "2023-02-11T10:44:31.739Z"
   },
   {
    "duration": 26,
    "start_time": "2023-02-11T10:44:31.749Z"
   },
   {
    "duration": 29,
    "start_time": "2023-02-11T10:44:31.777Z"
   },
   {
    "duration": 25,
    "start_time": "2023-02-11T10:44:31.807Z"
   },
   {
    "duration": 41,
    "start_time": "2023-02-11T10:44:31.833Z"
   },
   {
    "duration": 16,
    "start_time": "2023-02-11T10:44:31.877Z"
   },
   {
    "duration": 16,
    "start_time": "2023-02-11T10:44:31.895Z"
   },
   {
    "duration": 29,
    "start_time": "2023-02-11T10:44:31.913Z"
   },
   {
    "duration": 12,
    "start_time": "2023-02-11T10:44:31.944Z"
   },
   {
    "duration": 7,
    "start_time": "2023-02-11T10:44:31.959Z"
   },
   {
    "duration": 45,
    "start_time": "2023-02-11T10:44:31.968Z"
   },
   {
    "duration": 14,
    "start_time": "2023-02-11T10:44:32.015Z"
   },
   {
    "duration": 12,
    "start_time": "2023-02-11T10:44:32.031Z"
   },
   {
    "duration": 32,
    "start_time": "2023-02-11T10:44:32.045Z"
   },
   {
    "duration": 31,
    "start_time": "2023-02-11T10:44:32.079Z"
   },
   {
    "duration": 4,
    "start_time": "2023-02-11T10:44:32.112Z"
   },
   {
    "duration": 16,
    "start_time": "2023-02-11T10:44:32.118Z"
   },
   {
    "duration": 10,
    "start_time": "2023-02-11T10:44:32.136Z"
   },
   {
    "duration": 8,
    "start_time": "2023-02-11T10:44:32.147Z"
   },
   {
    "duration": 10,
    "start_time": "2023-02-11T10:44:32.157Z"
   },
   {
    "duration": 60,
    "start_time": "2023-02-11T10:44:32.168Z"
   },
   {
    "duration": 7,
    "start_time": "2023-02-11T10:44:32.229Z"
   },
   {
    "duration": 14,
    "start_time": "2023-02-11T10:44:32.238Z"
   },
   {
    "duration": 5,
    "start_time": "2023-02-11T10:44:32.256Z"
   },
   {
    "duration": 16,
    "start_time": "2023-02-11T10:44:32.264Z"
   },
   {
    "duration": 15,
    "start_time": "2023-02-11T10:44:32.282Z"
   },
   {
    "duration": 6,
    "start_time": "2023-02-11T10:44:32.310Z"
   },
   {
    "duration": 12,
    "start_time": "2023-02-11T10:44:32.317Z"
   },
   {
    "duration": 1508,
    "start_time": "2023-02-11T10:44:32.331Z"
   },
   {
    "duration": 24,
    "start_time": "2023-02-11T10:44:33.840Z"
   },
   {
    "duration": 8,
    "start_time": "2023-02-11T10:44:33.866Z"
   },
   {
    "duration": 306,
    "start_time": "2023-02-11T10:44:33.876Z"
   },
   {
    "duration": 8,
    "start_time": "2023-02-11T10:44:34.184Z"
   },
   {
    "duration": 213,
    "start_time": "2023-02-11T10:44:34.194Z"
   },
   {
    "duration": 8,
    "start_time": "2023-02-11T10:44:34.410Z"
   },
   {
    "duration": 205,
    "start_time": "2023-02-11T10:44:34.419Z"
   },
   {
    "duration": 10,
    "start_time": "2023-02-11T10:44:34.625Z"
   },
   {
    "duration": 189,
    "start_time": "2023-02-11T10:44:34.636Z"
   },
   {
    "duration": 5,
    "start_time": "2023-02-11T10:44:34.826Z"
   },
   {
    "duration": 15,
    "start_time": "2023-02-11T10:44:34.832Z"
   },
   {
    "duration": 17,
    "start_time": "2023-02-11T10:44:34.848Z"
   },
   {
    "duration": 24,
    "start_time": "2023-02-11T10:44:34.866Z"
   },
   {
    "duration": 37,
    "start_time": "2023-02-11T10:44:34.891Z"
   },
   {
    "duration": 164,
    "start_time": "2023-02-11T10:44:34.930Z"
   },
   {
    "duration": 27,
    "start_time": "2023-02-11T10:44:35.096Z"
   },
   {
    "duration": 36,
    "start_time": "2023-02-11T10:44:35.125Z"
   },
   {
    "duration": 140,
    "start_time": "2023-02-11T10:44:35.163Z"
   },
   {
    "duration": 168,
    "start_time": "2023-02-11T10:44:35.305Z"
   },
   {
    "duration": 9,
    "start_time": "2023-02-11T10:44:35.476Z"
   },
   {
    "duration": 23,
    "start_time": "2023-02-11T10:44:35.487Z"
   },
   {
    "duration": 58,
    "start_time": "2023-02-11T10:44:35.512Z"
   },
   {
    "duration": 361,
    "start_time": "2023-02-11T10:44:35.572Z"
   },
   {
    "duration": 19,
    "start_time": "2023-02-11T10:44:35.934Z"
   },
   {
    "duration": 20,
    "start_time": "2023-02-11T10:44:35.954Z"
   },
   {
    "duration": 316,
    "start_time": "2023-02-11T10:44:35.976Z"
   },
   {
    "duration": 19,
    "start_time": "2023-02-11T10:44:36.295Z"
   },
   {
    "duration": 111,
    "start_time": "2023-02-11T10:44:36.317Z"
   },
   {
    "duration": 75,
    "start_time": "2023-02-11T10:48:06.244Z"
   },
   {
    "duration": 15,
    "start_time": "2023-02-11T10:48:12.232Z"
   },
   {
    "duration": 4,
    "start_time": "2023-02-11T10:50:31.249Z"
   },
   {
    "duration": 10,
    "start_time": "2023-02-11T10:50:56.558Z"
   },
   {
    "duration": 101,
    "start_time": "2023-02-11T10:52:19.564Z"
   },
   {
    "duration": 9,
    "start_time": "2023-02-11T10:52:24.483Z"
   },
   {
    "duration": 4,
    "start_time": "2023-02-11T10:56:23.473Z"
   },
   {
    "duration": 1180,
    "start_time": "2023-02-11T10:59:48.894Z"
   },
   {
    "duration": 3,
    "start_time": "2023-02-11T10:59:50.076Z"
   },
   {
    "duration": 7,
    "start_time": "2023-02-11T10:59:50.081Z"
   },
   {
    "duration": 41,
    "start_time": "2023-02-11T10:59:50.090Z"
   },
   {
    "duration": 9,
    "start_time": "2023-02-11T10:59:50.133Z"
   },
   {
    "duration": 11,
    "start_time": "2023-02-11T10:59:50.143Z"
   },
   {
    "duration": 84,
    "start_time": "2023-02-11T10:59:50.155Z"
   },
   {
    "duration": 10,
    "start_time": "2023-02-11T10:59:50.240Z"
   },
   {
    "duration": 19,
    "start_time": "2023-02-11T10:59:50.252Z"
   },
   {
    "duration": 15,
    "start_time": "2023-02-11T10:59:50.273Z"
   },
   {
    "duration": 7,
    "start_time": "2023-02-11T10:59:50.309Z"
   },
   {
    "duration": 28,
    "start_time": "2023-02-11T10:59:50.317Z"
   },
   {
    "duration": 7,
    "start_time": "2023-02-11T10:59:50.346Z"
   },
   {
    "duration": 17,
    "start_time": "2023-02-11T10:59:50.356Z"
   },
   {
    "duration": 19,
    "start_time": "2023-02-11T10:59:50.375Z"
   },
   {
    "duration": 24,
    "start_time": "2023-02-11T10:59:50.396Z"
   },
   {
    "duration": 8,
    "start_time": "2023-02-11T10:59:50.421Z"
   },
   {
    "duration": 9,
    "start_time": "2023-02-11T10:59:50.431Z"
   },
   {
    "duration": 9,
    "start_time": "2023-02-11T10:59:50.441Z"
   },
   {
    "duration": 10,
    "start_time": "2023-02-11T10:59:50.451Z"
   },
   {
    "duration": 32,
    "start_time": "2023-02-11T10:59:50.463Z"
   },
   {
    "duration": 30,
    "start_time": "2023-02-11T10:59:50.497Z"
   },
   {
    "duration": 5,
    "start_time": "2023-02-11T10:59:50.529Z"
   },
   {
    "duration": 13,
    "start_time": "2023-02-11T10:59:50.536Z"
   },
   {
    "duration": 34,
    "start_time": "2023-02-11T10:59:50.550Z"
   },
   {
    "duration": 29,
    "start_time": "2023-02-11T10:59:50.586Z"
   },
   {
    "duration": 6,
    "start_time": "2023-02-11T10:59:50.617Z"
   },
   {
    "duration": 20,
    "start_time": "2023-02-11T10:59:50.624Z"
   },
   {
    "duration": 10,
    "start_time": "2023-02-11T10:59:50.645Z"
   },
   {
    "duration": 7,
    "start_time": "2023-02-11T10:59:50.656Z"
   },
   {
    "duration": 45,
    "start_time": "2023-02-11T10:59:50.665Z"
   },
   {
    "duration": 8,
    "start_time": "2023-02-11T10:59:50.712Z"
   },
   {
    "duration": 7,
    "start_time": "2023-02-11T10:59:50.722Z"
   },
   {
    "duration": 12,
    "start_time": "2023-02-11T10:59:50.730Z"
   },
   {
    "duration": 8,
    "start_time": "2023-02-11T10:59:50.743Z"
   },
   {
    "duration": 7,
    "start_time": "2023-02-11T10:59:50.752Z"
   },
   {
    "duration": 9,
    "start_time": "2023-02-11T10:59:50.760Z"
   },
   {
    "duration": 51,
    "start_time": "2023-02-11T10:59:50.771Z"
   },
   {
    "duration": 8,
    "start_time": "2023-02-11T10:59:50.823Z"
   },
   {
    "duration": 20,
    "start_time": "2023-02-11T10:59:50.833Z"
   },
   {
    "duration": 8,
    "start_time": "2023-02-11T10:59:50.859Z"
   },
   {
    "duration": 9,
    "start_time": "2023-02-11T10:59:50.869Z"
   },
   {
    "duration": 31,
    "start_time": "2023-02-11T10:59:50.880Z"
   },
   {
    "duration": 8,
    "start_time": "2023-02-11T10:59:50.913Z"
   },
   {
    "duration": 10,
    "start_time": "2023-02-11T10:59:50.922Z"
   },
   {
    "duration": 1297,
    "start_time": "2023-02-11T10:59:50.934Z"
   },
   {
    "duration": 19,
    "start_time": "2023-02-11T10:59:52.234Z"
   },
   {
    "duration": 8,
    "start_time": "2023-02-11T10:59:52.255Z"
   },
   {
    "duration": 312,
    "start_time": "2023-02-11T10:59:52.264Z"
   },
   {
    "duration": 8,
    "start_time": "2023-02-11T10:59:52.577Z"
   },
   {
    "duration": 209,
    "start_time": "2023-02-11T10:59:52.586Z"
   },
   {
    "duration": 15,
    "start_time": "2023-02-11T10:59:52.796Z"
   },
   {
    "duration": 182,
    "start_time": "2023-02-11T10:59:52.812Z"
   },
   {
    "duration": 16,
    "start_time": "2023-02-11T10:59:52.995Z"
   },
   {
    "duration": 195,
    "start_time": "2023-02-11T10:59:53.013Z"
   },
   {
    "duration": 4,
    "start_time": "2023-02-11T10:59:53.210Z"
   },
   {
    "duration": 15,
    "start_time": "2023-02-11T10:59:53.216Z"
   },
   {
    "duration": 11,
    "start_time": "2023-02-11T10:59:53.233Z"
   },
   {
    "duration": 20,
    "start_time": "2023-02-11T10:59:53.245Z"
   },
   {
    "duration": 21,
    "start_time": "2023-02-11T10:59:53.267Z"
   },
   {
    "duration": 156,
    "start_time": "2023-02-11T10:59:53.290Z"
   },
   {
    "duration": 15,
    "start_time": "2023-02-11T10:59:53.448Z"
   },
   {
    "duration": 16,
    "start_time": "2023-02-11T10:59:53.464Z"
   },
   {
    "duration": 135,
    "start_time": "2023-02-11T10:59:53.481Z"
   },
   {
    "duration": 161,
    "start_time": "2023-02-11T10:59:53.618Z"
   },
   {
    "duration": 11,
    "start_time": "2023-02-11T10:59:53.780Z"
   },
   {
    "duration": 23,
    "start_time": "2023-02-11T10:59:53.793Z"
   },
   {
    "duration": 20,
    "start_time": "2023-02-11T10:59:53.817Z"
   },
   {
    "duration": 331,
    "start_time": "2023-02-11T10:59:53.838Z"
   },
   {
    "duration": 20,
    "start_time": "2023-02-11T10:59:54.171Z"
   },
   {
    "duration": 28,
    "start_time": "2023-02-11T10:59:54.193Z"
   },
   {
    "duration": 375,
    "start_time": "2023-02-11T10:59:54.223Z"
   },
   {
    "duration": 6,
    "start_time": "2023-02-11T10:59:54.609Z"
   },
   {
    "duration": 13,
    "start_time": "2023-02-11T10:59:54.617Z"
   },
   {
    "duration": 9,
    "start_time": "2023-02-11T10:59:54.632Z"
   },
   {
    "duration": 8,
    "start_time": "2023-02-11T10:59:54.643Z"
   },
   {
    "duration": 200,
    "start_time": "2023-02-11T11:09:40.123Z"
   },
   {
    "duration": 141,
    "start_time": "2023-02-11T11:09:53.804Z"
   },
   {
    "duration": 88,
    "start_time": "2023-02-11T11:10:32.557Z"
   },
   {
    "duration": 100,
    "start_time": "2023-02-11T11:10:50.421Z"
   },
   {
    "duration": 107,
    "start_time": "2023-02-11T11:11:01.751Z"
   },
   {
    "duration": 85,
    "start_time": "2023-02-11T11:11:13.923Z"
   },
   {
    "duration": 1075,
    "start_time": "2023-02-11T11:11:39.542Z"
   },
   {
    "duration": 3,
    "start_time": "2023-02-11T11:11:40.619Z"
   },
   {
    "duration": 9,
    "start_time": "2023-02-11T11:11:40.623Z"
   },
   {
    "duration": 45,
    "start_time": "2023-02-11T11:11:40.634Z"
   },
   {
    "duration": 10,
    "start_time": "2023-02-11T11:11:40.681Z"
   },
   {
    "duration": 6,
    "start_time": "2023-02-11T11:11:40.692Z"
   },
   {
    "duration": 81,
    "start_time": "2023-02-11T11:11:40.699Z"
   },
   {
    "duration": 9,
    "start_time": "2023-02-11T11:11:40.782Z"
   },
   {
    "duration": 25,
    "start_time": "2023-02-11T11:11:40.792Z"
   },
   {
    "duration": 12,
    "start_time": "2023-02-11T11:11:40.818Z"
   },
   {
    "duration": 6,
    "start_time": "2023-02-11T11:11:40.832Z"
   },
   {
    "duration": 8,
    "start_time": "2023-02-11T11:11:40.839Z"
   },
   {
    "duration": 6,
    "start_time": "2023-02-11T11:11:40.848Z"
   },
   {
    "duration": 8,
    "start_time": "2023-02-11T11:11:40.857Z"
   },
   {
    "duration": 17,
    "start_time": "2023-02-11T11:11:40.867Z"
   },
   {
    "duration": 47,
    "start_time": "2023-02-11T11:11:40.885Z"
   },
   {
    "duration": 8,
    "start_time": "2023-02-11T11:11:40.934Z"
   },
   {
    "duration": 5,
    "start_time": "2023-02-11T11:11:40.944Z"
   },
   {
    "duration": 8,
    "start_time": "2023-02-11T11:11:40.951Z"
   },
   {
    "duration": 15,
    "start_time": "2023-02-11T11:11:40.961Z"
   },
   {
    "duration": 35,
    "start_time": "2023-02-11T11:11:40.977Z"
   },
   {
    "duration": 25,
    "start_time": "2023-02-11T11:11:41.013Z"
   },
   {
    "duration": 5,
    "start_time": "2023-02-11T11:11:41.040Z"
   },
   {
    "duration": 12,
    "start_time": "2023-02-11T11:11:41.047Z"
   },
   {
    "duration": 49,
    "start_time": "2023-02-11T11:11:41.061Z"
   },
   {
    "duration": 11,
    "start_time": "2023-02-11T11:11:41.111Z"
   },
   {
    "duration": 12,
    "start_time": "2023-02-11T11:11:41.124Z"
   },
   {
    "duration": 16,
    "start_time": "2023-02-11T11:11:41.137Z"
   },
   {
    "duration": 11,
    "start_time": "2023-02-11T11:11:41.155Z"
   },
   {
    "duration": 8,
    "start_time": "2023-02-11T11:11:41.168Z"
   },
   {
    "duration": 44,
    "start_time": "2023-02-11T11:11:41.178Z"
   },
   {
    "duration": 11,
    "start_time": "2023-02-11T11:11:41.223Z"
   },
   {
    "duration": 3,
    "start_time": "2023-02-11T11:11:41.236Z"
   },
   {
    "duration": 24,
    "start_time": "2023-02-11T11:11:41.241Z"
   },
   {
    "duration": 30,
    "start_time": "2023-02-11T11:11:41.266Z"
   },
   {
    "duration": 20,
    "start_time": "2023-02-11T11:11:41.298Z"
   },
   {
    "duration": 15,
    "start_time": "2023-02-11T11:11:41.319Z"
   },
   {
    "duration": 41,
    "start_time": "2023-02-11T11:11:41.336Z"
   },
   {
    "duration": 20,
    "start_time": "2023-02-11T11:11:41.379Z"
   },
   {
    "duration": 14,
    "start_time": "2023-02-11T11:11:41.401Z"
   },
   {
    "duration": 5,
    "start_time": "2023-02-11T11:11:41.420Z"
   },
   {
    "duration": 12,
    "start_time": "2023-02-11T11:11:41.427Z"
   },
   {
    "duration": 11,
    "start_time": "2023-02-11T11:11:41.440Z"
   },
   {
    "duration": 6,
    "start_time": "2023-02-11T11:11:41.453Z"
   },
   {
    "duration": 9,
    "start_time": "2023-02-11T11:11:41.461Z"
   },
   {
    "duration": 1303,
    "start_time": "2023-02-11T11:11:41.472Z"
   },
   {
    "duration": 19,
    "start_time": "2023-02-11T11:11:42.777Z"
   },
   {
    "duration": 17,
    "start_time": "2023-02-11T11:11:42.798Z"
   },
   {
    "duration": 303,
    "start_time": "2023-02-11T11:11:42.816Z"
   },
   {
    "duration": 7,
    "start_time": "2023-02-11T11:11:43.121Z"
   },
   {
    "duration": 209,
    "start_time": "2023-02-11T11:11:43.130Z"
   },
   {
    "duration": 8,
    "start_time": "2023-02-11T11:11:43.341Z"
   },
   {
    "duration": 188,
    "start_time": "2023-02-11T11:11:43.350Z"
   },
   {
    "duration": 10,
    "start_time": "2023-02-11T11:11:43.540Z"
   },
   {
    "duration": 204,
    "start_time": "2023-02-11T11:11:43.551Z"
   },
   {
    "duration": 4,
    "start_time": "2023-02-11T11:11:43.756Z"
   },
   {
    "duration": 12,
    "start_time": "2023-02-11T11:11:43.761Z"
   },
   {
    "duration": 11,
    "start_time": "2023-02-11T11:11:43.775Z"
   },
   {
    "duration": 33,
    "start_time": "2023-02-11T11:11:43.787Z"
   },
   {
    "duration": 18,
    "start_time": "2023-02-11T11:11:43.822Z"
   },
   {
    "duration": 155,
    "start_time": "2023-02-11T11:11:43.841Z"
   },
   {
    "duration": 20,
    "start_time": "2023-02-11T11:11:43.997Z"
   },
   {
    "duration": 17,
    "start_time": "2023-02-11T11:11:44.019Z"
   },
   {
    "duration": 118,
    "start_time": "2023-02-11T11:11:44.037Z"
   },
   {
    "duration": 150,
    "start_time": "2023-02-11T11:11:44.156Z"
   },
   {
    "duration": 7,
    "start_time": "2023-02-11T11:11:44.310Z"
   },
   {
    "duration": 11,
    "start_time": "2023-02-11T11:11:44.319Z"
   },
   {
    "duration": 27,
    "start_time": "2023-02-11T11:11:44.331Z"
   },
   {
    "duration": 384,
    "start_time": "2023-02-11T11:11:44.360Z"
   },
   {
    "duration": 18,
    "start_time": "2023-02-11T11:11:44.746Z"
   },
   {
    "duration": 14,
    "start_time": "2023-02-11T11:11:44.766Z"
   },
   {
    "duration": 396,
    "start_time": "2023-02-11T11:11:44.781Z"
   },
   {
    "duration": 6,
    "start_time": "2023-02-11T11:11:45.179Z"
   },
   {
    "duration": 27,
    "start_time": "2023-02-11T11:11:45.187Z"
   },
   {
    "duration": 9,
    "start_time": "2023-02-11T11:11:45.215Z"
   },
   {
    "duration": 4,
    "start_time": "2023-02-11T11:11:45.225Z"
   },
   {
    "duration": 1137,
    "start_time": "2023-02-11T11:13:15.278Z"
   },
   {
    "duration": 3,
    "start_time": "2023-02-11T11:13:16.417Z"
   },
   {
    "duration": 8,
    "start_time": "2023-02-11T11:13:16.421Z"
   },
   {
    "duration": 44,
    "start_time": "2023-02-11T11:13:16.431Z"
   },
   {
    "duration": 10,
    "start_time": "2023-02-11T11:13:16.476Z"
   },
   {
    "duration": 8,
    "start_time": "2023-02-11T11:13:16.487Z"
   },
   {
    "duration": 80,
    "start_time": "2023-02-11T11:13:16.496Z"
   },
   {
    "duration": 21,
    "start_time": "2023-02-11T11:13:16.577Z"
   },
   {
    "duration": 29,
    "start_time": "2023-02-11T11:13:16.600Z"
   },
   {
    "duration": 18,
    "start_time": "2023-02-11T11:13:16.633Z"
   },
   {
    "duration": 8,
    "start_time": "2023-02-11T11:13:16.653Z"
   },
   {
    "duration": 9,
    "start_time": "2023-02-11T11:13:16.663Z"
   },
   {
    "duration": 7,
    "start_time": "2023-02-11T11:13:16.673Z"
   },
   {
    "duration": 34,
    "start_time": "2023-02-11T11:13:16.681Z"
   },
   {
    "duration": 25,
    "start_time": "2023-02-11T11:13:16.717Z"
   },
   {
    "duration": 31,
    "start_time": "2023-02-11T11:13:16.744Z"
   },
   {
    "duration": 9,
    "start_time": "2023-02-11T11:13:16.777Z"
   },
   {
    "duration": 4,
    "start_time": "2023-02-11T11:13:16.787Z"
   },
   {
    "duration": 23,
    "start_time": "2023-02-11T11:13:16.793Z"
   },
   {
    "duration": 8,
    "start_time": "2023-02-11T11:13:16.818Z"
   },
   {
    "duration": 12,
    "start_time": "2023-02-11T11:13:16.828Z"
   },
   {
    "duration": 23,
    "start_time": "2023-02-11T11:13:16.841Z"
   },
   {
    "duration": 7,
    "start_time": "2023-02-11T11:13:16.866Z"
   },
   {
    "duration": 37,
    "start_time": "2023-02-11T11:13:16.874Z"
   },
   {
    "duration": 24,
    "start_time": "2023-02-11T11:13:16.913Z"
   },
   {
    "duration": 9,
    "start_time": "2023-02-11T11:13:16.938Z"
   },
   {
    "duration": 7,
    "start_time": "2023-02-11T11:13:16.949Z"
   },
   {
    "duration": 16,
    "start_time": "2023-02-11T11:13:16.960Z"
   },
   {
    "duration": 17,
    "start_time": "2023-02-11T11:13:17.011Z"
   },
   {
    "duration": 11,
    "start_time": "2023-02-11T11:13:17.030Z"
   },
   {
    "duration": 23,
    "start_time": "2023-02-11T11:13:17.042Z"
   },
   {
    "duration": 14,
    "start_time": "2023-02-11T11:13:17.067Z"
   },
   {
    "duration": 27,
    "start_time": "2023-02-11T11:13:17.083Z"
   },
   {
    "duration": 14,
    "start_time": "2023-02-11T11:13:17.114Z"
   },
   {
    "duration": 15,
    "start_time": "2023-02-11T11:13:17.130Z"
   },
   {
    "duration": 8,
    "start_time": "2023-02-11T11:13:17.148Z"
   },
   {
    "duration": 17,
    "start_time": "2023-02-11T11:13:17.159Z"
   },
   {
    "duration": 51,
    "start_time": "2023-02-11T11:13:17.178Z"
   },
   {
    "duration": 9,
    "start_time": "2023-02-11T11:13:17.232Z"
   },
   {
    "duration": 18,
    "start_time": "2023-02-11T11:13:17.242Z"
   },
   {
    "duration": 6,
    "start_time": "2023-02-11T11:13:17.262Z"
   },
   {
    "duration": 9,
    "start_time": "2023-02-11T11:13:17.269Z"
   },
   {
    "duration": 34,
    "start_time": "2023-02-11T11:13:17.279Z"
   },
   {
    "duration": 9,
    "start_time": "2023-02-11T11:13:17.315Z"
   },
   {
    "duration": 20,
    "start_time": "2023-02-11T11:13:17.326Z"
   },
   {
    "duration": 1258,
    "start_time": "2023-02-11T11:13:17.348Z"
   },
   {
    "duration": 19,
    "start_time": "2023-02-11T11:13:18.607Z"
   },
   {
    "duration": 8,
    "start_time": "2023-02-11T11:13:18.628Z"
   },
   {
    "duration": 302,
    "start_time": "2023-02-11T11:13:18.638Z"
   },
   {
    "duration": 8,
    "start_time": "2023-02-11T11:13:18.942Z"
   },
   {
    "duration": 217,
    "start_time": "2023-02-11T11:13:18.951Z"
   },
   {
    "duration": 9,
    "start_time": "2023-02-11T11:13:19.169Z"
   },
   {
    "duration": 190,
    "start_time": "2023-02-11T11:13:19.179Z"
   },
   {
    "duration": 9,
    "start_time": "2023-02-11T11:13:19.371Z"
   },
   {
    "duration": 195,
    "start_time": "2023-02-11T11:13:19.382Z"
   },
   {
    "duration": 4,
    "start_time": "2023-02-11T11:13:19.579Z"
   },
   {
    "duration": 11,
    "start_time": "2023-02-11T11:13:19.585Z"
   },
   {
    "duration": 14,
    "start_time": "2023-02-11T11:13:19.610Z"
   },
   {
    "duration": 15,
    "start_time": "2023-02-11T11:13:19.626Z"
   },
   {
    "duration": 19,
    "start_time": "2023-02-11T11:13:19.643Z"
   },
   {
    "duration": 154,
    "start_time": "2023-02-11T11:13:19.663Z"
   },
   {
    "duration": 13,
    "start_time": "2023-02-11T11:13:19.819Z"
   },
   {
    "duration": 14,
    "start_time": "2023-02-11T11:13:19.834Z"
   },
   {
    "duration": 132,
    "start_time": "2023-02-11T11:13:19.850Z"
   },
   {
    "duration": 154,
    "start_time": "2023-02-11T11:13:19.983Z"
   },
   {
    "duration": 7,
    "start_time": "2023-02-11T11:13:20.139Z"
   },
   {
    "duration": 8,
    "start_time": "2023-02-11T11:13:20.147Z"
   },
   {
    "duration": 19,
    "start_time": "2023-02-11T11:13:20.156Z"
   },
   {
    "duration": 463,
    "start_time": "2023-02-11T11:13:20.177Z"
   },
   {
    "duration": 19,
    "start_time": "2023-02-11T11:13:20.642Z"
   },
   {
    "duration": 13,
    "start_time": "2023-02-11T11:13:20.662Z"
   },
   {
    "duration": 314,
    "start_time": "2023-02-11T11:13:20.677Z"
   },
   {
    "duration": 6,
    "start_time": "2023-02-11T11:13:20.992Z"
   },
   {
    "duration": 13,
    "start_time": "2023-02-11T11:13:21.010Z"
   },
   {
    "duration": 10,
    "start_time": "2023-02-11T11:13:21.024Z"
   },
   {
    "duration": 4,
    "start_time": "2023-02-11T11:13:21.036Z"
   },
   {
    "duration": 1077,
    "start_time": "2023-02-11T11:19:51.756Z"
   },
   {
    "duration": 3,
    "start_time": "2023-02-11T11:19:52.834Z"
   },
   {
    "duration": 4,
    "start_time": "2023-02-11T11:19:52.842Z"
   },
   {
    "duration": 42,
    "start_time": "2023-02-11T11:19:52.848Z"
   },
   {
    "duration": 10,
    "start_time": "2023-02-11T11:19:52.891Z"
   },
   {
    "duration": 7,
    "start_time": "2023-02-11T11:19:52.903Z"
   },
   {
    "duration": 88,
    "start_time": "2023-02-11T11:19:52.911Z"
   },
   {
    "duration": 11,
    "start_time": "2023-02-11T11:19:53.001Z"
   },
   {
    "duration": 27,
    "start_time": "2023-02-11T11:19:53.016Z"
   },
   {
    "duration": 18,
    "start_time": "2023-02-11T11:19:53.044Z"
   },
   {
    "duration": 16,
    "start_time": "2023-02-11T11:19:53.064Z"
   },
   {
    "duration": 11,
    "start_time": "2023-02-11T11:19:53.082Z"
   },
   {
    "duration": 16,
    "start_time": "2023-02-11T11:19:53.094Z"
   },
   {
    "duration": 10,
    "start_time": "2023-02-11T11:19:53.112Z"
   },
   {
    "duration": 10,
    "start_time": "2023-02-11T11:19:53.123Z"
   },
   {
    "duration": 24,
    "start_time": "2023-02-11T11:19:53.135Z"
   },
   {
    "duration": 9,
    "start_time": "2023-02-11T11:19:53.160Z"
   },
   {
    "duration": 8,
    "start_time": "2023-02-11T11:19:53.170Z"
   },
   {
    "duration": 33,
    "start_time": "2023-02-11T11:19:53.180Z"
   },
   {
    "duration": 10,
    "start_time": "2023-02-11T11:19:53.215Z"
   },
   {
    "duration": 14,
    "start_time": "2023-02-11T11:19:53.226Z"
   },
   {
    "duration": 26,
    "start_time": "2023-02-11T11:19:53.241Z"
   },
   {
    "duration": 5,
    "start_time": "2023-02-11T11:19:53.268Z"
   },
   {
    "duration": 17,
    "start_time": "2023-02-11T11:19:53.275Z"
   },
   {
    "duration": 44,
    "start_time": "2023-02-11T11:19:53.293Z"
   },
   {
    "duration": 8,
    "start_time": "2023-02-11T11:19:53.339Z"
   },
   {
    "duration": 11,
    "start_time": "2023-02-11T11:19:53.351Z"
   },
   {
    "duration": 15,
    "start_time": "2023-02-11T11:19:53.363Z"
   },
   {
    "duration": 10,
    "start_time": "2023-02-11T11:19:53.380Z"
   },
   {
    "duration": 8,
    "start_time": "2023-02-11T11:19:53.410Z"
   },
   {
    "duration": 13,
    "start_time": "2023-02-11T11:19:53.419Z"
   },
   {
    "duration": 7,
    "start_time": "2023-02-11T11:19:53.434Z"
   },
   {
    "duration": 3,
    "start_time": "2023-02-11T11:19:53.443Z"
   },
   {
    "duration": 12,
    "start_time": "2023-02-11T11:19:53.448Z"
   },
   {
    "duration": 8,
    "start_time": "2023-02-11T11:19:53.461Z"
   },
   {
    "duration": 42,
    "start_time": "2023-02-11T11:19:53.471Z"
   },
   {
    "duration": 9,
    "start_time": "2023-02-11T11:19:53.514Z"
   },
   {
    "duration": 30,
    "start_time": "2023-02-11T11:19:53.525Z"
   },
   {
    "duration": 8,
    "start_time": "2023-02-11T11:19:53.557Z"
   },
   {
    "duration": 14,
    "start_time": "2023-02-11T11:19:53.566Z"
   },
   {
    "duration": 5,
    "start_time": "2023-02-11T11:19:53.581Z"
   },
   {
    "duration": 27,
    "start_time": "2023-02-11T11:19:53.587Z"
   },
   {
    "duration": 6,
    "start_time": "2023-02-11T11:19:53.616Z"
   },
   {
    "duration": 7,
    "start_time": "2023-02-11T11:19:53.623Z"
   },
   {
    "duration": 9,
    "start_time": "2023-02-11T11:19:53.632Z"
   },
   {
    "duration": 1279,
    "start_time": "2023-02-11T11:19:53.643Z"
   },
   {
    "duration": 375,
    "start_time": "2023-02-11T11:19:54.924Z"
   },
   {
    "duration": 289,
    "start_time": "2023-02-11T11:19:55.301Z"
   },
   {
    "duration": 298,
    "start_time": "2023-02-11T11:19:55.591Z"
   },
   {
    "duration": 305,
    "start_time": "2023-02-11T11:19:55.891Z"
   },
   {
    "duration": 20,
    "start_time": "2023-02-11T11:19:56.197Z"
   },
   {
    "duration": 7,
    "start_time": "2023-02-11T11:19:56.218Z"
   },
   {
    "duration": 215,
    "start_time": "2023-02-11T11:19:56.227Z"
   },
   {
    "duration": 9,
    "start_time": "2023-02-11T11:19:56.443Z"
   },
   {
    "duration": 250,
    "start_time": "2023-02-11T11:19:56.453Z"
   },
   {
    "duration": 12,
    "start_time": "2023-02-11T11:19:56.705Z"
   },
   {
    "duration": 291,
    "start_time": "2023-02-11T11:19:56.719Z"
   },
   {
    "duration": 10,
    "start_time": "2023-02-11T11:19:57.012Z"
   },
   {
    "duration": 199,
    "start_time": "2023-02-11T11:19:57.023Z"
   },
   {
    "duration": 3,
    "start_time": "2023-02-11T11:19:57.224Z"
   },
   {
    "duration": 11,
    "start_time": "2023-02-11T11:19:57.229Z"
   },
   {
    "duration": 10,
    "start_time": "2023-02-11T11:19:57.242Z"
   },
   {
    "duration": 15,
    "start_time": "2023-02-11T11:19:57.253Z"
   },
   {
    "duration": 40,
    "start_time": "2023-02-11T11:19:57.270Z"
   },
   {
    "duration": 134,
    "start_time": "2023-02-11T11:19:57.313Z"
   },
   {
    "duration": 14,
    "start_time": "2023-02-11T11:19:57.448Z"
   },
   {
    "duration": 14,
    "start_time": "2023-02-11T11:19:57.464Z"
   },
   {
    "duration": 137,
    "start_time": "2023-02-11T11:19:57.479Z"
   },
   {
    "duration": 150,
    "start_time": "2023-02-11T11:19:57.617Z"
   },
   {
    "duration": 8,
    "start_time": "2023-02-11T11:19:57.769Z"
   },
   {
    "duration": 12,
    "start_time": "2023-02-11T11:19:57.778Z"
   },
   {
    "duration": 28,
    "start_time": "2023-02-11T11:19:57.792Z"
   },
   {
    "duration": 325,
    "start_time": "2023-02-11T11:19:57.822Z"
   },
   {
    "duration": 18,
    "start_time": "2023-02-11T11:19:58.149Z"
   },
   {
    "duration": 14,
    "start_time": "2023-02-11T11:19:58.169Z"
   },
   {
    "duration": 304,
    "start_time": "2023-02-11T11:19:58.184Z"
   },
   {
    "duration": 6,
    "start_time": "2023-02-11T11:19:58.490Z"
   },
   {
    "duration": 14,
    "start_time": "2023-02-11T11:19:58.510Z"
   },
   {
    "duration": 14,
    "start_time": "2023-02-11T11:19:58.526Z"
   },
   {
    "duration": 10,
    "start_time": "2023-02-11T11:19:58.542Z"
   },
   {
    "duration": 275,
    "start_time": "2023-02-11T11:20:25.925Z"
   },
   {
    "duration": 204,
    "start_time": "2023-02-11T11:20:29.230Z"
   },
   {
    "duration": 115,
    "start_time": "2023-02-11T11:20:48.925Z"
   },
   {
    "duration": 163,
    "start_time": "2023-02-11T11:20:59.264Z"
   },
   {
    "duration": 151,
    "start_time": "2023-02-11T11:21:06.680Z"
   },
   {
    "duration": 164,
    "start_time": "2023-02-11T11:21:18.873Z"
   },
   {
    "duration": 150,
    "start_time": "2023-02-11T11:21:30.563Z"
   },
   {
    "duration": 153,
    "start_time": "2023-02-11T11:21:44.429Z"
   },
   {
    "duration": 103,
    "start_time": "2023-02-11T11:22:21.971Z"
   },
   {
    "duration": 104,
    "start_time": "2023-02-11T11:22:35.901Z"
   },
   {
    "duration": 103,
    "start_time": "2023-02-11T11:22:40.530Z"
   },
   {
    "duration": 340,
    "start_time": "2023-02-11T11:23:27.012Z"
   },
   {
    "duration": 214,
    "start_time": "2023-02-11T11:23:35.234Z"
   },
   {
    "duration": 182,
    "start_time": "2023-02-11T11:23:45.680Z"
   },
   {
    "duration": 176,
    "start_time": "2023-02-11T11:23:54.681Z"
   },
   {
    "duration": 165,
    "start_time": "2023-02-11T11:24:02.737Z"
   },
   {
    "duration": 159,
    "start_time": "2023-02-11T11:24:15.480Z"
   },
   {
    "duration": 319,
    "start_time": "2023-02-11T11:24:22.794Z"
   },
   {
    "duration": 1086,
    "start_time": "2023-02-11T11:25:24.043Z"
   },
   {
    "duration": 3,
    "start_time": "2023-02-11T11:25:25.131Z"
   },
   {
    "duration": 6,
    "start_time": "2023-02-11T11:25:25.135Z"
   },
   {
    "duration": 42,
    "start_time": "2023-02-11T11:25:25.143Z"
   },
   {
    "duration": 9,
    "start_time": "2023-02-11T11:25:25.187Z"
   },
   {
    "duration": 5,
    "start_time": "2023-02-11T11:25:25.198Z"
   },
   {
    "duration": 81,
    "start_time": "2023-02-11T11:25:25.204Z"
   },
   {
    "duration": 10,
    "start_time": "2023-02-11T11:25:25.286Z"
   },
   {
    "duration": 27,
    "start_time": "2023-02-11T11:25:25.298Z"
   },
   {
    "duration": 12,
    "start_time": "2023-02-11T11:25:25.328Z"
   },
   {
    "duration": 6,
    "start_time": "2023-02-11T11:25:25.341Z"
   },
   {
    "duration": 7,
    "start_time": "2023-02-11T11:25:25.349Z"
   },
   {
    "duration": 7,
    "start_time": "2023-02-11T11:25:25.358Z"
   },
   {
    "duration": 10,
    "start_time": "2023-02-11T11:25:25.366Z"
   },
   {
    "duration": 36,
    "start_time": "2023-02-11T11:25:25.377Z"
   },
   {
    "duration": 22,
    "start_time": "2023-02-11T11:25:25.415Z"
   },
   {
    "duration": 9,
    "start_time": "2023-02-11T11:25:25.438Z"
   },
   {
    "duration": 5,
    "start_time": "2023-02-11T11:25:25.449Z"
   },
   {
    "duration": 12,
    "start_time": "2023-02-11T11:25:25.456Z"
   },
   {
    "duration": 17,
    "start_time": "2023-02-11T11:25:25.469Z"
   },
   {
    "duration": 33,
    "start_time": "2023-02-11T11:25:25.488Z"
   },
   {
    "duration": 23,
    "start_time": "2023-02-11T11:25:25.522Z"
   },
   {
    "duration": 6,
    "start_time": "2023-02-11T11:25:25.547Z"
   },
   {
    "duration": 13,
    "start_time": "2023-02-11T11:25:25.555Z"
   },
   {
    "duration": 53,
    "start_time": "2023-02-11T11:25:25.569Z"
   },
   {
    "duration": 9,
    "start_time": "2023-02-11T11:25:25.623Z"
   },
   {
    "duration": 8,
    "start_time": "2023-02-11T11:25:25.633Z"
   },
   {
    "duration": 14,
    "start_time": "2023-02-11T11:25:25.645Z"
   },
   {
    "duration": 10,
    "start_time": "2023-02-11T11:25:25.661Z"
   },
   {
    "duration": 13,
    "start_time": "2023-02-11T11:25:25.672Z"
   },
   {
    "duration": 33,
    "start_time": "2023-02-11T11:25:25.687Z"
   },
   {
    "duration": 9,
    "start_time": "2023-02-11T11:25:25.722Z"
   },
   {
    "duration": 3,
    "start_time": "2023-02-11T11:25:25.732Z"
   },
   {
    "duration": 11,
    "start_time": "2023-02-11T11:25:25.736Z"
   },
   {
    "duration": 7,
    "start_time": "2023-02-11T11:25:25.748Z"
   },
   {
    "duration": 7,
    "start_time": "2023-02-11T11:25:25.756Z"
   },
   {
    "duration": 9,
    "start_time": "2023-02-11T11:25:25.764Z"
   },
   {
    "duration": 49,
    "start_time": "2023-02-11T11:25:25.774Z"
   },
   {
    "duration": 11,
    "start_time": "2023-02-11T11:25:25.824Z"
   },
   {
    "duration": 11,
    "start_time": "2023-02-11T11:25:25.836Z"
   },
   {
    "duration": 5,
    "start_time": "2023-02-11T11:25:25.848Z"
   },
   {
    "duration": 8,
    "start_time": "2023-02-11T11:25:25.854Z"
   },
   {
    "duration": 6,
    "start_time": "2023-02-11T11:25:25.864Z"
   },
   {
    "duration": 8,
    "start_time": "2023-02-11T11:25:25.872Z"
   },
   {
    "duration": 36,
    "start_time": "2023-02-11T11:25:25.881Z"
   },
   {
    "duration": 1327,
    "start_time": "2023-02-11T11:25:25.919Z"
   },
   {
    "duration": 233,
    "start_time": "2023-02-11T11:25:27.248Z"
   },
   {
    "duration": 121,
    "start_time": "2023-02-11T11:25:27.483Z"
   },
   {
    "duration": 170,
    "start_time": "2023-02-11T11:25:27.606Z"
   },
   {
    "duration": 217,
    "start_time": "2023-02-11T11:25:27.777Z"
   },
   {
    "duration": 25,
    "start_time": "2023-02-11T11:25:27.995Z"
   },
   {
    "duration": 9,
    "start_time": "2023-02-11T11:25:28.021Z"
   },
   {
    "duration": 207,
    "start_time": "2023-02-11T11:25:28.032Z"
   },
   {
    "duration": 7,
    "start_time": "2023-02-11T11:25:28.241Z"
   },
   {
    "duration": 214,
    "start_time": "2023-02-11T11:25:28.250Z"
   },
   {
    "duration": 8,
    "start_time": "2023-02-11T11:25:28.466Z"
   },
   {
    "duration": 182,
    "start_time": "2023-02-11T11:25:28.475Z"
   },
   {
    "duration": 8,
    "start_time": "2023-02-11T11:25:28.659Z"
   },
   {
    "duration": 274,
    "start_time": "2023-02-11T11:25:28.668Z"
   },
   {
    "duration": 10,
    "start_time": "2023-02-11T11:25:28.943Z"
   },
   {
    "duration": 20,
    "start_time": "2023-02-11T11:25:28.955Z"
   },
   {
    "duration": 12,
    "start_time": "2023-02-11T11:25:28.976Z"
   },
   {
    "duration": 21,
    "start_time": "2023-02-11T11:25:28.989Z"
   },
   {
    "duration": 20,
    "start_time": "2023-02-11T11:25:29.012Z"
   },
   {
    "duration": 141,
    "start_time": "2023-02-11T11:25:29.034Z"
   },
   {
    "duration": 15,
    "start_time": "2023-02-11T11:25:29.176Z"
   },
   {
    "duration": 28,
    "start_time": "2023-02-11T11:25:29.193Z"
   },
   {
    "duration": 124,
    "start_time": "2023-02-11T11:25:29.222Z"
   },
   {
    "duration": 158,
    "start_time": "2023-02-11T11:25:29.348Z"
   },
   {
    "duration": 8,
    "start_time": "2023-02-11T11:25:29.510Z"
   },
   {
    "duration": 10,
    "start_time": "2023-02-11T11:25:29.520Z"
   },
   {
    "duration": 17,
    "start_time": "2023-02-11T11:25:29.531Z"
   },
   {
    "duration": 332,
    "start_time": "2023-02-11T11:25:29.550Z"
   },
   {
    "duration": 26,
    "start_time": "2023-02-11T11:25:29.884Z"
   },
   {
    "duration": 13,
    "start_time": "2023-02-11T11:25:29.911Z"
   },
   {
    "duration": 274,
    "start_time": "2023-02-11T11:25:29.925Z"
   },
   {
    "duration": 13,
    "start_time": "2023-02-11T11:25:30.201Z"
   },
   {
    "duration": 30,
    "start_time": "2023-02-11T11:25:30.215Z"
   },
   {
    "duration": 34,
    "start_time": "2023-02-11T11:25:30.247Z"
   },
   {
    "duration": 40,
    "start_time": "2023-02-11T11:25:30.283Z"
   },
   {
    "duration": 1298,
    "start_time": "2023-02-12T00:22:47.326Z"
   },
   {
    "duration": 4,
    "start_time": "2023-02-12T00:22:48.626Z"
   },
   {
    "duration": 10,
    "start_time": "2023-02-12T00:22:48.631Z"
   },
   {
    "duration": 58,
    "start_time": "2023-02-12T00:22:48.643Z"
   },
   {
    "duration": 11,
    "start_time": "2023-02-12T00:22:48.703Z"
   },
   {
    "duration": 7,
    "start_time": "2023-02-12T00:22:48.715Z"
   },
   {
    "duration": 88,
    "start_time": "2023-02-12T00:22:48.723Z"
   },
   {
    "duration": 14,
    "start_time": "2023-02-12T00:22:48.813Z"
   },
   {
    "duration": 34,
    "start_time": "2023-02-12T00:22:48.829Z"
   },
   {
    "duration": 18,
    "start_time": "2023-02-12T00:22:48.868Z"
   },
   {
    "duration": 37,
    "start_time": "2023-02-12T00:22:48.888Z"
   },
   {
    "duration": 18,
    "start_time": "2023-02-12T00:22:48.927Z"
   },
   {
    "duration": 11,
    "start_time": "2023-02-12T00:22:48.947Z"
   },
   {
    "duration": 10,
    "start_time": "2023-02-12T00:22:48.960Z"
   },
   {
    "duration": 20,
    "start_time": "2023-02-12T00:22:48.971Z"
   },
   {
    "duration": 30,
    "start_time": "2023-02-12T00:22:48.993Z"
   },
   {
    "duration": 19,
    "start_time": "2023-02-12T00:22:49.025Z"
   },
   {
    "duration": 4,
    "start_time": "2023-02-12T00:22:49.046Z"
   },
   {
    "duration": 10,
    "start_time": "2023-02-12T00:22:49.052Z"
   },
   {
    "duration": 9,
    "start_time": "2023-02-12T00:22:49.063Z"
   },
   {
    "duration": 15,
    "start_time": "2023-02-12T00:22:49.073Z"
   },
   {
    "duration": 55,
    "start_time": "2023-02-12T00:22:49.090Z"
   },
   {
    "duration": 6,
    "start_time": "2023-02-12T00:22:49.147Z"
   },
   {
    "duration": 10,
    "start_time": "2023-02-12T00:22:49.155Z"
   },
   {
    "duration": 24,
    "start_time": "2023-02-12T00:22:49.167Z"
   },
   {
    "duration": 11,
    "start_time": "2023-02-12T00:22:49.193Z"
   },
   {
    "duration": 36,
    "start_time": "2023-02-12T00:22:49.205Z"
   },
   {
    "duration": 18,
    "start_time": "2023-02-12T00:22:49.245Z"
   },
   {
    "duration": 14,
    "start_time": "2023-02-12T00:22:49.264Z"
   },
   {
    "duration": 10,
    "start_time": "2023-02-12T00:22:49.279Z"
   },
   {
    "duration": 49,
    "start_time": "2023-02-12T00:22:49.291Z"
   },
   {
    "duration": 10,
    "start_time": "2023-02-12T00:22:49.342Z"
   },
   {
    "duration": 8,
    "start_time": "2023-02-12T00:22:49.354Z"
   },
   {
    "duration": 24,
    "start_time": "2023-02-12T00:22:49.363Z"
   },
   {
    "duration": 29,
    "start_time": "2023-02-12T00:22:49.388Z"
   },
   {
    "duration": 12,
    "start_time": "2023-02-12T00:22:49.419Z"
   },
   {
    "duration": 11,
    "start_time": "2023-02-12T00:22:49.433Z"
   },
   {
    "duration": 25,
    "start_time": "2023-02-12T00:22:49.446Z"
   },
   {
    "duration": 11,
    "start_time": "2023-02-12T00:22:49.472Z"
   },
   {
    "duration": 17,
    "start_time": "2023-02-12T00:22:49.485Z"
   },
   {
    "duration": 6,
    "start_time": "2023-02-12T00:22:49.504Z"
   },
   {
    "duration": 37,
    "start_time": "2023-02-12T00:22:49.511Z"
   },
   {
    "duration": 7,
    "start_time": "2023-02-12T00:22:49.550Z"
   },
   {
    "duration": 10,
    "start_time": "2023-02-12T00:22:49.559Z"
   },
   {
    "duration": 11,
    "start_time": "2023-02-12T00:22:49.570Z"
   },
   {
    "duration": 1466,
    "start_time": "2023-02-12T00:22:49.583Z"
   },
   {
    "duration": 277,
    "start_time": "2023-02-12T00:22:51.050Z"
   },
   {
    "duration": 122,
    "start_time": "2023-02-12T00:22:51.329Z"
   },
   {
    "duration": 206,
    "start_time": "2023-02-12T00:22:51.453Z"
   },
   {
    "duration": 264,
    "start_time": "2023-02-12T00:22:51.660Z"
   },
   {
    "duration": 29,
    "start_time": "2023-02-12T00:22:51.926Z"
   },
   {
    "duration": 7,
    "start_time": "2023-02-12T00:22:51.957Z"
   },
   {
    "duration": 251,
    "start_time": "2023-02-12T00:22:51.966Z"
   },
   {
    "duration": 11,
    "start_time": "2023-02-12T00:22:52.219Z"
   },
   {
    "duration": 241,
    "start_time": "2023-02-12T00:22:52.240Z"
   },
   {
    "duration": 8,
    "start_time": "2023-02-12T00:22:52.483Z"
   },
   {
    "duration": 206,
    "start_time": "2023-02-12T00:22:52.492Z"
   },
   {
    "duration": 9,
    "start_time": "2023-02-12T00:22:52.700Z"
   },
   {
    "duration": 331,
    "start_time": "2023-02-12T00:22:52.711Z"
   },
   {
    "duration": 4,
    "start_time": "2023-02-12T00:22:53.044Z"
   },
   {
    "duration": 13,
    "start_time": "2023-02-12T00:22:53.050Z"
   },
   {
    "duration": 14,
    "start_time": "2023-02-12T00:22:53.064Z"
   },
   {
    "duration": 16,
    "start_time": "2023-02-12T00:22:53.079Z"
   },
   {
    "duration": 49,
    "start_time": "2023-02-12T00:22:53.096Z"
   },
   {
    "duration": 153,
    "start_time": "2023-02-12T00:22:53.146Z"
   },
   {
    "duration": 15,
    "start_time": "2023-02-12T00:22:53.301Z"
   },
   {
    "duration": 29,
    "start_time": "2023-02-12T00:22:53.318Z"
   },
   {
    "duration": 129,
    "start_time": "2023-02-12T00:22:53.349Z"
   },
   {
    "duration": 176,
    "start_time": "2023-02-12T00:22:53.479Z"
   },
   {
    "duration": 8,
    "start_time": "2023-02-12T00:22:53.657Z"
   },
   {
    "duration": 9,
    "start_time": "2023-02-12T00:22:53.667Z"
   },
   {
    "duration": 18,
    "start_time": "2023-02-12T00:22:53.678Z"
   },
   {
    "duration": 400,
    "start_time": "2023-02-12T00:22:53.698Z"
   },
   {
    "duration": 21,
    "start_time": "2023-02-12T00:22:54.100Z"
   },
   {
    "duration": 27,
    "start_time": "2023-02-12T00:22:54.123Z"
   },
   {
    "duration": 414,
    "start_time": "2023-02-12T00:22:54.151Z"
   },
   {
    "duration": 8,
    "start_time": "2023-02-12T00:22:54.567Z"
   },
   {
    "duration": 71,
    "start_time": "2023-02-12T00:22:54.577Z"
   },
   {
    "duration": 11,
    "start_time": "2023-02-12T00:22:54.650Z"
   },
   {
    "duration": 7,
    "start_time": "2023-02-12T00:22:54.663Z"
   },
   {
    "duration": 4,
    "start_time": "2023-02-12T00:30:46.896Z"
   },
   {
    "duration": 82,
    "start_time": "2023-02-12T10:56:44.235Z"
   },
   {
    "duration": 106,
    "start_time": "2023-02-12T10:57:04.193Z"
   },
   {
    "duration": 94,
    "start_time": "2023-02-12T11:05:09.188Z"
   },
   {
    "duration": 1266,
    "start_time": "2023-02-12T11:21:29.447Z"
   },
   {
    "duration": 3,
    "start_time": "2023-02-12T11:21:30.716Z"
   },
   {
    "duration": 20,
    "start_time": "2023-02-12T11:21:30.721Z"
   },
   {
    "duration": 140,
    "start_time": "2023-02-12T11:21:30.743Z"
   },
   {
    "duration": 12,
    "start_time": "2023-02-12T11:21:30.884Z"
   },
   {
    "duration": 27,
    "start_time": "2023-02-12T11:21:30.897Z"
   },
   {
    "duration": 217,
    "start_time": "2023-02-12T11:21:30.926Z"
   },
   {
    "duration": 9,
    "start_time": "2023-02-12T11:21:31.145Z"
   },
   {
    "duration": 34,
    "start_time": "2023-02-12T11:21:31.156Z"
   },
   {
    "duration": 58,
    "start_time": "2023-02-12T11:21:31.194Z"
   },
   {
    "duration": 32,
    "start_time": "2023-02-12T11:21:31.254Z"
   },
   {
    "duration": 31,
    "start_time": "2023-02-12T11:21:31.288Z"
   },
   {
    "duration": 31,
    "start_time": "2023-02-12T11:21:31.321Z"
   },
   {
    "duration": 40,
    "start_time": "2023-02-12T11:21:31.353Z"
   },
   {
    "duration": 26,
    "start_time": "2023-02-12T11:21:31.395Z"
   },
   {
    "duration": 60,
    "start_time": "2023-02-12T11:21:31.423Z"
   },
   {
    "duration": 45,
    "start_time": "2023-02-12T11:21:31.485Z"
   },
   {
    "duration": 34,
    "start_time": "2023-02-12T11:21:31.532Z"
   },
   {
    "duration": 45,
    "start_time": "2023-02-12T11:21:31.567Z"
   },
   {
    "duration": 25,
    "start_time": "2023-02-12T11:21:31.613Z"
   },
   {
    "duration": 41,
    "start_time": "2023-02-12T11:21:31.640Z"
   },
   {
    "duration": 37,
    "start_time": "2023-02-12T11:21:31.683Z"
   },
   {
    "duration": 5,
    "start_time": "2023-02-12T11:21:31.721Z"
   },
   {
    "duration": 29,
    "start_time": "2023-02-12T11:21:31.727Z"
   },
   {
    "duration": 45,
    "start_time": "2023-02-12T11:21:31.757Z"
   },
   {
    "duration": 17,
    "start_time": "2023-02-12T11:21:31.804Z"
   },
   {
    "duration": 29,
    "start_time": "2023-02-12T11:21:31.823Z"
   },
   {
    "duration": 30,
    "start_time": "2023-02-12T11:21:31.856Z"
   },
   {
    "duration": 25,
    "start_time": "2023-02-12T11:21:31.888Z"
   },
   {
    "duration": 14,
    "start_time": "2023-02-12T11:21:31.914Z"
   },
   {
    "duration": 33,
    "start_time": "2023-02-12T11:21:31.930Z"
   },
   {
    "duration": 19,
    "start_time": "2023-02-12T11:21:31.965Z"
   },
   {
    "duration": 23,
    "start_time": "2023-02-12T11:21:31.986Z"
   },
   {
    "duration": 24,
    "start_time": "2023-02-12T11:21:32.011Z"
   },
   {
    "duration": 18,
    "start_time": "2023-02-12T11:21:32.036Z"
   },
   {
    "duration": 16,
    "start_time": "2023-02-12T11:21:32.055Z"
   },
   {
    "duration": 21,
    "start_time": "2023-02-12T11:21:32.072Z"
   },
   {
    "duration": 27,
    "start_time": "2023-02-12T11:21:32.094Z"
   },
   {
    "duration": 9,
    "start_time": "2023-02-12T11:21:32.123Z"
   },
   {
    "duration": 29,
    "start_time": "2023-02-12T11:21:32.134Z"
   },
   {
    "duration": 11,
    "start_time": "2023-02-12T11:21:32.165Z"
   },
   {
    "duration": 19,
    "start_time": "2023-02-12T11:21:32.178Z"
   },
   {
    "duration": 14,
    "start_time": "2023-02-12T11:21:32.198Z"
   },
   {
    "duration": 13,
    "start_time": "2023-02-12T11:21:32.214Z"
   },
   {
    "duration": 24,
    "start_time": "2023-02-12T11:21:32.228Z"
   },
   {
    "duration": 1306,
    "start_time": "2023-02-12T11:21:32.254Z"
   },
   {
    "duration": 284,
    "start_time": "2023-02-12T11:21:33.562Z"
   },
   {
    "duration": 117,
    "start_time": "2023-02-12T11:21:33.848Z"
   },
   {
    "duration": 190,
    "start_time": "2023-02-12T11:21:33.966Z"
   },
   {
    "duration": 229,
    "start_time": "2023-02-12T11:21:34.157Z"
   },
   {
    "duration": 20,
    "start_time": "2023-02-12T11:21:34.387Z"
   },
   {
    "duration": 8,
    "start_time": "2023-02-12T11:21:34.408Z"
   },
   {
    "duration": 223,
    "start_time": "2023-02-12T11:21:34.417Z"
   },
   {
    "duration": 8,
    "start_time": "2023-02-12T11:21:34.641Z"
   },
   {
    "duration": 221,
    "start_time": "2023-02-12T11:21:34.651Z"
   },
   {
    "duration": 18,
    "start_time": "2023-02-12T11:21:34.874Z"
   },
   {
    "duration": 191,
    "start_time": "2023-02-12T11:21:34.894Z"
   },
   {
    "duration": 13,
    "start_time": "2023-02-12T11:21:35.086Z"
   },
   {
    "duration": 299,
    "start_time": "2023-02-12T11:21:35.101Z"
   },
   {
    "duration": 4,
    "start_time": "2023-02-12T11:21:35.401Z"
   },
   {
    "duration": 14,
    "start_time": "2023-02-12T11:21:35.406Z"
   },
   {
    "duration": 19,
    "start_time": "2023-02-12T11:21:35.422Z"
   },
   {
    "duration": 23,
    "start_time": "2023-02-12T11:21:35.443Z"
   },
   {
    "duration": 41,
    "start_time": "2023-02-12T11:21:35.467Z"
   },
   {
    "duration": 145,
    "start_time": "2023-02-12T11:21:35.509Z"
   },
   {
    "duration": 17,
    "start_time": "2023-02-12T11:21:35.656Z"
   },
   {
    "duration": 36,
    "start_time": "2023-02-12T11:21:35.675Z"
   },
   {
    "duration": 117,
    "start_time": "2023-02-12T11:21:35.713Z"
   },
   {
    "duration": 193,
    "start_time": "2023-02-12T11:21:35.832Z"
   },
   {
    "duration": 8,
    "start_time": "2023-02-12T11:21:36.026Z"
   },
   {
    "duration": 39,
    "start_time": "2023-02-12T11:21:36.036Z"
   },
   {
    "duration": 24,
    "start_time": "2023-02-12T11:21:36.077Z"
   },
   {
    "duration": 428,
    "start_time": "2023-02-12T11:21:36.102Z"
   },
   {
    "duration": 27,
    "start_time": "2023-02-12T11:21:36.532Z"
   },
   {
    "duration": 38,
    "start_time": "2023-02-12T11:21:36.561Z"
   },
   {
    "duration": 344,
    "start_time": "2023-02-12T11:21:36.601Z"
   },
   {
    "duration": 6,
    "start_time": "2023-02-12T11:21:36.947Z"
   },
   {
    "duration": 17,
    "start_time": "2023-02-12T11:21:36.954Z"
   },
   {
    "duration": 22,
    "start_time": "2023-02-12T11:21:36.973Z"
   },
   {
    "duration": 12,
    "start_time": "2023-02-12T11:21:36.996Z"
   }
  ],
  "colab": {
   "name": "DA+. Сборный проект 1. Шаблон (1).ipynb",
   "provenance": []
  },
  "kernelspec": {
   "display_name": "Python 3 (ipykernel)",
   "language": "python",
   "name": "python3"
  },
  "language_info": {
   "codemirror_mode": {
    "name": "ipython",
    "version": 3
   },
   "file_extension": ".py",
   "mimetype": "text/x-python",
   "name": "python",
   "nbconvert_exporter": "python",
   "pygments_lexer": "ipython3",
   "version": "3.9.18"
  },
  "toc": {
   "base_numbering": 1,
   "nav_menu": {},
   "number_sections": true,
   "sideBar": true,
   "skip_h1_title": true,
   "title_cell": "Table of Contents",
   "title_sidebar": "Contents",
   "toc_cell": false,
   "toc_position": {
    "height": "calc(100% - 180px)",
    "left": "10px",
    "top": "150px",
    "width": "276.388px"
   },
   "toc_section_display": true,
   "toc_window_display": true
  }
 },
 "nbformat": 4,
 "nbformat_minor": 4
}
